{
 "cells": [
  {
   "cell_type": "markdown",
   "metadata": {
    "slideshow": {
     "slide_type": "slide"
    }
   },
   "source": [
    "<img src=\"../imgs/logo.png\" width=\"20%\" align=\"right\" style=\"margin:0px 20px\">\n",
    "\n",
    "\n",
    "# Evolutionary Computation\n",
    "\n",
    "## 3.2 NSGA-II\n",
    "\n",
    "<a rel=\"license\" href=\"http://creativecommons.org/licenses/by-sa/4.0/\"><img alt=\"Creative Commons License\" align=\"left\" src=\"https://i.creativecommons.org/l/by-sa/4.0/80x15.png\" /></a>&nbsp;| Dennis G. Wilson | <a href=\"https://d9w.github.io/evolution/\">https://d9w.github.io/evolution/</a>"
   ]
  },
  {
   "cell_type": "markdown",
   "metadata": {
    "slideshow": {
     "slide_type": "slide"
    }
   },
   "source": [
    "## Outline\n",
    "\n",
    "1. [The Knapsack Problem](#knapsack)\n",
    "2. [Evolution](#evolution)\n",
    "3. [Visualization](#visualization)"
   ]
  },
  {
   "cell_type": "code",
   "execution_count": 2,
   "metadata": {
    "slideshow": {
     "slide_type": "slide"
    }
   },
   "outputs": [
    {
     "name": "stderr",
     "output_type": "stream",
     "text": [
      "┌ Info: Precompiling NSGAII [0faa7b20-5579-4646-b419-11e3eab23b57]\n",
      "└ @ Base loading.jl:1260\n",
      "┌ Info: Precompiling JuMP [4076af6c-e467-56ae-b986-b466b2749572]\n",
      "└ @ Base loading.jl:1260\n",
      "┌ Info: Precompiling Cbc [9961bab8-2fa3-5c5a-9d89-47fab24efd76]\n",
      "└ @ Base loading.jl:1260\n"
     ]
    }
   ],
   "source": [
    "using NSGAII\n",
    "using JuMP, Cbc\n",
    "using Plots\n",
    "default(show=:ijulia)"
   ]
  },
  {
   "cell_type": "markdown",
   "metadata": {
    "slideshow": {
     "slide_type": "fragment"
    }
   },
   "source": [
    "To experiment with NSGAII we'll be using a rather new implementation of it from Github: https://github.com/gsoleilhac/NSGAII.jl/.\n",
    "\n",
    "This implementation isn't so complicated and if we look at the code, we can see that much of it resembles our [notebook code](https://github.com/d9w/evolution/blob/master/2_ga/1_GAs.ipynb) on Genetic Algorithms. Let's look at the [functions](https://github.com/gsoleilhac/NSGAII.jl/blob/master/src/functions.jl) code which contains the main Genetic Algorithm loop, as well as the [NSGA-II](http://repository.ias.ac.in/83498/1/2-a.pdf) Fast Non-Dominated Sort and Crowding Distance Algorithm."
   ]
  },
  {
   "cell_type": "markdown",
   "metadata": {
    "slideshow": {
     "slide_type": "slide"
    }
   },
   "source": [
    "## <a id=\"knapsack\"></a>The Knapsack Problem"
   ]
  },
  {
   "cell_type": "markdown",
   "metadata": {
    "slideshow": {
     "slide_type": "fragment"
    }
   },
   "source": [
    "<img src=\"https://imgs.xkcd.com/comics/np_complete.png\">\n",
    "<div style=\"text-align:center\"><a href=\"https://xkcd.com/287/\">XKCD on the Knapsack Problem</a></div>\n"
   ]
  },
  {
   "cell_type": "markdown",
   "metadata": {
    "slideshow": {
     "slide_type": "slide"
    }
   },
   "source": [
    "Imagine we're travelling and our bag has a maximum weight limit. We want to fill this bag with items of different value and maximize the total value in our bag, as long as it stays in the weight limit. This is known as the \"knapsack problem\".\n",
    "<img src=\"../imgs/knapsack.png\" width=\"30%\" height=\"auto\">\n",
    "Instead of a bag with items, you could imagine a scenario like the comic. You want to order different appetizers, but you only want to spend a fixed maximum amount. How can you get the best appetizers?"
   ]
  },
  {
   "cell_type": "markdown",
   "metadata": {
    "slideshow": {
     "slide_type": "slide"
    }
   },
   "source": [
    "Let's look at an example, specifically using the version of the Knapsack problem known as the \"0-1 knapsack problem\" where we can have at most 1 copy of each item. We'll use 5 items and randomly geneate values for them."
   ]
  },
  {
   "cell_type": "code",
   "execution_count": 8,
   "metadata": {
    "slideshow": {
     "slide_type": "fragment"
    }
   },
   "outputs": [
    {
     "name": "stdout",
     "output_type": "stream",
     "text": [
      "[67, 76, 39, 30, 20] total value: 232\n"
     ]
    }
   ],
   "source": [
    "n = 5\n",
    "values = rand(0:100, n)\n",
    "println(values, \" total value: \", sum(values))"
   ]
  },
  {
   "cell_type": "code",
   "execution_count": 9,
   "metadata": {
    "slideshow": {
     "slide_type": "fragment"
    }
   },
   "outputs": [
    {
     "name": "stdout",
     "output_type": "stream",
     "text": [
      "[13, 18, 19, 15, 17] total weight: 82\n"
     ]
    }
   ],
   "source": [
    "weights = rand(10:20, n)\n",
    "max_weight = 55\n",
    "println(weights, \" total weight: \", sum(weights))"
   ]
  },
  {
   "cell_type": "markdown",
   "metadata": {
    "slideshow": {
     "slide_type": "fragment"
    }
   },
   "source": [
    "We won't be able to take all items because of the maximum weight of 55. We'll express our choice of items using a binary string, 1 if we take the item and 0 otherwise."
   ]
  },
  {
   "cell_type": "code",
   "execution_count": 10,
   "metadata": {
    "slideshow": {
     "slide_type": "fragment"
    }
   },
   "outputs": [
    {
     "name": "stdout",
     "output_type": "stream",
     "text": [
      "Bool[0, 0, 0, 1, 0]\n"
     ]
    }
   ],
   "source": [
    "using Random: bitrand\n",
    "choices = bitrand(n)\n",
    "println(choices)"
   ]
  },
  {
   "cell_type": "markdown",
   "metadata": {
    "slideshow": {
     "slide_type": "slide"
    }
   },
   "source": [
    "The total value of our knapsack is therefore the sum of the element-wise multiplication of our choices and the individual item values."
   ]
  },
  {
   "cell_type": "code",
   "execution_count": 11,
   "metadata": {
    "slideshow": {
     "slide_type": "fragment"
    }
   },
   "outputs": [
    {
     "data": {
      "text/plain": [
       "30"
      ]
     },
     "execution_count": 11,
     "metadata": {},
     "output_type": "execute_result"
    }
   ],
   "source": [
    "sum(choices .* values)"
   ]
  },
  {
   "cell_type": "markdown",
   "metadata": {
    "slideshow": {
     "slide_type": "fragment"
    }
   },
   "source": [
    "In other words, the dot product of the two vectors."
   ]
  },
  {
   "cell_type": "code",
   "execution_count": 12,
   "metadata": {
    "slideshow": {
     "slide_type": "fragment"
    }
   },
   "outputs": [
    {
     "data": {
      "text/plain": [
       "30"
      ]
     },
     "execution_count": 12,
     "metadata": {},
     "output_type": "execute_result"
    }
   ],
   "source": [
    "using LinearAlgebra: dot\n",
    "dot(choices, values)"
   ]
  },
  {
   "cell_type": "markdown",
   "metadata": {
    "slideshow": {
     "slide_type": "fragment"
    }
   },
   "source": [
    "We can also use the dot product to check if our choices fall under the weight limit"
   ]
  },
  {
   "cell_type": "code",
   "execution_count": 13,
   "metadata": {
    "slideshow": {
     "slide_type": "fragment"
    }
   },
   "outputs": [
    {
     "data": {
      "text/plain": [
       "(15, 55)"
      ]
     },
     "execution_count": 13,
     "metadata": {},
     "output_type": "execute_result"
    }
   ],
   "source": [
    "dot(choices, weights), max_weight"
   ]
  },
  {
   "cell_type": "markdown",
   "metadata": {
    "slideshow": {
     "slide_type": "slide"
    }
   },
   "source": [
    "Let's say you and a friend are travelling together and to make it cheaper, you're sharing a bag. You and your friend assign different values to each item based on what you want to bring on the trip. Your preferences are in `values` and your friends preferences are:"
   ]
  },
  {
   "cell_type": "code",
   "execution_count": 14,
   "metadata": {
    "slideshow": {
     "slide_type": "fragment"
    }
   },
   "outputs": [
    {
     "name": "stdout",
     "output_type": "stream",
     "text": [
      "You:\t[67, 76, 39, 30, 20] total value: 232\n",
      "Friend:\t[74, 70, 50, 93, 19] total value: 306\n"
     ]
    }
   ],
   "source": [
    "values2 = rand(0:100, n)\n",
    "println(\"You:\\t\", values, \" total value: \", sum(values))\n",
    "println(\"Friend:\\t\", values2, \" total value: \", sum(values2))"
   ]
  },
  {
   "cell_type": "markdown",
   "metadata": {
    "slideshow": {
     "slide_type": "fragment"
    }
   },
   "source": [
    "Let's see who is happier with the choices we made"
   ]
  },
  {
   "cell_type": "code",
   "execution_count": 15,
   "metadata": {
    "slideshow": {
     "slide_type": "fragment"
    }
   },
   "outputs": [
    {
     "name": "stdout",
     "output_type": "stream",
     "text": [
      "Bool[0, 1, 1, 0, 1]\n",
      "weight: 54\n",
      "You: 135 Friend: 139\n"
     ]
    }
   ],
   "source": [
    "choices = bitrand(n)\n",
    "println(choices)\n",
    "println(\"weight: \", dot(choices, weights))\n",
    "println(\"You: \", dot(choices, values), \" Friend: \", dot(choices, values2))"
   ]
  },
  {
   "cell_type": "markdown",
   "metadata": {
    "slideshow": {
     "slide_type": "fragment"
    }
   },
   "source": [
    "This is the multi-objective version of the Knapsack problem where we use $K$ different value vectors for $K$ objectives."
   ]
  },
  {
   "cell_type": "markdown",
   "metadata": {
    "slideshow": {
     "slide_type": "slide"
    }
   },
   "source": [
    "[The Knapsack problem](https://en.wikipedia.org/wiki/Knapsack_problem) has been thoroughly studied in theoretical computer science and evolutionary computation is not the only choice for solving it; dynamic programming and mixed integer programming are what [JuMP](https://github.com/JuliaOpt/JuMP.jl), an optimization library, uses."
   ]
  },
  {
   "cell_type": "code",
   "execution_count": 18,
   "metadata": {
    "slideshow": {
     "slide_type": "fragment"
    }
   },
   "outputs": [
    {
     "name": "stdout",
     "output_type": "stream",
     "text": [
      "Objective is: 237.0\n",
      "Solution is:\n",
      "x[1] = 1.0, p[1]/w[1] = 5.153846153846154\n",
      "x[2] = 1.0, p[2]/w[2] = 4.222222222222222\n",
      "x[3] = 0.0, p[3]/w[3] = 2.0526315789473686\n",
      "x[4] = 1.0, p[4]/w[4] = 2.0\n",
      "x[5] = 0.0, p[5]/w[5] = 1.1764705882352942\n"
     ]
    }
   ],
   "source": [
    "using GLPK\n",
    "m = Model(GLPK.Optimizer)\n",
    "@variable(m, x[1:n], Bin)\n",
    "# Objective: maximize profit\n",
    "@objective(m, Max, dot(values, x))\n",
    "@objective(m, Max, dot(values2, x))\n",
    "# Constraint: can carry all\n",
    "@constraint(m, dot(weights, x) <= max_weight)\n",
    "# Solve problem using MIP solver\n",
    "JuMP.optimize!(m);\n",
    "println(\"Objective is: \", JuMP.objective_value(m))\n",
    "println(\"Solution is:\")\n",
    "for i in 1:5\n",
    "    print(\"x[$i] = \", JuMP.value(x[i]))\n",
    "    println(\", p[$i]/w[$i] = \", values[i] / weights[i])\n",
    "end"
   ]
  },
  {
   "cell_type": "code",
   "execution_count": 21,
   "metadata": {
    "slideshow": {
     "slide_type": "fragment"
    }
   },
   "outputs": [
    {
     "name": "stdout",
     "output_type": "stream",
     "text": [
      "Objective is: 237.0\n",
      "Solution is:\n",
      "x[1] = 1.0, p[1]/w[1] = 5.153846153846154, p[1]/w[1] = 5.6923076923076925\n",
      "x[2] = 1.0, p[2]/w[2] = 4.222222222222222, p[2]/w[2] = 3.888888888888889\n",
      "x[3] = 0.0, p[3]/w[3] = 2.0526315789473686, p[3]/w[3] = 2.6315789473684212\n",
      "x[4] = 1.0, p[4]/w[4] = 2.0, p[4]/w[4] = 6.2\n",
      "x[5] = 0.0, p[5]/w[5] = 1.1764705882352942, p[5]/w[5] = 1.1176470588235294\n"
     ]
    }
   ],
   "source": [
    "println(\"Objective is: \", objective_value(m))\n",
    "println(\"Solution is:\")\n",
    "for i = 1:5\n",
    "    print(\"x[$i] = \", value(x[i]))\n",
    "    print(\", p[$i]/w[$i] = \", values[i]/weights[i])\n",
    "    println(\", p[$i]/w[$i] = \", values2[i]/weights[i])\n",
    "end"
   ]
  },
  {
   "cell_type": "markdown",
   "metadata": {
    "slideshow": {
     "slide_type": "slide"
    }
   },
   "source": [
    "## <a id=\"evolution\"></a>Evolution"
   ]
  },
  {
   "cell_type": "markdown",
   "metadata": {
    "slideshow": {
     "slide_type": "fragment"
    }
   },
   "source": [
    "To apply NSGA-II to this problem, let's scale up the number of items to 100. "
   ]
  },
  {
   "cell_type": "code",
   "execution_count": 69,
   "metadata": {
    "slideshow": {
     "slide_type": "fragment"
    }
   },
   "outputs": [
    {
     "data": {
      "text/plain": [
       "100×2 Array{Float64,2}:\n",
       " 0.664458   0.720554\n",
       " 0.514595   0.495936\n",
       " 0.361743   0.95122\n",
       " 0.924117   0.0549602\n",
       " 0.821299   0.320912\n",
       " 0.24853    0.191638\n",
       " 0.182344   0.709961\n",
       " 0.378552   0.2358\n",
       " 0.648112   0.736432\n",
       " 0.321717   0.774696\n",
       " 0.722839   0.213792\n",
       " 0.153951   0.879818\n",
       " 0.252597   0.890473\n",
       " ⋮          \n",
       " 0.536353   0.243716\n",
       " 0.112515   0.581552\n",
       " 0.927565   0.740561\n",
       " 0.237965   0.156856\n",
       " 0.38919    0.146039\n",
       " 0.845021   0.821615\n",
       " 0.304828   0.379255\n",
       " 0.725029   0.917871\n",
       " 0.850619   0.113537\n",
       " 0.602951   0.407258\n",
       " 0.0243249  0.439892\n",
       " 0.258444   0.578807"
      ]
     },
     "execution_count": 69,
     "metadata": {},
     "output_type": "execute_result"
    }
   ],
   "source": [
    "n = 100\n",
    "n_objectives = 2\n",
    "values = rand(n, n_objectives)"
   ]
  },
  {
   "cell_type": "markdown",
   "metadata": {
    "slideshow": {
     "slide_type": "slide"
    }
   },
   "source": [
    "Let's normalize our fitness values by their sum, so that the total maximum value is 1.0 which will help with plotting later."
   ]
  },
  {
   "cell_type": "code",
   "execution_count": 70,
   "metadata": {
    "slideshow": {
     "slide_type": "fragment"
    }
   },
   "outputs": [
    {
     "data": {
      "text/plain": [
       "1×2 Array{Float64,2}:\n",
       " 1.0  1.0"
      ]
     },
     "execution_count": 70,
     "metadata": {},
     "output_type": "execute_result"
    }
   ],
   "source": [
    "values = values ./ sum(values, dims=1);\n",
    "sum(values, dims=1)"
   ]
  },
  {
   "cell_type": "markdown",
   "metadata": {
    "slideshow": {
     "slide_type": "slide"
    }
   },
   "source": [
    "Similarly, let's normalize the weights to sum to 1 and set a maximum weight of 0.5, meaning we can keep only half the items on average. This will let us change the number of items more easily later on but doesn't impact the problem in any way."
   ]
  },
  {
   "cell_type": "code",
   "execution_count": 71,
   "metadata": {
    "slideshow": {
     "slide_type": "fragment"
    }
   },
   "outputs": [
    {
     "data": {
      "text/plain": [
       "0.5"
      ]
     },
     "execution_count": 71,
     "metadata": {},
     "output_type": "execute_result"
    }
   ],
   "source": [
    "weights = rand(n)\n",
    "weights = weights ./ sum(weights)\n",
    "max_weight = 0.5"
   ]
  },
  {
   "cell_type": "markdown",
   "metadata": {
    "slideshow": {
     "slide_type": "slide"
    }
   },
   "source": [
    "Let's write our objective function which will compute the value of our knapsack using each different column of profit values."
   ]
  },
  {
   "cell_type": "code",
   "execution_count": 26,
   "metadata": {
    "slideshow": {
     "slide_type": "fragment"
    }
   },
   "outputs": [
    {
     "data": {
      "text/plain": [
       "objective (generic function with 1 method)"
      ]
     },
     "execution_count": 26,
     "metadata": {},
     "output_type": "execute_result"
    }
   ],
   "source": [
    "function objective(genes::AbstractArray)\n",
    "    fits = zeros(n_objectives)\n",
    "    for i in 1:n_objectives\n",
    "        fits[i] = dot(genes, values[:, i])\n",
    "    end\n",
    "    tuple(fits...)\n",
    "end"
   ]
  },
  {
   "cell_type": "markdown",
   "metadata": {
    "slideshow": {
     "slide_type": "slide"
    }
   },
   "source": [
    "We'll add in our weight constraint separately. This is used in the evaluation of individuals and is considered a part of our objective function, but is handled separately. Our lecture on evolution with constraints will go into more detail on that. For this NSGA-II implementation, we return 0 if the condition passes and the distance from meeting the condition otherwise."
   ]
  },
  {
   "cell_type": "code",
   "execution_count": 27,
   "metadata": {
    "slideshow": {
     "slide_type": "fragment"
    }
   },
   "outputs": [
    {
     "data": {
      "text/plain": [
       "constraint (generic function with 1 method)"
      ]
     },
     "execution_count": 27,
     "metadata": {},
     "output_type": "execute_result"
    }
   ],
   "source": [
    "function constraint(genes::AbstractArray)\n",
    "    sum_weights = dot(genes, weights)\n",
    "    return sum_weights <= max_weight ? 0 : sum_weights - max_weight\n",
    "end"
   ]
  },
  {
   "cell_type": "markdown",
   "metadata": {
    "slideshow": {
     "slide_type": "slide"
    }
   },
   "source": [
    "That's all, so now we're ready to run NSGA-II. Let's run it for 100 generations on a population of 100. The function returns the set of non-dominated individuals at the end"
   ]
  },
  {
   "cell_type": "code",
   "execution_count": 72,
   "metadata": {
    "slideshow": {
     "slide_type": "fragment"
    }
   },
   "outputs": [
    {
     "data": {
      "text/plain": [
       "indiv([111110011101000...001011101011001] : (0.699236813853002, 0.7238695991163734) | rank : 1)"
      ]
     },
     "execution_count": 72,
     "metadata": {},
     "output_type": "execute_result"
    }
   ],
   "source": [
    "popsize = 100\n",
    "nbgen = 100\n",
    "init() = bitrand(n)\n",
    "non_dominated =  nsga_max(popsize, nbgen, objective, init, fCV=constraint)\n",
    "non_dominated[1]"
   ]
  },
  {
   "cell_type": "markdown",
   "metadata": {
    "slideshow": {
     "slide_type": "slide"
    }
   },
   "source": [
    "Let's see what type of total profit values we have from our two objectives."
   ]
  },
  {
   "cell_type": "code",
   "execution_count": 73,
   "metadata": {
    "slideshow": {
     "slide_type": "fragment"
    }
   },
   "outputs": [
    {
     "data": {
      "text/plain": [
       "6-element Array{Array{Float64,1},1}:\n",
       " [0.699236813853002, 0.7238695991163734]\n",
       " [0.7251476405796963, 0.6740567830488093]\n",
       " [0.7237467867315686, 0.7091977837418455]\n",
       " [0.7248664639010215, 0.6852477637023574]\n",
       " [0.7089135113786521, 0.7200619790581216]\n",
       " [0.7181978216300783, 0.7172248073126519]"
      ]
     },
     "execution_count": 73,
     "metadata": {},
     "output_type": "execute_result"
    }
   ],
   "source": [
    "unique([collect(i.y) for i in non_dominated])"
   ]
  },
  {
   "cell_type": "markdown",
   "metadata": {
    "slideshow": {
     "slide_type": "slide"
    }
   },
   "source": [
    "Finally, we can compare this value to a value obtained by JuMP"
   ]
  },
  {
   "cell_type": "code",
   "execution_count": 77,
   "metadata": {
    "slideshow": {
     "slide_type": "fragment"
    }
   },
   "outputs": [
    {
     "name": "stdout",
     "output_type": "stream",
     "text": [
      "JuMP: 0.6224361900089301 0.8225799793865576\n"
     ]
    }
   ],
   "source": [
    "using GLPK\n",
    "m = Model(GLPK.Optimizer)\n",
    "@variable(m, x[1:n], Bin)\n",
    "@objective(m, Max, dot(values[:, 1], x))\n",
    "@objective(m, Max, dot(values[:, 2], x))\n",
    "@constraint(m, dot(weights, x) <= max_weight)\n",
    "status = optimize!(m)\n",
    "best_solution = [value(x[i]) for i in 1:n]\n",
    "println(\"JuMP: \", dot(values[:, 1], best_solution), \" \", dot(values[:, 2], best_solution))"
   ]
  },
  {
   "cell_type": "markdown",
   "metadata": {
    "slideshow": {
     "slide_type": "slide"
    }
   },
   "source": [
    "<div class=\"alert alert-success\">\n",
    "    <b>Exercise 2</b>\n",
    "    <br/>\n",
    "    Increase the problem difficulty by increasing the number of items and reducing the weight limit. How does NSGA-II do?\n",
    "    <br/>\n",
    "</div>"
   ]
  },
  {
   "cell_type": "code",
   "execution_count": 86,
   "metadata": {},
   "outputs": [
    {
     "data": {
      "text/plain": [
       "1×2 Array{Float64,2}:\n",
       " 1.0  1.0"
      ]
     },
     "execution_count": 86,
     "metadata": {},
     "output_type": "execute_result"
    }
   ],
   "source": [
    "n = 1000\n",
    "n_objectives = 2\n",
    "values = rand(n, n_objectives)\n",
    "values = values ./ sum(values, dims=1);\n",
    "sum(values, dims=1)"
   ]
  },
  {
   "cell_type": "code",
   "execution_count": 87,
   "metadata": {},
   "outputs": [
    {
     "data": {
      "text/plain": [
       "0.5"
      ]
     },
     "execution_count": 87,
     "metadata": {},
     "output_type": "execute_result"
    }
   ],
   "source": [
    "weights = rand(n)\n",
    "weights = weights ./ sum(weights)\n",
    "max_weight = 0.5"
   ]
  },
  {
   "cell_type": "code",
   "execution_count": 88,
   "metadata": {},
   "outputs": [
    {
     "data": {
      "text/plain": [
       "indiv([101110001010111...010101100100101] : (0.5909048813022887, 0.5884945059173914) | rank : 1)"
      ]
     },
     "execution_count": 88,
     "metadata": {},
     "output_type": "execute_result"
    }
   ],
   "source": [
    "popsize = 100\n",
    "nbgen = 100\n",
    "init() = bitrand(n)\n",
    "non_dominated =  nsga_max(popsize, nbgen, objective, init, fCV=constraint)\n",
    "non_dominated[1]"
   ]
  },
  {
   "cell_type": "code",
   "execution_count": 89,
   "metadata": {},
   "outputs": [
    {
     "data": {
      "text/plain": [
       "8-element Array{Array{Float64,1},1}:\n",
       " [0.5909048813022887, 0.5884945059173914]\n",
       " [0.5913407978237177, 0.586835457308053]\n",
       " [0.5925200880440737, 0.5841944779229532]\n",
       " [0.5927472656847708, 0.5832531976272648]\n",
       " [0.5862138921726622, 0.5945329617078909]\n",
       " [0.5891731264111164, 0.5899572135340635]\n",
       " [0.5919048897346282, 0.5850720433586503]\n",
       " [0.5884298946732271, 0.5925651272192157]"
      ]
     },
     "execution_count": 89,
     "metadata": {},
     "output_type": "execute_result"
    }
   ],
   "source": [
    "unique([collect(i.y) for i in non_dominated])"
   ]
  },
  {
   "cell_type": "markdown",
   "metadata": {},
   "source": [
    "<p>As the problem difficulty increases, the final objective values decrease</p>"
   ]
  },
  {
   "cell_type": "markdown",
   "metadata": {
    "slideshow": {
     "slide_type": "slide"
    }
   },
   "source": [
    "## <a id=\"visualization\"></a>Visualization"
   ]
  },
  {
   "cell_type": "markdown",
   "metadata": {
    "slideshow": {
     "slide_type": "fragment"
    }
   },
   "source": [
    "To better understand NSGA-II's evolution, let's observe the population over time."
   ]
  },
  {
   "cell_type": "code",
   "execution_count": 91,
   "metadata": {
    "slideshow": {
     "slide_type": "slide"
    }
   },
   "outputs": [
    {
     "data": {
      "image/svg+xml": [
       "<?xml version=\"1.0\" encoding=\"utf-8\"?>\n",
       "<svg xmlns=\"http://www.w3.org/2000/svg\" xmlns:xlink=\"http://www.w3.org/1999/xlink\" width=\"600\" height=\"400\" viewBox=\"0 0 2400 1600\">\n",
       "<defs>\n",
       "  <clipPath id=\"clip7100\">\n",
       "    <rect x=\"0\" y=\"0\" width=\"2400\" height=\"1600\"/>\n",
       "  </clipPath>\n",
       "</defs>\n",
       "<path clip-path=\"url(#clip7100)\" d=\"\n",
       "M0 1600 L2400 1600 L2400 0 L0 0  Z\n",
       "  \" fill=\"#ffffff\" fill-rule=\"evenodd\" fill-opacity=\"1\"/>\n",
       "<defs>\n",
       "  <clipPath id=\"clip7101\">\n",
       "    <rect x=\"480\" y=\"0\" width=\"1681\" height=\"1600\"/>\n",
       "  </clipPath>\n",
       "</defs>\n",
       "<path clip-path=\"url(#clip7100)\" d=\"\n",
       "M148.334 1486.45 L2352.76 1486.45 L2352.76 47.2441 L148.334 47.2441  Z\n",
       "  \" fill=\"#ffffff\" fill-rule=\"evenodd\" fill-opacity=\"1\"/>\n",
       "<defs>\n",
       "  <clipPath id=\"clip7102\">\n",
       "    <rect x=\"148\" y=\"47\" width=\"2205\" height=\"1440\"/>\n",
       "  </clipPath>\n",
       "</defs>\n",
       "<polyline clip-path=\"url(#clip7102)\" style=\"stroke:#000000; stroke-width:2; stroke-opacity:0.1; fill:none\" points=\"\n",
       "  148.334,1486.45 148.334,47.2441 \n",
       "  \"/>\n",
       "<polyline clip-path=\"url(#clip7102)\" style=\"stroke:#000000; stroke-width:2; stroke-opacity:0.1; fill:none\" points=\"\n",
       "  589.219,1486.45 589.219,47.2441 \n",
       "  \"/>\n",
       "<polyline clip-path=\"url(#clip7102)\" style=\"stroke:#000000; stroke-width:2; stroke-opacity:0.1; fill:none\" points=\"\n",
       "  1030.1,1486.45 1030.1,47.2441 \n",
       "  \"/>\n",
       "<polyline clip-path=\"url(#clip7102)\" style=\"stroke:#000000; stroke-width:2; stroke-opacity:0.1; fill:none\" points=\"\n",
       "  1470.99,1486.45 1470.99,47.2441 \n",
       "  \"/>\n",
       "<polyline clip-path=\"url(#clip7102)\" style=\"stroke:#000000; stroke-width:2; stroke-opacity:0.1; fill:none\" points=\"\n",
       "  1911.87,1486.45 1911.87,47.2441 \n",
       "  \"/>\n",
       "<polyline clip-path=\"url(#clip7102)\" style=\"stroke:#000000; stroke-width:2; stroke-opacity:0.1; fill:none\" points=\"\n",
       "  2352.76,1486.45 2352.76,47.2441 \n",
       "  \"/>\n",
       "<polyline clip-path=\"url(#clip7102)\" style=\"stroke:#000000; stroke-width:2; stroke-opacity:0.1; fill:none\" points=\"\n",
       "  148.334,1486.45 2352.76,1486.45 \n",
       "  \"/>\n",
       "<polyline clip-path=\"url(#clip7102)\" style=\"stroke:#000000; stroke-width:2; stroke-opacity:0.1; fill:none\" points=\"\n",
       "  148.334,1198.61 2352.76,1198.61 \n",
       "  \"/>\n",
       "<polyline clip-path=\"url(#clip7102)\" style=\"stroke:#000000; stroke-width:2; stroke-opacity:0.1; fill:none\" points=\"\n",
       "  148.334,910.766 2352.76,910.766 \n",
       "  \"/>\n",
       "<polyline clip-path=\"url(#clip7102)\" style=\"stroke:#000000; stroke-width:2; stroke-opacity:0.1; fill:none\" points=\"\n",
       "  148.334,622.926 2352.76,622.926 \n",
       "  \"/>\n",
       "<polyline clip-path=\"url(#clip7102)\" style=\"stroke:#000000; stroke-width:2; stroke-opacity:0.1; fill:none\" points=\"\n",
       "  148.334,335.085 2352.76,335.085 \n",
       "  \"/>\n",
       "<polyline clip-path=\"url(#clip7102)\" style=\"stroke:#000000; stroke-width:2; stroke-opacity:0.1; fill:none\" points=\"\n",
       "  148.334,47.2441 2352.76,47.2441 \n",
       "  \"/>\n",
       "<polyline clip-path=\"url(#clip7100)\" style=\"stroke:#000000; stroke-width:4; stroke-opacity:1; fill:none\" points=\"\n",
       "  148.334,1486.45 2352.76,1486.45 \n",
       "  \"/>\n",
       "<polyline clip-path=\"url(#clip7100)\" style=\"stroke:#000000; stroke-width:4; stroke-opacity:1; fill:none\" points=\"\n",
       "  148.334,1486.45 148.334,47.2441 \n",
       "  \"/>\n",
       "<polyline clip-path=\"url(#clip7100)\" style=\"stroke:#000000; stroke-width:4; stroke-opacity:1; fill:none\" points=\"\n",
       "  148.334,1486.45 148.334,1469.18 \n",
       "  \"/>\n",
       "<polyline clip-path=\"url(#clip7100)\" style=\"stroke:#000000; stroke-width:4; stroke-opacity:1; fill:none\" points=\"\n",
       "  589.219,1486.45 589.219,1469.18 \n",
       "  \"/>\n",
       "<polyline clip-path=\"url(#clip7100)\" style=\"stroke:#000000; stroke-width:4; stroke-opacity:1; fill:none\" points=\"\n",
       "  1030.1,1486.45 1030.1,1469.18 \n",
       "  \"/>\n",
       "<polyline clip-path=\"url(#clip7100)\" style=\"stroke:#000000; stroke-width:4; stroke-opacity:1; fill:none\" points=\"\n",
       "  1470.99,1486.45 1470.99,1469.18 \n",
       "  \"/>\n",
       "<polyline clip-path=\"url(#clip7100)\" style=\"stroke:#000000; stroke-width:4; stroke-opacity:1; fill:none\" points=\"\n",
       "  1911.87,1486.45 1911.87,1469.18 \n",
       "  \"/>\n",
       "<polyline clip-path=\"url(#clip7100)\" style=\"stroke:#000000; stroke-width:4; stroke-opacity:1; fill:none\" points=\"\n",
       "  2352.76,1486.45 2352.76,1469.18 \n",
       "  \"/>\n",
       "<polyline clip-path=\"url(#clip7100)\" style=\"stroke:#000000; stroke-width:4; stroke-opacity:1; fill:none\" points=\"\n",
       "  148.334,1486.45 174.787,1486.45 \n",
       "  \"/>\n",
       "<polyline clip-path=\"url(#clip7100)\" style=\"stroke:#000000; stroke-width:4; stroke-opacity:1; fill:none\" points=\"\n",
       "  148.334,1198.61 174.787,1198.61 \n",
       "  \"/>\n",
       "<polyline clip-path=\"url(#clip7100)\" style=\"stroke:#000000; stroke-width:4; stroke-opacity:1; fill:none\" points=\"\n",
       "  148.334,910.766 174.787,910.766 \n",
       "  \"/>\n",
       "<polyline clip-path=\"url(#clip7100)\" style=\"stroke:#000000; stroke-width:4; stroke-opacity:1; fill:none\" points=\"\n",
       "  148.334,622.926 174.787,622.926 \n",
       "  \"/>\n",
       "<polyline clip-path=\"url(#clip7100)\" style=\"stroke:#000000; stroke-width:4; stroke-opacity:1; fill:none\" points=\"\n",
       "  148.334,335.085 174.787,335.085 \n",
       "  \"/>\n",
       "<polyline clip-path=\"url(#clip7100)\" style=\"stroke:#000000; stroke-width:4; stroke-opacity:1; fill:none\" points=\"\n",
       "  148.334,47.2441 174.787,47.2441 \n",
       "  \"/>\n",
       "<path clip-path=\"url(#clip7100)\" d=\"M 0 0 M129.851 1508.44 Q126.24 1508.44 124.411 1512 Q122.605 1515.55 122.605 1522.67 Q122.605 1529.78 124.411 1533.35 Q126.24 1536.89 129.851 1536.89 Q133.485 1536.89 135.29 1533.35 Q137.119 1529.78 137.119 1522.67 Q137.119 1515.55 135.29 1512 Q133.485 1508.44 129.851 1508.44 M129.851 1504.73 Q135.661 1504.73 138.716 1509.34 Q141.795 1513.92 141.795 1522.67 Q141.795 1531.4 138.716 1536.01 Q135.661 1540.59 129.851 1540.59 Q124.041 1540.59 120.962 1536.01 Q117.906 1531.4 117.906 1522.67 Q117.906 1513.92 120.962 1509.34 Q124.041 1504.73 129.851 1504.73 Z\" fill=\"#000000\" fill-rule=\"evenodd\" fill-opacity=\"1\" /><path clip-path=\"url(#clip7100)\" d=\"M 0 0 M146.864 1534.04 L151.749 1534.04 L151.749 1539.92 L146.864 1539.92 L146.864 1534.04 Z\" fill=\"#000000\" fill-rule=\"evenodd\" fill-opacity=\"1\" /><path clip-path=\"url(#clip7100)\" d=\"M 0 0 M166.818 1508.44 Q163.207 1508.44 161.378 1512 Q159.573 1515.55 159.573 1522.67 Q159.573 1529.78 161.378 1533.35 Q163.207 1536.89 166.818 1536.89 Q170.452 1536.89 172.258 1533.35 Q174.087 1529.78 174.087 1522.67 Q174.087 1515.55 172.258 1512 Q170.452 1508.44 166.818 1508.44 M166.818 1504.73 Q172.628 1504.73 175.684 1509.34 Q178.762 1513.92 178.762 1522.67 Q178.762 1531.4 175.684 1536.01 Q172.628 1540.59 166.818 1540.59 Q161.008 1540.59 157.929 1536.01 Q154.874 1531.4 154.874 1522.67 Q154.874 1513.92 157.929 1509.34 Q161.008 1504.73 166.818 1504.73 Z\" fill=\"#000000\" fill-rule=\"evenodd\" fill-opacity=\"1\" /><path clip-path=\"url(#clip7100)\" d=\"M 0 0 M571.534 1508.44 Q567.923 1508.44 566.094 1512 Q564.288 1515.55 564.288 1522.67 Q564.288 1529.78 566.094 1533.35 Q567.923 1536.89 571.534 1536.89 Q575.168 1536.89 576.973 1533.35 Q578.802 1529.78 578.802 1522.67 Q578.802 1515.55 576.973 1512 Q575.168 1508.44 571.534 1508.44 M571.534 1504.73 Q577.344 1504.73 580.399 1509.34 Q583.478 1513.92 583.478 1522.67 Q583.478 1531.4 580.399 1536.01 Q577.344 1540.59 571.534 1540.59 Q565.723 1540.59 562.645 1536.01 Q559.589 1531.4 559.589 1522.67 Q559.589 1513.92 562.645 1509.34 Q565.723 1504.73 571.534 1504.73 Z\" fill=\"#000000\" fill-rule=\"evenodd\" fill-opacity=\"1\" /><path clip-path=\"url(#clip7100)\" d=\"M 0 0 M588.547 1534.04 L593.432 1534.04 L593.432 1539.92 L588.547 1539.92 L588.547 1534.04 Z\" fill=\"#000000\" fill-rule=\"evenodd\" fill-opacity=\"1\" /><path clip-path=\"url(#clip7100)\" d=\"M 0 0 M602.529 1535.98 L618.848 1535.98 L618.848 1539.92 L596.904 1539.92 L596.904 1535.98 Q599.566 1533.23 604.149 1528.6 Q608.756 1523.95 609.936 1522.61 Q612.182 1520.08 613.061 1518.35 Q613.964 1516.59 613.964 1514.9 Q613.964 1512.14 612.019 1510.41 Q610.098 1508.67 606.996 1508.67 Q604.797 1508.67 602.344 1509.43 Q599.913 1510.2 597.135 1511.75 L597.135 1507.03 Q599.959 1505.89 602.413 1505.31 Q604.867 1504.73 606.904 1504.73 Q612.274 1504.73 615.469 1507.42 Q618.663 1510.11 618.663 1514.6 Q618.663 1516.73 617.853 1518.65 Q617.066 1520.54 614.959 1523.14 Q614.381 1523.81 611.279 1527.03 Q608.177 1530.22 602.529 1535.98 Z\" fill=\"#000000\" fill-rule=\"evenodd\" fill-opacity=\"1\" /><path clip-path=\"url(#clip7100)\" d=\"M 0 0 M1011.38 1508.44 Q1007.77 1508.44 1005.94 1512 Q1004.13 1515.55 1004.13 1522.67 Q1004.13 1529.78 1005.94 1533.35 Q1007.77 1536.89 1011.38 1536.89 Q1015.01 1536.89 1016.82 1533.35 Q1018.64 1529.78 1018.64 1522.67 Q1018.64 1515.55 1016.82 1512 Q1015.01 1508.44 1011.38 1508.44 M1011.38 1504.73 Q1017.19 1504.73 1020.24 1509.34 Q1023.32 1513.92 1023.32 1522.67 Q1023.32 1531.4 1020.24 1536.01 Q1017.19 1540.59 1011.38 1540.59 Q1005.57 1540.59 1002.49 1536.01 Q999.432 1531.4 999.432 1522.67 Q999.432 1513.92 1002.49 1509.34 Q1005.57 1504.73 1011.38 1504.73 Z\" fill=\"#000000\" fill-rule=\"evenodd\" fill-opacity=\"1\" /><path clip-path=\"url(#clip7100)\" d=\"M 0 0 M1028.39 1534.04 L1033.27 1534.04 L1033.27 1539.92 L1028.39 1539.92 L1028.39 1534.04 Z\" fill=\"#000000\" fill-rule=\"evenodd\" fill-opacity=\"1\" /><path clip-path=\"url(#clip7100)\" d=\"M 0 0 M1051.19 1509.43 L1039.39 1527.88 L1051.19 1527.88 L1051.19 1509.43 M1049.96 1505.36 L1055.84 1505.36 L1055.84 1527.88 L1060.77 1527.88 L1060.77 1531.77 L1055.84 1531.77 L1055.84 1539.92 L1051.19 1539.92 L1051.19 1531.77 L1035.59 1531.77 L1035.59 1527.26 L1049.96 1505.36 Z\" fill=\"#000000\" fill-rule=\"evenodd\" fill-opacity=\"1\" /><path clip-path=\"url(#clip7100)\" d=\"M 0 0 M1452.42 1508.44 Q1448.81 1508.44 1446.98 1512 Q1445.18 1515.55 1445.18 1522.67 Q1445.18 1529.78 1446.98 1533.35 Q1448.81 1536.89 1452.42 1536.89 Q1456.06 1536.89 1457.86 1533.35 Q1459.69 1529.78 1459.69 1522.67 Q1459.69 1515.55 1457.86 1512 Q1456.06 1508.44 1452.42 1508.44 M1452.42 1504.73 Q1458.23 1504.73 1461.29 1509.34 Q1464.37 1513.92 1464.37 1522.67 Q1464.37 1531.4 1461.29 1536.01 Q1458.23 1540.59 1452.42 1540.59 Q1446.61 1540.59 1443.53 1536.01 Q1440.48 1531.4 1440.48 1522.67 Q1440.48 1513.92 1443.53 1509.34 Q1446.61 1504.73 1452.42 1504.73 Z\" fill=\"#000000\" fill-rule=\"evenodd\" fill-opacity=\"1\" /><path clip-path=\"url(#clip7100)\" d=\"M 0 0 M1469.44 1534.04 L1474.32 1534.04 L1474.32 1539.92 L1469.44 1539.92 L1469.44 1534.04 Z\" fill=\"#000000\" fill-rule=\"evenodd\" fill-opacity=\"1\" /><path clip-path=\"url(#clip7100)\" d=\"M 0 0 M1489.97 1520.78 Q1486.82 1520.78 1484.97 1522.93 Q1483.14 1525.08 1483.14 1528.83 Q1483.14 1532.56 1484.97 1534.73 Q1486.82 1536.89 1489.97 1536.89 Q1493.12 1536.89 1494.95 1534.73 Q1496.8 1532.56 1496.8 1528.83 Q1496.8 1525.08 1494.95 1522.93 Q1493.12 1520.78 1489.97 1520.78 M1499.25 1506.12 L1499.25 1510.38 Q1497.49 1509.55 1495.69 1509.11 Q1493.9 1508.67 1492.14 1508.67 Q1487.51 1508.67 1485.06 1511.8 Q1482.63 1514.92 1482.28 1521.24 Q1483.65 1519.23 1485.71 1518.16 Q1487.77 1517.07 1490.25 1517.07 Q1495.45 1517.07 1498.46 1520.24 Q1501.5 1523.39 1501.5 1528.83 Q1501.5 1534.16 1498.35 1537.37 Q1495.2 1540.59 1489.97 1540.59 Q1483.97 1540.59 1480.8 1536.01 Q1477.63 1531.4 1477.63 1522.67 Q1477.63 1514.48 1481.52 1509.62 Q1485.41 1504.73 1491.96 1504.73 Q1493.72 1504.73 1495.5 1505.08 Q1497.31 1505.43 1499.25 1506.12 Z\" fill=\"#000000\" fill-rule=\"evenodd\" fill-opacity=\"1\" /><path clip-path=\"url(#clip7100)\" d=\"M 0 0 M1893.43 1508.44 Q1889.82 1508.44 1887.99 1512 Q1886.19 1515.55 1886.19 1522.67 Q1886.19 1529.78 1887.99 1533.35 Q1889.82 1536.89 1893.43 1536.89 Q1897.07 1536.89 1898.87 1533.35 Q1900.7 1529.78 1900.7 1522.67 Q1900.7 1515.55 1898.87 1512 Q1897.07 1508.44 1893.43 1508.44 M1893.43 1504.73 Q1899.24 1504.73 1902.3 1509.34 Q1905.38 1513.92 1905.38 1522.67 Q1905.38 1531.4 1902.3 1536.01 Q1899.24 1540.59 1893.43 1540.59 Q1887.62 1540.59 1884.55 1536.01 Q1881.49 1531.4 1881.49 1522.67 Q1881.49 1513.92 1884.55 1509.34 Q1887.62 1504.73 1893.43 1504.73 Z\" fill=\"#000000\" fill-rule=\"evenodd\" fill-opacity=\"1\" /><path clip-path=\"url(#clip7100)\" d=\"M 0 0 M1910.45 1534.04 L1915.33 1534.04 L1915.33 1539.92 L1910.45 1539.92 L1910.45 1534.04 Z\" fill=\"#000000\" fill-rule=\"evenodd\" fill-opacity=\"1\" /><path clip-path=\"url(#clip7100)\" d=\"M 0 0 M1930.4 1523.51 Q1927.07 1523.51 1925.15 1525.29 Q1923.25 1527.07 1923.25 1530.2 Q1923.25 1533.32 1925.15 1535.11 Q1927.07 1536.89 1930.4 1536.89 Q1933.73 1536.89 1935.66 1535.11 Q1937.58 1533.3 1937.58 1530.2 Q1937.58 1527.07 1935.66 1525.29 Q1933.76 1523.51 1930.4 1523.51 M1925.73 1521.52 Q1922.72 1520.78 1921.03 1518.72 Q1919.36 1516.66 1919.36 1513.69 Q1919.36 1509.55 1922.3 1507.14 Q1925.26 1504.73 1930.4 1504.73 Q1935.56 1504.73 1938.5 1507.14 Q1941.44 1509.55 1941.44 1513.69 Q1941.44 1516.66 1939.75 1518.72 Q1938.09 1520.78 1935.1 1521.52 Q1938.48 1522.3 1940.36 1524.6 Q1942.25 1526.89 1942.25 1530.2 Q1942.25 1535.22 1939.17 1537.91 Q1936.12 1540.59 1930.4 1540.59 Q1924.68 1540.59 1921.61 1537.91 Q1918.55 1535.22 1918.55 1530.2 Q1918.55 1526.89 1920.45 1524.6 Q1922.35 1522.3 1925.73 1521.52 M1924.01 1514.13 Q1924.01 1516.82 1925.68 1518.32 Q1927.37 1519.83 1930.4 1519.83 Q1933.41 1519.83 1935.1 1518.32 Q1936.81 1516.82 1936.81 1514.13 Q1936.81 1511.45 1935.1 1509.94 Q1933.41 1508.44 1930.4 1508.44 Q1927.37 1508.44 1925.68 1509.94 Q1924.01 1511.45 1924.01 1514.13 Z\" fill=\"#000000\" fill-rule=\"evenodd\" fill-opacity=\"1\" /><path clip-path=\"url(#clip7100)\" d=\"M 0 0 M2324.65 1535.98 L2332.29 1535.98 L2332.29 1509.62 L2323.98 1511.29 L2323.98 1507.03 L2332.25 1505.36 L2336.92 1505.36 L2336.92 1535.98 L2344.56 1535.98 L2344.56 1539.92 L2324.65 1539.92 L2324.65 1535.98 Z\" fill=\"#000000\" fill-rule=\"evenodd\" fill-opacity=\"1\" /><path clip-path=\"url(#clip7100)\" d=\"M 0 0 M2349.63 1534.04 L2354.52 1534.04 L2354.52 1539.92 L2349.63 1539.92 L2349.63 1534.04 Z\" fill=\"#000000\" fill-rule=\"evenodd\" fill-opacity=\"1\" /><path clip-path=\"url(#clip7100)\" d=\"M 0 0 M2369.58 1508.44 Q2365.97 1508.44 2364.14 1512 Q2362.34 1515.55 2362.34 1522.67 Q2362.34 1529.78 2364.14 1533.35 Q2365.97 1536.89 2369.58 1536.89 Q2373.22 1536.89 2375.02 1533.35 Q2376.85 1529.78 2376.85 1522.67 Q2376.85 1515.55 2375.02 1512 Q2373.22 1508.44 2369.58 1508.44 M2369.58 1504.73 Q2375.39 1504.73 2378.45 1509.34 Q2381.53 1513.92 2381.53 1522.67 Q2381.53 1531.4 2378.45 1536.01 Q2375.39 1540.59 2369.58 1540.59 Q2363.77 1540.59 2360.7 1536.01 Q2357.64 1531.4 2357.64 1522.67 Q2357.64 1513.92 2360.7 1509.34 Q2363.77 1504.73 2369.58 1504.73 Z\" fill=\"#000000\" fill-rule=\"evenodd\" fill-opacity=\"1\" /><path clip-path=\"url(#clip7100)\" d=\"M 0 0 M75.4226 1472.25 Q71.8115 1472.25 69.9828 1475.81 Q68.1773 1479.35 68.1773 1486.48 Q68.1773 1493.59 69.9828 1497.15 Q71.8115 1500.7 75.4226 1500.7 Q79.0569 1500.7 80.8624 1497.15 Q82.6911 1493.59 82.6911 1486.48 Q82.6911 1479.35 80.8624 1475.81 Q79.0569 1472.25 75.4226 1472.25 M75.4226 1468.54 Q81.2328 1468.54 84.2883 1473.15 Q87.367 1477.73 87.367 1486.48 Q87.367 1495.21 84.2883 1499.82 Q81.2328 1504.4 75.4226 1504.4 Q69.6125 1504.4 66.5338 1499.82 Q63.4782 1495.21 63.4782 1486.48 Q63.4782 1477.73 66.5338 1473.15 Q69.6125 1468.54 75.4226 1468.54 Z\" fill=\"#000000\" fill-rule=\"evenodd\" fill-opacity=\"1\" /><path clip-path=\"url(#clip7100)\" d=\"M 0 0 M92.4364 1497.85 L97.3206 1497.85 L97.3206 1503.73 L92.4364 1503.73 L92.4364 1497.85 Z\" fill=\"#000000\" fill-rule=\"evenodd\" fill-opacity=\"1\" /><path clip-path=\"url(#clip7100)\" d=\"M 0 0 M112.39 1472.25 Q108.779 1472.25 106.95 1475.81 Q105.145 1479.35 105.145 1486.48 Q105.145 1493.59 106.95 1497.15 Q108.779 1500.7 112.39 1500.7 Q116.024 1500.7 117.83 1497.15 Q119.658 1493.59 119.658 1486.48 Q119.658 1479.35 117.83 1475.81 Q116.024 1472.25 112.39 1472.25 M112.39 1468.54 Q118.2 1468.54 121.256 1473.15 Q124.334 1477.73 124.334 1486.48 Q124.334 1495.21 121.256 1499.82 Q118.2 1504.4 112.39 1504.4 Q106.58 1504.4 103.501 1499.82 Q100.446 1495.21 100.446 1486.48 Q100.446 1477.73 103.501 1473.15 Q106.58 1468.54 112.39 1468.54 Z\" fill=\"#000000\" fill-rule=\"evenodd\" fill-opacity=\"1\" /><path clip-path=\"url(#clip7100)\" d=\"M 0 0 M77.0198 1184.41 Q73.4087 1184.41 71.58 1187.97 Q69.7745 1191.51 69.7745 1198.64 Q69.7745 1205.75 71.58 1209.31 Q73.4087 1212.85 77.0198 1212.85 Q80.6541 1212.85 82.4596 1209.31 Q84.2883 1205.75 84.2883 1198.64 Q84.2883 1191.51 82.4596 1187.97 Q80.6541 1184.41 77.0198 1184.41 M77.0198 1180.7 Q82.83 1180.7 85.8855 1185.31 Q88.9642 1189.89 88.9642 1198.64 Q88.9642 1207.37 85.8855 1211.98 Q82.83 1216.56 77.0198 1216.56 Q71.2097 1216.56 68.131 1211.98 Q65.0754 1207.37 65.0754 1198.64 Q65.0754 1189.89 68.131 1185.31 Q71.2097 1180.7 77.0198 1180.7 Z\" fill=\"#000000\" fill-rule=\"evenodd\" fill-opacity=\"1\" /><path clip-path=\"url(#clip7100)\" d=\"M 0 0 M94.0336 1210.01 L98.9179 1210.01 L98.9179 1215.89 L94.0336 1215.89 L94.0336 1210.01 Z\" fill=\"#000000\" fill-rule=\"evenodd\" fill-opacity=\"1\" /><path clip-path=\"url(#clip7100)\" d=\"M 0 0 M108.015 1211.95 L124.334 1211.95 L124.334 1215.89 L102.39 1215.89 L102.39 1211.95 Q105.052 1209.2 109.635 1204.57 Q114.242 1199.91 115.422 1198.57 Q117.668 1196.05 118.547 1194.31 Q119.45 1192.55 119.45 1190.86 Q119.45 1188.11 117.506 1186.37 Q115.584 1184.64 112.483 1184.64 Q110.284 1184.64 107.83 1185.4 Q105.399 1186.17 102.622 1187.72 L102.622 1182.99 Q105.446 1181.86 107.899 1181.28 Q110.353 1180.7 112.39 1180.7 Q117.76 1180.7 120.955 1183.39 Q124.149 1186.07 124.149 1190.56 Q124.149 1192.69 123.339 1194.61 Q122.552 1196.51 120.446 1199.1 Q119.867 1199.78 116.765 1202.99 Q113.663 1206.19 108.015 1211.95 Z\" fill=\"#000000\" fill-rule=\"evenodd\" fill-opacity=\"1\" /><path clip-path=\"url(#clip7100)\" d=\"M 0 0 M74.9365 896.565 Q71.3254 896.565 69.4967 900.13 Q67.6912 903.671 67.6912 910.801 Q67.6912 917.908 69.4967 921.472 Q71.3254 925.014 74.9365 925.014 Q78.5707 925.014 80.3763 921.472 Q82.205 917.908 82.205 910.801 Q82.205 903.671 80.3763 900.13 Q78.5707 896.565 74.9365 896.565 M74.9365 892.861 Q80.7467 892.861 83.8022 897.468 Q86.8809 902.051 86.8809 910.801 Q86.8809 919.528 83.8022 924.134 Q80.7467 928.718 74.9365 928.718 Q69.1264 928.718 66.0477 924.134 Q62.9921 919.528 62.9921 910.801 Q62.9921 902.051 66.0477 897.468 Q69.1264 892.861 74.9365 892.861 Z\" fill=\"#000000\" fill-rule=\"evenodd\" fill-opacity=\"1\" /><path clip-path=\"url(#clip7100)\" d=\"M 0 0 M91.9503 922.167 L96.8345 922.167 L96.8345 928.046 L91.9503 928.046 L91.9503 922.167 Z\" fill=\"#000000\" fill-rule=\"evenodd\" fill-opacity=\"1\" /><path clip-path=\"url(#clip7100)\" d=\"M 0 0 M114.751 897.56 L102.946 916.009 L114.751 916.009 L114.751 897.56 M113.524 893.486 L119.404 893.486 L119.404 916.009 L124.334 916.009 L124.334 919.898 L119.404 919.898 L119.404 928.046 L114.751 928.046 L114.751 919.898 L99.1493 919.898 L99.1493 915.384 L113.524 893.486 Z\" fill=\"#000000\" fill-rule=\"evenodd\" fill-opacity=\"1\" /><path clip-path=\"url(#clip7100)\" d=\"M 0 0 M75.2606 608.724 Q71.6495 608.724 69.8208 612.289 Q68.0152 615.831 68.0152 622.96 Q68.0152 630.067 69.8208 633.632 Q71.6495 637.173 75.2606 637.173 Q78.8948 637.173 80.7004 633.632 Q82.5291 630.067 82.5291 622.96 Q82.5291 615.831 80.7004 612.289 Q78.8948 608.724 75.2606 608.724 M75.2606 605.021 Q81.0707 605.021 84.1263 609.627 Q87.205 614.21 87.205 622.96 Q87.205 631.687 84.1263 636.294 Q81.0707 640.877 75.2606 640.877 Q69.4504 640.877 66.3717 636.294 Q63.3162 631.687 63.3162 622.96 Q63.3162 614.21 66.3717 609.627 Q69.4504 605.021 75.2606 605.021 Z\" fill=\"#000000\" fill-rule=\"evenodd\" fill-opacity=\"1\" /><path clip-path=\"url(#clip7100)\" d=\"M 0 0 M92.2744 634.326 L97.1586 634.326 L97.1586 640.206 L92.2744 640.206 L92.2744 634.326 Z\" fill=\"#000000\" fill-rule=\"evenodd\" fill-opacity=\"1\" /><path clip-path=\"url(#clip7100)\" d=\"M 0 0 M112.807 621.062 Q109.659 621.062 107.807 623.215 Q105.978 625.368 105.978 629.118 Q105.978 632.845 107.807 635.02 Q109.659 637.173 112.807 637.173 Q115.955 637.173 117.783 635.02 Q119.635 632.845 119.635 629.118 Q119.635 625.368 117.783 623.215 Q115.955 621.062 112.807 621.062 M122.089 606.409 L122.089 610.669 Q120.33 609.835 118.524 609.396 Q116.742 608.956 114.983 608.956 Q110.353 608.956 107.899 612.081 Q105.469 615.206 105.122 621.525 Q106.487 619.511 108.547 618.446 Q110.608 617.359 113.084 617.359 Q118.293 617.359 121.302 620.53 Q124.334 623.678 124.334 629.118 Q124.334 634.442 121.186 637.659 Q118.038 640.877 112.807 640.877 Q106.811 640.877 103.64 636.294 Q100.469 631.687 100.469 622.96 Q100.469 614.766 104.358 609.905 Q108.247 605.021 114.797 605.021 Q116.557 605.021 118.339 605.368 Q120.145 605.715 122.089 606.409 Z\" fill=\"#000000\" fill-rule=\"evenodd\" fill-opacity=\"1\" /><path clip-path=\"url(#clip7100)\" d=\"M 0 0 M75.5152 320.884 Q71.9041 320.884 70.0754 324.448 Q68.2699 327.99 68.2699 335.12 Q68.2699 342.226 70.0754 345.791 Q71.9041 349.332 75.5152 349.332 Q79.1494 349.332 80.955 345.791 Q82.7837 342.226 82.7837 335.12 Q82.7837 327.99 80.955 324.448 Q79.1494 320.884 75.5152 320.884 M75.5152 317.18 Q81.3254 317.18 84.3809 321.786 Q87.4596 326.37 87.4596 335.12 Q87.4596 343.846 84.3809 348.453 Q81.3254 353.036 75.5152 353.036 Q69.7051 353.036 66.6264 348.453 Q63.5708 343.846 63.5708 335.12 Q63.5708 326.37 66.6264 321.786 Q69.7051 317.18 75.5152 317.18 Z\" fill=\"#000000\" fill-rule=\"evenodd\" fill-opacity=\"1\" /><path clip-path=\"url(#clip7100)\" d=\"M 0 0 M92.529 346.485 L97.4132 346.485 L97.4132 352.365 L92.529 352.365 L92.529 346.485 Z\" fill=\"#000000\" fill-rule=\"evenodd\" fill-opacity=\"1\" /><path clip-path=\"url(#clip7100)\" d=\"M 0 0 M112.483 335.953 Q109.149 335.953 107.228 337.735 Q105.33 339.518 105.33 342.643 Q105.33 345.768 107.228 347.55 Q109.149 349.332 112.483 349.332 Q115.816 349.332 117.737 347.55 Q119.658 345.745 119.658 342.643 Q119.658 339.518 117.737 337.735 Q115.839 335.953 112.483 335.953 M107.807 333.962 Q104.797 333.221 103.108 331.161 Q101.441 329.101 101.441 326.138 Q101.441 321.995 104.381 319.587 Q107.344 317.18 112.483 317.18 Q117.645 317.18 120.584 319.587 Q123.524 321.995 123.524 326.138 Q123.524 329.101 121.834 331.161 Q120.168 333.221 117.182 333.962 Q120.561 334.749 122.436 337.041 Q124.334 339.333 124.334 342.643 Q124.334 347.666 121.256 350.351 Q118.2 353.036 112.483 353.036 Q106.765 353.036 103.686 350.351 Q100.631 347.666 100.631 342.643 Q100.631 339.333 102.529 337.041 Q104.427 334.749 107.807 333.962 M106.094 326.578 Q106.094 329.263 107.76 330.768 Q109.45 332.272 112.483 332.272 Q115.492 332.272 117.182 330.768 Q118.895 329.263 118.895 326.578 Q118.895 323.893 117.182 322.388 Q115.492 320.884 112.483 320.884 Q109.45 320.884 107.76 322.388 Q106.094 323.893 106.094 326.578 Z\" fill=\"#000000\" fill-rule=\"evenodd\" fill-opacity=\"1\" /><path clip-path=\"url(#clip7100)\" d=\"M 0 0 M67.4597 60.5889 L75.0985 60.5889 L75.0985 34.2233 L66.7884 35.89 L66.7884 31.6308 L75.0522 29.9641 L79.7281 29.9641 L79.7281 60.5889 L87.367 60.5889 L87.367 64.5241 L67.4597 64.5241 L67.4597 60.5889 Z\" fill=\"#000000\" fill-rule=\"evenodd\" fill-opacity=\"1\" /><path clip-path=\"url(#clip7100)\" d=\"M 0 0 M92.4364 58.6445 L97.3206 58.6445 L97.3206 64.5241 L92.4364 64.5241 L92.4364 58.6445 Z\" fill=\"#000000\" fill-rule=\"evenodd\" fill-opacity=\"1\" /><path clip-path=\"url(#clip7100)\" d=\"M 0 0 M112.39 33.0428 Q108.779 33.0428 106.95 36.6076 Q105.145 40.1492 105.145 47.2788 Q105.145 54.3853 106.95 57.9501 Q108.779 61.4917 112.39 61.4917 Q116.024 61.4917 117.83 57.9501 Q119.658 54.3853 119.658 47.2788 Q119.658 40.1492 117.83 36.6076 Q116.024 33.0428 112.39 33.0428 M112.39 29.3391 Q118.2 29.3391 121.256 33.9456 Q124.334 38.5289 124.334 47.2788 Q124.334 56.0056 121.256 60.6121 Q118.2 65.1954 112.39 65.1954 Q106.58 65.1954 103.501 60.6121 Q100.446 56.0056 100.446 47.2788 Q100.446 38.5289 103.501 33.9456 Q106.58 29.3391 112.39 29.3391 Z\" fill=\"#000000\" fill-rule=\"evenodd\" fill-opacity=\"1\" /><circle clip-path=\"url(#clip7102)\" cx=\"1433.75\" cy=\"637.818\" r=\"14\" fill=\"#009af9\" fill-rule=\"evenodd\" fill-opacity=\"1\" stroke=\"#000000\" stroke-opacity=\"1\" stroke-width=\"3.2\"/>\n",
       "<circle clip-path=\"url(#clip7102)\" cx=\"1455.07\" cy=\"645.849\" r=\"14\" fill=\"#009af9\" fill-rule=\"evenodd\" fill-opacity=\"1\" stroke=\"#000000\" stroke-opacity=\"1\" stroke-width=\"3.2\"/>\n",
       "<circle clip-path=\"url(#clip7102)\" cx=\"1441.23\" cy=\"639.173\" r=\"14\" fill=\"#009af9\" fill-rule=\"evenodd\" fill-opacity=\"1\" stroke=\"#000000\" stroke-opacity=\"1\" stroke-width=\"3.2\"/>\n",
       "<circle clip-path=\"url(#clip7102)\" cx=\"1433.75\" cy=\"637.818\" r=\"14\" fill=\"#009af9\" fill-rule=\"evenodd\" fill-opacity=\"1\" stroke=\"#000000\" stroke-opacity=\"1\" stroke-width=\"3.2\"/>\n",
       "<circle clip-path=\"url(#clip7102)\" cx=\"1454\" cy=\"644.395\" r=\"14\" fill=\"#009af9\" fill-rule=\"evenodd\" fill-opacity=\"1\" stroke=\"#000000\" stroke-opacity=\"1\" stroke-width=\"3.2\"/>\n",
       "<circle clip-path=\"url(#clip7102)\" cx=\"1445.43\" cy=\"641.332\" r=\"14\" fill=\"#009af9\" fill-rule=\"evenodd\" fill-opacity=\"1\" stroke=\"#000000\" stroke-opacity=\"1\" stroke-width=\"3.2\"/>\n",
       "<circle clip-path=\"url(#clip7102)\" cx=\"1451.87\" cy=\"642.269\" r=\"14\" fill=\"#009af9\" fill-rule=\"evenodd\" fill-opacity=\"1\" stroke=\"#000000\" stroke-opacity=\"1\" stroke-width=\"3.2\"/>\n",
       "<circle clip-path=\"url(#clip7102)\" cx=\"1451.87\" cy=\"642.269\" r=\"14\" fill=\"#009af9\" fill-rule=\"evenodd\" fill-opacity=\"1\" stroke=\"#000000\" stroke-opacity=\"1\" stroke-width=\"3.2\"/>\n",
       "<circle clip-path=\"url(#clip7102)\" cx=\"1443.79\" cy=\"640.251\" r=\"14\" fill=\"#009af9\" fill-rule=\"evenodd\" fill-opacity=\"1\" stroke=\"#000000\" stroke-opacity=\"1\" stroke-width=\"3.2\"/>\n",
       "<circle clip-path=\"url(#clip7102)\" cx=\"1455.05\" cy=\"645.402\" r=\"14\" fill=\"#009af9\" fill-rule=\"evenodd\" fill-opacity=\"1\" stroke=\"#000000\" stroke-opacity=\"1\" stroke-width=\"3.2\"/>\n",
       "<circle clip-path=\"url(#clip7102)\" cx=\"1454.02\" cy=\"644.842\" r=\"14\" fill=\"#009af9\" fill-rule=\"evenodd\" fill-opacity=\"1\" stroke=\"#000000\" stroke-opacity=\"1\" stroke-width=\"3.2\"/>\n",
       "<circle clip-path=\"url(#clip7102)\" cx=\"1443.95\" cy=\"640.992\" r=\"14\" fill=\"#009af9\" fill-rule=\"evenodd\" fill-opacity=\"1\" stroke=\"#000000\" stroke-opacity=\"1\" stroke-width=\"3.2\"/>\n",
       "<circle clip-path=\"url(#clip7102)\" cx=\"1445.43\" cy=\"641.332\" r=\"14\" fill=\"#009af9\" fill-rule=\"evenodd\" fill-opacity=\"1\" stroke=\"#000000\" stroke-opacity=\"1\" stroke-width=\"3.2\"/>\n",
       "<circle clip-path=\"url(#clip7102)\" cx=\"1455.05\" cy=\"645.402\" r=\"14\" fill=\"#009af9\" fill-rule=\"evenodd\" fill-opacity=\"1\" stroke=\"#000000\" stroke-opacity=\"1\" stroke-width=\"3.2\"/>\n",
       "<circle clip-path=\"url(#clip7102)\" cx=\"1443.79\" cy=\"640.251\" r=\"14\" fill=\"#009af9\" fill-rule=\"evenodd\" fill-opacity=\"1\" stroke=\"#000000\" stroke-opacity=\"1\" stroke-width=\"3.2\"/>\n",
       "<circle clip-path=\"url(#clip7102)\" cx=\"1443.81\" cy=\"640.697\" r=\"14\" fill=\"#009af9\" fill-rule=\"evenodd\" fill-opacity=\"1\" stroke=\"#000000\" stroke-opacity=\"1\" stroke-width=\"3.2\"/>\n",
       "<circle clip-path=\"url(#clip7102)\" cx=\"1455.07\" cy=\"645.849\" r=\"14\" fill=\"#009af9\" fill-rule=\"evenodd\" fill-opacity=\"1\" stroke=\"#000000\" stroke-opacity=\"1\" stroke-width=\"3.2\"/>\n",
       "<circle clip-path=\"url(#clip7102)\" cx=\"1454.02\" cy=\"644.842\" r=\"14\" fill=\"#009af9\" fill-rule=\"evenodd\" fill-opacity=\"1\" stroke=\"#000000\" stroke-opacity=\"1\" stroke-width=\"3.2\"/>\n",
       "<circle clip-path=\"url(#clip7102)\" cx=\"1443.81\" cy=\"640.697\" r=\"14\" fill=\"#009af9\" fill-rule=\"evenodd\" fill-opacity=\"1\" stroke=\"#000000\" stroke-opacity=\"1\" stroke-width=\"3.2\"/>\n",
       "<circle clip-path=\"url(#clip7102)\" cx=\"1443.95\" cy=\"640.992\" r=\"14\" fill=\"#009af9\" fill-rule=\"evenodd\" fill-opacity=\"1\" stroke=\"#000000\" stroke-opacity=\"1\" stroke-width=\"3.2\"/>\n",
       "<circle clip-path=\"url(#clip7102)\" cx=\"1455.07\" cy=\"645.849\" r=\"14\" fill=\"#009af9\" fill-rule=\"evenodd\" fill-opacity=\"1\" stroke=\"#000000\" stroke-opacity=\"1\" stroke-width=\"3.2\"/>\n",
       "<circle clip-path=\"url(#clip7102)\" cx=\"1455.07\" cy=\"645.849\" r=\"14\" fill=\"#009af9\" fill-rule=\"evenodd\" fill-opacity=\"1\" stroke=\"#000000\" stroke-opacity=\"1\" stroke-width=\"3.2\"/>\n",
       "<circle clip-path=\"url(#clip7102)\" cx=\"1455.07\" cy=\"645.849\" r=\"14\" fill=\"#009af9\" fill-rule=\"evenodd\" fill-opacity=\"1\" stroke=\"#000000\" stroke-opacity=\"1\" stroke-width=\"3.2\"/>\n",
       "<circle clip-path=\"url(#clip7102)\" cx=\"1455.07\" cy=\"645.849\" r=\"14\" fill=\"#009af9\" fill-rule=\"evenodd\" fill-opacity=\"1\" stroke=\"#000000\" stroke-opacity=\"1\" stroke-width=\"3.2\"/>\n",
       "<circle clip-path=\"url(#clip7102)\" cx=\"1455.07\" cy=\"645.849\" r=\"14\" fill=\"#009af9\" fill-rule=\"evenodd\" fill-opacity=\"1\" stroke=\"#000000\" stroke-opacity=\"1\" stroke-width=\"3.2\"/>\n",
       "<circle clip-path=\"url(#clip7102)\" cx=\"1455.07\" cy=\"645.849\" r=\"14\" fill=\"#009af9\" fill-rule=\"evenodd\" fill-opacity=\"1\" stroke=\"#000000\" stroke-opacity=\"1\" stroke-width=\"3.2\"/>\n",
       "<circle clip-path=\"url(#clip7102)\" cx=\"1455.07\" cy=\"645.849\" r=\"14\" fill=\"#009af9\" fill-rule=\"evenodd\" fill-opacity=\"1\" stroke=\"#000000\" stroke-opacity=\"1\" stroke-width=\"3.2\"/>\n",
       "<circle clip-path=\"url(#clip7102)\" cx=\"1455.07\" cy=\"645.849\" r=\"14\" fill=\"#009af9\" fill-rule=\"evenodd\" fill-opacity=\"1\" stroke=\"#000000\" stroke-opacity=\"1\" stroke-width=\"3.2\"/>\n",
       "<circle clip-path=\"url(#clip7102)\" cx=\"1455.07\" cy=\"645.849\" r=\"14\" fill=\"#009af9\" fill-rule=\"evenodd\" fill-opacity=\"1\" stroke=\"#000000\" stroke-opacity=\"1\" stroke-width=\"3.2\"/>\n",
       "<circle clip-path=\"url(#clip7102)\" cx=\"1455.07\" cy=\"645.849\" r=\"14\" fill=\"#009af9\" fill-rule=\"evenodd\" fill-opacity=\"1\" stroke=\"#000000\" stroke-opacity=\"1\" stroke-width=\"3.2\"/>\n",
       "<circle clip-path=\"url(#clip7102)\" cx=\"1455.07\" cy=\"645.849\" r=\"14\" fill=\"#009af9\" fill-rule=\"evenodd\" fill-opacity=\"1\" stroke=\"#000000\" stroke-opacity=\"1\" stroke-width=\"3.2\"/>\n",
       "<circle clip-path=\"url(#clip7102)\" cx=\"1455.07\" cy=\"645.849\" r=\"14\" fill=\"#009af9\" fill-rule=\"evenodd\" fill-opacity=\"1\" stroke=\"#000000\" stroke-opacity=\"1\" stroke-width=\"3.2\"/>\n",
       "<circle clip-path=\"url(#clip7102)\" cx=\"1455.07\" cy=\"645.849\" r=\"14\" fill=\"#009af9\" fill-rule=\"evenodd\" fill-opacity=\"1\" stroke=\"#000000\" stroke-opacity=\"1\" stroke-width=\"3.2\"/>\n",
       "<circle clip-path=\"url(#clip7102)\" cx=\"1455.07\" cy=\"645.849\" r=\"14\" fill=\"#009af9\" fill-rule=\"evenodd\" fill-opacity=\"1\" stroke=\"#000000\" stroke-opacity=\"1\" stroke-width=\"3.2\"/>\n",
       "<circle clip-path=\"url(#clip7102)\" cx=\"1455.07\" cy=\"645.849\" r=\"14\" fill=\"#009af9\" fill-rule=\"evenodd\" fill-opacity=\"1\" stroke=\"#000000\" stroke-opacity=\"1\" stroke-width=\"3.2\"/>\n",
       "<circle clip-path=\"url(#clip7102)\" cx=\"1455.07\" cy=\"645.849\" r=\"14\" fill=\"#009af9\" fill-rule=\"evenodd\" fill-opacity=\"1\" stroke=\"#000000\" stroke-opacity=\"1\" stroke-width=\"3.2\"/>\n",
       "<circle clip-path=\"url(#clip7102)\" cx=\"1455.07\" cy=\"645.849\" r=\"14\" fill=\"#009af9\" fill-rule=\"evenodd\" fill-opacity=\"1\" stroke=\"#000000\" stroke-opacity=\"1\" stroke-width=\"3.2\"/>\n",
       "<circle clip-path=\"url(#clip7102)\" cx=\"1455.07\" cy=\"645.849\" r=\"14\" fill=\"#009af9\" fill-rule=\"evenodd\" fill-opacity=\"1\" stroke=\"#000000\" stroke-opacity=\"1\" stroke-width=\"3.2\"/>\n",
       "<circle clip-path=\"url(#clip7102)\" cx=\"1455.07\" cy=\"645.849\" r=\"14\" fill=\"#009af9\" fill-rule=\"evenodd\" fill-opacity=\"1\" stroke=\"#000000\" stroke-opacity=\"1\" stroke-width=\"3.2\"/>\n",
       "<circle clip-path=\"url(#clip7102)\" cx=\"1455.07\" cy=\"645.849\" r=\"14\" fill=\"#009af9\" fill-rule=\"evenodd\" fill-opacity=\"1\" stroke=\"#000000\" stroke-opacity=\"1\" stroke-width=\"3.2\"/>\n",
       "<circle clip-path=\"url(#clip7102)\" cx=\"1455.07\" cy=\"645.849\" r=\"14\" fill=\"#009af9\" fill-rule=\"evenodd\" fill-opacity=\"1\" stroke=\"#000000\" stroke-opacity=\"1\" stroke-width=\"3.2\"/>\n",
       "<circle clip-path=\"url(#clip7102)\" cx=\"1455.07\" cy=\"645.849\" r=\"14\" fill=\"#009af9\" fill-rule=\"evenodd\" fill-opacity=\"1\" stroke=\"#000000\" stroke-opacity=\"1\" stroke-width=\"3.2\"/>\n",
       "<circle clip-path=\"url(#clip7102)\" cx=\"1455.07\" cy=\"645.849\" r=\"14\" fill=\"#009af9\" fill-rule=\"evenodd\" fill-opacity=\"1\" stroke=\"#000000\" stroke-opacity=\"1\" stroke-width=\"3.2\"/>\n",
       "<circle clip-path=\"url(#clip7102)\" cx=\"1455.07\" cy=\"645.849\" r=\"14\" fill=\"#009af9\" fill-rule=\"evenodd\" fill-opacity=\"1\" stroke=\"#000000\" stroke-opacity=\"1\" stroke-width=\"3.2\"/>\n",
       "<circle clip-path=\"url(#clip7102)\" cx=\"1455.07\" cy=\"645.849\" r=\"14\" fill=\"#009af9\" fill-rule=\"evenodd\" fill-opacity=\"1\" stroke=\"#000000\" stroke-opacity=\"1\" stroke-width=\"3.2\"/>\n",
       "<circle clip-path=\"url(#clip7102)\" cx=\"1455.07\" cy=\"645.849\" r=\"14\" fill=\"#009af9\" fill-rule=\"evenodd\" fill-opacity=\"1\" stroke=\"#000000\" stroke-opacity=\"1\" stroke-width=\"3.2\"/>\n",
       "<circle clip-path=\"url(#clip7102)\" cx=\"1455.07\" cy=\"645.849\" r=\"14\" fill=\"#009af9\" fill-rule=\"evenodd\" fill-opacity=\"1\" stroke=\"#000000\" stroke-opacity=\"1\" stroke-width=\"3.2\"/>\n",
       "<circle clip-path=\"url(#clip7102)\" cx=\"1455.07\" cy=\"645.849\" r=\"14\" fill=\"#009af9\" fill-rule=\"evenodd\" fill-opacity=\"1\" stroke=\"#000000\" stroke-opacity=\"1\" stroke-width=\"3.2\"/>\n",
       "<circle clip-path=\"url(#clip7102)\" cx=\"1455.07\" cy=\"645.849\" r=\"14\" fill=\"#009af9\" fill-rule=\"evenodd\" fill-opacity=\"1\" stroke=\"#000000\" stroke-opacity=\"1\" stroke-width=\"3.2\"/>\n",
       "<circle clip-path=\"url(#clip7102)\" cx=\"1455.07\" cy=\"645.849\" r=\"14\" fill=\"#009af9\" fill-rule=\"evenodd\" fill-opacity=\"1\" stroke=\"#000000\" stroke-opacity=\"1\" stroke-width=\"3.2\"/>\n",
       "<circle clip-path=\"url(#clip7102)\" cx=\"1455.07\" cy=\"645.849\" r=\"14\" fill=\"#009af9\" fill-rule=\"evenodd\" fill-opacity=\"1\" stroke=\"#000000\" stroke-opacity=\"1\" stroke-width=\"3.2\"/>\n",
       "<circle clip-path=\"url(#clip7102)\" cx=\"1455.07\" cy=\"645.849\" r=\"14\" fill=\"#009af9\" fill-rule=\"evenodd\" fill-opacity=\"1\" stroke=\"#000000\" stroke-opacity=\"1\" stroke-width=\"3.2\"/>\n",
       "<circle clip-path=\"url(#clip7102)\" cx=\"1455.07\" cy=\"645.849\" r=\"14\" fill=\"#009af9\" fill-rule=\"evenodd\" fill-opacity=\"1\" stroke=\"#000000\" stroke-opacity=\"1\" stroke-width=\"3.2\"/>\n",
       "<circle clip-path=\"url(#clip7102)\" cx=\"1455.07\" cy=\"645.849\" r=\"14\" fill=\"#009af9\" fill-rule=\"evenodd\" fill-opacity=\"1\" stroke=\"#000000\" stroke-opacity=\"1\" stroke-width=\"3.2\"/>\n",
       "<circle clip-path=\"url(#clip7102)\" cx=\"1455.07\" cy=\"645.849\" r=\"14\" fill=\"#009af9\" fill-rule=\"evenodd\" fill-opacity=\"1\" stroke=\"#000000\" stroke-opacity=\"1\" stroke-width=\"3.2\"/>\n",
       "<circle clip-path=\"url(#clip7102)\" cx=\"1455.07\" cy=\"645.849\" r=\"14\" fill=\"#009af9\" fill-rule=\"evenodd\" fill-opacity=\"1\" stroke=\"#000000\" stroke-opacity=\"1\" stroke-width=\"3.2\"/>\n",
       "<circle clip-path=\"url(#clip7102)\" cx=\"1455.07\" cy=\"645.849\" r=\"14\" fill=\"#009af9\" fill-rule=\"evenodd\" fill-opacity=\"1\" stroke=\"#000000\" stroke-opacity=\"1\" stroke-width=\"3.2\"/>\n",
       "<circle clip-path=\"url(#clip7102)\" cx=\"1455.07\" cy=\"645.849\" r=\"14\" fill=\"#009af9\" fill-rule=\"evenodd\" fill-opacity=\"1\" stroke=\"#000000\" stroke-opacity=\"1\" stroke-width=\"3.2\"/>\n",
       "<circle clip-path=\"url(#clip7102)\" cx=\"1455.07\" cy=\"645.849\" r=\"14\" fill=\"#009af9\" fill-rule=\"evenodd\" fill-opacity=\"1\" stroke=\"#000000\" stroke-opacity=\"1\" stroke-width=\"3.2\"/>\n",
       "<circle clip-path=\"url(#clip7102)\" cx=\"1455.07\" cy=\"645.849\" r=\"14\" fill=\"#009af9\" fill-rule=\"evenodd\" fill-opacity=\"1\" stroke=\"#000000\" stroke-opacity=\"1\" stroke-width=\"3.2\"/>\n",
       "<circle clip-path=\"url(#clip7102)\" cx=\"1455.07\" cy=\"645.849\" r=\"14\" fill=\"#009af9\" fill-rule=\"evenodd\" fill-opacity=\"1\" stroke=\"#000000\" stroke-opacity=\"1\" stroke-width=\"3.2\"/>\n",
       "<circle clip-path=\"url(#clip7102)\" cx=\"1455.07\" cy=\"645.849\" r=\"14\" fill=\"#009af9\" fill-rule=\"evenodd\" fill-opacity=\"1\" stroke=\"#000000\" stroke-opacity=\"1\" stroke-width=\"3.2\"/>\n",
       "<circle clip-path=\"url(#clip7102)\" cx=\"1455.07\" cy=\"645.849\" r=\"14\" fill=\"#009af9\" fill-rule=\"evenodd\" fill-opacity=\"1\" stroke=\"#000000\" stroke-opacity=\"1\" stroke-width=\"3.2\"/>\n",
       "<circle clip-path=\"url(#clip7102)\" cx=\"1455.07\" cy=\"645.849\" r=\"14\" fill=\"#009af9\" fill-rule=\"evenodd\" fill-opacity=\"1\" stroke=\"#000000\" stroke-opacity=\"1\" stroke-width=\"3.2\"/>\n",
       "<circle clip-path=\"url(#clip7102)\" cx=\"1455.07\" cy=\"645.849\" r=\"14\" fill=\"#009af9\" fill-rule=\"evenodd\" fill-opacity=\"1\" stroke=\"#000000\" stroke-opacity=\"1\" stroke-width=\"3.2\"/>\n",
       "<circle clip-path=\"url(#clip7102)\" cx=\"1455.07\" cy=\"645.849\" r=\"14\" fill=\"#009af9\" fill-rule=\"evenodd\" fill-opacity=\"1\" stroke=\"#000000\" stroke-opacity=\"1\" stroke-width=\"3.2\"/>\n",
       "<circle clip-path=\"url(#clip7102)\" cx=\"1455.07\" cy=\"645.849\" r=\"14\" fill=\"#009af9\" fill-rule=\"evenodd\" fill-opacity=\"1\" stroke=\"#000000\" stroke-opacity=\"1\" stroke-width=\"3.2\"/>\n",
       "<circle clip-path=\"url(#clip7102)\" cx=\"1455.07\" cy=\"645.849\" r=\"14\" fill=\"#009af9\" fill-rule=\"evenodd\" fill-opacity=\"1\" stroke=\"#000000\" stroke-opacity=\"1\" stroke-width=\"3.2\"/>\n",
       "<circle clip-path=\"url(#clip7102)\" cx=\"1455.07\" cy=\"645.849\" r=\"14\" fill=\"#009af9\" fill-rule=\"evenodd\" fill-opacity=\"1\" stroke=\"#000000\" stroke-opacity=\"1\" stroke-width=\"3.2\"/>\n",
       "<circle clip-path=\"url(#clip7102)\" cx=\"1455.07\" cy=\"645.849\" r=\"14\" fill=\"#009af9\" fill-rule=\"evenodd\" fill-opacity=\"1\" stroke=\"#000000\" stroke-opacity=\"1\" stroke-width=\"3.2\"/>\n",
       "<circle clip-path=\"url(#clip7102)\" cx=\"1455.07\" cy=\"645.849\" r=\"14\" fill=\"#009af9\" fill-rule=\"evenodd\" fill-opacity=\"1\" stroke=\"#000000\" stroke-opacity=\"1\" stroke-width=\"3.2\"/>\n",
       "<circle clip-path=\"url(#clip7102)\" cx=\"1455.07\" cy=\"645.849\" r=\"14\" fill=\"#009af9\" fill-rule=\"evenodd\" fill-opacity=\"1\" stroke=\"#000000\" stroke-opacity=\"1\" stroke-width=\"3.2\"/>\n",
       "<circle clip-path=\"url(#clip7102)\" cx=\"1455.07\" cy=\"645.849\" r=\"14\" fill=\"#009af9\" fill-rule=\"evenodd\" fill-opacity=\"1\" stroke=\"#000000\" stroke-opacity=\"1\" stroke-width=\"3.2\"/>\n",
       "<circle clip-path=\"url(#clip7102)\" cx=\"1455.07\" cy=\"645.849\" r=\"14\" fill=\"#009af9\" fill-rule=\"evenodd\" fill-opacity=\"1\" stroke=\"#000000\" stroke-opacity=\"1\" stroke-width=\"3.2\"/>\n",
       "<circle clip-path=\"url(#clip7102)\" cx=\"1455.07\" cy=\"645.849\" r=\"14\" fill=\"#009af9\" fill-rule=\"evenodd\" fill-opacity=\"1\" stroke=\"#000000\" stroke-opacity=\"1\" stroke-width=\"3.2\"/>\n",
       "<circle clip-path=\"url(#clip7102)\" cx=\"1455.07\" cy=\"645.849\" r=\"14\" fill=\"#009af9\" fill-rule=\"evenodd\" fill-opacity=\"1\" stroke=\"#000000\" stroke-opacity=\"1\" stroke-width=\"3.2\"/>\n",
       "<circle clip-path=\"url(#clip7102)\" cx=\"1455.07\" cy=\"645.849\" r=\"14\" fill=\"#009af9\" fill-rule=\"evenodd\" fill-opacity=\"1\" stroke=\"#000000\" stroke-opacity=\"1\" stroke-width=\"3.2\"/>\n",
       "<circle clip-path=\"url(#clip7102)\" cx=\"1455.07\" cy=\"645.849\" r=\"14\" fill=\"#009af9\" fill-rule=\"evenodd\" fill-opacity=\"1\" stroke=\"#000000\" stroke-opacity=\"1\" stroke-width=\"3.2\"/>\n",
       "<circle clip-path=\"url(#clip7102)\" cx=\"1455.07\" cy=\"645.849\" r=\"14\" fill=\"#009af9\" fill-rule=\"evenodd\" fill-opacity=\"1\" stroke=\"#000000\" stroke-opacity=\"1\" stroke-width=\"3.2\"/>\n",
       "<circle clip-path=\"url(#clip7102)\" cx=\"1455.07\" cy=\"645.849\" r=\"14\" fill=\"#009af9\" fill-rule=\"evenodd\" fill-opacity=\"1\" stroke=\"#000000\" stroke-opacity=\"1\" stroke-width=\"3.2\"/>\n",
       "<circle clip-path=\"url(#clip7102)\" cx=\"1455.07\" cy=\"645.849\" r=\"14\" fill=\"#009af9\" fill-rule=\"evenodd\" fill-opacity=\"1\" stroke=\"#000000\" stroke-opacity=\"1\" stroke-width=\"3.2\"/>\n",
       "<circle clip-path=\"url(#clip7102)\" cx=\"1455.07\" cy=\"645.849\" r=\"14\" fill=\"#009af9\" fill-rule=\"evenodd\" fill-opacity=\"1\" stroke=\"#000000\" stroke-opacity=\"1\" stroke-width=\"3.2\"/>\n",
       "<circle clip-path=\"url(#clip7102)\" cx=\"1455.07\" cy=\"645.849\" r=\"14\" fill=\"#009af9\" fill-rule=\"evenodd\" fill-opacity=\"1\" stroke=\"#000000\" stroke-opacity=\"1\" stroke-width=\"3.2\"/>\n",
       "<circle clip-path=\"url(#clip7102)\" cx=\"1455.07\" cy=\"645.849\" r=\"14\" fill=\"#009af9\" fill-rule=\"evenodd\" fill-opacity=\"1\" stroke=\"#000000\" stroke-opacity=\"1\" stroke-width=\"3.2\"/>\n",
       "<circle clip-path=\"url(#clip7102)\" cx=\"1455.07\" cy=\"645.849\" r=\"14\" fill=\"#009af9\" fill-rule=\"evenodd\" fill-opacity=\"1\" stroke=\"#000000\" stroke-opacity=\"1\" stroke-width=\"3.2\"/>\n",
       "<circle clip-path=\"url(#clip7102)\" cx=\"1455.07\" cy=\"645.849\" r=\"14\" fill=\"#009af9\" fill-rule=\"evenodd\" fill-opacity=\"1\" stroke=\"#000000\" stroke-opacity=\"1\" stroke-width=\"3.2\"/>\n",
       "<circle clip-path=\"url(#clip7102)\" cx=\"1455.07\" cy=\"645.849\" r=\"14\" fill=\"#009af9\" fill-rule=\"evenodd\" fill-opacity=\"1\" stroke=\"#000000\" stroke-opacity=\"1\" stroke-width=\"3.2\"/>\n",
       "<circle clip-path=\"url(#clip7102)\" cx=\"1455.07\" cy=\"645.849\" r=\"14\" fill=\"#009af9\" fill-rule=\"evenodd\" fill-opacity=\"1\" stroke=\"#000000\" stroke-opacity=\"1\" stroke-width=\"3.2\"/>\n",
       "<circle clip-path=\"url(#clip7102)\" cx=\"1455.07\" cy=\"645.849\" r=\"14\" fill=\"#009af9\" fill-rule=\"evenodd\" fill-opacity=\"1\" stroke=\"#000000\" stroke-opacity=\"1\" stroke-width=\"3.2\"/>\n",
       "<circle clip-path=\"url(#clip7102)\" cx=\"1455.07\" cy=\"645.849\" r=\"14\" fill=\"#009af9\" fill-rule=\"evenodd\" fill-opacity=\"1\" stroke=\"#000000\" stroke-opacity=\"1\" stroke-width=\"3.2\"/>\n",
       "<circle clip-path=\"url(#clip7102)\" cx=\"1455.07\" cy=\"645.849\" r=\"14\" fill=\"#009af9\" fill-rule=\"evenodd\" fill-opacity=\"1\" stroke=\"#000000\" stroke-opacity=\"1\" stroke-width=\"3.2\"/>\n",
       "<circle clip-path=\"url(#clip7102)\" cx=\"1455.07\" cy=\"645.849\" r=\"14\" fill=\"#009af9\" fill-rule=\"evenodd\" fill-opacity=\"1\" stroke=\"#000000\" stroke-opacity=\"1\" stroke-width=\"3.2\"/>\n",
       "<circle clip-path=\"url(#clip7102)\" cx=\"1433.75\" cy=\"637.818\" r=\"14\" fill=\"#009af9\" fill-rule=\"evenodd\" fill-opacity=\"1\" stroke=\"#000000\" stroke-opacity=\"1\" stroke-width=\"3.2\"/>\n",
       "<circle clip-path=\"url(#clip7102)\" cx=\"1455.05\" cy=\"645.402\" r=\"14\" fill=\"#009af9\" fill-rule=\"evenodd\" fill-opacity=\"1\" stroke=\"#000000\" stroke-opacity=\"1\" stroke-width=\"3.2\"/>\n",
       "<circle clip-path=\"url(#clip7102)\" cx=\"1455.07\" cy=\"645.849\" r=\"14\" fill=\"#009af9\" fill-rule=\"evenodd\" fill-opacity=\"1\" stroke=\"#000000\" stroke-opacity=\"1\" stroke-width=\"3.2\"/>\n",
       "<circle clip-path=\"url(#clip7102)\" cx=\"1455.07\" cy=\"645.849\" r=\"14\" fill=\"#009af9\" fill-rule=\"evenodd\" fill-opacity=\"1\" stroke=\"#000000\" stroke-opacity=\"1\" stroke-width=\"3.2\"/>\n",
       "<circle clip-path=\"url(#clip7102)\" cx=\"1455.07\" cy=\"645.849\" r=\"14\" fill=\"#009af9\" fill-rule=\"evenodd\" fill-opacity=\"1\" stroke=\"#000000\" stroke-opacity=\"1\" stroke-width=\"3.2\"/>\n",
       "<circle clip-path=\"url(#clip7102)\" cx=\"1455.07\" cy=\"645.849\" r=\"14\" fill=\"#009af9\" fill-rule=\"evenodd\" fill-opacity=\"1\" stroke=\"#000000\" stroke-opacity=\"1\" stroke-width=\"3.2\"/>\n",
       "<circle clip-path=\"url(#clip7102)\" cx=\"1455.07\" cy=\"645.849\" r=\"14\" fill=\"#009af9\" fill-rule=\"evenodd\" fill-opacity=\"1\" stroke=\"#000000\" stroke-opacity=\"1\" stroke-width=\"3.2\"/>\n",
       "<circle clip-path=\"url(#clip7102)\" cx=\"1455.07\" cy=\"645.849\" r=\"14\" fill=\"#009af9\" fill-rule=\"evenodd\" fill-opacity=\"1\" stroke=\"#000000\" stroke-opacity=\"1\" stroke-width=\"3.2\"/>\n",
       "<circle clip-path=\"url(#clip7102)\" cx=\"1455.07\" cy=\"645.849\" r=\"14\" fill=\"#009af9\" fill-rule=\"evenodd\" fill-opacity=\"1\" stroke=\"#000000\" stroke-opacity=\"1\" stroke-width=\"3.2\"/>\n",
       "<circle clip-path=\"url(#clip7102)\" cx=\"1455.07\" cy=\"645.849\" r=\"14\" fill=\"#009af9\" fill-rule=\"evenodd\" fill-opacity=\"1\" stroke=\"#000000\" stroke-opacity=\"1\" stroke-width=\"3.2\"/>\n",
       "<circle clip-path=\"url(#clip7102)\" cx=\"1455.07\" cy=\"645.849\" r=\"14\" fill=\"#009af9\" fill-rule=\"evenodd\" fill-opacity=\"1\" stroke=\"#000000\" stroke-opacity=\"1\" stroke-width=\"3.2\"/>\n",
       "<circle clip-path=\"url(#clip7102)\" cx=\"1455.07\" cy=\"645.849\" r=\"14\" fill=\"#009af9\" fill-rule=\"evenodd\" fill-opacity=\"1\" stroke=\"#000000\" stroke-opacity=\"1\" stroke-width=\"3.2\"/>\n",
       "<circle clip-path=\"url(#clip7102)\" cx=\"1455.07\" cy=\"645.849\" r=\"14\" fill=\"#009af9\" fill-rule=\"evenodd\" fill-opacity=\"1\" stroke=\"#000000\" stroke-opacity=\"1\" stroke-width=\"3.2\"/>\n",
       "<circle clip-path=\"url(#clip7102)\" cx=\"1455.07\" cy=\"645.849\" r=\"14\" fill=\"#009af9\" fill-rule=\"evenodd\" fill-opacity=\"1\" stroke=\"#000000\" stroke-opacity=\"1\" stroke-width=\"3.2\"/>\n",
       "<circle clip-path=\"url(#clip7102)\" cx=\"1455.07\" cy=\"645.849\" r=\"14\" fill=\"#009af9\" fill-rule=\"evenodd\" fill-opacity=\"1\" stroke=\"#000000\" stroke-opacity=\"1\" stroke-width=\"3.2\"/>\n",
       "<circle clip-path=\"url(#clip7102)\" cx=\"1455.05\" cy=\"645.402\" r=\"14\" fill=\"#009af9\" fill-rule=\"evenodd\" fill-opacity=\"1\" stroke=\"#000000\" stroke-opacity=\"1\" stroke-width=\"3.2\"/>\n",
       "<circle clip-path=\"url(#clip7102)\" cx=\"1455.05\" cy=\"645.402\" r=\"14\" fill=\"#009af9\" fill-rule=\"evenodd\" fill-opacity=\"1\" stroke=\"#000000\" stroke-opacity=\"1\" stroke-width=\"3.2\"/>\n",
       "<circle clip-path=\"url(#clip7102)\" cx=\"1455.05\" cy=\"645.402\" r=\"14\" fill=\"#009af9\" fill-rule=\"evenodd\" fill-opacity=\"1\" stroke=\"#000000\" stroke-opacity=\"1\" stroke-width=\"3.2\"/>\n",
       "<circle clip-path=\"url(#clip7102)\" cx=\"1455.07\" cy=\"645.849\" r=\"14\" fill=\"#009af9\" fill-rule=\"evenodd\" fill-opacity=\"1\" stroke=\"#000000\" stroke-opacity=\"1\" stroke-width=\"3.2\"/>\n",
       "<circle clip-path=\"url(#clip7102)\" cx=\"1455.05\" cy=\"645.402\" r=\"14\" fill=\"#009af9\" fill-rule=\"evenodd\" fill-opacity=\"1\" stroke=\"#000000\" stroke-opacity=\"1\" stroke-width=\"3.2\"/>\n",
       "<circle clip-path=\"url(#clip7102)\" cx=\"1455.05\" cy=\"645.402\" r=\"14\" fill=\"#009af9\" fill-rule=\"evenodd\" fill-opacity=\"1\" stroke=\"#000000\" stroke-opacity=\"1\" stroke-width=\"3.2\"/>\n",
       "<circle clip-path=\"url(#clip7102)\" cx=\"1455.05\" cy=\"645.402\" r=\"14\" fill=\"#009af9\" fill-rule=\"evenodd\" fill-opacity=\"1\" stroke=\"#000000\" stroke-opacity=\"1\" stroke-width=\"3.2\"/>\n",
       "<circle clip-path=\"url(#clip7102)\" cx=\"1455.05\" cy=\"645.402\" r=\"14\" fill=\"#009af9\" fill-rule=\"evenodd\" fill-opacity=\"1\" stroke=\"#000000\" stroke-opacity=\"1\" stroke-width=\"3.2\"/>\n",
       "<circle clip-path=\"url(#clip7102)\" cx=\"1455.05\" cy=\"645.402\" r=\"14\" fill=\"#009af9\" fill-rule=\"evenodd\" fill-opacity=\"1\" stroke=\"#000000\" stroke-opacity=\"1\" stroke-width=\"3.2\"/>\n",
       "<circle clip-path=\"url(#clip7102)\" cx=\"1454.02\" cy=\"644.842\" r=\"14\" fill=\"#009af9\" fill-rule=\"evenodd\" fill-opacity=\"1\" stroke=\"#000000\" stroke-opacity=\"1\" stroke-width=\"3.2\"/>\n",
       "<circle clip-path=\"url(#clip7102)\" cx=\"1454.02\" cy=\"644.842\" r=\"14\" fill=\"#009af9\" fill-rule=\"evenodd\" fill-opacity=\"1\" stroke=\"#000000\" stroke-opacity=\"1\" stroke-width=\"3.2\"/>\n",
       "<circle clip-path=\"url(#clip7102)\" cx=\"1454.02\" cy=\"644.842\" r=\"14\" fill=\"#009af9\" fill-rule=\"evenodd\" fill-opacity=\"1\" stroke=\"#000000\" stroke-opacity=\"1\" stroke-width=\"3.2\"/>\n",
       "<circle clip-path=\"url(#clip7102)\" cx=\"1454.02\" cy=\"644.842\" r=\"14\" fill=\"#009af9\" fill-rule=\"evenodd\" fill-opacity=\"1\" stroke=\"#000000\" stroke-opacity=\"1\" stroke-width=\"3.2\"/>\n",
       "<circle clip-path=\"url(#clip7102)\" cx=\"1451.87\" cy=\"642.269\" r=\"14\" fill=\"#009af9\" fill-rule=\"evenodd\" fill-opacity=\"1\" stroke=\"#000000\" stroke-opacity=\"1\" stroke-width=\"3.2\"/>\n",
       "<circle clip-path=\"url(#clip7102)\" cx=\"1451.87\" cy=\"642.269\" r=\"14\" fill=\"#009af9\" fill-rule=\"evenodd\" fill-opacity=\"1\" stroke=\"#000000\" stroke-opacity=\"1\" stroke-width=\"3.2\"/>\n",
       "<circle clip-path=\"url(#clip7102)\" cx=\"1445.43\" cy=\"641.332\" r=\"14\" fill=\"#009af9\" fill-rule=\"evenodd\" fill-opacity=\"1\" stroke=\"#000000\" stroke-opacity=\"1\" stroke-width=\"3.2\"/>\n",
       "<circle clip-path=\"url(#clip7102)\" cx=\"1443.81\" cy=\"640.697\" r=\"14\" fill=\"#009af9\" fill-rule=\"evenodd\" fill-opacity=\"1\" stroke=\"#000000\" stroke-opacity=\"1\" stroke-width=\"3.2\"/>\n",
       "<circle clip-path=\"url(#clip7102)\" cx=\"1443.81\" cy=\"640.697\" r=\"14\" fill=\"#009af9\" fill-rule=\"evenodd\" fill-opacity=\"1\" stroke=\"#000000\" stroke-opacity=\"1\" stroke-width=\"3.2\"/>\n",
       "<circle clip-path=\"url(#clip7102)\" cx=\"1433.75\" cy=\"637.818\" r=\"14\" fill=\"#009af9\" fill-rule=\"evenodd\" fill-opacity=\"1\" stroke=\"#000000\" stroke-opacity=\"1\" stroke-width=\"3.2\"/>\n",
       "<circle clip-path=\"url(#clip7102)\" cx=\"1433.75\" cy=\"637.818\" r=\"14\" fill=\"#009af9\" fill-rule=\"evenodd\" fill-opacity=\"1\" stroke=\"#000000\" stroke-opacity=\"1\" stroke-width=\"3.2\"/>\n",
       "<circle clip-path=\"url(#clip7102)\" cx=\"1433.75\" cy=\"637.818\" r=\"14\" fill=\"#009af9\" fill-rule=\"evenodd\" fill-opacity=\"1\" stroke=\"#000000\" stroke-opacity=\"1\" stroke-width=\"3.2\"/>\n",
       "<circle clip-path=\"url(#clip7102)\" cx=\"1455.07\" cy=\"645.849\" r=\"14\" fill=\"#009af9\" fill-rule=\"evenodd\" fill-opacity=\"1\" stroke=\"#000000\" stroke-opacity=\"1\" stroke-width=\"3.2\"/>\n",
       "<circle clip-path=\"url(#clip7102)\" cx=\"1455.07\" cy=\"645.849\" r=\"14\" fill=\"#009af9\" fill-rule=\"evenodd\" fill-opacity=\"1\" stroke=\"#000000\" stroke-opacity=\"1\" stroke-width=\"3.2\"/>\n",
       "<circle clip-path=\"url(#clip7102)\" cx=\"1455.07\" cy=\"645.849\" r=\"14\" fill=\"#009af9\" fill-rule=\"evenodd\" fill-opacity=\"1\" stroke=\"#000000\" stroke-opacity=\"1\" stroke-width=\"3.2\"/>\n",
       "<circle clip-path=\"url(#clip7102)\" cx=\"1455.07\" cy=\"645.849\" r=\"14\" fill=\"#009af9\" fill-rule=\"evenodd\" fill-opacity=\"1\" stroke=\"#000000\" stroke-opacity=\"1\" stroke-width=\"3.2\"/>\n",
       "<circle clip-path=\"url(#clip7102)\" cx=\"1455.07\" cy=\"645.849\" r=\"14\" fill=\"#009af9\" fill-rule=\"evenodd\" fill-opacity=\"1\" stroke=\"#000000\" stroke-opacity=\"1\" stroke-width=\"3.2\"/>\n",
       "<circle clip-path=\"url(#clip7102)\" cx=\"1455.07\" cy=\"645.849\" r=\"14\" fill=\"#009af9\" fill-rule=\"evenodd\" fill-opacity=\"1\" stroke=\"#000000\" stroke-opacity=\"1\" stroke-width=\"3.2\"/>\n",
       "<circle clip-path=\"url(#clip7102)\" cx=\"1455.07\" cy=\"645.849\" r=\"14\" fill=\"#009af9\" fill-rule=\"evenodd\" fill-opacity=\"1\" stroke=\"#000000\" stroke-opacity=\"1\" stroke-width=\"3.2\"/>\n",
       "<circle clip-path=\"url(#clip7102)\" cx=\"1455.07\" cy=\"645.849\" r=\"14\" fill=\"#009af9\" fill-rule=\"evenodd\" fill-opacity=\"1\" stroke=\"#000000\" stroke-opacity=\"1\" stroke-width=\"3.2\"/>\n",
       "<circle clip-path=\"url(#clip7102)\" cx=\"1455.07\" cy=\"645.849\" r=\"14\" fill=\"#009af9\" fill-rule=\"evenodd\" fill-opacity=\"1\" stroke=\"#000000\" stroke-opacity=\"1\" stroke-width=\"3.2\"/>\n",
       "<circle clip-path=\"url(#clip7102)\" cx=\"1455.07\" cy=\"645.849\" r=\"14\" fill=\"#009af9\" fill-rule=\"evenodd\" fill-opacity=\"1\" stroke=\"#000000\" stroke-opacity=\"1\" stroke-width=\"3.2\"/>\n",
       "<circle clip-path=\"url(#clip7102)\" cx=\"1455.07\" cy=\"645.849\" r=\"14\" fill=\"#009af9\" fill-rule=\"evenodd\" fill-opacity=\"1\" stroke=\"#000000\" stroke-opacity=\"1\" stroke-width=\"3.2\"/>\n",
       "<circle clip-path=\"url(#clip7102)\" cx=\"1455.07\" cy=\"645.849\" r=\"14\" fill=\"#009af9\" fill-rule=\"evenodd\" fill-opacity=\"1\" stroke=\"#000000\" stroke-opacity=\"1\" stroke-width=\"3.2\"/>\n",
       "<circle clip-path=\"url(#clip7102)\" cx=\"1455.07\" cy=\"645.849\" r=\"14\" fill=\"#009af9\" fill-rule=\"evenodd\" fill-opacity=\"1\" stroke=\"#000000\" stroke-opacity=\"1\" stroke-width=\"3.2\"/>\n",
       "<circle clip-path=\"url(#clip7102)\" cx=\"1455.07\" cy=\"645.849\" r=\"14\" fill=\"#009af9\" fill-rule=\"evenodd\" fill-opacity=\"1\" stroke=\"#000000\" stroke-opacity=\"1\" stroke-width=\"3.2\"/>\n",
       "<circle clip-path=\"url(#clip7102)\" cx=\"1455.07\" cy=\"645.849\" r=\"14\" fill=\"#009af9\" fill-rule=\"evenodd\" fill-opacity=\"1\" stroke=\"#000000\" stroke-opacity=\"1\" stroke-width=\"3.2\"/>\n",
       "<circle clip-path=\"url(#clip7102)\" cx=\"1455.07\" cy=\"645.849\" r=\"14\" fill=\"#009af9\" fill-rule=\"evenodd\" fill-opacity=\"1\" stroke=\"#000000\" stroke-opacity=\"1\" stroke-width=\"3.2\"/>\n",
       "<circle clip-path=\"url(#clip7102)\" cx=\"1455.07\" cy=\"645.849\" r=\"14\" fill=\"#009af9\" fill-rule=\"evenodd\" fill-opacity=\"1\" stroke=\"#000000\" stroke-opacity=\"1\" stroke-width=\"3.2\"/>\n",
       "<circle clip-path=\"url(#clip7102)\" cx=\"1455.07\" cy=\"645.849\" r=\"14\" fill=\"#009af9\" fill-rule=\"evenodd\" fill-opacity=\"1\" stroke=\"#000000\" stroke-opacity=\"1\" stroke-width=\"3.2\"/>\n",
       "<circle clip-path=\"url(#clip7102)\" cx=\"1455.07\" cy=\"645.849\" r=\"14\" fill=\"#009af9\" fill-rule=\"evenodd\" fill-opacity=\"1\" stroke=\"#000000\" stroke-opacity=\"1\" stroke-width=\"3.2\"/>\n",
       "<circle clip-path=\"url(#clip7102)\" cx=\"1455.07\" cy=\"645.849\" r=\"14\" fill=\"#009af9\" fill-rule=\"evenodd\" fill-opacity=\"1\" stroke=\"#000000\" stroke-opacity=\"1\" stroke-width=\"3.2\"/>\n",
       "<circle clip-path=\"url(#clip7102)\" cx=\"1455.07\" cy=\"645.849\" r=\"14\" fill=\"#009af9\" fill-rule=\"evenodd\" fill-opacity=\"1\" stroke=\"#000000\" stroke-opacity=\"1\" stroke-width=\"3.2\"/>\n",
       "<circle clip-path=\"url(#clip7102)\" cx=\"1455.07\" cy=\"645.849\" r=\"14\" fill=\"#009af9\" fill-rule=\"evenodd\" fill-opacity=\"1\" stroke=\"#000000\" stroke-opacity=\"1\" stroke-width=\"3.2\"/>\n",
       "<circle clip-path=\"url(#clip7102)\" cx=\"1455.07\" cy=\"645.849\" r=\"14\" fill=\"#009af9\" fill-rule=\"evenodd\" fill-opacity=\"1\" stroke=\"#000000\" stroke-opacity=\"1\" stroke-width=\"3.2\"/>\n",
       "<circle clip-path=\"url(#clip7102)\" cx=\"1455.07\" cy=\"645.849\" r=\"14\" fill=\"#009af9\" fill-rule=\"evenodd\" fill-opacity=\"1\" stroke=\"#000000\" stroke-opacity=\"1\" stroke-width=\"3.2\"/>\n",
       "<circle clip-path=\"url(#clip7102)\" cx=\"1455.07\" cy=\"645.849\" r=\"14\" fill=\"#009af9\" fill-rule=\"evenodd\" fill-opacity=\"1\" stroke=\"#000000\" stroke-opacity=\"1\" stroke-width=\"3.2\"/>\n",
       "<circle clip-path=\"url(#clip7102)\" cx=\"1455.07\" cy=\"645.849\" r=\"14\" fill=\"#009af9\" fill-rule=\"evenodd\" fill-opacity=\"1\" stroke=\"#000000\" stroke-opacity=\"1\" stroke-width=\"3.2\"/>\n",
       "<circle clip-path=\"url(#clip7102)\" cx=\"1455.07\" cy=\"645.849\" r=\"14\" fill=\"#009af9\" fill-rule=\"evenodd\" fill-opacity=\"1\" stroke=\"#000000\" stroke-opacity=\"1\" stroke-width=\"3.2\"/>\n",
       "<circle clip-path=\"url(#clip7102)\" cx=\"1433.75\" cy=\"637.818\" r=\"14\" fill=\"#009af9\" fill-rule=\"evenodd\" fill-opacity=\"1\" stroke=\"#000000\" stroke-opacity=\"1\" stroke-width=\"3.2\"/>\n",
       "<circle clip-path=\"url(#clip7102)\" cx=\"1455.07\" cy=\"645.849\" r=\"14\" fill=\"#009af9\" fill-rule=\"evenodd\" fill-opacity=\"1\" stroke=\"#000000\" stroke-opacity=\"1\" stroke-width=\"3.2\"/>\n",
       "<circle clip-path=\"url(#clip7102)\" cx=\"1455.07\" cy=\"645.849\" r=\"14\" fill=\"#009af9\" fill-rule=\"evenodd\" fill-opacity=\"1\" stroke=\"#000000\" stroke-opacity=\"1\" stroke-width=\"3.2\"/>\n",
       "<circle clip-path=\"url(#clip7102)\" cx=\"1455.07\" cy=\"645.849\" r=\"14\" fill=\"#009af9\" fill-rule=\"evenodd\" fill-opacity=\"1\" stroke=\"#000000\" stroke-opacity=\"1\" stroke-width=\"3.2\"/>\n",
       "<circle clip-path=\"url(#clip7102)\" cx=\"1455.07\" cy=\"645.849\" r=\"14\" fill=\"#009af9\" fill-rule=\"evenodd\" fill-opacity=\"1\" stroke=\"#000000\" stroke-opacity=\"1\" stroke-width=\"3.2\"/>\n",
       "<circle clip-path=\"url(#clip7102)\" cx=\"1455.07\" cy=\"645.849\" r=\"14\" fill=\"#009af9\" fill-rule=\"evenodd\" fill-opacity=\"1\" stroke=\"#000000\" stroke-opacity=\"1\" stroke-width=\"3.2\"/>\n",
       "<circle clip-path=\"url(#clip7102)\" cx=\"1455.07\" cy=\"645.849\" r=\"14\" fill=\"#009af9\" fill-rule=\"evenodd\" fill-opacity=\"1\" stroke=\"#000000\" stroke-opacity=\"1\" stroke-width=\"3.2\"/>\n",
       "<circle clip-path=\"url(#clip7102)\" cx=\"1455.07\" cy=\"645.849\" r=\"14\" fill=\"#009af9\" fill-rule=\"evenodd\" fill-opacity=\"1\" stroke=\"#000000\" stroke-opacity=\"1\" stroke-width=\"3.2\"/>\n",
       "<circle clip-path=\"url(#clip7102)\" cx=\"1455.07\" cy=\"645.849\" r=\"14\" fill=\"#009af9\" fill-rule=\"evenodd\" fill-opacity=\"1\" stroke=\"#000000\" stroke-opacity=\"1\" stroke-width=\"3.2\"/>\n",
       "<circle clip-path=\"url(#clip7102)\" cx=\"1455.07\" cy=\"645.849\" r=\"14\" fill=\"#009af9\" fill-rule=\"evenodd\" fill-opacity=\"1\" stroke=\"#000000\" stroke-opacity=\"1\" stroke-width=\"3.2\"/>\n",
       "<circle clip-path=\"url(#clip7102)\" cx=\"1455.07\" cy=\"645.849\" r=\"14\" fill=\"#009af9\" fill-rule=\"evenodd\" fill-opacity=\"1\" stroke=\"#000000\" stroke-opacity=\"1\" stroke-width=\"3.2\"/>\n",
       "<circle clip-path=\"url(#clip7102)\" cx=\"1439.32\" cy=\"639.643\" r=\"14\" fill=\"#009af9\" fill-rule=\"evenodd\" fill-opacity=\"1\" stroke=\"#000000\" stroke-opacity=\"1\" stroke-width=\"3.2\"/>\n",
       "<circle clip-path=\"url(#clip7102)\" cx=\"1439.32\" cy=\"639.643\" r=\"14\" fill=\"#009af9\" fill-rule=\"evenodd\" fill-opacity=\"1\" stroke=\"#000000\" stroke-opacity=\"1\" stroke-width=\"3.2\"/>\n",
       "<circle clip-path=\"url(#clip7102)\" cx=\"1439.44\" cy=\"639.726\" r=\"14\" fill=\"#009af9\" fill-rule=\"evenodd\" fill-opacity=\"1\" stroke=\"#000000\" stroke-opacity=\"1\" stroke-width=\"3.2\"/>\n",
       "<circle clip-path=\"url(#clip7102)\" cx=\"1439.32\" cy=\"639.643\" r=\"14\" fill=\"#009af9\" fill-rule=\"evenodd\" fill-opacity=\"1\" stroke=\"#000000\" stroke-opacity=\"1\" stroke-width=\"3.2\"/>\n",
       "<circle clip-path=\"url(#clip7102)\" cx=\"1439.44\" cy=\"639.726\" r=\"14\" fill=\"#009af9\" fill-rule=\"evenodd\" fill-opacity=\"1\" stroke=\"#000000\" stroke-opacity=\"1\" stroke-width=\"3.2\"/>\n",
       "<circle clip-path=\"url(#clip7102)\" cx=\"1439.32\" cy=\"639.643\" r=\"14\" fill=\"#009af9\" fill-rule=\"evenodd\" fill-opacity=\"1\" stroke=\"#000000\" stroke-opacity=\"1\" stroke-width=\"3.2\"/>\n",
       "<circle clip-path=\"url(#clip7102)\" cx=\"1439.44\" cy=\"639.726\" r=\"14\" fill=\"#009af9\" fill-rule=\"evenodd\" fill-opacity=\"1\" stroke=\"#000000\" stroke-opacity=\"1\" stroke-width=\"3.2\"/>\n",
       "<circle clip-path=\"url(#clip7102)\" cx=\"1452.13\" cy=\"648.392\" r=\"14\" fill=\"#009af9\" fill-rule=\"evenodd\" fill-opacity=\"1\" stroke=\"#000000\" stroke-opacity=\"1\" stroke-width=\"3.2\"/>\n",
       "<circle clip-path=\"url(#clip7102)\" cx=\"1440.49\" cy=\"640.734\" r=\"14\" fill=\"#009af9\" fill-rule=\"evenodd\" fill-opacity=\"1\" stroke=\"#000000\" stroke-opacity=\"1\" stroke-width=\"3.2\"/>\n",
       "<circle clip-path=\"url(#clip7102)\" cx=\"1440.5\" cy=\"641.504\" r=\"14\" fill=\"#009af9\" fill-rule=\"evenodd\" fill-opacity=\"1\" stroke=\"#000000\" stroke-opacity=\"1\" stroke-width=\"3.2\"/>\n",
       "<circle clip-path=\"url(#clip7102)\" cx=\"1443.99\" cy=\"642.524\" r=\"14\" fill=\"#009af9\" fill-rule=\"evenodd\" fill-opacity=\"1\" stroke=\"#000000\" stroke-opacity=\"1\" stroke-width=\"3.2\"/>\n",
       "<circle clip-path=\"url(#clip7102)\" cx=\"1452.08\" cy=\"644.866\" r=\"14\" fill=\"#009af9\" fill-rule=\"evenodd\" fill-opacity=\"1\" stroke=\"#000000\" stroke-opacity=\"1\" stroke-width=\"3.2\"/>\n",
       "<circle clip-path=\"url(#clip7102)\" cx=\"1444.86\" cy=\"645.481\" r=\"14\" fill=\"#009af9\" fill-rule=\"evenodd\" fill-opacity=\"1\" stroke=\"#000000\" stroke-opacity=\"1\" stroke-width=\"3.2\"/>\n",
       "<circle clip-path=\"url(#clip7102)\" cx=\"1451.3\" cy=\"647.454\" r=\"14\" fill=\"#009af9\" fill-rule=\"evenodd\" fill-opacity=\"1\" stroke=\"#000000\" stroke-opacity=\"1\" stroke-width=\"3.2\"/>\n",
       "<circle clip-path=\"url(#clip7102)\" cx=\"1449.9\" cy=\"646.485\" r=\"14\" fill=\"#009af9\" fill-rule=\"evenodd\" fill-opacity=\"1\" stroke=\"#000000\" stroke-opacity=\"1\" stroke-width=\"3.2\"/>\n",
       "<circle clip-path=\"url(#clip7102)\" cx=\"1444.86\" cy=\"645.481\" r=\"14\" fill=\"#009af9\" fill-rule=\"evenodd\" fill-opacity=\"1\" stroke=\"#000000\" stroke-opacity=\"1\" stroke-width=\"3.2\"/>\n",
       "<circle clip-path=\"url(#clip7102)\" cx=\"1439.7\" cy=\"642.81\" r=\"14\" fill=\"#009af9\" fill-rule=\"evenodd\" fill-opacity=\"1\" stroke=\"#000000\" stroke-opacity=\"1\" stroke-width=\"3.2\"/>\n",
       "<circle clip-path=\"url(#clip7102)\" cx=\"1438.41\" cy=\"644.545\" r=\"14\" fill=\"#009af9\" fill-rule=\"evenodd\" fill-opacity=\"1\" stroke=\"#000000\" stroke-opacity=\"1\" stroke-width=\"3.2\"/>\n",
       "<circle clip-path=\"url(#clip7102)\" cx=\"1450.95\" cy=\"647.962\" r=\"14\" fill=\"#009af9\" fill-rule=\"evenodd\" fill-opacity=\"1\" stroke=\"#000000\" stroke-opacity=\"1\" stroke-width=\"3.2\"/>\n",
       "<circle clip-path=\"url(#clip7102)\" cx=\"1442.31\" cy=\"646.249\" r=\"14\" fill=\"#009af9\" fill-rule=\"evenodd\" fill-opacity=\"1\" stroke=\"#000000\" stroke-opacity=\"1\" stroke-width=\"3.2\"/>\n",
       "<circle clip-path=\"url(#clip7102)\" cx=\"1436.8\" cy=\"643.91\" r=\"14\" fill=\"#009af9\" fill-rule=\"evenodd\" fill-opacity=\"1\" stroke=\"#000000\" stroke-opacity=\"1\" stroke-width=\"3.2\"/>\n",
       "<circle clip-path=\"url(#clip7102)\" cx=\"1432.29\" cy=\"646.437\" r=\"14\" fill=\"#009af9\" fill-rule=\"evenodd\" fill-opacity=\"1\" stroke=\"#000000\" stroke-opacity=\"1\" stroke-width=\"3.2\"/>\n",
       "<circle clip-path=\"url(#clip7102)\" cx=\"1455.07\" cy=\"645.849\" r=\"14\" fill=\"#009af9\" fill-rule=\"evenodd\" fill-opacity=\"1\" stroke=\"#000000\" stroke-opacity=\"1\" stroke-width=\"3.2\"/>\n",
       "<circle clip-path=\"url(#clip7102)\" cx=\"1455.07\" cy=\"645.849\" r=\"14\" fill=\"#009af9\" fill-rule=\"evenodd\" fill-opacity=\"1\" stroke=\"#000000\" stroke-opacity=\"1\" stroke-width=\"3.2\"/>\n",
       "<circle clip-path=\"url(#clip7102)\" cx=\"1454.02\" cy=\"644.842\" r=\"14\" fill=\"#009af9\" fill-rule=\"evenodd\" fill-opacity=\"1\" stroke=\"#000000\" stroke-opacity=\"1\" stroke-width=\"3.2\"/>\n",
       "<circle clip-path=\"url(#clip7102)\" cx=\"1455.05\" cy=\"645.402\" r=\"14\" fill=\"#009af9\" fill-rule=\"evenodd\" fill-opacity=\"1\" stroke=\"#000000\" stroke-opacity=\"1\" stroke-width=\"3.2\"/>\n",
       "<circle clip-path=\"url(#clip7102)\" cx=\"1455.07\" cy=\"645.849\" r=\"14\" fill=\"#009af9\" fill-rule=\"evenodd\" fill-opacity=\"1\" stroke=\"#000000\" stroke-opacity=\"1\" stroke-width=\"3.2\"/>\n",
       "<circle clip-path=\"url(#clip7102)\" cx=\"1446.85\" cy=\"648.878\" r=\"14\" fill=\"#009af9\" fill-rule=\"evenodd\" fill-opacity=\"1\" stroke=\"#000000\" stroke-opacity=\"1\" stroke-width=\"3.2\"/>\n",
       "<circle clip-path=\"url(#clip7102)\" cx=\"1439.32\" cy=\"639.643\" r=\"14\" fill=\"#009af9\" fill-rule=\"evenodd\" fill-opacity=\"1\" stroke=\"#000000\" stroke-opacity=\"1\" stroke-width=\"3.2\"/>\n",
       "<circle clip-path=\"url(#clip7102)\" cx=\"1455.07\" cy=\"645.849\" r=\"14\" fill=\"#009af9\" fill-rule=\"evenodd\" fill-opacity=\"1\" stroke=\"#000000\" stroke-opacity=\"1\" stroke-width=\"3.2\"/>\n",
       "<circle clip-path=\"url(#clip7102)\" cx=\"1455.07\" cy=\"645.849\" r=\"14\" fill=\"#009af9\" fill-rule=\"evenodd\" fill-opacity=\"1\" stroke=\"#000000\" stroke-opacity=\"1\" stroke-width=\"3.2\"/>\n",
       "<circle clip-path=\"url(#clip7102)\" cx=\"1455.07\" cy=\"645.849\" r=\"14\" fill=\"#009af9\" fill-rule=\"evenodd\" fill-opacity=\"1\" stroke=\"#000000\" stroke-opacity=\"1\" stroke-width=\"3.2\"/>\n",
       "<circle clip-path=\"url(#clip7102)\" cx=\"1455.07\" cy=\"645.849\" r=\"14\" fill=\"#009af9\" fill-rule=\"evenodd\" fill-opacity=\"1\" stroke=\"#000000\" stroke-opacity=\"1\" stroke-width=\"3.2\"/>\n",
       "<circle clip-path=\"url(#clip7102)\" cx=\"1455.07\" cy=\"645.849\" r=\"14\" fill=\"#009af9\" fill-rule=\"evenodd\" fill-opacity=\"1\" stroke=\"#000000\" stroke-opacity=\"1\" stroke-width=\"3.2\"/>\n",
       "<circle clip-path=\"url(#clip7102)\" cx=\"1433.75\" cy=\"637.818\" r=\"14\" fill=\"#e26f46\" fill-rule=\"evenodd\" fill-opacity=\"1\" stroke=\"#000000\" stroke-opacity=\"1\" stroke-width=\"3.2\"/>\n",
       "<circle clip-path=\"url(#clip7102)\" cx=\"1455.07\" cy=\"645.849\" r=\"14\" fill=\"#e26f46\" fill-rule=\"evenodd\" fill-opacity=\"1\" stroke=\"#000000\" stroke-opacity=\"1\" stroke-width=\"3.2\"/>\n",
       "<circle clip-path=\"url(#clip7102)\" cx=\"1441.23\" cy=\"639.173\" r=\"14\" fill=\"#e26f46\" fill-rule=\"evenodd\" fill-opacity=\"1\" stroke=\"#000000\" stroke-opacity=\"1\" stroke-width=\"3.2\"/>\n",
       "<circle clip-path=\"url(#clip7102)\" cx=\"1433.75\" cy=\"637.818\" r=\"14\" fill=\"#e26f46\" fill-rule=\"evenodd\" fill-opacity=\"1\" stroke=\"#000000\" stroke-opacity=\"1\" stroke-width=\"3.2\"/>\n",
       "<circle clip-path=\"url(#clip7102)\" cx=\"1454\" cy=\"644.395\" r=\"14\" fill=\"#e26f46\" fill-rule=\"evenodd\" fill-opacity=\"1\" stroke=\"#000000\" stroke-opacity=\"1\" stroke-width=\"3.2\"/>\n",
       "<circle clip-path=\"url(#clip7102)\" cx=\"1445.43\" cy=\"641.332\" r=\"14\" fill=\"#e26f46\" fill-rule=\"evenodd\" fill-opacity=\"1\" stroke=\"#000000\" stroke-opacity=\"1\" stroke-width=\"3.2\"/>\n",
       "<circle clip-path=\"url(#clip7102)\" cx=\"1451.87\" cy=\"642.269\" r=\"14\" fill=\"#e26f46\" fill-rule=\"evenodd\" fill-opacity=\"1\" stroke=\"#000000\" stroke-opacity=\"1\" stroke-width=\"3.2\"/>\n",
       "<circle clip-path=\"url(#clip7102)\" cx=\"1451.87\" cy=\"642.269\" r=\"14\" fill=\"#e26f46\" fill-rule=\"evenodd\" fill-opacity=\"1\" stroke=\"#000000\" stroke-opacity=\"1\" stroke-width=\"3.2\"/>\n",
       "<circle clip-path=\"url(#clip7102)\" cx=\"1443.79\" cy=\"640.251\" r=\"14\" fill=\"#e26f46\" fill-rule=\"evenodd\" fill-opacity=\"1\" stroke=\"#000000\" stroke-opacity=\"1\" stroke-width=\"3.2\"/>\n",
       "<circle clip-path=\"url(#clip7102)\" cx=\"1455.05\" cy=\"645.402\" r=\"14\" fill=\"#e26f46\" fill-rule=\"evenodd\" fill-opacity=\"1\" stroke=\"#000000\" stroke-opacity=\"1\" stroke-width=\"3.2\"/>\n",
       "<circle clip-path=\"url(#clip7102)\" cx=\"1454.02\" cy=\"644.842\" r=\"14\" fill=\"#e26f46\" fill-rule=\"evenodd\" fill-opacity=\"1\" stroke=\"#000000\" stroke-opacity=\"1\" stroke-width=\"3.2\"/>\n",
       "<circle clip-path=\"url(#clip7102)\" cx=\"1443.95\" cy=\"640.992\" r=\"14\" fill=\"#e26f46\" fill-rule=\"evenodd\" fill-opacity=\"1\" stroke=\"#000000\" stroke-opacity=\"1\" stroke-width=\"3.2\"/>\n",
       "<circle clip-path=\"url(#clip7102)\" cx=\"1445.43\" cy=\"641.332\" r=\"14\" fill=\"#e26f46\" fill-rule=\"evenodd\" fill-opacity=\"1\" stroke=\"#000000\" stroke-opacity=\"1\" stroke-width=\"3.2\"/>\n",
       "<circle clip-path=\"url(#clip7102)\" cx=\"1455.05\" cy=\"645.402\" r=\"14\" fill=\"#e26f46\" fill-rule=\"evenodd\" fill-opacity=\"1\" stroke=\"#000000\" stroke-opacity=\"1\" stroke-width=\"3.2\"/>\n",
       "<circle clip-path=\"url(#clip7102)\" cx=\"1443.79\" cy=\"640.251\" r=\"14\" fill=\"#e26f46\" fill-rule=\"evenodd\" fill-opacity=\"1\" stroke=\"#000000\" stroke-opacity=\"1\" stroke-width=\"3.2\"/>\n",
       "<circle clip-path=\"url(#clip7102)\" cx=\"1443.81\" cy=\"640.697\" r=\"14\" fill=\"#e26f46\" fill-rule=\"evenodd\" fill-opacity=\"1\" stroke=\"#000000\" stroke-opacity=\"1\" stroke-width=\"3.2\"/>\n",
       "<circle clip-path=\"url(#clip7102)\" cx=\"1455.07\" cy=\"645.849\" r=\"14\" fill=\"#e26f46\" fill-rule=\"evenodd\" fill-opacity=\"1\" stroke=\"#000000\" stroke-opacity=\"1\" stroke-width=\"3.2\"/>\n",
       "<circle clip-path=\"url(#clip7102)\" cx=\"1454.02\" cy=\"644.842\" r=\"14\" fill=\"#e26f46\" fill-rule=\"evenodd\" fill-opacity=\"1\" stroke=\"#000000\" stroke-opacity=\"1\" stroke-width=\"3.2\"/>\n",
       "<circle clip-path=\"url(#clip7102)\" cx=\"1443.81\" cy=\"640.697\" r=\"14\" fill=\"#e26f46\" fill-rule=\"evenodd\" fill-opacity=\"1\" stroke=\"#000000\" stroke-opacity=\"1\" stroke-width=\"3.2\"/>\n",
       "<circle clip-path=\"url(#clip7102)\" cx=\"1443.95\" cy=\"640.992\" r=\"14\" fill=\"#e26f46\" fill-rule=\"evenodd\" fill-opacity=\"1\" stroke=\"#000000\" stroke-opacity=\"1\" stroke-width=\"3.2\"/>\n",
       "<circle clip-path=\"url(#clip7102)\" cx=\"1455.07\" cy=\"645.849\" r=\"14\" fill=\"#e26f46\" fill-rule=\"evenodd\" fill-opacity=\"1\" stroke=\"#000000\" stroke-opacity=\"1\" stroke-width=\"3.2\"/>\n",
       "<circle clip-path=\"url(#clip7102)\" cx=\"1455.07\" cy=\"645.849\" r=\"14\" fill=\"#e26f46\" fill-rule=\"evenodd\" fill-opacity=\"1\" stroke=\"#000000\" stroke-opacity=\"1\" stroke-width=\"3.2\"/>\n",
       "<circle clip-path=\"url(#clip7102)\" cx=\"1455.07\" cy=\"645.849\" r=\"14\" fill=\"#e26f46\" fill-rule=\"evenodd\" fill-opacity=\"1\" stroke=\"#000000\" stroke-opacity=\"1\" stroke-width=\"3.2\"/>\n",
       "<circle clip-path=\"url(#clip7102)\" cx=\"1455.07\" cy=\"645.849\" r=\"14\" fill=\"#e26f46\" fill-rule=\"evenodd\" fill-opacity=\"1\" stroke=\"#000000\" stroke-opacity=\"1\" stroke-width=\"3.2\"/>\n",
       "<circle clip-path=\"url(#clip7102)\" cx=\"1455.07\" cy=\"645.849\" r=\"14\" fill=\"#e26f46\" fill-rule=\"evenodd\" fill-opacity=\"1\" stroke=\"#000000\" stroke-opacity=\"1\" stroke-width=\"3.2\"/>\n",
       "<circle clip-path=\"url(#clip7102)\" cx=\"1455.07\" cy=\"645.849\" r=\"14\" fill=\"#e26f46\" fill-rule=\"evenodd\" fill-opacity=\"1\" stroke=\"#000000\" stroke-opacity=\"1\" stroke-width=\"3.2\"/>\n",
       "<circle clip-path=\"url(#clip7102)\" cx=\"1455.07\" cy=\"645.849\" r=\"14\" fill=\"#e26f46\" fill-rule=\"evenodd\" fill-opacity=\"1\" stroke=\"#000000\" stroke-opacity=\"1\" stroke-width=\"3.2\"/>\n",
       "<circle clip-path=\"url(#clip7102)\" cx=\"1455.07\" cy=\"645.849\" r=\"14\" fill=\"#e26f46\" fill-rule=\"evenodd\" fill-opacity=\"1\" stroke=\"#000000\" stroke-opacity=\"1\" stroke-width=\"3.2\"/>\n",
       "<circle clip-path=\"url(#clip7102)\" cx=\"1455.07\" cy=\"645.849\" r=\"14\" fill=\"#e26f46\" fill-rule=\"evenodd\" fill-opacity=\"1\" stroke=\"#000000\" stroke-opacity=\"1\" stroke-width=\"3.2\"/>\n",
       "<circle clip-path=\"url(#clip7102)\" cx=\"1455.07\" cy=\"645.849\" r=\"14\" fill=\"#e26f46\" fill-rule=\"evenodd\" fill-opacity=\"1\" stroke=\"#000000\" stroke-opacity=\"1\" stroke-width=\"3.2\"/>\n",
       "<circle clip-path=\"url(#clip7102)\" cx=\"1455.07\" cy=\"645.849\" r=\"14\" fill=\"#e26f46\" fill-rule=\"evenodd\" fill-opacity=\"1\" stroke=\"#000000\" stroke-opacity=\"1\" stroke-width=\"3.2\"/>\n",
       "<circle clip-path=\"url(#clip7102)\" cx=\"1455.07\" cy=\"645.849\" r=\"14\" fill=\"#e26f46\" fill-rule=\"evenodd\" fill-opacity=\"1\" stroke=\"#000000\" stroke-opacity=\"1\" stroke-width=\"3.2\"/>\n",
       "<circle clip-path=\"url(#clip7102)\" cx=\"1455.07\" cy=\"645.849\" r=\"14\" fill=\"#e26f46\" fill-rule=\"evenodd\" fill-opacity=\"1\" stroke=\"#000000\" stroke-opacity=\"1\" stroke-width=\"3.2\"/>\n",
       "<circle clip-path=\"url(#clip7102)\" cx=\"1455.07\" cy=\"645.849\" r=\"14\" fill=\"#e26f46\" fill-rule=\"evenodd\" fill-opacity=\"1\" stroke=\"#000000\" stroke-opacity=\"1\" stroke-width=\"3.2\"/>\n",
       "<circle clip-path=\"url(#clip7102)\" cx=\"1455.07\" cy=\"645.849\" r=\"14\" fill=\"#e26f46\" fill-rule=\"evenodd\" fill-opacity=\"1\" stroke=\"#000000\" stroke-opacity=\"1\" stroke-width=\"3.2\"/>\n",
       "<circle clip-path=\"url(#clip7102)\" cx=\"1455.07\" cy=\"645.849\" r=\"14\" fill=\"#e26f46\" fill-rule=\"evenodd\" fill-opacity=\"1\" stroke=\"#000000\" stroke-opacity=\"1\" stroke-width=\"3.2\"/>\n",
       "<circle clip-path=\"url(#clip7102)\" cx=\"1455.07\" cy=\"645.849\" r=\"14\" fill=\"#e26f46\" fill-rule=\"evenodd\" fill-opacity=\"1\" stroke=\"#000000\" stroke-opacity=\"1\" stroke-width=\"3.2\"/>\n",
       "<circle clip-path=\"url(#clip7102)\" cx=\"1455.07\" cy=\"645.849\" r=\"14\" fill=\"#e26f46\" fill-rule=\"evenodd\" fill-opacity=\"1\" stroke=\"#000000\" stroke-opacity=\"1\" stroke-width=\"3.2\"/>\n",
       "<circle clip-path=\"url(#clip7102)\" cx=\"1455.07\" cy=\"645.849\" r=\"14\" fill=\"#e26f46\" fill-rule=\"evenodd\" fill-opacity=\"1\" stroke=\"#000000\" stroke-opacity=\"1\" stroke-width=\"3.2\"/>\n",
       "<circle clip-path=\"url(#clip7102)\" cx=\"1455.07\" cy=\"645.849\" r=\"14\" fill=\"#e26f46\" fill-rule=\"evenodd\" fill-opacity=\"1\" stroke=\"#000000\" stroke-opacity=\"1\" stroke-width=\"3.2\"/>\n",
       "<circle clip-path=\"url(#clip7102)\" cx=\"1455.07\" cy=\"645.849\" r=\"14\" fill=\"#e26f46\" fill-rule=\"evenodd\" fill-opacity=\"1\" stroke=\"#000000\" stroke-opacity=\"1\" stroke-width=\"3.2\"/>\n",
       "<circle clip-path=\"url(#clip7102)\" cx=\"1455.07\" cy=\"645.849\" r=\"14\" fill=\"#e26f46\" fill-rule=\"evenodd\" fill-opacity=\"1\" stroke=\"#000000\" stroke-opacity=\"1\" stroke-width=\"3.2\"/>\n",
       "<circle clip-path=\"url(#clip7102)\" cx=\"1455.07\" cy=\"645.849\" r=\"14\" fill=\"#e26f46\" fill-rule=\"evenodd\" fill-opacity=\"1\" stroke=\"#000000\" stroke-opacity=\"1\" stroke-width=\"3.2\"/>\n",
       "<circle clip-path=\"url(#clip7102)\" cx=\"1455.07\" cy=\"645.849\" r=\"14\" fill=\"#e26f46\" fill-rule=\"evenodd\" fill-opacity=\"1\" stroke=\"#000000\" stroke-opacity=\"1\" stroke-width=\"3.2\"/>\n",
       "<circle clip-path=\"url(#clip7102)\" cx=\"1455.07\" cy=\"645.849\" r=\"14\" fill=\"#e26f46\" fill-rule=\"evenodd\" fill-opacity=\"1\" stroke=\"#000000\" stroke-opacity=\"1\" stroke-width=\"3.2\"/>\n",
       "<circle clip-path=\"url(#clip7102)\" cx=\"1455.07\" cy=\"645.849\" r=\"14\" fill=\"#e26f46\" fill-rule=\"evenodd\" fill-opacity=\"1\" stroke=\"#000000\" stroke-opacity=\"1\" stroke-width=\"3.2\"/>\n",
       "<circle clip-path=\"url(#clip7102)\" cx=\"1455.07\" cy=\"645.849\" r=\"14\" fill=\"#e26f46\" fill-rule=\"evenodd\" fill-opacity=\"1\" stroke=\"#000000\" stroke-opacity=\"1\" stroke-width=\"3.2\"/>\n",
       "<circle clip-path=\"url(#clip7102)\" cx=\"1455.07\" cy=\"645.849\" r=\"14\" fill=\"#e26f46\" fill-rule=\"evenodd\" fill-opacity=\"1\" stroke=\"#000000\" stroke-opacity=\"1\" stroke-width=\"3.2\"/>\n",
       "<circle clip-path=\"url(#clip7102)\" cx=\"1455.07\" cy=\"645.849\" r=\"14\" fill=\"#e26f46\" fill-rule=\"evenodd\" fill-opacity=\"1\" stroke=\"#000000\" stroke-opacity=\"1\" stroke-width=\"3.2\"/>\n",
       "<circle clip-path=\"url(#clip7102)\" cx=\"1455.07\" cy=\"645.849\" r=\"14\" fill=\"#e26f46\" fill-rule=\"evenodd\" fill-opacity=\"1\" stroke=\"#000000\" stroke-opacity=\"1\" stroke-width=\"3.2\"/>\n",
       "<circle clip-path=\"url(#clip7102)\" cx=\"1455.07\" cy=\"645.849\" r=\"14\" fill=\"#e26f46\" fill-rule=\"evenodd\" fill-opacity=\"1\" stroke=\"#000000\" stroke-opacity=\"1\" stroke-width=\"3.2\"/>\n",
       "<circle clip-path=\"url(#clip7102)\" cx=\"1455.07\" cy=\"645.849\" r=\"14\" fill=\"#e26f46\" fill-rule=\"evenodd\" fill-opacity=\"1\" stroke=\"#000000\" stroke-opacity=\"1\" stroke-width=\"3.2\"/>\n",
       "<circle clip-path=\"url(#clip7102)\" cx=\"1455.07\" cy=\"645.849\" r=\"14\" fill=\"#e26f46\" fill-rule=\"evenodd\" fill-opacity=\"1\" stroke=\"#000000\" stroke-opacity=\"1\" stroke-width=\"3.2\"/>\n",
       "<circle clip-path=\"url(#clip7102)\" cx=\"1455.07\" cy=\"645.849\" r=\"14\" fill=\"#e26f46\" fill-rule=\"evenodd\" fill-opacity=\"1\" stroke=\"#000000\" stroke-opacity=\"1\" stroke-width=\"3.2\"/>\n",
       "<circle clip-path=\"url(#clip7102)\" cx=\"1455.07\" cy=\"645.849\" r=\"14\" fill=\"#e26f46\" fill-rule=\"evenodd\" fill-opacity=\"1\" stroke=\"#000000\" stroke-opacity=\"1\" stroke-width=\"3.2\"/>\n",
       "<circle clip-path=\"url(#clip7102)\" cx=\"1455.07\" cy=\"645.849\" r=\"14\" fill=\"#e26f46\" fill-rule=\"evenodd\" fill-opacity=\"1\" stroke=\"#000000\" stroke-opacity=\"1\" stroke-width=\"3.2\"/>\n",
       "<circle clip-path=\"url(#clip7102)\" cx=\"1455.07\" cy=\"645.849\" r=\"14\" fill=\"#e26f46\" fill-rule=\"evenodd\" fill-opacity=\"1\" stroke=\"#000000\" stroke-opacity=\"1\" stroke-width=\"3.2\"/>\n",
       "<circle clip-path=\"url(#clip7102)\" cx=\"1455.07\" cy=\"645.849\" r=\"14\" fill=\"#e26f46\" fill-rule=\"evenodd\" fill-opacity=\"1\" stroke=\"#000000\" stroke-opacity=\"1\" stroke-width=\"3.2\"/>\n",
       "<circle clip-path=\"url(#clip7102)\" cx=\"1455.07\" cy=\"645.849\" r=\"14\" fill=\"#e26f46\" fill-rule=\"evenodd\" fill-opacity=\"1\" stroke=\"#000000\" stroke-opacity=\"1\" stroke-width=\"3.2\"/>\n",
       "<circle clip-path=\"url(#clip7102)\" cx=\"1455.07\" cy=\"645.849\" r=\"14\" fill=\"#e26f46\" fill-rule=\"evenodd\" fill-opacity=\"1\" stroke=\"#000000\" stroke-opacity=\"1\" stroke-width=\"3.2\"/>\n",
       "<circle clip-path=\"url(#clip7102)\" cx=\"1455.07\" cy=\"645.849\" r=\"14\" fill=\"#e26f46\" fill-rule=\"evenodd\" fill-opacity=\"1\" stroke=\"#000000\" stroke-opacity=\"1\" stroke-width=\"3.2\"/>\n",
       "<circle clip-path=\"url(#clip7102)\" cx=\"1455.07\" cy=\"645.849\" r=\"14\" fill=\"#e26f46\" fill-rule=\"evenodd\" fill-opacity=\"1\" stroke=\"#000000\" stroke-opacity=\"1\" stroke-width=\"3.2\"/>\n",
       "<circle clip-path=\"url(#clip7102)\" cx=\"1455.07\" cy=\"645.849\" r=\"14\" fill=\"#e26f46\" fill-rule=\"evenodd\" fill-opacity=\"1\" stroke=\"#000000\" stroke-opacity=\"1\" stroke-width=\"3.2\"/>\n",
       "<circle clip-path=\"url(#clip7102)\" cx=\"1455.07\" cy=\"645.849\" r=\"14\" fill=\"#e26f46\" fill-rule=\"evenodd\" fill-opacity=\"1\" stroke=\"#000000\" stroke-opacity=\"1\" stroke-width=\"3.2\"/>\n",
       "<circle clip-path=\"url(#clip7102)\" cx=\"1455.07\" cy=\"645.849\" r=\"14\" fill=\"#e26f46\" fill-rule=\"evenodd\" fill-opacity=\"1\" stroke=\"#000000\" stroke-opacity=\"1\" stroke-width=\"3.2\"/>\n",
       "<circle clip-path=\"url(#clip7102)\" cx=\"1455.07\" cy=\"645.849\" r=\"14\" fill=\"#e26f46\" fill-rule=\"evenodd\" fill-opacity=\"1\" stroke=\"#000000\" stroke-opacity=\"1\" stroke-width=\"3.2\"/>\n",
       "<circle clip-path=\"url(#clip7102)\" cx=\"1455.07\" cy=\"645.849\" r=\"14\" fill=\"#e26f46\" fill-rule=\"evenodd\" fill-opacity=\"1\" stroke=\"#000000\" stroke-opacity=\"1\" stroke-width=\"3.2\"/>\n",
       "<circle clip-path=\"url(#clip7102)\" cx=\"1455.07\" cy=\"645.849\" r=\"14\" fill=\"#e26f46\" fill-rule=\"evenodd\" fill-opacity=\"1\" stroke=\"#000000\" stroke-opacity=\"1\" stroke-width=\"3.2\"/>\n",
       "<circle clip-path=\"url(#clip7102)\" cx=\"1455.07\" cy=\"645.849\" r=\"14\" fill=\"#e26f46\" fill-rule=\"evenodd\" fill-opacity=\"1\" stroke=\"#000000\" stroke-opacity=\"1\" stroke-width=\"3.2\"/>\n",
       "<circle clip-path=\"url(#clip7102)\" cx=\"1455.07\" cy=\"645.849\" r=\"14\" fill=\"#e26f46\" fill-rule=\"evenodd\" fill-opacity=\"1\" stroke=\"#000000\" stroke-opacity=\"1\" stroke-width=\"3.2\"/>\n",
       "<circle clip-path=\"url(#clip7102)\" cx=\"1455.07\" cy=\"645.849\" r=\"14\" fill=\"#e26f46\" fill-rule=\"evenodd\" fill-opacity=\"1\" stroke=\"#000000\" stroke-opacity=\"1\" stroke-width=\"3.2\"/>\n",
       "<circle clip-path=\"url(#clip7102)\" cx=\"1455.07\" cy=\"645.849\" r=\"14\" fill=\"#e26f46\" fill-rule=\"evenodd\" fill-opacity=\"1\" stroke=\"#000000\" stroke-opacity=\"1\" stroke-width=\"3.2\"/>\n",
       "<circle clip-path=\"url(#clip7102)\" cx=\"1455.07\" cy=\"645.849\" r=\"14\" fill=\"#e26f46\" fill-rule=\"evenodd\" fill-opacity=\"1\" stroke=\"#000000\" stroke-opacity=\"1\" stroke-width=\"3.2\"/>\n",
       "<circle clip-path=\"url(#clip7102)\" cx=\"1455.07\" cy=\"645.849\" r=\"14\" fill=\"#e26f46\" fill-rule=\"evenodd\" fill-opacity=\"1\" stroke=\"#000000\" stroke-opacity=\"1\" stroke-width=\"3.2\"/>\n",
       "<circle clip-path=\"url(#clip7102)\" cx=\"1455.07\" cy=\"645.849\" r=\"14\" fill=\"#e26f46\" fill-rule=\"evenodd\" fill-opacity=\"1\" stroke=\"#000000\" stroke-opacity=\"1\" stroke-width=\"3.2\"/>\n",
       "<circle clip-path=\"url(#clip7102)\" cx=\"1455.07\" cy=\"645.849\" r=\"14\" fill=\"#e26f46\" fill-rule=\"evenodd\" fill-opacity=\"1\" stroke=\"#000000\" stroke-opacity=\"1\" stroke-width=\"3.2\"/>\n",
       "<circle clip-path=\"url(#clip7102)\" cx=\"1455.07\" cy=\"645.849\" r=\"14\" fill=\"#e26f46\" fill-rule=\"evenodd\" fill-opacity=\"1\" stroke=\"#000000\" stroke-opacity=\"1\" stroke-width=\"3.2\"/>\n",
       "<circle clip-path=\"url(#clip7102)\" cx=\"1455.07\" cy=\"645.849\" r=\"14\" fill=\"#e26f46\" fill-rule=\"evenodd\" fill-opacity=\"1\" stroke=\"#000000\" stroke-opacity=\"1\" stroke-width=\"3.2\"/>\n",
       "<circle clip-path=\"url(#clip7102)\" cx=\"1455.07\" cy=\"645.849\" r=\"14\" fill=\"#e26f46\" fill-rule=\"evenodd\" fill-opacity=\"1\" stroke=\"#000000\" stroke-opacity=\"1\" stroke-width=\"3.2\"/>\n",
       "<circle clip-path=\"url(#clip7102)\" cx=\"1455.07\" cy=\"645.849\" r=\"14\" fill=\"#e26f46\" fill-rule=\"evenodd\" fill-opacity=\"1\" stroke=\"#000000\" stroke-opacity=\"1\" stroke-width=\"3.2\"/>\n",
       "<circle clip-path=\"url(#clip7102)\" cx=\"1455.07\" cy=\"645.849\" r=\"14\" fill=\"#e26f46\" fill-rule=\"evenodd\" fill-opacity=\"1\" stroke=\"#000000\" stroke-opacity=\"1\" stroke-width=\"3.2\"/>\n",
       "<circle clip-path=\"url(#clip7102)\" cx=\"1455.07\" cy=\"645.849\" r=\"14\" fill=\"#e26f46\" fill-rule=\"evenodd\" fill-opacity=\"1\" stroke=\"#000000\" stroke-opacity=\"1\" stroke-width=\"3.2\"/>\n",
       "<circle clip-path=\"url(#clip7102)\" cx=\"1455.07\" cy=\"645.849\" r=\"14\" fill=\"#e26f46\" fill-rule=\"evenodd\" fill-opacity=\"1\" stroke=\"#000000\" stroke-opacity=\"1\" stroke-width=\"3.2\"/>\n",
       "<circle clip-path=\"url(#clip7102)\" cx=\"1455.07\" cy=\"645.849\" r=\"14\" fill=\"#e26f46\" fill-rule=\"evenodd\" fill-opacity=\"1\" stroke=\"#000000\" stroke-opacity=\"1\" stroke-width=\"3.2\"/>\n",
       "<circle clip-path=\"url(#clip7102)\" cx=\"1455.07\" cy=\"645.849\" r=\"14\" fill=\"#e26f46\" fill-rule=\"evenodd\" fill-opacity=\"1\" stroke=\"#000000\" stroke-opacity=\"1\" stroke-width=\"3.2\"/>\n",
       "<circle clip-path=\"url(#clip7102)\" cx=\"1455.07\" cy=\"645.849\" r=\"14\" fill=\"#e26f46\" fill-rule=\"evenodd\" fill-opacity=\"1\" stroke=\"#000000\" stroke-opacity=\"1\" stroke-width=\"3.2\"/>\n",
       "<circle clip-path=\"url(#clip7102)\" cx=\"1455.07\" cy=\"645.849\" r=\"14\" fill=\"#e26f46\" fill-rule=\"evenodd\" fill-opacity=\"1\" stroke=\"#000000\" stroke-opacity=\"1\" stroke-width=\"3.2\"/>\n",
       "<circle clip-path=\"url(#clip7102)\" cx=\"1455.07\" cy=\"645.849\" r=\"14\" fill=\"#e26f46\" fill-rule=\"evenodd\" fill-opacity=\"1\" stroke=\"#000000\" stroke-opacity=\"1\" stroke-width=\"3.2\"/>\n",
       "<circle clip-path=\"url(#clip7102)\" cx=\"1455.07\" cy=\"645.849\" r=\"14\" fill=\"#e26f46\" fill-rule=\"evenodd\" fill-opacity=\"1\" stroke=\"#000000\" stroke-opacity=\"1\" stroke-width=\"3.2\"/>\n",
       "<circle clip-path=\"url(#clip7102)\" cx=\"1455.07\" cy=\"645.849\" r=\"14\" fill=\"#e26f46\" fill-rule=\"evenodd\" fill-opacity=\"1\" stroke=\"#000000\" stroke-opacity=\"1\" stroke-width=\"3.2\"/>\n",
       "<circle clip-path=\"url(#clip7102)\" cx=\"1455.07\" cy=\"645.849\" r=\"14\" fill=\"#e26f46\" fill-rule=\"evenodd\" fill-opacity=\"1\" stroke=\"#000000\" stroke-opacity=\"1\" stroke-width=\"3.2\"/>\n",
       "<circle clip-path=\"url(#clip7102)\" cx=\"1455.07\" cy=\"645.849\" r=\"14\" fill=\"#e26f46\" fill-rule=\"evenodd\" fill-opacity=\"1\" stroke=\"#000000\" stroke-opacity=\"1\" stroke-width=\"3.2\"/>\n",
       "<circle clip-path=\"url(#clip7102)\" cx=\"1433.75\" cy=\"637.818\" r=\"14\" fill=\"#e26f46\" fill-rule=\"evenodd\" fill-opacity=\"1\" stroke=\"#000000\" stroke-opacity=\"1\" stroke-width=\"3.2\"/>\n",
       "<circle clip-path=\"url(#clip7102)\" cx=\"1455.05\" cy=\"645.402\" r=\"14\" fill=\"#e26f46\" fill-rule=\"evenodd\" fill-opacity=\"1\" stroke=\"#000000\" stroke-opacity=\"1\" stroke-width=\"3.2\"/>\n",
       "<circle clip-path=\"url(#clip7102)\" cx=\"1455.07\" cy=\"645.849\" r=\"14\" fill=\"#e26f46\" fill-rule=\"evenodd\" fill-opacity=\"1\" stroke=\"#000000\" stroke-opacity=\"1\" stroke-width=\"3.2\"/>\n",
       "<circle clip-path=\"url(#clip7102)\" cx=\"1455.07\" cy=\"645.849\" r=\"14\" fill=\"#e26f46\" fill-rule=\"evenodd\" fill-opacity=\"1\" stroke=\"#000000\" stroke-opacity=\"1\" stroke-width=\"3.2\"/>\n",
       "<circle clip-path=\"url(#clip7102)\" cx=\"1455.07\" cy=\"645.849\" r=\"14\" fill=\"#e26f46\" fill-rule=\"evenodd\" fill-opacity=\"1\" stroke=\"#000000\" stroke-opacity=\"1\" stroke-width=\"3.2\"/>\n",
       "<circle clip-path=\"url(#clip7102)\" cx=\"1455.07\" cy=\"645.849\" r=\"14\" fill=\"#e26f46\" fill-rule=\"evenodd\" fill-opacity=\"1\" stroke=\"#000000\" stroke-opacity=\"1\" stroke-width=\"3.2\"/>\n",
       "<circle clip-path=\"url(#clip7102)\" cx=\"1455.07\" cy=\"645.849\" r=\"14\" fill=\"#e26f46\" fill-rule=\"evenodd\" fill-opacity=\"1\" stroke=\"#000000\" stroke-opacity=\"1\" stroke-width=\"3.2\"/>\n",
       "<circle clip-path=\"url(#clip7102)\" cx=\"1455.07\" cy=\"645.849\" r=\"14\" fill=\"#e26f46\" fill-rule=\"evenodd\" fill-opacity=\"1\" stroke=\"#000000\" stroke-opacity=\"1\" stroke-width=\"3.2\"/>\n",
       "<circle clip-path=\"url(#clip7102)\" cx=\"1455.07\" cy=\"645.849\" r=\"14\" fill=\"#e26f46\" fill-rule=\"evenodd\" fill-opacity=\"1\" stroke=\"#000000\" stroke-opacity=\"1\" stroke-width=\"3.2\"/>\n",
       "<circle clip-path=\"url(#clip7102)\" cx=\"1455.07\" cy=\"645.849\" r=\"14\" fill=\"#e26f46\" fill-rule=\"evenodd\" fill-opacity=\"1\" stroke=\"#000000\" stroke-opacity=\"1\" stroke-width=\"3.2\"/>\n",
       "<circle clip-path=\"url(#clip7102)\" cx=\"1455.07\" cy=\"645.849\" r=\"14\" fill=\"#e26f46\" fill-rule=\"evenodd\" fill-opacity=\"1\" stroke=\"#000000\" stroke-opacity=\"1\" stroke-width=\"3.2\"/>\n",
       "<circle clip-path=\"url(#clip7102)\" cx=\"1455.07\" cy=\"645.849\" r=\"14\" fill=\"#e26f46\" fill-rule=\"evenodd\" fill-opacity=\"1\" stroke=\"#000000\" stroke-opacity=\"1\" stroke-width=\"3.2\"/>\n",
       "<circle clip-path=\"url(#clip7102)\" cx=\"1455.07\" cy=\"645.849\" r=\"14\" fill=\"#e26f46\" fill-rule=\"evenodd\" fill-opacity=\"1\" stroke=\"#000000\" stroke-opacity=\"1\" stroke-width=\"3.2\"/>\n",
       "<circle clip-path=\"url(#clip7102)\" cx=\"1455.07\" cy=\"645.849\" r=\"14\" fill=\"#e26f46\" fill-rule=\"evenodd\" fill-opacity=\"1\" stroke=\"#000000\" stroke-opacity=\"1\" stroke-width=\"3.2\"/>\n",
       "<circle clip-path=\"url(#clip7102)\" cx=\"1455.07\" cy=\"645.849\" r=\"14\" fill=\"#e26f46\" fill-rule=\"evenodd\" fill-opacity=\"1\" stroke=\"#000000\" stroke-opacity=\"1\" stroke-width=\"3.2\"/>\n",
       "<circle clip-path=\"url(#clip7102)\" cx=\"1455.05\" cy=\"645.402\" r=\"14\" fill=\"#e26f46\" fill-rule=\"evenodd\" fill-opacity=\"1\" stroke=\"#000000\" stroke-opacity=\"1\" stroke-width=\"3.2\"/>\n",
       "<circle clip-path=\"url(#clip7102)\" cx=\"1455.05\" cy=\"645.402\" r=\"14\" fill=\"#e26f46\" fill-rule=\"evenodd\" fill-opacity=\"1\" stroke=\"#000000\" stroke-opacity=\"1\" stroke-width=\"3.2\"/>\n",
       "<circle clip-path=\"url(#clip7102)\" cx=\"1455.05\" cy=\"645.402\" r=\"14\" fill=\"#e26f46\" fill-rule=\"evenodd\" fill-opacity=\"1\" stroke=\"#000000\" stroke-opacity=\"1\" stroke-width=\"3.2\"/>\n",
       "<circle clip-path=\"url(#clip7102)\" cx=\"1455.07\" cy=\"645.849\" r=\"14\" fill=\"#e26f46\" fill-rule=\"evenodd\" fill-opacity=\"1\" stroke=\"#000000\" stroke-opacity=\"1\" stroke-width=\"3.2\"/>\n",
       "<circle clip-path=\"url(#clip7102)\" cx=\"1455.05\" cy=\"645.402\" r=\"14\" fill=\"#e26f46\" fill-rule=\"evenodd\" fill-opacity=\"1\" stroke=\"#000000\" stroke-opacity=\"1\" stroke-width=\"3.2\"/>\n",
       "<circle clip-path=\"url(#clip7102)\" cx=\"1455.05\" cy=\"645.402\" r=\"14\" fill=\"#e26f46\" fill-rule=\"evenodd\" fill-opacity=\"1\" stroke=\"#000000\" stroke-opacity=\"1\" stroke-width=\"3.2\"/>\n",
       "<circle clip-path=\"url(#clip7102)\" cx=\"1455.05\" cy=\"645.402\" r=\"14\" fill=\"#e26f46\" fill-rule=\"evenodd\" fill-opacity=\"1\" stroke=\"#000000\" stroke-opacity=\"1\" stroke-width=\"3.2\"/>\n",
       "<circle clip-path=\"url(#clip7102)\" cx=\"1455.05\" cy=\"645.402\" r=\"14\" fill=\"#e26f46\" fill-rule=\"evenodd\" fill-opacity=\"1\" stroke=\"#000000\" stroke-opacity=\"1\" stroke-width=\"3.2\"/>\n",
       "<circle clip-path=\"url(#clip7102)\" cx=\"1455.05\" cy=\"645.402\" r=\"14\" fill=\"#e26f46\" fill-rule=\"evenodd\" fill-opacity=\"1\" stroke=\"#000000\" stroke-opacity=\"1\" stroke-width=\"3.2\"/>\n",
       "<circle clip-path=\"url(#clip7102)\" cx=\"1454.02\" cy=\"644.842\" r=\"14\" fill=\"#e26f46\" fill-rule=\"evenodd\" fill-opacity=\"1\" stroke=\"#000000\" stroke-opacity=\"1\" stroke-width=\"3.2\"/>\n",
       "<circle clip-path=\"url(#clip7102)\" cx=\"1454.02\" cy=\"644.842\" r=\"14\" fill=\"#e26f46\" fill-rule=\"evenodd\" fill-opacity=\"1\" stroke=\"#000000\" stroke-opacity=\"1\" stroke-width=\"3.2\"/>\n",
       "<circle clip-path=\"url(#clip7102)\" cx=\"1454.02\" cy=\"644.842\" r=\"14\" fill=\"#e26f46\" fill-rule=\"evenodd\" fill-opacity=\"1\" stroke=\"#000000\" stroke-opacity=\"1\" stroke-width=\"3.2\"/>\n",
       "<circle clip-path=\"url(#clip7102)\" cx=\"1454.02\" cy=\"644.842\" r=\"14\" fill=\"#e26f46\" fill-rule=\"evenodd\" fill-opacity=\"1\" stroke=\"#000000\" stroke-opacity=\"1\" stroke-width=\"3.2\"/>\n",
       "<circle clip-path=\"url(#clip7102)\" cx=\"1451.87\" cy=\"642.269\" r=\"14\" fill=\"#e26f46\" fill-rule=\"evenodd\" fill-opacity=\"1\" stroke=\"#000000\" stroke-opacity=\"1\" stroke-width=\"3.2\"/>\n",
       "<circle clip-path=\"url(#clip7102)\" cx=\"1451.87\" cy=\"642.269\" r=\"14\" fill=\"#e26f46\" fill-rule=\"evenodd\" fill-opacity=\"1\" stroke=\"#000000\" stroke-opacity=\"1\" stroke-width=\"3.2\"/>\n",
       "<circle clip-path=\"url(#clip7102)\" cx=\"1445.43\" cy=\"641.332\" r=\"14\" fill=\"#e26f46\" fill-rule=\"evenodd\" fill-opacity=\"1\" stroke=\"#000000\" stroke-opacity=\"1\" stroke-width=\"3.2\"/>\n",
       "<circle clip-path=\"url(#clip7102)\" cx=\"1443.81\" cy=\"640.697\" r=\"14\" fill=\"#e26f46\" fill-rule=\"evenodd\" fill-opacity=\"1\" stroke=\"#000000\" stroke-opacity=\"1\" stroke-width=\"3.2\"/>\n",
       "<circle clip-path=\"url(#clip7102)\" cx=\"1443.81\" cy=\"640.697\" r=\"14\" fill=\"#e26f46\" fill-rule=\"evenodd\" fill-opacity=\"1\" stroke=\"#000000\" stroke-opacity=\"1\" stroke-width=\"3.2\"/>\n",
       "<circle clip-path=\"url(#clip7102)\" cx=\"1433.75\" cy=\"637.818\" r=\"14\" fill=\"#e26f46\" fill-rule=\"evenodd\" fill-opacity=\"1\" stroke=\"#000000\" stroke-opacity=\"1\" stroke-width=\"3.2\"/>\n",
       "<circle clip-path=\"url(#clip7102)\" cx=\"1433.75\" cy=\"637.818\" r=\"14\" fill=\"#e26f46\" fill-rule=\"evenodd\" fill-opacity=\"1\" stroke=\"#000000\" stroke-opacity=\"1\" stroke-width=\"3.2\"/>\n",
       "<circle clip-path=\"url(#clip7102)\" cx=\"1433.75\" cy=\"637.818\" r=\"14\" fill=\"#e26f46\" fill-rule=\"evenodd\" fill-opacity=\"1\" stroke=\"#000000\" stroke-opacity=\"1\" stroke-width=\"3.2\"/>\n",
       "<circle clip-path=\"url(#clip7102)\" cx=\"1455.07\" cy=\"645.849\" r=\"14\" fill=\"#e26f46\" fill-rule=\"evenodd\" fill-opacity=\"1\" stroke=\"#000000\" stroke-opacity=\"1\" stroke-width=\"3.2\"/>\n",
       "<circle clip-path=\"url(#clip7102)\" cx=\"1455.07\" cy=\"645.849\" r=\"14\" fill=\"#e26f46\" fill-rule=\"evenodd\" fill-opacity=\"1\" stroke=\"#000000\" stroke-opacity=\"1\" stroke-width=\"3.2\"/>\n",
       "<circle clip-path=\"url(#clip7102)\" cx=\"1455.07\" cy=\"645.849\" r=\"14\" fill=\"#e26f46\" fill-rule=\"evenodd\" fill-opacity=\"1\" stroke=\"#000000\" stroke-opacity=\"1\" stroke-width=\"3.2\"/>\n",
       "<circle clip-path=\"url(#clip7102)\" cx=\"1455.07\" cy=\"645.849\" r=\"14\" fill=\"#e26f46\" fill-rule=\"evenodd\" fill-opacity=\"1\" stroke=\"#000000\" stroke-opacity=\"1\" stroke-width=\"3.2\"/>\n",
       "<circle clip-path=\"url(#clip7102)\" cx=\"1455.07\" cy=\"645.849\" r=\"14\" fill=\"#e26f46\" fill-rule=\"evenodd\" fill-opacity=\"1\" stroke=\"#000000\" stroke-opacity=\"1\" stroke-width=\"3.2\"/>\n",
       "<circle clip-path=\"url(#clip7102)\" cx=\"1455.07\" cy=\"645.849\" r=\"14\" fill=\"#e26f46\" fill-rule=\"evenodd\" fill-opacity=\"1\" stroke=\"#000000\" stroke-opacity=\"1\" stroke-width=\"3.2\"/>\n",
       "<circle clip-path=\"url(#clip7102)\" cx=\"1455.07\" cy=\"645.849\" r=\"14\" fill=\"#e26f46\" fill-rule=\"evenodd\" fill-opacity=\"1\" stroke=\"#000000\" stroke-opacity=\"1\" stroke-width=\"3.2\"/>\n",
       "<circle clip-path=\"url(#clip7102)\" cx=\"1455.07\" cy=\"645.849\" r=\"14\" fill=\"#e26f46\" fill-rule=\"evenodd\" fill-opacity=\"1\" stroke=\"#000000\" stroke-opacity=\"1\" stroke-width=\"3.2\"/>\n",
       "<circle clip-path=\"url(#clip7102)\" cx=\"1455.07\" cy=\"645.849\" r=\"14\" fill=\"#e26f46\" fill-rule=\"evenodd\" fill-opacity=\"1\" stroke=\"#000000\" stroke-opacity=\"1\" stroke-width=\"3.2\"/>\n",
       "<circle clip-path=\"url(#clip7102)\" cx=\"1455.07\" cy=\"645.849\" r=\"14\" fill=\"#e26f46\" fill-rule=\"evenodd\" fill-opacity=\"1\" stroke=\"#000000\" stroke-opacity=\"1\" stroke-width=\"3.2\"/>\n",
       "<circle clip-path=\"url(#clip7102)\" cx=\"1455.07\" cy=\"645.849\" r=\"14\" fill=\"#e26f46\" fill-rule=\"evenodd\" fill-opacity=\"1\" stroke=\"#000000\" stroke-opacity=\"1\" stroke-width=\"3.2\"/>\n",
       "<circle clip-path=\"url(#clip7102)\" cx=\"1455.07\" cy=\"645.849\" r=\"14\" fill=\"#e26f46\" fill-rule=\"evenodd\" fill-opacity=\"1\" stroke=\"#000000\" stroke-opacity=\"1\" stroke-width=\"3.2\"/>\n",
       "<circle clip-path=\"url(#clip7102)\" cx=\"1455.07\" cy=\"645.849\" r=\"14\" fill=\"#e26f46\" fill-rule=\"evenodd\" fill-opacity=\"1\" stroke=\"#000000\" stroke-opacity=\"1\" stroke-width=\"3.2\"/>\n",
       "<circle clip-path=\"url(#clip7102)\" cx=\"1455.07\" cy=\"645.849\" r=\"14\" fill=\"#e26f46\" fill-rule=\"evenodd\" fill-opacity=\"1\" stroke=\"#000000\" stroke-opacity=\"1\" stroke-width=\"3.2\"/>\n",
       "<circle clip-path=\"url(#clip7102)\" cx=\"1455.07\" cy=\"645.849\" r=\"14\" fill=\"#e26f46\" fill-rule=\"evenodd\" fill-opacity=\"1\" stroke=\"#000000\" stroke-opacity=\"1\" stroke-width=\"3.2\"/>\n",
       "<circle clip-path=\"url(#clip7102)\" cx=\"1455.07\" cy=\"645.849\" r=\"14\" fill=\"#e26f46\" fill-rule=\"evenodd\" fill-opacity=\"1\" stroke=\"#000000\" stroke-opacity=\"1\" stroke-width=\"3.2\"/>\n",
       "<circle clip-path=\"url(#clip7102)\" cx=\"1455.07\" cy=\"645.849\" r=\"14\" fill=\"#e26f46\" fill-rule=\"evenodd\" fill-opacity=\"1\" stroke=\"#000000\" stroke-opacity=\"1\" stroke-width=\"3.2\"/>\n",
       "<circle clip-path=\"url(#clip7102)\" cx=\"1455.07\" cy=\"645.849\" r=\"14\" fill=\"#e26f46\" fill-rule=\"evenodd\" fill-opacity=\"1\" stroke=\"#000000\" stroke-opacity=\"1\" stroke-width=\"3.2\"/>\n",
       "<circle clip-path=\"url(#clip7102)\" cx=\"1455.07\" cy=\"645.849\" r=\"14\" fill=\"#e26f46\" fill-rule=\"evenodd\" fill-opacity=\"1\" stroke=\"#000000\" stroke-opacity=\"1\" stroke-width=\"3.2\"/>\n",
       "<circle clip-path=\"url(#clip7102)\" cx=\"1455.07\" cy=\"645.849\" r=\"14\" fill=\"#e26f46\" fill-rule=\"evenodd\" fill-opacity=\"1\" stroke=\"#000000\" stroke-opacity=\"1\" stroke-width=\"3.2\"/>\n",
       "<circle clip-path=\"url(#clip7102)\" cx=\"1455.07\" cy=\"645.849\" r=\"14\" fill=\"#e26f46\" fill-rule=\"evenodd\" fill-opacity=\"1\" stroke=\"#000000\" stroke-opacity=\"1\" stroke-width=\"3.2\"/>\n",
       "<circle clip-path=\"url(#clip7102)\" cx=\"1455.07\" cy=\"645.849\" r=\"14\" fill=\"#e26f46\" fill-rule=\"evenodd\" fill-opacity=\"1\" stroke=\"#000000\" stroke-opacity=\"1\" stroke-width=\"3.2\"/>\n",
       "<circle clip-path=\"url(#clip7102)\" cx=\"1455.07\" cy=\"645.849\" r=\"14\" fill=\"#e26f46\" fill-rule=\"evenodd\" fill-opacity=\"1\" stroke=\"#000000\" stroke-opacity=\"1\" stroke-width=\"3.2\"/>\n",
       "<circle clip-path=\"url(#clip7102)\" cx=\"1455.07\" cy=\"645.849\" r=\"14\" fill=\"#e26f46\" fill-rule=\"evenodd\" fill-opacity=\"1\" stroke=\"#000000\" stroke-opacity=\"1\" stroke-width=\"3.2\"/>\n",
       "<circle clip-path=\"url(#clip7102)\" cx=\"1455.07\" cy=\"645.849\" r=\"14\" fill=\"#e26f46\" fill-rule=\"evenodd\" fill-opacity=\"1\" stroke=\"#000000\" stroke-opacity=\"1\" stroke-width=\"3.2\"/>\n",
       "<circle clip-path=\"url(#clip7102)\" cx=\"1455.07\" cy=\"645.849\" r=\"14\" fill=\"#e26f46\" fill-rule=\"evenodd\" fill-opacity=\"1\" stroke=\"#000000\" stroke-opacity=\"1\" stroke-width=\"3.2\"/>\n",
       "<circle clip-path=\"url(#clip7102)\" cx=\"1455.07\" cy=\"645.849\" r=\"14\" fill=\"#e26f46\" fill-rule=\"evenodd\" fill-opacity=\"1\" stroke=\"#000000\" stroke-opacity=\"1\" stroke-width=\"3.2\"/>\n",
       "<circle clip-path=\"url(#clip7102)\" cx=\"1433.75\" cy=\"637.818\" r=\"14\" fill=\"#e26f46\" fill-rule=\"evenodd\" fill-opacity=\"1\" stroke=\"#000000\" stroke-opacity=\"1\" stroke-width=\"3.2\"/>\n",
       "<circle clip-path=\"url(#clip7102)\" cx=\"1455.07\" cy=\"645.849\" r=\"14\" fill=\"#e26f46\" fill-rule=\"evenodd\" fill-opacity=\"1\" stroke=\"#000000\" stroke-opacity=\"1\" stroke-width=\"3.2\"/>\n",
       "<circle clip-path=\"url(#clip7102)\" cx=\"1455.07\" cy=\"645.849\" r=\"14\" fill=\"#e26f46\" fill-rule=\"evenodd\" fill-opacity=\"1\" stroke=\"#000000\" stroke-opacity=\"1\" stroke-width=\"3.2\"/>\n",
       "<circle clip-path=\"url(#clip7102)\" cx=\"1455.07\" cy=\"645.849\" r=\"14\" fill=\"#e26f46\" fill-rule=\"evenodd\" fill-opacity=\"1\" stroke=\"#000000\" stroke-opacity=\"1\" stroke-width=\"3.2\"/>\n",
       "<circle clip-path=\"url(#clip7102)\" cx=\"1455.07\" cy=\"645.849\" r=\"14\" fill=\"#e26f46\" fill-rule=\"evenodd\" fill-opacity=\"1\" stroke=\"#000000\" stroke-opacity=\"1\" stroke-width=\"3.2\"/>\n",
       "<circle clip-path=\"url(#clip7102)\" cx=\"1455.07\" cy=\"645.849\" r=\"14\" fill=\"#e26f46\" fill-rule=\"evenodd\" fill-opacity=\"1\" stroke=\"#000000\" stroke-opacity=\"1\" stroke-width=\"3.2\"/>\n",
       "<circle clip-path=\"url(#clip7102)\" cx=\"1455.07\" cy=\"645.849\" r=\"14\" fill=\"#e26f46\" fill-rule=\"evenodd\" fill-opacity=\"1\" stroke=\"#000000\" stroke-opacity=\"1\" stroke-width=\"3.2\"/>\n",
       "<circle clip-path=\"url(#clip7102)\" cx=\"1455.07\" cy=\"645.849\" r=\"14\" fill=\"#e26f46\" fill-rule=\"evenodd\" fill-opacity=\"1\" stroke=\"#000000\" stroke-opacity=\"1\" stroke-width=\"3.2\"/>\n",
       "<circle clip-path=\"url(#clip7102)\" cx=\"1455.07\" cy=\"645.849\" r=\"14\" fill=\"#e26f46\" fill-rule=\"evenodd\" fill-opacity=\"1\" stroke=\"#000000\" stroke-opacity=\"1\" stroke-width=\"3.2\"/>\n",
       "<circle clip-path=\"url(#clip7102)\" cx=\"1455.07\" cy=\"645.849\" r=\"14\" fill=\"#e26f46\" fill-rule=\"evenodd\" fill-opacity=\"1\" stroke=\"#000000\" stroke-opacity=\"1\" stroke-width=\"3.2\"/>\n",
       "<circle clip-path=\"url(#clip7102)\" cx=\"1455.07\" cy=\"645.849\" r=\"14\" fill=\"#e26f46\" fill-rule=\"evenodd\" fill-opacity=\"1\" stroke=\"#000000\" stroke-opacity=\"1\" stroke-width=\"3.2\"/>\n",
       "</svg>\n"
      ]
     },
     "metadata": {},
     "output_type": "display_data"
    }
   ],
   "source": [
    "function plot_pop(P)\n",
    "    scatter([i.y[1] for i in P], [i.y[2] for i in P], xlims=(0.0, 1.0), ylims=(0.0, 1.0), legend=:none)\n",
    "    ND = filter(indiv -> indiv.rank == 1, P)\n",
    "    scatter!([i.y[1] for i in ND], [i.y[2] for i in ND], legend=:none)\n",
    "end\n",
    "\n",
    "nsga_max(popsize, nbgen, objective, init, fCV=constraint, fplot=plot_pop, plotevery=1, showprogress=false);"
   ]
  },
  {
   "cell_type": "markdown",
   "metadata": {
    "slideshow": {
     "slide_type": "slide"
    }
   },
   "source": [
    "This type of visualization, plotting one objective function as X and another as Y, allows us to see the Pareto front for 2 dimensions easily. However, once we increase the number of objectives, this plot is much less useful as we'll always be constrained to looking at 2 dimensions, or at best 3."
   ]
  },
  {
   "cell_type": "markdown",
   "metadata": {
    "slideshow": {
     "slide_type": "fragment"
    }
   },
   "source": [
    "<div class=\"alert alert-success\">\n",
    "    <b>Exercise 3</b>\n",
    "    <br/>\n",
    "    Change the number of objectives to 3. Then use a <tt>scatter3d</tt> plot instead of a <tt>scatter</tt> plot to plot the evolution over 3 objectives.\n",
    "    <br/>\n",
    "    <ul>\n",
    "        <li>Can you still observe the Pareto front?</li>\n",
    "        <li>Can you identify non-dominated individuals easily</li>\n",
    "        <li>Do you see the performance for each objective</li>\n",
    "    </ul>\n",
    "    <br/>\n",
    "</div>"
   ]
  },
  {
   "cell_type": "code",
   "execution_count": 92,
   "metadata": {},
   "outputs": [
    {
     "data": {
      "text/plain": [
       "0.5"
      ]
     },
     "execution_count": 92,
     "metadata": {},
     "output_type": "execute_result"
    }
   ],
   "source": [
    "n = 1000\n",
    "n_objectives = 3\n",
    "values = rand(n, n_objectives)\n",
    "values = values ./ sum(values, dims=1);\n",
    "sum(values, dims=1)\n",
    "\n",
    "weights = rand(n)\n",
    "weights = weights ./ sum(weights)\n",
    "max_weight = 0.5"
   ]
  },
  {
   "cell_type": "code",
   "execution_count": 93,
   "metadata": {},
   "outputs": [
    {
     "data": {
      "text/plain": [
       "indiv([011101111100010...101101011101100] : (0.60618762162393, 0.6040126554766657, 0.5977268756660078) | rank : 1)"
      ]
     },
     "execution_count": 93,
     "metadata": {},
     "output_type": "execute_result"
    }
   ],
   "source": [
    "popsize = 100\n",
    "nbgen = 100\n",
    "init() = bitrand(n)\n",
    "non_dominated =  nsga_max(popsize, nbgen, objective, init, fCV=constraint)\n",
    "non_dominated[1]"
   ]
  },
  {
   "cell_type": "code",
   "execution_count": 107,
   "metadata": {},
   "outputs": [
    {
     "data": {
      "image/svg+xml": [
       "<?xml version=\"1.0\" encoding=\"utf-8\"?>\n",
       "<svg xmlns=\"http://www.w3.org/2000/svg\" xmlns:xlink=\"http://www.w3.org/1999/xlink\" width=\"600\" height=\"400\" viewBox=\"0 0 2400 1600\">\n",
       "<defs>\n",
       "  <clipPath id=\"clip8700\">\n",
       "    <rect x=\"0\" y=\"0\" width=\"2400\" height=\"1600\"/>\n",
       "  </clipPath>\n",
       "</defs>\n",
       "<path clip-path=\"url(#clip8700)\" d=\"\n",
       "M0 1600 L2400 1600 L2400 0 L0 0  Z\n",
       "  \" fill=\"#ffffff\" fill-rule=\"evenodd\" fill-opacity=\"1\"/>\n",
       "<defs>\n",
       "  <clipPath id=\"clip8701\">\n",
       "    <rect x=\"480\" y=\"0\" width=\"1681\" height=\"1600\"/>\n",
       "  </clipPath>\n",
       "</defs>\n",
       "<defs>\n",
       "  <clipPath id=\"clip8702\">\n",
       "    <rect x=\"148\" y=\"47\" width=\"2205\" height=\"1440\"/>\n",
       "  </clipPath>\n",
       "</defs>\n",
       "<path clip-path=\"url(#clip8702)\" d=\"\n",
       "M148.334 1401.43 L148.334 302.298 L955.209 47.2441 L2352.76 132.262 L2352.76 1231.39 L1545.88 1486.45 L148.334 1401.43  Z\n",
       "  \" fill=\"#ffffff\" fill-rule=\"evenodd\" fill-opacity=\"1\"/>\n",
       "<polyline clip-path=\"url(#clip8702)\" style=\"stroke:#000000; stroke-width:2; stroke-opacity:0.1; fill:none\" points=\"\n",
       "  148.334,1401.43 955.209,1146.38 \n",
       "  \"/>\n",
       "<polyline clip-path=\"url(#clip8702)\" style=\"stroke:#000000; stroke-width:2; stroke-opacity:0.1; fill:none\" points=\"\n",
       "  955.209,1146.38 955.209,47.2441 \n",
       "  \"/>\n",
       "<polyline clip-path=\"url(#clip8702)\" style=\"stroke:#000000; stroke-width:2; stroke-opacity:0.1; fill:none\" points=\"\n",
       "  427.844,1418.43 1234.72,1163.38 \n",
       "  \"/>\n",
       "<polyline clip-path=\"url(#clip8702)\" style=\"stroke:#000000; stroke-width:2; stroke-opacity:0.1; fill:none\" points=\"\n",
       "  1234.72,1163.38 1234.72,64.2477 \n",
       "  \"/>\n",
       "<polyline clip-path=\"url(#clip8702)\" style=\"stroke:#000000; stroke-width:2; stroke-opacity:0.1; fill:none\" points=\"\n",
       "  707.353,1435.44 1514.23,1180.38 \n",
       "  \"/>\n",
       "<polyline clip-path=\"url(#clip8702)\" style=\"stroke:#000000; stroke-width:2; stroke-opacity:0.1; fill:none\" points=\"\n",
       "  1514.23,1180.38 1514.23,81.2513 \n",
       "  \"/>\n",
       "<polyline clip-path=\"url(#clip8702)\" style=\"stroke:#000000; stroke-width:2; stroke-opacity:0.1; fill:none\" points=\"\n",
       "  986.863,1452.44 1793.74,1197.39 \n",
       "  \"/>\n",
       "<polyline clip-path=\"url(#clip8702)\" style=\"stroke:#000000; stroke-width:2; stroke-opacity:0.1; fill:none\" points=\"\n",
       "  1793.74,1197.39 1793.74,98.255 \n",
       "  \"/>\n",
       "<polyline clip-path=\"url(#clip8702)\" style=\"stroke:#000000; stroke-width:2; stroke-opacity:0.1; fill:none\" points=\"\n",
       "  1266.37,1469.44 2073.25,1214.39 \n",
       "  \"/>\n",
       "<polyline clip-path=\"url(#clip8702)\" style=\"stroke:#000000; stroke-width:2; stroke-opacity:0.1; fill:none\" points=\"\n",
       "  2073.25,1214.39 2073.25,115.259 \n",
       "  \"/>\n",
       "<polyline clip-path=\"url(#clip8702)\" style=\"stroke:#000000; stroke-width:2; stroke-opacity:0.1; fill:none\" points=\"\n",
       "  1545.88,1486.45 2352.76,1231.39 \n",
       "  \"/>\n",
       "<polyline clip-path=\"url(#clip8702)\" style=\"stroke:#000000; stroke-width:2; stroke-opacity:0.1; fill:none\" points=\"\n",
       "  2352.76,1231.39 2352.76,132.262 \n",
       "  \"/>\n",
       "<polyline clip-path=\"url(#clip8702)\" style=\"stroke:#000000; stroke-width:2; stroke-opacity:0.1; fill:none\" points=\"\n",
       "  1545.88,1486.45 148.334,1401.43 \n",
       "  \"/>\n",
       "<polyline clip-path=\"url(#clip8702)\" style=\"stroke:#000000; stroke-width:2; stroke-opacity:0.1; fill:none\" points=\"\n",
       "  148.334,1401.43 148.334,302.298 \n",
       "  \"/>\n",
       "<polyline clip-path=\"url(#clip8702)\" style=\"stroke:#000000; stroke-width:2; stroke-opacity:0.1; fill:none\" points=\"\n",
       "  1707.26,1435.44 309.709,1350.42 \n",
       "  \"/>\n",
       "<polyline clip-path=\"url(#clip8702)\" style=\"stroke:#000000; stroke-width:2; stroke-opacity:0.1; fill:none\" points=\"\n",
       "  309.709,1350.42 309.709,251.288 \n",
       "  \"/>\n",
       "<polyline clip-path=\"url(#clip8702)\" style=\"stroke:#000000; stroke-width:2; stroke-opacity:0.1; fill:none\" points=\"\n",
       "  1868.63,1384.43 471.084,1299.41 \n",
       "  \"/>\n",
       "<polyline clip-path=\"url(#clip8702)\" style=\"stroke:#000000; stroke-width:2; stroke-opacity:0.1; fill:none\" points=\"\n",
       "  471.084,1299.41 471.084,200.277 \n",
       "  \"/>\n",
       "<polyline clip-path=\"url(#clip8702)\" style=\"stroke:#000000; stroke-width:2; stroke-opacity:0.1; fill:none\" points=\"\n",
       "  2030.01,1333.42 632.459,1248.4 \n",
       "  \"/>\n",
       "<polyline clip-path=\"url(#clip8702)\" style=\"stroke:#000000; stroke-width:2; stroke-opacity:0.1; fill:none\" points=\"\n",
       "  632.459,1248.4 632.459,149.266 \n",
       "  \"/>\n",
       "<polyline clip-path=\"url(#clip8702)\" style=\"stroke:#000000; stroke-width:2; stroke-opacity:0.1; fill:none\" points=\"\n",
       "  2191.38,1282.4 793.834,1197.39 \n",
       "  \"/>\n",
       "<polyline clip-path=\"url(#clip8702)\" style=\"stroke:#000000; stroke-width:2; stroke-opacity:0.1; fill:none\" points=\"\n",
       "  793.834,1197.39 793.834,98.255 \n",
       "  \"/>\n",
       "<polyline clip-path=\"url(#clip8702)\" style=\"stroke:#000000; stroke-width:2; stroke-opacity:0.1; fill:none\" points=\"\n",
       "  2352.76,1231.39 955.209,1146.38 \n",
       "  \"/>\n",
       "<polyline clip-path=\"url(#clip8702)\" style=\"stroke:#000000; stroke-width:2; stroke-opacity:0.1; fill:none\" points=\"\n",
       "  955.209,1146.38 955.209,47.2441 \n",
       "  \"/>\n",
       "<polyline clip-path=\"url(#clip8702)\" style=\"stroke:#000000; stroke-width:2; stroke-opacity:0.1; fill:none\" points=\"\n",
       "  148.334,1401.43 955.209,1146.38 \n",
       "  \"/>\n",
       "<polyline clip-path=\"url(#clip8702)\" style=\"stroke:#000000; stroke-width:2; stroke-opacity:0.1; fill:none\" points=\"\n",
       "  955.209,1146.38 2352.76,1231.39 \n",
       "  \"/>\n",
       "<polyline clip-path=\"url(#clip8702)\" style=\"stroke:#000000; stroke-width:2; stroke-opacity:0.1; fill:none\" points=\"\n",
       "  148.334,1181.6 955.209,926.549 \n",
       "  \"/>\n",
       "<polyline clip-path=\"url(#clip8702)\" style=\"stroke:#000000; stroke-width:2; stroke-opacity:0.1; fill:none\" points=\"\n",
       "  955.209,926.549 2352.76,1011.57 \n",
       "  \"/>\n",
       "<polyline clip-path=\"url(#clip8702)\" style=\"stroke:#000000; stroke-width:2; stroke-opacity:0.1; fill:none\" points=\"\n",
       "  148.334,961.777 955.209,706.723 \n",
       "  \"/>\n",
       "<polyline clip-path=\"url(#clip8702)\" style=\"stroke:#000000; stroke-width:2; stroke-opacity:0.1; fill:none\" points=\"\n",
       "  955.209,706.723 2352.76,791.741 \n",
       "  \"/>\n",
       "<polyline clip-path=\"url(#clip8702)\" style=\"stroke:#000000; stroke-width:2; stroke-opacity:0.1; fill:none\" points=\"\n",
       "  148.334,741.951 955.209,486.897 \n",
       "  \"/>\n",
       "<polyline clip-path=\"url(#clip8702)\" style=\"stroke:#000000; stroke-width:2; stroke-opacity:0.1; fill:none\" points=\"\n",
       "  955.209,486.897 2352.76,571.915 \n",
       "  \"/>\n",
       "<polyline clip-path=\"url(#clip8702)\" style=\"stroke:#000000; stroke-width:2; stroke-opacity:0.1; fill:none\" points=\"\n",
       "  148.334,522.125 955.209,267.07 \n",
       "  \"/>\n",
       "<polyline clip-path=\"url(#clip8702)\" style=\"stroke:#000000; stroke-width:2; stroke-opacity:0.1; fill:none\" points=\"\n",
       "  955.209,267.07 2352.76,352.088 \n",
       "  \"/>\n",
       "<polyline clip-path=\"url(#clip8702)\" style=\"stroke:#000000; stroke-width:2; stroke-opacity:0.1; fill:none\" points=\"\n",
       "  148.334,302.298 955.209,47.2441 \n",
       "  \"/>\n",
       "<polyline clip-path=\"url(#clip8702)\" style=\"stroke:#000000; stroke-width:2; stroke-opacity:0.1; fill:none\" points=\"\n",
       "  955.209,47.2441 2352.76,132.262 \n",
       "  \"/>\n",
       "<polyline clip-path=\"url(#clip8700)\" style=\"stroke:#000000; stroke-width:4; stroke-opacity:1; fill:none\" points=\"\n",
       "  148.334,1401.43 1545.88,1486.45 \n",
       "  \"/>\n",
       "<polyline clip-path=\"url(#clip8700)\" style=\"stroke:#000000; stroke-width:4; stroke-opacity:1; fill:none\" points=\"\n",
       "  1545.88,1486.45 2352.76,1231.39 \n",
       "  \"/>\n",
       "<polyline clip-path=\"url(#clip8700)\" style=\"stroke:#000000; stroke-width:4; stroke-opacity:1; fill:none\" points=\"\n",
       "  148.334,1401.43 148.334,302.298 \n",
       "  \"/>\n",
       "<polyline clip-path=\"url(#clip8700)\" style=\"stroke:#000000; stroke-width:4; stroke-opacity:1; fill:none\" points=\"\n",
       "  148.334,1401.43 158.017,1398.37 \n",
       "  \"/>\n",
       "<polyline clip-path=\"url(#clip8700)\" style=\"stroke:#000000; stroke-width:4; stroke-opacity:1; fill:none\" points=\"\n",
       "  427.844,1418.43 437.526,1415.37 \n",
       "  \"/>\n",
       "<polyline clip-path=\"url(#clip8700)\" style=\"stroke:#000000; stroke-width:4; stroke-opacity:1; fill:none\" points=\"\n",
       "  707.353,1435.44 717.036,1432.38 \n",
       "  \"/>\n",
       "<polyline clip-path=\"url(#clip8700)\" style=\"stroke:#000000; stroke-width:4; stroke-opacity:1; fill:none\" points=\"\n",
       "  986.863,1452.44 996.545,1449.38 \n",
       "  \"/>\n",
       "<polyline clip-path=\"url(#clip8700)\" style=\"stroke:#000000; stroke-width:4; stroke-opacity:1; fill:none\" points=\"\n",
       "  1266.37,1469.44 1276.05,1466.38 \n",
       "  \"/>\n",
       "<polyline clip-path=\"url(#clip8700)\" style=\"stroke:#000000; stroke-width:4; stroke-opacity:1; fill:none\" points=\"\n",
       "  1545.88,1486.45 1555.56,1483.39 \n",
       "  \"/>\n",
       "<polyline clip-path=\"url(#clip8700)\" style=\"stroke:#000000; stroke-width:4; stroke-opacity:1; fill:none\" points=\"\n",
       "  1545.88,1486.45 1529.11,1485.43 \n",
       "  \"/>\n",
       "<polyline clip-path=\"url(#clip8700)\" style=\"stroke:#000000; stroke-width:4; stroke-opacity:1; fill:none\" points=\"\n",
       "  1707.26,1435.44 1690.49,1434.42 \n",
       "  \"/>\n",
       "<polyline clip-path=\"url(#clip8700)\" style=\"stroke:#000000; stroke-width:4; stroke-opacity:1; fill:none\" points=\"\n",
       "  1868.63,1384.43 1851.86,1383.41 \n",
       "  \"/>\n",
       "<polyline clip-path=\"url(#clip8700)\" style=\"stroke:#000000; stroke-width:4; stroke-opacity:1; fill:none\" points=\"\n",
       "  2030.01,1333.42 2013.24,1332.4 \n",
       "  \"/>\n",
       "<polyline clip-path=\"url(#clip8700)\" style=\"stroke:#000000; stroke-width:4; stroke-opacity:1; fill:none\" points=\"\n",
       "  2191.38,1282.4 2174.61,1281.38 \n",
       "  \"/>\n",
       "<polyline clip-path=\"url(#clip8700)\" style=\"stroke:#000000; stroke-width:4; stroke-opacity:1; fill:none\" points=\"\n",
       "  2352.76,1231.39 2335.99,1230.37 \n",
       "  \"/>\n",
       "<polyline clip-path=\"url(#clip8700)\" style=\"stroke:#000000; stroke-width:4; stroke-opacity:1; fill:none\" points=\"\n",
       "  148.334,1401.43 158.017,1398.37 \n",
       "  \"/>\n",
       "<polyline clip-path=\"url(#clip8700)\" style=\"stroke:#000000; stroke-width:4; stroke-opacity:1; fill:none\" points=\"\n",
       "  148.334,1181.6 158.017,1178.54 \n",
       "  \"/>\n",
       "<polyline clip-path=\"url(#clip8700)\" style=\"stroke:#000000; stroke-width:4; stroke-opacity:1; fill:none\" points=\"\n",
       "  148.334,961.777 158.017,958.717 \n",
       "  \"/>\n",
       "<polyline clip-path=\"url(#clip8700)\" style=\"stroke:#000000; stroke-width:4; stroke-opacity:1; fill:none\" points=\"\n",
       "  148.334,741.951 158.017,738.89 \n",
       "  \"/>\n",
       "<polyline clip-path=\"url(#clip8700)\" style=\"stroke:#000000; stroke-width:4; stroke-opacity:1; fill:none\" points=\"\n",
       "  148.334,522.125 158.017,519.064 \n",
       "  \"/>\n",
       "<polyline clip-path=\"url(#clip8700)\" style=\"stroke:#000000; stroke-width:4; stroke-opacity:1; fill:none\" points=\"\n",
       "  148.334,302.298 158.017,299.238 \n",
       "  \"/>\n",
       "<path clip-path=\"url(#clip8700)\" d=\"M 0 0 M105.851 1423.42 Q102.24 1423.42 100.411 1426.99 Q98.6054 1430.53 98.6054 1437.66 Q98.6054 1444.76 100.411 1448.33 Q102.24 1451.87 105.851 1451.87 Q109.485 1451.87 111.29 1448.33 Q113.119 1444.76 113.119 1437.66 Q113.119 1430.53 111.29 1426.99 Q109.485 1423.42 105.851 1423.42 M105.851 1419.72 Q111.661 1419.72 114.716 1424.32 Q117.795 1428.91 117.795 1437.66 Q117.795 1446.38 114.716 1450.99 Q111.661 1455.57 105.851 1455.57 Q100.041 1455.57 96.9619 1450.99 Q93.9063 1446.38 93.9063 1437.66 Q93.9063 1428.91 96.9619 1424.32 Q100.041 1419.72 105.851 1419.72 Z\" fill=\"#000000\" fill-rule=\"evenodd\" fill-opacity=\"1\" /><path clip-path=\"url(#clip8700)\" d=\"M 0 0 M122.864 1449.02 L127.749 1449.02 L127.749 1454.9 L122.864 1454.9 L122.864 1449.02 Z\" fill=\"#000000\" fill-rule=\"evenodd\" fill-opacity=\"1\" /><path clip-path=\"url(#clip8700)\" d=\"M 0 0 M142.818 1423.42 Q139.207 1423.42 137.378 1426.99 Q135.573 1430.53 135.573 1437.66 Q135.573 1444.76 137.378 1448.33 Q139.207 1451.87 142.818 1451.87 Q146.452 1451.87 148.258 1448.33 Q150.087 1444.76 150.087 1437.66 Q150.087 1430.53 148.258 1426.99 Q146.452 1423.42 142.818 1423.42 M142.818 1419.72 Q148.628 1419.72 151.684 1424.32 Q154.762 1428.91 154.762 1437.66 Q154.762 1446.38 151.684 1450.99 Q148.628 1455.57 142.818 1455.57 Q137.008 1455.57 133.929 1450.99 Q130.874 1446.38 130.874 1437.66 Q130.874 1428.91 133.929 1424.32 Q137.008 1419.72 142.818 1419.72 Z\" fill=\"#000000\" fill-rule=\"evenodd\" fill-opacity=\"1\" /><path clip-path=\"url(#clip8700)\" d=\"M 0 0 M386.159 1440.42 Q382.548 1440.42 380.719 1443.99 Q378.913 1447.53 378.913 1454.66 Q378.913 1461.77 380.719 1465.33 Q382.548 1468.87 386.159 1468.87 Q389.793 1468.87 391.599 1465.33 Q393.427 1461.77 393.427 1454.66 Q393.427 1447.53 391.599 1443.99 Q389.793 1440.42 386.159 1440.42 M386.159 1436.72 Q391.969 1436.72 395.024 1441.33 Q398.103 1445.91 398.103 1454.66 Q398.103 1463.39 395.024 1467.99 Q391.969 1472.58 386.159 1472.58 Q380.349 1472.58 377.27 1467.99 Q374.214 1463.39 374.214 1454.66 Q374.214 1445.91 377.27 1441.33 Q380.349 1436.72 386.159 1436.72 Z\" fill=\"#000000\" fill-rule=\"evenodd\" fill-opacity=\"1\" /><path clip-path=\"url(#clip8700)\" d=\"M 0 0 M403.173 1466.03 L408.057 1466.03 L408.057 1471.91 L403.173 1471.91 L403.173 1466.03 Z\" fill=\"#000000\" fill-rule=\"evenodd\" fill-opacity=\"1\" /><path clip-path=\"url(#clip8700)\" d=\"M 0 0 M417.154 1467.97 L433.473 1467.97 L433.473 1471.91 L411.529 1471.91 L411.529 1467.97 Q414.191 1465.22 418.774 1460.59 Q423.381 1455.93 424.561 1454.59 Q426.807 1452.07 427.686 1450.33 Q428.589 1448.57 428.589 1446.88 Q428.589 1444.13 426.645 1442.39 Q424.723 1440.66 421.622 1440.66 Q419.422 1440.66 416.969 1441.42 Q414.538 1442.18 411.76 1443.73 L411.76 1439.01 Q414.585 1437.88 417.038 1437.3 Q419.492 1436.72 421.529 1436.72 Q426.899 1436.72 430.094 1439.41 Q433.288 1442.09 433.288 1446.58 Q433.288 1448.71 432.478 1450.63 Q431.691 1452.53 429.584 1455.12 Q429.006 1455.79 425.904 1459.01 Q422.802 1462.21 417.154 1467.97 Z\" fill=\"#000000\" fill-rule=\"evenodd\" fill-opacity=\"1\" /><path clip-path=\"url(#clip8700)\" d=\"M 0 0 M664.627 1457.43 Q661.015 1457.43 659.187 1460.99 Q657.381 1464.53 657.381 1471.66 Q657.381 1478.77 659.187 1482.33 Q661.015 1485.88 664.627 1485.88 Q668.261 1485.88 670.066 1482.33 Q671.895 1478.77 671.895 1471.66 Q671.895 1464.53 670.066 1460.99 Q668.261 1457.43 664.627 1457.43 M664.627 1453.72 Q670.437 1453.72 673.492 1458.33 Q676.571 1462.91 676.571 1471.66 Q676.571 1480.39 673.492 1485 Q670.437 1489.58 664.627 1489.58 Q658.816 1489.58 655.738 1485 Q652.682 1480.39 652.682 1471.66 Q652.682 1462.91 655.738 1458.33 Q658.816 1453.72 664.627 1453.72 Z\" fill=\"#000000\" fill-rule=\"evenodd\" fill-opacity=\"1\" /><path clip-path=\"url(#clip8700)\" d=\"M 0 0 M681.64 1483.03 L686.525 1483.03 L686.525 1488.91 L681.64 1488.91 L681.64 1483.03 Z\" fill=\"#000000\" fill-rule=\"evenodd\" fill-opacity=\"1\" /><path clip-path=\"url(#clip8700)\" d=\"M 0 0 M704.441 1458.42 L692.636 1476.87 L704.441 1476.87 L704.441 1458.42 M703.214 1454.35 L709.094 1454.35 L709.094 1476.87 L714.024 1476.87 L714.024 1480.76 L709.094 1480.76 L709.094 1488.91 L704.441 1488.91 L704.441 1480.76 L688.839 1480.76 L688.839 1476.25 L703.214 1454.35 Z\" fill=\"#000000\" fill-rule=\"evenodd\" fill-opacity=\"1\" /><path clip-path=\"url(#clip8700)\" d=\"M 0 0 M944.298 1474.43 Q940.687 1474.43 938.858 1478 Q937.053 1481.54 937.053 1488.67 Q937.053 1495.77 938.858 1499.34 Q940.687 1502.88 944.298 1502.88 Q947.932 1502.88 949.738 1499.34 Q951.566 1495.77 951.566 1488.67 Q951.566 1481.54 949.738 1478 Q947.932 1474.43 944.298 1474.43 M944.298 1470.73 Q950.108 1470.73 953.164 1475.33 Q956.242 1479.92 956.242 1488.67 Q956.242 1497.39 953.164 1502 Q950.108 1506.58 944.298 1506.58 Q938.488 1506.58 935.409 1502 Q932.354 1497.39 932.354 1488.67 Q932.354 1479.92 935.409 1475.33 Q938.488 1470.73 944.298 1470.73 Z\" fill=\"#000000\" fill-rule=\"evenodd\" fill-opacity=\"1\" /><path clip-path=\"url(#clip8700)\" d=\"M 0 0 M961.312 1500.03 L966.196 1500.03 L966.196 1505.91 L961.312 1505.91 L961.312 1500.03 Z\" fill=\"#000000\" fill-rule=\"evenodd\" fill-opacity=\"1\" /><path clip-path=\"url(#clip8700)\" d=\"M 0 0 M981.844 1486.77 Q978.696 1486.77 976.844 1488.92 Q975.015 1491.07 975.015 1494.82 Q975.015 1498.55 976.844 1500.73 Q978.696 1502.88 981.844 1502.88 Q984.992 1502.88 986.821 1500.73 Q988.673 1498.55 988.673 1494.82 Q988.673 1491.07 986.821 1488.92 Q984.992 1486.77 981.844 1486.77 M991.126 1472.12 L991.126 1476.38 Q989.367 1475.54 987.562 1475.1 Q985.779 1474.66 984.02 1474.66 Q979.39 1474.66 976.937 1477.79 Q974.506 1480.91 974.159 1487.23 Q975.525 1485.22 977.585 1484.15 Q979.645 1483.07 982.122 1483.07 Q987.33 1483.07 990.339 1486.24 Q993.372 1489.38 993.372 1494.82 Q993.372 1500.15 990.224 1503.37 Q987.076 1506.58 981.844 1506.58 Q975.849 1506.58 972.677 1502 Q969.506 1497.39 969.506 1488.67 Q969.506 1480.47 973.395 1475.61 Q977.284 1470.73 983.835 1470.73 Q985.594 1470.73 987.376 1471.07 Q989.182 1471.42 991.126 1472.12 Z\" fill=\"#000000\" fill-rule=\"evenodd\" fill-opacity=\"1\" /><path clip-path=\"url(#clip8700)\" d=\"M 0 0 M1223.93 1491.43 Q1220.32 1491.43 1218.49 1495 Q1216.69 1498.54 1216.69 1505.67 Q1216.69 1512.78 1218.49 1516.34 Q1220.32 1519.88 1223.93 1519.88 Q1227.57 1519.88 1229.37 1516.34 Q1231.2 1512.78 1231.2 1505.67 Q1231.2 1498.54 1229.37 1495 Q1227.57 1491.43 1223.93 1491.43 M1223.93 1487.73 Q1229.74 1487.73 1232.8 1492.34 Q1235.88 1496.92 1235.88 1505.67 Q1235.88 1514.4 1232.8 1519 Q1229.74 1523.59 1223.93 1523.59 Q1218.12 1523.59 1215.05 1519 Q1211.99 1514.4 1211.99 1505.67 Q1211.99 1496.92 1215.05 1492.34 Q1218.12 1487.73 1223.93 1487.73 Z\" fill=\"#000000\" fill-rule=\"evenodd\" fill-opacity=\"1\" /><path clip-path=\"url(#clip8700)\" d=\"M 0 0 M1240.95 1517.04 L1245.83 1517.04 L1245.83 1522.92 L1240.95 1522.92 L1240.95 1517.04 Z\" fill=\"#000000\" fill-rule=\"evenodd\" fill-opacity=\"1\" /><path clip-path=\"url(#clip8700)\" d=\"M 0 0 M1260.9 1506.5 Q1257.57 1506.5 1255.65 1508.29 Q1253.75 1510.07 1253.75 1513.19 Q1253.75 1516.32 1255.65 1518.1 Q1257.57 1519.88 1260.9 1519.88 Q1264.24 1519.88 1266.16 1518.1 Q1268.08 1516.3 1268.08 1513.19 Q1268.08 1510.07 1266.16 1508.29 Q1264.26 1506.5 1260.9 1506.5 M1256.23 1504.51 Q1253.22 1503.77 1251.53 1501.71 Q1249.86 1499.65 1249.86 1496.69 Q1249.86 1492.55 1252.8 1490.14 Q1255.76 1487.73 1260.9 1487.73 Q1266.06 1487.73 1269 1490.14 Q1271.94 1492.55 1271.94 1496.69 Q1271.94 1499.65 1270.25 1501.71 Q1268.59 1503.77 1265.6 1504.51 Q1268.98 1505.3 1270.86 1507.59 Q1272.75 1509.88 1272.75 1513.19 Q1272.75 1518.22 1269.68 1520.9 Q1266.62 1523.59 1260.9 1523.59 Q1255.18 1523.59 1252.11 1520.9 Q1249.05 1518.22 1249.05 1513.19 Q1249.05 1509.88 1250.95 1507.59 Q1252.85 1505.3 1256.23 1504.51 M1254.51 1497.13 Q1254.51 1499.81 1256.18 1501.32 Q1257.87 1502.82 1260.9 1502.82 Q1263.91 1502.82 1265.6 1501.32 Q1267.31 1499.81 1267.31 1497.13 Q1267.31 1494.44 1265.6 1492.94 Q1263.91 1491.43 1260.9 1491.43 Q1257.87 1491.43 1256.18 1492.94 Q1254.51 1494.44 1254.51 1497.13 Z\" fill=\"#000000\" fill-rule=\"evenodd\" fill-opacity=\"1\" /><path clip-path=\"url(#clip8700)\" d=\"M 0 0 M1493.78 1535.98 L1501.42 1535.98 L1501.42 1509.62 L1493.11 1511.29 L1493.11 1507.03 L1501.37 1505.36 L1506.05 1505.36 L1506.05 1535.98 L1513.69 1535.98 L1513.69 1539.92 L1493.78 1539.92 L1493.78 1535.98 Z\" fill=\"#000000\" fill-rule=\"evenodd\" fill-opacity=\"1\" /><path clip-path=\"url(#clip8700)\" d=\"M 0 0 M1518.76 1534.04 L1523.64 1534.04 L1523.64 1539.92 L1518.76 1539.92 L1518.76 1534.04 Z\" fill=\"#000000\" fill-rule=\"evenodd\" fill-opacity=\"1\" /><path clip-path=\"url(#clip8700)\" d=\"M 0 0 M1538.71 1508.44 Q1535.1 1508.44 1533.27 1512 Q1531.46 1515.55 1531.46 1522.67 Q1531.46 1529.78 1533.27 1533.35 Q1535.1 1536.89 1538.71 1536.89 Q1542.34 1536.89 1544.15 1533.35 Q1545.98 1529.78 1545.98 1522.67 Q1545.98 1515.55 1544.15 1512 Q1542.34 1508.44 1538.71 1508.44 M1538.71 1504.73 Q1544.52 1504.73 1547.58 1509.34 Q1550.65 1513.92 1550.65 1522.67 Q1550.65 1531.4 1547.58 1536.01 Q1544.52 1540.59 1538.71 1540.59 Q1532.9 1540.59 1529.82 1536.01 Q1526.77 1531.4 1526.77 1522.67 Q1526.77 1513.92 1529.82 1509.34 Q1532.9 1504.73 1538.71 1504.73 Z\" fill=\"#000000\" fill-rule=\"evenodd\" fill-opacity=\"1\" /><path clip-path=\"url(#clip8700)\" d=\"M 0 0 M1551.4 1508.44 Q1547.79 1508.44 1545.96 1512 Q1544.15 1515.55 1544.15 1522.67 Q1544.15 1529.78 1545.96 1533.35 Q1547.79 1536.89 1551.4 1536.89 Q1555.03 1536.89 1556.84 1533.35 Q1558.67 1529.78 1558.67 1522.67 Q1558.67 1515.55 1556.84 1512 Q1555.03 1508.44 1551.4 1508.44 M1551.4 1504.73 Q1557.21 1504.73 1560.26 1509.34 Q1563.34 1513.92 1563.34 1522.67 Q1563.34 1531.4 1560.26 1536.01 Q1557.21 1540.59 1551.4 1540.59 Q1545.59 1540.59 1542.51 1536.01 Q1539.45 1531.4 1539.45 1522.67 Q1539.45 1513.92 1542.51 1509.34 Q1545.59 1504.73 1551.4 1504.73 Z\" fill=\"#000000\" fill-rule=\"evenodd\" fill-opacity=\"1\" /><path clip-path=\"url(#clip8700)\" d=\"M 0 0 M1568.41 1534.04 L1573.3 1534.04 L1573.3 1539.92 L1568.41 1539.92 L1568.41 1534.04 Z\" fill=\"#000000\" fill-rule=\"evenodd\" fill-opacity=\"1\" /><path clip-path=\"url(#clip8700)\" d=\"M 0 0 M1588.37 1508.44 Q1584.75 1508.44 1582.93 1512 Q1581.12 1515.55 1581.12 1522.67 Q1581.12 1529.78 1582.93 1533.35 Q1584.75 1536.89 1588.37 1536.89 Q1592 1536.89 1593.81 1533.35 Q1595.63 1529.78 1595.63 1522.67 Q1595.63 1515.55 1593.81 1512 Q1592 1508.44 1588.37 1508.44 M1588.37 1504.73 Q1594.18 1504.73 1597.23 1509.34 Q1600.31 1513.92 1600.31 1522.67 Q1600.31 1531.4 1597.23 1536.01 Q1594.18 1540.59 1588.37 1540.59 Q1582.56 1540.59 1579.48 1536.01 Q1576.42 1531.4 1576.42 1522.67 Q1576.42 1513.92 1579.48 1509.34 Q1582.56 1504.73 1588.37 1504.73 Z\" fill=\"#000000\" fill-rule=\"evenodd\" fill-opacity=\"1\" /><path clip-path=\"url(#clip8700)\" d=\"M 0 0 M1713.57 1457.43 Q1709.96 1457.43 1708.13 1460.99 Q1706.33 1464.53 1706.33 1471.66 Q1706.33 1478.77 1708.13 1482.33 Q1709.96 1485.88 1713.57 1485.88 Q1717.21 1485.88 1719.01 1482.33 Q1720.84 1478.77 1720.84 1471.66 Q1720.84 1464.53 1719.01 1460.99 Q1717.21 1457.43 1713.57 1457.43 M1713.57 1453.72 Q1719.38 1453.72 1722.44 1458.33 Q1725.52 1462.91 1725.52 1471.66 Q1725.52 1480.39 1722.44 1485 Q1719.38 1489.58 1713.57 1489.58 Q1707.76 1489.58 1704.68 1485 Q1701.63 1480.39 1701.63 1471.66 Q1701.63 1462.91 1704.68 1458.33 Q1707.76 1453.72 1713.57 1453.72 Z\" fill=\"#000000\" fill-rule=\"evenodd\" fill-opacity=\"1\" /><path clip-path=\"url(#clip8700)\" d=\"M 0 0 M1730.59 1483.03 L1735.47 1483.03 L1735.47 1488.91 L1730.59 1488.91 L1730.59 1483.03 Z\" fill=\"#000000\" fill-rule=\"evenodd\" fill-opacity=\"1\" /><path clip-path=\"url(#clip8700)\" d=\"M 0 0 M1744.57 1484.97 L1760.89 1484.97 L1760.89 1488.91 L1738.94 1488.91 L1738.94 1484.97 Q1741.6 1482.22 1746.19 1477.59 Q1750.79 1472.94 1751.97 1471.59 Q1754.22 1469.07 1755.1 1467.34 Q1756 1465.58 1756 1463.89 Q1756 1461.13 1754.06 1459.4 Q1752.14 1457.66 1749.03 1457.66 Q1746.84 1457.66 1744.38 1458.42 Q1741.95 1459.19 1739.17 1460.74 L1739.17 1456.02 Q1742 1454.88 1744.45 1454.3 Q1746.9 1453.72 1748.94 1453.72 Q1754.31 1453.72 1757.51 1456.41 Q1760.7 1459.09 1760.7 1463.59 Q1760.7 1465.71 1759.89 1467.64 Q1759.1 1469.53 1757 1472.13 Q1756.42 1472.8 1753.32 1476.02 Q1750.21 1479.21 1744.57 1484.97 Z\" fill=\"#000000\" fill-rule=\"evenodd\" fill-opacity=\"1\" /><path clip-path=\"url(#clip8700)\" d=\"M 0 0 M1873.9 1406.42 Q1870.29 1406.42 1868.46 1409.98 Q1866.66 1413.52 1866.66 1420.65 Q1866.66 1427.76 1868.46 1431.32 Q1870.29 1434.87 1873.9 1434.87 Q1877.54 1434.87 1879.34 1431.32 Q1881.17 1427.76 1881.17 1420.65 Q1881.17 1413.52 1879.34 1409.98 Q1877.54 1406.42 1873.9 1406.42 M1873.9 1402.71 Q1879.71 1402.71 1882.77 1407.32 Q1885.85 1411.9 1885.85 1420.65 Q1885.85 1429.38 1882.77 1433.99 Q1879.71 1438.57 1873.9 1438.57 Q1868.09 1438.57 1865.02 1433.99 Q1861.96 1429.38 1861.96 1420.65 Q1861.96 1411.9 1865.02 1407.32 Q1868.09 1402.71 1873.9 1402.71 Z\" fill=\"#000000\" fill-rule=\"evenodd\" fill-opacity=\"1\" /><path clip-path=\"url(#clip8700)\" d=\"M 0 0 M1890.92 1432.02 L1895.8 1432.02 L1895.8 1437.9 L1890.92 1437.9 L1890.92 1432.02 Z\" fill=\"#000000\" fill-rule=\"evenodd\" fill-opacity=\"1\" /><path clip-path=\"url(#clip8700)\" d=\"M 0 0 M1913.72 1407.41 L1901.91 1425.86 L1913.72 1425.86 L1913.72 1407.41 M1912.49 1403.34 L1918.37 1403.34 L1918.37 1425.86 L1923.3 1425.86 L1923.3 1429.75 L1918.37 1429.75 L1918.37 1437.9 L1913.72 1437.9 L1913.72 1429.75 L1898.12 1429.75 L1898.12 1425.24 L1912.49 1403.34 Z\" fill=\"#000000\" fill-rule=\"evenodd\" fill-opacity=\"1\" /><path clip-path=\"url(#clip8700)\" d=\"M 0 0 M2035.44 1355.41 Q2031.83 1355.41 2030 1358.97 Q2028.2 1362.51 2028.2 1369.64 Q2028.2 1376.75 2030 1380.31 Q2031.83 1383.85 2035.44 1383.85 Q2039.08 1383.85 2040.88 1380.31 Q2042.71 1376.75 2042.71 1369.64 Q2042.71 1362.51 2040.88 1358.97 Q2039.08 1355.41 2035.44 1355.41 M2035.44 1351.7 Q2041.25 1351.7 2044.31 1356.31 Q2047.39 1360.89 2047.39 1369.64 Q2047.39 1378.37 2044.31 1382.98 Q2041.25 1387.56 2035.44 1387.56 Q2029.63 1387.56 2026.55 1382.98 Q2023.5 1378.37 2023.5 1369.64 Q2023.5 1360.89 2026.55 1356.31 Q2029.63 1351.7 2035.44 1351.7 Z\" fill=\"#000000\" fill-rule=\"evenodd\" fill-opacity=\"1\" /><path clip-path=\"url(#clip8700)\" d=\"M 0 0 M2052.46 1381.01 L2057.34 1381.01 L2057.34 1386.89 L2052.46 1386.89 L2052.46 1381.01 Z\" fill=\"#000000\" fill-rule=\"evenodd\" fill-opacity=\"1\" /><path clip-path=\"url(#clip8700)\" d=\"M 0 0 M2072.99 1367.74 Q2069.84 1367.74 2067.99 1369.9 Q2066.16 1372.05 2066.16 1375.8 Q2066.16 1379.53 2067.99 1381.7 Q2069.84 1383.85 2072.99 1383.85 Q2076.14 1383.85 2077.96 1381.7 Q2079.82 1379.53 2079.82 1375.8 Q2079.82 1372.05 2077.96 1369.9 Q2076.14 1367.74 2072.99 1367.74 M2082.27 1353.09 L2082.27 1357.35 Q2080.51 1356.52 2078.71 1356.08 Q2076.92 1355.64 2075.16 1355.64 Q2070.53 1355.64 2068.08 1358.76 Q2065.65 1361.89 2065.3 1368.21 Q2066.67 1366.19 2068.73 1365.13 Q2070.79 1364.04 2073.27 1364.04 Q2078.47 1364.04 2081.48 1367.21 Q2084.52 1370.36 2084.52 1375.8 Q2084.52 1381.12 2081.37 1384.34 Q2078.22 1387.56 2072.99 1387.56 Q2066.99 1387.56 2063.82 1382.98 Q2060.65 1378.37 2060.65 1369.64 Q2060.65 1361.45 2064.54 1356.59 Q2068.43 1351.7 2074.98 1351.7 Q2076.74 1351.7 2078.52 1352.05 Q2080.33 1352.4 2082.27 1353.09 Z\" fill=\"#000000\" fill-rule=\"evenodd\" fill-opacity=\"1\" /><path clip-path=\"url(#clip8700)\" d=\"M 0 0 M2196.94 1304.4 Q2193.33 1304.4 2191.5 1307.96 Q2189.7 1311.5 2189.7 1318.63 Q2189.7 1325.74 2191.5 1329.3 Q2193.33 1332.84 2196.94 1332.84 Q2200.58 1332.84 2202.38 1329.3 Q2204.21 1325.74 2204.21 1318.63 Q2204.21 1311.5 2202.38 1307.96 Q2200.58 1304.4 2196.94 1304.4 M2196.94 1300.69 Q2202.75 1300.69 2205.81 1305.3 Q2208.89 1309.88 2208.89 1318.63 Q2208.89 1327.36 2205.81 1331.96 Q2202.75 1336.55 2196.94 1336.55 Q2191.13 1336.55 2188.05 1331.96 Q2185 1327.36 2185 1318.63 Q2185 1309.88 2188.05 1305.3 Q2191.13 1300.69 2196.94 1300.69 Z\" fill=\"#000000\" fill-rule=\"evenodd\" fill-opacity=\"1\" /><path clip-path=\"url(#clip8700)\" d=\"M 0 0 M2213.96 1330 L2218.84 1330 L2218.84 1335.88 L2213.96 1335.88 L2213.96 1330 Z\" fill=\"#000000\" fill-rule=\"evenodd\" fill-opacity=\"1\" /><path clip-path=\"url(#clip8700)\" d=\"M 0 0 M2233.91 1319.46 Q2230.58 1319.46 2228.66 1321.25 Q2226.76 1323.03 2226.76 1326.15 Q2226.76 1329.28 2228.66 1331.06 Q2230.58 1332.84 2233.91 1332.84 Q2237.24 1332.84 2239.17 1331.06 Q2241.09 1329.26 2241.09 1326.15 Q2241.09 1323.03 2239.17 1321.25 Q2237.27 1319.46 2233.91 1319.46 M2229.24 1317.47 Q2226.23 1316.73 2224.54 1314.67 Q2222.87 1312.61 2222.87 1309.65 Q2222.87 1305.51 2225.81 1303.1 Q2228.77 1300.69 2233.91 1300.69 Q2239.07 1300.69 2242.01 1303.1 Q2244.95 1305.51 2244.95 1309.65 Q2244.95 1312.61 2243.26 1314.67 Q2241.6 1316.73 2238.61 1317.47 Q2241.99 1318.26 2243.86 1320.55 Q2245.76 1322.84 2245.76 1326.15 Q2245.76 1331.18 2242.68 1333.86 Q2239.63 1336.55 2233.91 1336.55 Q2228.19 1336.55 2225.11 1333.86 Q2222.06 1331.18 2222.06 1326.15 Q2222.06 1322.84 2223.96 1320.55 Q2225.86 1318.26 2229.24 1317.47 M2227.52 1310.09 Q2227.52 1312.77 2229.19 1314.28 Q2230.88 1315.78 2233.91 1315.78 Q2236.92 1315.78 2238.61 1314.28 Q2240.32 1312.77 2240.32 1310.09 Q2240.32 1307.4 2238.61 1305.9 Q2236.92 1304.4 2233.91 1304.4 Q2230.88 1304.4 2229.19 1305.9 Q2227.52 1307.4 2227.52 1310.09 Z\" fill=\"#000000\" fill-rule=\"evenodd\" fill-opacity=\"1\" /><path clip-path=\"url(#clip8700)\" d=\"M 0 0 M2348.65 1280.93 L2356.29 1280.93 L2356.29 1254.56 L2347.98 1256.23 L2347.98 1251.97 L2356.25 1250.31 L2360.92 1250.31 L2360.92 1280.93 L2368.56 1280.93 L2368.56 1284.87 L2348.65 1284.87 L2348.65 1280.93 Z\" fill=\"#000000\" fill-rule=\"evenodd\" fill-opacity=\"1\" /><path clip-path=\"url(#clip8700)\" d=\"M 0 0 M2373.63 1278.99 L2378.52 1278.99 L2378.52 1284.87 L2373.63 1284.87 L2373.63 1278.99 Z\" fill=\"#000000\" fill-rule=\"evenodd\" fill-opacity=\"1\" /><path clip-path=\"url(#clip8700)\" d=\"M 0 0 M2393.58 1253.38 Q2389.97 1253.38 2388.14 1256.95 Q2386.34 1260.49 2386.34 1267.62 Q2386.34 1274.73 2388.14 1278.29 Q2389.97 1281.83 2393.58 1281.83 Q2397.22 1281.83 2399.02 1278.29 Q2400.85 1274.73 2400.85 1267.62 Q2400.85 1260.49 2399.02 1256.95 Q2397.22 1253.38 2393.58 1253.38 M2393.58 1249.68 Q2399.39 1249.68 2402.45 1254.29 Q2405.53 1258.87 2405.53 1267.62 Q2405.53 1276.35 2402.45 1280.95 Q2399.39 1285.54 2393.58 1285.54 Q2387.77 1285.54 2384.7 1280.95 Q2381.64 1276.35 2381.64 1267.62 Q2381.64 1258.87 2384.7 1254.29 Q2387.77 1249.68 2393.58 1249.68 Z\" fill=\"#000000\" fill-rule=\"evenodd\" fill-opacity=\"1\" /><path clip-path=\"url(#clip8700)\" d=\"M 0 0 M75.4226 1387.23 Q71.8115 1387.23 69.9828 1390.79 Q68.1773 1394.33 68.1773 1401.46 Q68.1773 1408.57 69.9828 1412.14 Q71.8115 1415.68 75.4226 1415.68 Q79.0569 1415.68 80.8624 1412.14 Q82.6911 1408.57 82.6911 1401.46 Q82.6911 1394.33 80.8624 1390.79 Q79.0569 1387.23 75.4226 1387.23 M75.4226 1383.52 Q81.2328 1383.52 84.2883 1388.13 Q87.367 1392.71 87.367 1401.46 Q87.367 1410.19 84.2883 1414.8 Q81.2328 1419.38 75.4226 1419.38 Q69.6125 1419.38 66.5338 1414.8 Q63.4782 1410.19 63.4782 1401.46 Q63.4782 1392.71 66.5338 1388.13 Q69.6125 1383.52 75.4226 1383.52 Z\" fill=\"#000000\" fill-rule=\"evenodd\" fill-opacity=\"1\" /><path clip-path=\"url(#clip8700)\" d=\"M 0 0 M92.4364 1412.83 L97.3206 1412.83 L97.3206 1418.71 L92.4364 1418.71 L92.4364 1412.83 Z\" fill=\"#000000\" fill-rule=\"evenodd\" fill-opacity=\"1\" /><path clip-path=\"url(#clip8700)\" d=\"M 0 0 M112.39 1387.23 Q108.779 1387.23 106.95 1390.79 Q105.145 1394.33 105.145 1401.46 Q105.145 1408.57 106.95 1412.14 Q108.779 1415.68 112.39 1415.68 Q116.024 1415.68 117.83 1412.14 Q119.658 1408.57 119.658 1401.46 Q119.658 1394.33 117.83 1390.79 Q116.024 1387.23 112.39 1387.23 M112.39 1383.52 Q118.2 1383.52 121.256 1388.13 Q124.334 1392.71 124.334 1401.46 Q124.334 1410.19 121.256 1414.8 Q118.2 1419.38 112.39 1419.38 Q106.58 1419.38 103.501 1414.8 Q100.446 1410.19 100.446 1401.46 Q100.446 1392.71 103.501 1388.13 Q106.58 1383.52 112.39 1383.52 Z\" fill=\"#000000\" fill-rule=\"evenodd\" fill-opacity=\"1\" /><path clip-path=\"url(#clip8700)\" d=\"M 0 0 M77.0198 1167.4 Q73.4087 1167.4 71.58 1170.97 Q69.7745 1174.51 69.7745 1181.64 Q69.7745 1188.74 71.58 1192.31 Q73.4087 1195.85 77.0198 1195.85 Q80.6541 1195.85 82.4596 1192.31 Q84.2883 1188.74 84.2883 1181.64 Q84.2883 1174.51 82.4596 1170.97 Q80.6541 1167.4 77.0198 1167.4 M77.0198 1163.7 Q82.83 1163.7 85.8855 1168.3 Q88.9642 1172.89 88.9642 1181.64 Q88.9642 1190.37 85.8855 1194.97 Q82.83 1199.55 77.0198 1199.55 Q71.2097 1199.55 68.131 1194.97 Q65.0754 1190.37 65.0754 1181.64 Q65.0754 1172.89 68.131 1168.3 Q71.2097 1163.7 77.0198 1163.7 Z\" fill=\"#000000\" fill-rule=\"evenodd\" fill-opacity=\"1\" /><path clip-path=\"url(#clip8700)\" d=\"M 0 0 M94.0336 1193 L98.9179 1193 L98.9179 1198.88 L94.0336 1198.88 L94.0336 1193 Z\" fill=\"#000000\" fill-rule=\"evenodd\" fill-opacity=\"1\" /><path clip-path=\"url(#clip8700)\" d=\"M 0 0 M108.015 1194.95 L124.334 1194.95 L124.334 1198.88 L102.39 1198.88 L102.39 1194.95 Q105.052 1192.19 109.635 1187.56 Q114.242 1182.91 115.422 1181.57 Q117.668 1179.05 118.547 1177.31 Q119.45 1175.55 119.45 1173.86 Q119.45 1171.11 117.506 1169.37 Q115.584 1167.63 112.483 1167.63 Q110.284 1167.63 107.83 1168.4 Q105.399 1169.16 102.622 1170.71 L102.622 1165.99 Q105.446 1164.86 107.899 1164.28 Q110.353 1163.7 112.39 1163.7 Q117.76 1163.7 120.955 1166.38 Q124.149 1169.07 124.149 1173.56 Q124.149 1175.69 123.339 1177.61 Q122.552 1179.51 120.446 1182.1 Q119.867 1182.77 116.765 1185.99 Q113.663 1189.18 108.015 1194.95 Z\" fill=\"#000000\" fill-rule=\"evenodd\" fill-opacity=\"1\" /><path clip-path=\"url(#clip8700)\" d=\"M 0 0 M74.9365 947.576 Q71.3254 947.576 69.4967 951.141 Q67.6912 954.682 67.6912 961.812 Q67.6912 968.918 69.4967 972.483 Q71.3254 976.025 74.9365 976.025 Q78.5707 976.025 80.3763 972.483 Q82.205 968.918 82.205 961.812 Q82.205 954.682 80.3763 951.141 Q78.5707 947.576 74.9365 947.576 M74.9365 943.872 Q80.7467 943.872 83.8022 948.479 Q86.8809 953.062 86.8809 961.812 Q86.8809 970.539 83.8022 975.145 Q80.7467 979.729 74.9365 979.729 Q69.1264 979.729 66.0477 975.145 Q62.9921 970.539 62.9921 961.812 Q62.9921 953.062 66.0477 948.479 Q69.1264 943.872 74.9365 943.872 Z\" fill=\"#000000\" fill-rule=\"evenodd\" fill-opacity=\"1\" /><path clip-path=\"url(#clip8700)\" d=\"M 0 0 M91.9503 973.178 L96.8345 973.178 L96.8345 979.057 L91.9503 979.057 L91.9503 973.178 Z\" fill=\"#000000\" fill-rule=\"evenodd\" fill-opacity=\"1\" /><path clip-path=\"url(#clip8700)\" d=\"M 0 0 M114.751 948.571 L102.946 967.02 L114.751 967.02 L114.751 948.571 M113.524 944.497 L119.404 944.497 L119.404 967.02 L124.334 967.02 L124.334 970.909 L119.404 970.909 L119.404 979.057 L114.751 979.057 L114.751 970.909 L99.1493 970.909 L99.1493 966.395 L113.524 944.497 Z\" fill=\"#000000\" fill-rule=\"evenodd\" fill-opacity=\"1\" /><path clip-path=\"url(#clip8700)\" d=\"M 0 0 M75.2606 727.75 Q71.6495 727.75 69.8208 731.314 Q68.0152 734.856 68.0152 741.986 Q68.0152 749.092 69.8208 752.657 Q71.6495 756.199 75.2606 756.199 Q78.8948 756.199 80.7004 752.657 Q82.5291 749.092 82.5291 741.986 Q82.5291 734.856 80.7004 731.314 Q78.8948 727.75 75.2606 727.75 M75.2606 724.046 Q81.0707 724.046 84.1263 728.652 Q87.205 733.236 87.205 741.986 Q87.205 750.712 84.1263 755.319 Q81.0707 759.902 75.2606 759.902 Q69.4504 759.902 66.3717 755.319 Q63.3162 750.712 63.3162 741.986 Q63.3162 733.236 66.3717 728.652 Q69.4504 724.046 75.2606 724.046 Z\" fill=\"#000000\" fill-rule=\"evenodd\" fill-opacity=\"1\" /><path clip-path=\"url(#clip8700)\" d=\"M 0 0 M92.2744 753.351 L97.1586 753.351 L97.1586 759.231 L92.2744 759.231 L92.2744 753.351 Z\" fill=\"#000000\" fill-rule=\"evenodd\" fill-opacity=\"1\" /><path clip-path=\"url(#clip8700)\" d=\"M 0 0 M112.807 740.088 Q109.659 740.088 107.807 742.24 Q105.978 744.393 105.978 748.143 Q105.978 751.87 107.807 754.046 Q109.659 756.199 112.807 756.199 Q115.955 756.199 117.783 754.046 Q119.635 751.87 119.635 748.143 Q119.635 744.393 117.783 742.24 Q115.955 740.088 112.807 740.088 M122.089 725.435 L122.089 729.694 Q120.33 728.861 118.524 728.421 Q116.742 727.981 114.983 727.981 Q110.353 727.981 107.899 731.106 Q105.469 734.231 105.122 740.55 Q106.487 738.537 108.547 737.472 Q110.608 736.384 113.084 736.384 Q118.293 736.384 121.302 739.555 Q124.334 742.703 124.334 748.143 Q124.334 753.467 121.186 756.685 Q118.038 759.902 112.807 759.902 Q106.811 759.902 103.64 755.319 Q100.469 750.712 100.469 741.986 Q100.469 733.791 104.358 728.93 Q108.247 724.046 114.797 724.046 Q116.557 724.046 118.339 724.393 Q120.145 724.74 122.089 725.435 Z\" fill=\"#000000\" fill-rule=\"evenodd\" fill-opacity=\"1\" /><path clip-path=\"url(#clip8700)\" d=\"M 0 0 M75.5152 507.923 Q71.9041 507.923 70.0754 511.488 Q68.2699 515.03 68.2699 522.159 Q68.2699 529.266 70.0754 532.831 Q71.9041 536.372 75.5152 536.372 Q79.1494 536.372 80.955 532.831 Q82.7837 529.266 82.7837 522.159 Q82.7837 515.03 80.955 511.488 Q79.1494 507.923 75.5152 507.923 M75.5152 504.22 Q81.3254 504.22 84.3809 508.826 Q87.4596 513.409 87.4596 522.159 Q87.4596 530.886 84.3809 535.493 Q81.3254 540.076 75.5152 540.076 Q69.7051 540.076 66.6264 535.493 Q63.5708 530.886 63.5708 522.159 Q63.5708 513.409 66.6264 508.826 Q69.7051 504.22 75.5152 504.22 Z\" fill=\"#000000\" fill-rule=\"evenodd\" fill-opacity=\"1\" /><path clip-path=\"url(#clip8700)\" d=\"M 0 0 M92.529 533.525 L97.4132 533.525 L97.4132 539.405 L92.529 539.405 L92.529 533.525 Z\" fill=\"#000000\" fill-rule=\"evenodd\" fill-opacity=\"1\" /><path clip-path=\"url(#clip8700)\" d=\"M 0 0 M112.483 522.993 Q109.149 522.993 107.228 524.775 Q105.33 526.558 105.33 529.683 Q105.33 532.807 107.228 534.59 Q109.149 536.372 112.483 536.372 Q115.816 536.372 117.737 534.59 Q119.658 532.784 119.658 529.683 Q119.658 526.558 117.737 524.775 Q115.839 522.993 112.483 522.993 M107.807 521.002 Q104.797 520.261 103.108 518.201 Q101.441 516.141 101.441 513.178 Q101.441 509.034 104.381 506.627 Q107.344 504.22 112.483 504.22 Q117.645 504.22 120.584 506.627 Q123.524 509.034 123.524 513.178 Q123.524 516.141 121.834 518.201 Q120.168 520.261 117.182 521.002 Q120.561 521.789 122.436 524.081 Q124.334 526.372 124.334 529.683 Q124.334 534.706 121.256 537.391 Q118.2 540.076 112.483 540.076 Q106.765 540.076 103.686 537.391 Q100.631 534.706 100.631 529.683 Q100.631 526.372 102.529 524.081 Q104.427 521.789 107.807 521.002 M106.094 513.618 Q106.094 516.303 107.76 517.808 Q109.45 519.312 112.483 519.312 Q115.492 519.312 117.182 517.808 Q118.895 516.303 118.895 513.618 Q118.895 510.933 117.182 509.428 Q115.492 507.923 112.483 507.923 Q109.45 507.923 107.76 509.428 Q106.094 510.933 106.094 513.618 Z\" fill=\"#000000\" fill-rule=\"evenodd\" fill-opacity=\"1\" /><path clip-path=\"url(#clip8700)\" d=\"M 0 0 M67.4597 315.643 L75.0985 315.643 L75.0985 289.278 L66.7884 290.944 L66.7884 286.685 L75.0522 285.018 L79.7281 285.018 L79.7281 315.643 L87.367 315.643 L87.367 319.578 L67.4597 319.578 L67.4597 315.643 Z\" fill=\"#000000\" fill-rule=\"evenodd\" fill-opacity=\"1\" /><path clip-path=\"url(#clip8700)\" d=\"M 0 0 M92.4364 313.699 L97.3206 313.699 L97.3206 319.578 L92.4364 319.578 L92.4364 313.699 Z\" fill=\"#000000\" fill-rule=\"evenodd\" fill-opacity=\"1\" /><path clip-path=\"url(#clip8700)\" d=\"M 0 0 M112.39 288.097 Q108.779 288.097 106.95 291.662 Q105.145 295.204 105.145 302.333 Q105.145 309.44 106.95 313.004 Q108.779 316.546 112.39 316.546 Q116.024 316.546 117.83 313.004 Q119.658 309.44 119.658 302.333 Q119.658 295.204 117.83 291.662 Q116.024 288.097 112.39 288.097 M112.39 284.393 Q118.2 284.393 121.256 289 Q124.334 293.583 124.334 302.333 Q124.334 311.06 121.256 315.666 Q118.2 320.25 112.39 320.25 Q106.58 320.25 103.501 315.666 Q100.446 311.06 100.446 302.333 Q100.446 293.583 103.501 289 Q106.58 284.393 112.39 284.393 Z\" fill=\"#000000\" fill-rule=\"evenodd\" fill-opacity=\"1\" /><circle clip-path=\"url(#clip8702)\" cx=\"1527.16\" cy=\"559.811\" r=\"14\" fill=\"#009af9\" fill-rule=\"evenodd\" fill-opacity=\"1\" stroke=\"#000000\" stroke-opacity=\"1\" stroke-width=\"3.2\"/>\n",
       "<circle clip-path=\"url(#clip8702)\" cx=\"1789.52\" cy=\"546.289\" r=\"14\" fill=\"#009af9\" fill-rule=\"evenodd\" fill-opacity=\"1\" stroke=\"#000000\" stroke-opacity=\"1\" stroke-width=\"3.2\"/>\n",
       "<circle clip-path=\"url(#clip8702)\" cx=\"1656.08\" cy=\"581.75\" r=\"14\" fill=\"#009af9\" fill-rule=\"evenodd\" fill-opacity=\"1\" stroke=\"#000000\" stroke-opacity=\"1\" stroke-width=\"3.2\"/>\n",
       "<circle clip-path=\"url(#clip8702)\" cx=\"1714.47\" cy=\"527.306\" r=\"14\" fill=\"#009af9\" fill-rule=\"evenodd\" fill-opacity=\"1\" stroke=\"#000000\" stroke-opacity=\"1\" stroke-width=\"3.2\"/>\n",
       "<circle clip-path=\"url(#clip8702)\" cx=\"1604.34\" cy=\"558.339\" r=\"14\" fill=\"#009af9\" fill-rule=\"evenodd\" fill-opacity=\"1\" stroke=\"#000000\" stroke-opacity=\"1\" stroke-width=\"3.2\"/>\n",
       "<circle clip-path=\"url(#clip8702)\" cx=\"1656.24\" cy=\"585.834\" r=\"14\" fill=\"#009af9\" fill-rule=\"evenodd\" fill-opacity=\"1\" stroke=\"#000000\" stroke-opacity=\"1\" stroke-width=\"3.2\"/>\n",
       "<circle clip-path=\"url(#clip8702)\" cx=\"1658.93\" cy=\"620.96\" r=\"14\" fill=\"#009af9\" fill-rule=\"evenodd\" fill-opacity=\"1\" stroke=\"#000000\" stroke-opacity=\"1\" stroke-width=\"3.2\"/>\n",
       "<circle clip-path=\"url(#clip8702)\" cx=\"1643.94\" cy=\"510.762\" r=\"14\" fill=\"#009af9\" fill-rule=\"evenodd\" fill-opacity=\"1\" stroke=\"#000000\" stroke-opacity=\"1\" stroke-width=\"3.2\"/>\n",
       "<circle clip-path=\"url(#clip8702)\" cx=\"1604.58\" cy=\"598.275\" r=\"14\" fill=\"#009af9\" fill-rule=\"evenodd\" fill-opacity=\"1\" stroke=\"#000000\" stroke-opacity=\"1\" stroke-width=\"3.2\"/>\n",
       "<circle clip-path=\"url(#clip8702)\" cx=\"1637.77\" cy=\"566.548\" r=\"14\" fill=\"#009af9\" fill-rule=\"evenodd\" fill-opacity=\"1\" stroke=\"#000000\" stroke-opacity=\"1\" stroke-width=\"3.2\"/>\n",
       "<circle clip-path=\"url(#clip8702)\" cx=\"1611.2\" cy=\"554.576\" r=\"14\" fill=\"#009af9\" fill-rule=\"evenodd\" fill-opacity=\"1\" stroke=\"#000000\" stroke-opacity=\"1\" stroke-width=\"3.2\"/>\n",
       "<circle clip-path=\"url(#clip8702)\" cx=\"1599.96\" cy=\"626.292\" r=\"14\" fill=\"#009af9\" fill-rule=\"evenodd\" fill-opacity=\"1\" stroke=\"#000000\" stroke-opacity=\"1\" stroke-width=\"3.2\"/>\n",
       "<circle clip-path=\"url(#clip8702)\" cx=\"1595.23\" cy=\"608.418\" r=\"14\" fill=\"#009af9\" fill-rule=\"evenodd\" fill-opacity=\"1\" stroke=\"#000000\" stroke-opacity=\"1\" stroke-width=\"3.2\"/>\n",
       "<circle clip-path=\"url(#clip8702)\" cx=\"1632.35\" cy=\"564.516\" r=\"14\" fill=\"#009af9\" fill-rule=\"evenodd\" fill-opacity=\"1\" stroke=\"#000000\" stroke-opacity=\"1\" stroke-width=\"3.2\"/>\n",
       "<circle clip-path=\"url(#clip8702)\" cx=\"1541.38\" cy=\"549.447\" r=\"14\" fill=\"#009af9\" fill-rule=\"evenodd\" fill-opacity=\"1\" stroke=\"#000000\" stroke-opacity=\"1\" stroke-width=\"3.2\"/>\n",
       "<circle clip-path=\"url(#clip8702)\" cx=\"1682.72\" cy=\"549.408\" r=\"14\" fill=\"#009af9\" fill-rule=\"evenodd\" fill-opacity=\"1\" stroke=\"#000000\" stroke-opacity=\"1\" stroke-width=\"3.2\"/>\n",
       "<circle clip-path=\"url(#clip8702)\" cx=\"1594.99\" cy=\"596.857\" r=\"14\" fill=\"#009af9\" fill-rule=\"evenodd\" fill-opacity=\"1\" stroke=\"#000000\" stroke-opacity=\"1\" stroke-width=\"3.2\"/>\n",
       "<circle clip-path=\"url(#clip8702)\" cx=\"1581.1\" cy=\"589.768\" r=\"14\" fill=\"#009af9\" fill-rule=\"evenodd\" fill-opacity=\"1\" stroke=\"#000000\" stroke-opacity=\"1\" stroke-width=\"3.2\"/>\n",
       "<circle clip-path=\"url(#clip8702)\" cx=\"1579.27\" cy=\"644.007\" r=\"14\" fill=\"#009af9\" fill-rule=\"evenodd\" fill-opacity=\"1\" stroke=\"#000000\" stroke-opacity=\"1\" stroke-width=\"3.2\"/>\n",
       "<circle clip-path=\"url(#clip8702)\" cx=\"1627.92\" cy=\"518.262\" r=\"14\" fill=\"#009af9\" fill-rule=\"evenodd\" fill-opacity=\"1\" stroke=\"#000000\" stroke-opacity=\"1\" stroke-width=\"3.2\"/>\n",
       "<circle clip-path=\"url(#clip8702)\" cx=\"1507.58\" cy=\"547.069\" r=\"14\" fill=\"#009af9\" fill-rule=\"evenodd\" fill-opacity=\"1\" stroke=\"#000000\" stroke-opacity=\"1\" stroke-width=\"3.2\"/>\n",
       "<circle clip-path=\"url(#clip8702)\" cx=\"1667.2\" cy=\"611.758\" r=\"14\" fill=\"#009af9\" fill-rule=\"evenodd\" fill-opacity=\"1\" stroke=\"#000000\" stroke-opacity=\"1\" stroke-width=\"3.2\"/>\n",
       "<circle clip-path=\"url(#clip8702)\" cx=\"1603.39\" cy=\"545.247\" r=\"14\" fill=\"#009af9\" fill-rule=\"evenodd\" fill-opacity=\"1\" stroke=\"#000000\" stroke-opacity=\"1\" stroke-width=\"3.2\"/>\n",
       "<circle clip-path=\"url(#clip8702)\" cx=\"1699.91\" cy=\"585.581\" r=\"14\" fill=\"#009af9\" fill-rule=\"evenodd\" fill-opacity=\"1\" stroke=\"#000000\" stroke-opacity=\"1\" stroke-width=\"3.2\"/>\n",
       "<circle clip-path=\"url(#clip8702)\" cx=\"1586.57\" cy=\"566.659\" r=\"14\" fill=\"#009af9\" fill-rule=\"evenodd\" fill-opacity=\"1\" stroke=\"#000000\" stroke-opacity=\"1\" stroke-width=\"3.2\"/>\n",
       "<circle clip-path=\"url(#clip8702)\" cx=\"1598.98\" cy=\"607.065\" r=\"14\" fill=\"#009af9\" fill-rule=\"evenodd\" fill-opacity=\"1\" stroke=\"#000000\" stroke-opacity=\"1\" stroke-width=\"3.2\"/>\n",
       "<circle clip-path=\"url(#clip8702)\" cx=\"1577.25\" cy=\"573.626\" r=\"14\" fill=\"#009af9\" fill-rule=\"evenodd\" fill-opacity=\"1\" stroke=\"#000000\" stroke-opacity=\"1\" stroke-width=\"3.2\"/>\n",
       "<circle clip-path=\"url(#clip8702)\" cx=\"1508.04\" cy=\"593.101\" r=\"14\" fill=\"#009af9\" fill-rule=\"evenodd\" fill-opacity=\"1\" stroke=\"#000000\" stroke-opacity=\"1\" stroke-width=\"3.2\"/>\n",
       "<circle clip-path=\"url(#clip8702)\" cx=\"1691.72\" cy=\"566.317\" r=\"14\" fill=\"#009af9\" fill-rule=\"evenodd\" fill-opacity=\"1\" stroke=\"#000000\" stroke-opacity=\"1\" stroke-width=\"3.2\"/>\n",
       "<circle clip-path=\"url(#clip8702)\" cx=\"1643.26\" cy=\"519.038\" r=\"14\" fill=\"#009af9\" fill-rule=\"evenodd\" fill-opacity=\"1\" stroke=\"#000000\" stroke-opacity=\"1\" stroke-width=\"3.2\"/>\n",
       "<circle clip-path=\"url(#clip8702)\" cx=\"1696.13\" cy=\"521.458\" r=\"14\" fill=\"#009af9\" fill-rule=\"evenodd\" fill-opacity=\"1\" stroke=\"#000000\" stroke-opacity=\"1\" stroke-width=\"3.2\"/>\n",
       "<circle clip-path=\"url(#clip8702)\" cx=\"1591.73\" cy=\"551.124\" r=\"14\" fill=\"#009af9\" fill-rule=\"evenodd\" fill-opacity=\"1\" stroke=\"#000000\" stroke-opacity=\"1\" stroke-width=\"3.2\"/>\n",
       "<circle clip-path=\"url(#clip8702)\" cx=\"1568.53\" cy=\"526.01\" r=\"14\" fill=\"#009af9\" fill-rule=\"evenodd\" fill-opacity=\"1\" stroke=\"#000000\" stroke-opacity=\"1\" stroke-width=\"3.2\"/>\n",
       "<circle clip-path=\"url(#clip8702)\" cx=\"1620.69\" cy=\"575.597\" r=\"14\" fill=\"#009af9\" fill-rule=\"evenodd\" fill-opacity=\"1\" stroke=\"#000000\" stroke-opacity=\"1\" stroke-width=\"3.2\"/>\n",
       "<circle clip-path=\"url(#clip8702)\" cx=\"1514.04\" cy=\"545.215\" r=\"14\" fill=\"#009af9\" fill-rule=\"evenodd\" fill-opacity=\"1\" stroke=\"#000000\" stroke-opacity=\"1\" stroke-width=\"3.2\"/>\n",
       "<circle clip-path=\"url(#clip8702)\" cx=\"1708.59\" cy=\"595.208\" r=\"14\" fill=\"#009af9\" fill-rule=\"evenodd\" fill-opacity=\"1\" stroke=\"#000000\" stroke-opacity=\"1\" stroke-width=\"3.2\"/>\n",
       "<circle clip-path=\"url(#clip8702)\" cx=\"1711.66\" cy=\"545.343\" r=\"14\" fill=\"#009af9\" fill-rule=\"evenodd\" fill-opacity=\"1\" stroke=\"#000000\" stroke-opacity=\"1\" stroke-width=\"3.2\"/>\n",
       "<circle clip-path=\"url(#clip8702)\" cx=\"1767.1\" cy=\"540.354\" r=\"14\" fill=\"#009af9\" fill-rule=\"evenodd\" fill-opacity=\"1\" stroke=\"#000000\" stroke-opacity=\"1\" stroke-width=\"3.2\"/>\n",
       "<circle clip-path=\"url(#clip8702)\" cx=\"1626.3\" cy=\"608.424\" r=\"14\" fill=\"#009af9\" fill-rule=\"evenodd\" fill-opacity=\"1\" stroke=\"#000000\" stroke-opacity=\"1\" stroke-width=\"3.2\"/>\n",
       "<circle clip-path=\"url(#clip8702)\" cx=\"1575.34\" cy=\"568.215\" r=\"14\" fill=\"#009af9\" fill-rule=\"evenodd\" fill-opacity=\"1\" stroke=\"#000000\" stroke-opacity=\"1\" stroke-width=\"3.2\"/>\n",
       "<circle clip-path=\"url(#clip8702)\" cx=\"1617.61\" cy=\"534.666\" r=\"14\" fill=\"#009af9\" fill-rule=\"evenodd\" fill-opacity=\"1\" stroke=\"#000000\" stroke-opacity=\"1\" stroke-width=\"3.2\"/>\n",
       "<circle clip-path=\"url(#clip8702)\" cx=\"1589.9\" cy=\"579.143\" r=\"14\" fill=\"#009af9\" fill-rule=\"evenodd\" fill-opacity=\"1\" stroke=\"#000000\" stroke-opacity=\"1\" stroke-width=\"3.2\"/>\n",
       "<circle clip-path=\"url(#clip8702)\" cx=\"1604.58\" cy=\"598.275\" r=\"14\" fill=\"#009af9\" fill-rule=\"evenodd\" fill-opacity=\"1\" stroke=\"#000000\" stroke-opacity=\"1\" stroke-width=\"3.2\"/>\n",
       "<circle clip-path=\"url(#clip8702)\" cx=\"1621.63\" cy=\"621.981\" r=\"14\" fill=\"#009af9\" fill-rule=\"evenodd\" fill-opacity=\"1\" stroke=\"#000000\" stroke-opacity=\"1\" stroke-width=\"3.2\"/>\n",
       "<circle clip-path=\"url(#clip8702)\" cx=\"1721.4\" cy=\"521.827\" r=\"14\" fill=\"#009af9\" fill-rule=\"evenodd\" fill-opacity=\"1\" stroke=\"#000000\" stroke-opacity=\"1\" stroke-width=\"3.2\"/>\n",
       "<circle clip-path=\"url(#clip8702)\" cx=\"1672.71\" cy=\"574.468\" r=\"14\" fill=\"#009af9\" fill-rule=\"evenodd\" fill-opacity=\"1\" stroke=\"#000000\" stroke-opacity=\"1\" stroke-width=\"3.2\"/>\n",
       "<circle clip-path=\"url(#clip8702)\" cx=\"1651.24\" cy=\"590.099\" r=\"14\" fill=\"#009af9\" fill-rule=\"evenodd\" fill-opacity=\"1\" stroke=\"#000000\" stroke-opacity=\"1\" stroke-width=\"3.2\"/>\n",
       "<circle clip-path=\"url(#clip8702)\" cx=\"1592.51\" cy=\"606.046\" r=\"14\" fill=\"#009af9\" fill-rule=\"evenodd\" fill-opacity=\"1\" stroke=\"#000000\" stroke-opacity=\"1\" stroke-width=\"3.2\"/>\n",
       "<circle clip-path=\"url(#clip8702)\" cx=\"1544.38\" cy=\"553.766\" r=\"14\" fill=\"#009af9\" fill-rule=\"evenodd\" fill-opacity=\"1\" stroke=\"#000000\" stroke-opacity=\"1\" stroke-width=\"3.2\"/>\n",
       "<circle clip-path=\"url(#clip8702)\" cx=\"1557.05\" cy=\"545.281\" r=\"14\" fill=\"#009af9\" fill-rule=\"evenodd\" fill-opacity=\"1\" stroke=\"#000000\" stroke-opacity=\"1\" stroke-width=\"3.2\"/>\n",
       "<circle clip-path=\"url(#clip8702)\" cx=\"1714.36\" cy=\"568.123\" r=\"14\" fill=\"#009af9\" fill-rule=\"evenodd\" fill-opacity=\"1\" stroke=\"#000000\" stroke-opacity=\"1\" stroke-width=\"3.2\"/>\n",
       "<circle clip-path=\"url(#clip8702)\" cx=\"1668.49\" cy=\"556.094\" r=\"14\" fill=\"#009af9\" fill-rule=\"evenodd\" fill-opacity=\"1\" stroke=\"#000000\" stroke-opacity=\"1\" stroke-width=\"3.2\"/>\n",
       "<circle clip-path=\"url(#clip8702)\" cx=\"1694.26\" cy=\"629.31\" r=\"14\" fill=\"#009af9\" fill-rule=\"evenodd\" fill-opacity=\"1\" stroke=\"#000000\" stroke-opacity=\"1\" stroke-width=\"3.2\"/>\n",
       "<circle clip-path=\"url(#clip8702)\" cx=\"1598.78\" cy=\"546.08\" r=\"14\" fill=\"#009af9\" fill-rule=\"evenodd\" fill-opacity=\"1\" stroke=\"#000000\" stroke-opacity=\"1\" stroke-width=\"3.2\"/>\n",
       "<circle clip-path=\"url(#clip8702)\" cx=\"1712.25\" cy=\"565.908\" r=\"14\" fill=\"#009af9\" fill-rule=\"evenodd\" fill-opacity=\"1\" stroke=\"#000000\" stroke-opacity=\"1\" stroke-width=\"3.2\"/>\n",
       "<circle clip-path=\"url(#clip8702)\" cx=\"1578.33\" cy=\"561.275\" r=\"14\" fill=\"#009af9\" fill-rule=\"evenodd\" fill-opacity=\"1\" stroke=\"#000000\" stroke-opacity=\"1\" stroke-width=\"3.2\"/>\n",
       "<circle clip-path=\"url(#clip8702)\" cx=\"1598.24\" cy=\"615.528\" r=\"14\" fill=\"#009af9\" fill-rule=\"evenodd\" fill-opacity=\"1\" stroke=\"#000000\" stroke-opacity=\"1\" stroke-width=\"3.2\"/>\n",
       "<circle clip-path=\"url(#clip8702)\" cx=\"1705.13\" cy=\"599.115\" r=\"14\" fill=\"#009af9\" fill-rule=\"evenodd\" fill-opacity=\"1\" stroke=\"#000000\" stroke-opacity=\"1\" stroke-width=\"3.2\"/>\n",
       "<circle clip-path=\"url(#clip8702)\" cx=\"1681.57\" cy=\"578.592\" r=\"14\" fill=\"#009af9\" fill-rule=\"evenodd\" fill-opacity=\"1\" stroke=\"#000000\" stroke-opacity=\"1\" stroke-width=\"3.2\"/>\n",
       "<circle clip-path=\"url(#clip8702)\" cx=\"1561.35\" cy=\"564.76\" r=\"14\" fill=\"#009af9\" fill-rule=\"evenodd\" fill-opacity=\"1\" stroke=\"#000000\" stroke-opacity=\"1\" stroke-width=\"3.2\"/>\n",
       "<circle clip-path=\"url(#clip8702)\" cx=\"1568.36\" cy=\"554.215\" r=\"14\" fill=\"#009af9\" fill-rule=\"evenodd\" fill-opacity=\"1\" stroke=\"#000000\" stroke-opacity=\"1\" stroke-width=\"3.2\"/>\n",
       "<circle clip-path=\"url(#clip8702)\" cx=\"1616.41\" cy=\"619.728\" r=\"14\" fill=\"#009af9\" fill-rule=\"evenodd\" fill-opacity=\"1\" stroke=\"#000000\" stroke-opacity=\"1\" stroke-width=\"3.2\"/>\n",
       "<circle clip-path=\"url(#clip8702)\" cx=\"1641.33\" cy=\"567.239\" r=\"14\" fill=\"#009af9\" fill-rule=\"evenodd\" fill-opacity=\"1\" stroke=\"#000000\" stroke-opacity=\"1\" stroke-width=\"3.2\"/>\n",
       "<circle clip-path=\"url(#clip8702)\" cx=\"1624.93\" cy=\"548.348\" r=\"14\" fill=\"#009af9\" fill-rule=\"evenodd\" fill-opacity=\"1\" stroke=\"#000000\" stroke-opacity=\"1\" stroke-width=\"3.2\"/>\n",
       "<circle clip-path=\"url(#clip8702)\" cx=\"1647.68\" cy=\"515.563\" r=\"14\" fill=\"#009af9\" fill-rule=\"evenodd\" fill-opacity=\"1\" stroke=\"#000000\" stroke-opacity=\"1\" stroke-width=\"3.2\"/>\n",
       "<circle clip-path=\"url(#clip8702)\" cx=\"1562.8\" cy=\"620.521\" r=\"14\" fill=\"#009af9\" fill-rule=\"evenodd\" fill-opacity=\"1\" stroke=\"#000000\" stroke-opacity=\"1\" stroke-width=\"3.2\"/>\n",
       "<circle clip-path=\"url(#clip8702)\" cx=\"1594.99\" cy=\"596.857\" r=\"14\" fill=\"#009af9\" fill-rule=\"evenodd\" fill-opacity=\"1\" stroke=\"#000000\" stroke-opacity=\"1\" stroke-width=\"3.2\"/>\n",
       "<circle clip-path=\"url(#clip8702)\" cx=\"1549.13\" cy=\"556.367\" r=\"14\" fill=\"#009af9\" fill-rule=\"evenodd\" fill-opacity=\"1\" stroke=\"#000000\" stroke-opacity=\"1\" stroke-width=\"3.2\"/>\n",
       "<circle clip-path=\"url(#clip8702)\" cx=\"1632.16\" cy=\"602.628\" r=\"14\" fill=\"#009af9\" fill-rule=\"evenodd\" fill-opacity=\"1\" stroke=\"#000000\" stroke-opacity=\"1\" stroke-width=\"3.2\"/>\n",
       "<circle clip-path=\"url(#clip8702)\" cx=\"1755.61\" cy=\"559.625\" r=\"14\" fill=\"#009af9\" fill-rule=\"evenodd\" fill-opacity=\"1\" stroke=\"#000000\" stroke-opacity=\"1\" stroke-width=\"3.2\"/>\n",
       "<circle clip-path=\"url(#clip8702)\" cx=\"1734.94\" cy=\"589.25\" r=\"14\" fill=\"#009af9\" fill-rule=\"evenodd\" fill-opacity=\"1\" stroke=\"#000000\" stroke-opacity=\"1\" stroke-width=\"3.2\"/>\n",
       "<circle clip-path=\"url(#clip8702)\" cx=\"1622.3\" cy=\"601.16\" r=\"14\" fill=\"#009af9\" fill-rule=\"evenodd\" fill-opacity=\"1\" stroke=\"#000000\" stroke-opacity=\"1\" stroke-width=\"3.2\"/>\n",
       "<circle clip-path=\"url(#clip8702)\" cx=\"1675.42\" cy=\"562.496\" r=\"14\" fill=\"#009af9\" fill-rule=\"evenodd\" fill-opacity=\"1\" stroke=\"#000000\" stroke-opacity=\"1\" stroke-width=\"3.2\"/>\n",
       "<circle clip-path=\"url(#clip8702)\" cx=\"1694.26\" cy=\"629.31\" r=\"14\" fill=\"#009af9\" fill-rule=\"evenodd\" fill-opacity=\"1\" stroke=\"#000000\" stroke-opacity=\"1\" stroke-width=\"3.2\"/>\n",
       "<circle clip-path=\"url(#clip8702)\" cx=\"1548.41\" cy=\"581.935\" r=\"14\" fill=\"#009af9\" fill-rule=\"evenodd\" fill-opacity=\"1\" stroke=\"#000000\" stroke-opacity=\"1\" stroke-width=\"3.2\"/>\n",
       "<circle clip-path=\"url(#clip8702)\" cx=\"1694.55\" cy=\"543.158\" r=\"14\" fill=\"#009af9\" fill-rule=\"evenodd\" fill-opacity=\"1\" stroke=\"#000000\" stroke-opacity=\"1\" stroke-width=\"3.2\"/>\n",
       "<circle clip-path=\"url(#clip8702)\" cx=\"1733.16\" cy=\"530.686\" r=\"14\" fill=\"#009af9\" fill-rule=\"evenodd\" fill-opacity=\"1\" stroke=\"#000000\" stroke-opacity=\"1\" stroke-width=\"3.2\"/>\n",
       "<circle clip-path=\"url(#clip8702)\" cx=\"1684.09\" cy=\"565.686\" r=\"14\" fill=\"#009af9\" fill-rule=\"evenodd\" fill-opacity=\"1\" stroke=\"#000000\" stroke-opacity=\"1\" stroke-width=\"3.2\"/>\n",
       "<circle clip-path=\"url(#clip8702)\" cx=\"1637.89\" cy=\"604.097\" r=\"14\" fill=\"#009af9\" fill-rule=\"evenodd\" fill-opacity=\"1\" stroke=\"#000000\" stroke-opacity=\"1\" stroke-width=\"3.2\"/>\n",
       "<circle clip-path=\"url(#clip8702)\" cx=\"1594.87\" cy=\"529.645\" r=\"14\" fill=\"#009af9\" fill-rule=\"evenodd\" fill-opacity=\"1\" stroke=\"#000000\" stroke-opacity=\"1\" stroke-width=\"3.2\"/>\n",
       "<circle clip-path=\"url(#clip8702)\" cx=\"1554.34\" cy=\"587.445\" r=\"14\" fill=\"#009af9\" fill-rule=\"evenodd\" fill-opacity=\"1\" stroke=\"#000000\" stroke-opacity=\"1\" stroke-width=\"3.2\"/>\n",
       "<circle clip-path=\"url(#clip8702)\" cx=\"1591.68\" cy=\"616.244\" r=\"14\" fill=\"#009af9\" fill-rule=\"evenodd\" fill-opacity=\"1\" stroke=\"#000000\" stroke-opacity=\"1\" stroke-width=\"3.2\"/>\n",
       "<circle clip-path=\"url(#clip8702)\" cx=\"1653.06\" cy=\"551.173\" r=\"14\" fill=\"#009af9\" fill-rule=\"evenodd\" fill-opacity=\"1\" stroke=\"#000000\" stroke-opacity=\"1\" stroke-width=\"3.2\"/>\n",
       "<circle clip-path=\"url(#clip8702)\" cx=\"1647.7\" cy=\"570.294\" r=\"14\" fill=\"#009af9\" fill-rule=\"evenodd\" fill-opacity=\"1\" stroke=\"#000000\" stroke-opacity=\"1\" stroke-width=\"3.2\"/>\n",
       "<circle clip-path=\"url(#clip8702)\" cx=\"1632.35\" cy=\"564.516\" r=\"14\" fill=\"#009af9\" fill-rule=\"evenodd\" fill-opacity=\"1\" stroke=\"#000000\" stroke-opacity=\"1\" stroke-width=\"3.2\"/>\n",
       "<circle clip-path=\"url(#clip8702)\" cx=\"1627.97\" cy=\"597.329\" r=\"14\" fill=\"#009af9\" fill-rule=\"evenodd\" fill-opacity=\"1\" stroke=\"#000000\" stroke-opacity=\"1\" stroke-width=\"3.2\"/>\n",
       "<circle clip-path=\"url(#clip8702)\" cx=\"1567.96\" cy=\"583.486\" r=\"14\" fill=\"#009af9\" fill-rule=\"evenodd\" fill-opacity=\"1\" stroke=\"#000000\" stroke-opacity=\"1\" stroke-width=\"3.2\"/>\n",
       "<circle clip-path=\"url(#clip8702)\" cx=\"1622.19\" cy=\"591.587\" r=\"14\" fill=\"#009af9\" fill-rule=\"evenodd\" fill-opacity=\"1\" stroke=\"#000000\" stroke-opacity=\"1\" stroke-width=\"3.2\"/>\n",
       "<circle clip-path=\"url(#clip8702)\" cx=\"1562.44\" cy=\"597.371\" r=\"14\" fill=\"#009af9\" fill-rule=\"evenodd\" fill-opacity=\"1\" stroke=\"#000000\" stroke-opacity=\"1\" stroke-width=\"3.2\"/>\n",
       "<circle clip-path=\"url(#clip8702)\" cx=\"1581.27\" cy=\"559.319\" r=\"14\" fill=\"#009af9\" fill-rule=\"evenodd\" fill-opacity=\"1\" stroke=\"#000000\" stroke-opacity=\"1\" stroke-width=\"3.2\"/>\n",
       "<circle clip-path=\"url(#clip8702)\" cx=\"1695.52\" cy=\"586.421\" r=\"14\" fill=\"#009af9\" fill-rule=\"evenodd\" fill-opacity=\"1\" stroke=\"#000000\" stroke-opacity=\"1\" stroke-width=\"3.2\"/>\n",
       "<circle clip-path=\"url(#clip8702)\" cx=\"1554.97\" cy=\"622.718\" r=\"14\" fill=\"#009af9\" fill-rule=\"evenodd\" fill-opacity=\"1\" stroke=\"#000000\" stroke-opacity=\"1\" stroke-width=\"3.2\"/>\n",
       "<circle clip-path=\"url(#clip8702)\" cx=\"1658.07\" cy=\"564.913\" r=\"14\" fill=\"#009af9\" fill-rule=\"evenodd\" fill-opacity=\"1\" stroke=\"#000000\" stroke-opacity=\"1\" stroke-width=\"3.2\"/>\n",
       "<circle clip-path=\"url(#clip8702)\" cx=\"1627.92\" cy=\"518.262\" r=\"14\" fill=\"#009af9\" fill-rule=\"evenodd\" fill-opacity=\"1\" stroke=\"#000000\" stroke-opacity=\"1\" stroke-width=\"3.2\"/>\n",
       "<circle clip-path=\"url(#clip8702)\" cx=\"1647.89\" cy=\"530.036\" r=\"14\" fill=\"#009af9\" fill-rule=\"evenodd\" fill-opacity=\"1\" stroke=\"#000000\" stroke-opacity=\"1\" stroke-width=\"3.2\"/>\n",
       "<circle clip-path=\"url(#clip8702)\" cx=\"1641.25\" cy=\"546.59\" r=\"14\" fill=\"#009af9\" fill-rule=\"evenodd\" fill-opacity=\"1\" stroke=\"#000000\" stroke-opacity=\"1\" stroke-width=\"3.2\"/>\n",
       "<circle clip-path=\"url(#clip8702)\" cx=\"1612.3\" cy=\"545.122\" r=\"14\" fill=\"#009af9\" fill-rule=\"evenodd\" fill-opacity=\"1\" stroke=\"#000000\" stroke-opacity=\"1\" stroke-width=\"3.2\"/>\n",
       "<circle clip-path=\"url(#clip8702)\" cx=\"1689\" cy=\"599.503\" r=\"14\" fill=\"#009af9\" fill-rule=\"evenodd\" fill-opacity=\"1\" stroke=\"#000000\" stroke-opacity=\"1\" stroke-width=\"3.2\"/>\n",
       "<circle clip-path=\"url(#clip8702)\" cx=\"1677.53\" cy=\"541.344\" r=\"14\" fill=\"#009af9\" fill-rule=\"evenodd\" fill-opacity=\"1\" stroke=\"#000000\" stroke-opacity=\"1\" stroke-width=\"3.2\"/>\n",
       "<circle clip-path=\"url(#clip8702)\" cx=\"1729.13\" cy=\"582.444\" r=\"14\" fill=\"#009af9\" fill-rule=\"evenodd\" fill-opacity=\"1\" stroke=\"#000000\" stroke-opacity=\"1\" stroke-width=\"3.2\"/>\n",
       "<circle clip-path=\"url(#clip8702)\" cx=\"1699.98\" cy=\"570.282\" r=\"14\" fill=\"#009af9\" fill-rule=\"evenodd\" fill-opacity=\"1\" stroke=\"#000000\" stroke-opacity=\"1\" stroke-width=\"3.2\"/>\n",
       "<circle clip-path=\"url(#clip8702)\" cx=\"1555.73\" cy=\"575.093\" r=\"14\" fill=\"#009af9\" fill-rule=\"evenodd\" fill-opacity=\"1\" stroke=\"#000000\" stroke-opacity=\"1\" stroke-width=\"3.2\"/>\n",
       "<circle clip-path=\"url(#clip8702)\" cx=\"1720.56\" cy=\"591.41\" r=\"14\" fill=\"#009af9\" fill-rule=\"evenodd\" fill-opacity=\"1\" stroke=\"#000000\" stroke-opacity=\"1\" stroke-width=\"3.2\"/>\n",
       "<circle clip-path=\"url(#clip8702)\" cx=\"1628.58\" cy=\"556.997\" r=\"14\" fill=\"#009af9\" fill-rule=\"evenodd\" fill-opacity=\"1\" stroke=\"#000000\" stroke-opacity=\"1\" stroke-width=\"3.2\"/>\n",
       "<circle clip-path=\"url(#clip8702)\" cx=\"1605.18\" cy=\"590.716\" r=\"14\" fill=\"#009af9\" fill-rule=\"evenodd\" fill-opacity=\"1\" stroke=\"#000000\" stroke-opacity=\"1\" stroke-width=\"3.2\"/>\n",
       "<circle clip-path=\"url(#clip8702)\" cx=\"1755.61\" cy=\"559.625\" r=\"14\" fill=\"#009af9\" fill-rule=\"evenodd\" fill-opacity=\"1\" stroke=\"#000000\" stroke-opacity=\"1\" stroke-width=\"3.2\"/>\n",
       "<circle clip-path=\"url(#clip8702)\" cx=\"1609.59\" cy=\"547.572\" r=\"14\" fill=\"#009af9\" fill-rule=\"evenodd\" fill-opacity=\"1\" stroke=\"#000000\" stroke-opacity=\"1\" stroke-width=\"3.2\"/>\n",
       "<circle clip-path=\"url(#clip8702)\" cx=\"1716.39\" cy=\"545.717\" r=\"14\" fill=\"#009af9\" fill-rule=\"evenodd\" fill-opacity=\"1\" stroke=\"#000000\" stroke-opacity=\"1\" stroke-width=\"3.2\"/>\n",
       "<circle clip-path=\"url(#clip8702)\" cx=\"1540.48\" cy=\"573.376\" r=\"14\" fill=\"#009af9\" fill-rule=\"evenodd\" fill-opacity=\"1\" stroke=\"#000000\" stroke-opacity=\"1\" stroke-width=\"3.2\"/>\n",
       "<circle clip-path=\"url(#clip8702)\" cx=\"1729.13\" cy=\"582.444\" r=\"14\" fill=\"#009af9\" fill-rule=\"evenodd\" fill-opacity=\"1\" stroke=\"#000000\" stroke-opacity=\"1\" stroke-width=\"3.2\"/>\n",
       "<circle clip-path=\"url(#clip8702)\" cx=\"1652.77\" cy=\"527.999\" r=\"14\" fill=\"#009af9\" fill-rule=\"evenodd\" fill-opacity=\"1\" stroke=\"#000000\" stroke-opacity=\"1\" stroke-width=\"3.2\"/>\n",
       "<circle clip-path=\"url(#clip8702)\" cx=\"1554.97\" cy=\"622.718\" r=\"14\" fill=\"#009af9\" fill-rule=\"evenodd\" fill-opacity=\"1\" stroke=\"#000000\" stroke-opacity=\"1\" stroke-width=\"3.2\"/>\n",
       "<circle clip-path=\"url(#clip8702)\" cx=\"1620.71\" cy=\"557.371\" r=\"14\" fill=\"#009af9\" fill-rule=\"evenodd\" fill-opacity=\"1\" stroke=\"#000000\" stroke-opacity=\"1\" stroke-width=\"3.2\"/>\n",
       "<circle clip-path=\"url(#clip8702)\" cx=\"1681.29\" cy=\"558.241\" r=\"14\" fill=\"#009af9\" fill-rule=\"evenodd\" fill-opacity=\"1\" stroke=\"#000000\" stroke-opacity=\"1\" stroke-width=\"3.2\"/>\n",
       "<circle clip-path=\"url(#clip8702)\" cx=\"1636.18\" cy=\"588.026\" r=\"14\" fill=\"#009af9\" fill-rule=\"evenodd\" fill-opacity=\"1\" stroke=\"#000000\" stroke-opacity=\"1\" stroke-width=\"3.2\"/>\n",
       "<circle clip-path=\"url(#clip8702)\" cx=\"1618.87\" cy=\"541.334\" r=\"14\" fill=\"#009af9\" fill-rule=\"evenodd\" fill-opacity=\"1\" stroke=\"#000000\" stroke-opacity=\"1\" stroke-width=\"3.2\"/>\n",
       "<circle clip-path=\"url(#clip8702)\" cx=\"1585.92\" cy=\"586.003\" r=\"14\" fill=\"#009af9\" fill-rule=\"evenodd\" fill-opacity=\"1\" stroke=\"#000000\" stroke-opacity=\"1\" stroke-width=\"3.2\"/>\n",
       "<circle clip-path=\"url(#clip8702)\" cx=\"1650.59\" cy=\"564.619\" r=\"14\" fill=\"#009af9\" fill-rule=\"evenodd\" fill-opacity=\"1\" stroke=\"#000000\" stroke-opacity=\"1\" stroke-width=\"3.2\"/>\n",
       "<circle clip-path=\"url(#clip8702)\" cx=\"1599.33\" cy=\"562.604\" r=\"14\" fill=\"#009af9\" fill-rule=\"evenodd\" fill-opacity=\"1\" stroke=\"#000000\" stroke-opacity=\"1\" stroke-width=\"3.2\"/>\n",
       "<circle clip-path=\"url(#clip8702)\" cx=\"1562.44\" cy=\"597.371\" r=\"14\" fill=\"#009af9\" fill-rule=\"evenodd\" fill-opacity=\"1\" stroke=\"#000000\" stroke-opacity=\"1\" stroke-width=\"3.2\"/>\n",
       "<circle clip-path=\"url(#clip8702)\" cx=\"1703.37\" cy=\"565.521\" r=\"14\" fill=\"#009af9\" fill-rule=\"evenodd\" fill-opacity=\"1\" stroke=\"#000000\" stroke-opacity=\"1\" stroke-width=\"3.2\"/>\n",
       "<circle clip-path=\"url(#clip8702)\" cx=\"1620.71\" cy=\"557.371\" r=\"14\" fill=\"#009af9\" fill-rule=\"evenodd\" fill-opacity=\"1\" stroke=\"#000000\" stroke-opacity=\"1\" stroke-width=\"3.2\"/>\n",
       "<circle clip-path=\"url(#clip8702)\" cx=\"1703.37\" cy=\"565.521\" r=\"14\" fill=\"#009af9\" fill-rule=\"evenodd\" fill-opacity=\"1\" stroke=\"#000000\" stroke-opacity=\"1\" stroke-width=\"3.2\"/>\n",
       "<circle clip-path=\"url(#clip8702)\" cx=\"1733.81\" cy=\"607.024\" r=\"14\" fill=\"#009af9\" fill-rule=\"evenodd\" fill-opacity=\"1\" stroke=\"#000000\" stroke-opacity=\"1\" stroke-width=\"3.2\"/>\n",
       "<circle clip-path=\"url(#clip8702)\" cx=\"1733.81\" cy=\"607.024\" r=\"14\" fill=\"#009af9\" fill-rule=\"evenodd\" fill-opacity=\"1\" stroke=\"#000000\" stroke-opacity=\"1\" stroke-width=\"3.2\"/>\n",
       "<circle clip-path=\"url(#clip8702)\" cx=\"1632.35\" cy=\"564.516\" r=\"14\" fill=\"#009af9\" fill-rule=\"evenodd\" fill-opacity=\"1\" stroke=\"#000000\" stroke-opacity=\"1\" stroke-width=\"3.2\"/>\n",
       "<circle clip-path=\"url(#clip8702)\" cx=\"1716.39\" cy=\"545.717\" r=\"14\" fill=\"#009af9\" fill-rule=\"evenodd\" fill-opacity=\"1\" stroke=\"#000000\" stroke-opacity=\"1\" stroke-width=\"3.2\"/>\n",
       "<circle clip-path=\"url(#clip8702)\" cx=\"1635.75\" cy=\"550.618\" r=\"14\" fill=\"#009af9\" fill-rule=\"evenodd\" fill-opacity=\"1\" stroke=\"#000000\" stroke-opacity=\"1\" stroke-width=\"3.2\"/>\n",
       "<circle clip-path=\"url(#clip8702)\" cx=\"1540.48\" cy=\"573.376\" r=\"14\" fill=\"#009af9\" fill-rule=\"evenodd\" fill-opacity=\"1\" stroke=\"#000000\" stroke-opacity=\"1\" stroke-width=\"3.2\"/>\n",
       "<circle clip-path=\"url(#clip8702)\" cx=\"1635.75\" cy=\"550.618\" r=\"14\" fill=\"#009af9\" fill-rule=\"evenodd\" fill-opacity=\"1\" stroke=\"#000000\" stroke-opacity=\"1\" stroke-width=\"3.2\"/>\n",
       "<circle clip-path=\"url(#clip8702)\" cx=\"1594.99\" cy=\"596.857\" r=\"14\" fill=\"#009af9\" fill-rule=\"evenodd\" fill-opacity=\"1\" stroke=\"#000000\" stroke-opacity=\"1\" stroke-width=\"3.2\"/>\n",
       "<circle clip-path=\"url(#clip8702)\" cx=\"1540.48\" cy=\"573.376\" r=\"14\" fill=\"#009af9\" fill-rule=\"evenodd\" fill-opacity=\"1\" stroke=\"#000000\" stroke-opacity=\"1\" stroke-width=\"3.2\"/>\n",
       "<circle clip-path=\"url(#clip8702)\" cx=\"1581.27\" cy=\"559.319\" r=\"14\" fill=\"#009af9\" fill-rule=\"evenodd\" fill-opacity=\"1\" stroke=\"#000000\" stroke-opacity=\"1\" stroke-width=\"3.2\"/>\n",
       "<circle clip-path=\"url(#clip8702)\" cx=\"1627.92\" cy=\"518.262\" r=\"14\" fill=\"#009af9\" fill-rule=\"evenodd\" fill-opacity=\"1\" stroke=\"#000000\" stroke-opacity=\"1\" stroke-width=\"3.2\"/>\n",
       "<circle clip-path=\"url(#clip8702)\" cx=\"1583.96\" cy=\"600.954\" r=\"14\" fill=\"#009af9\" fill-rule=\"evenodd\" fill-opacity=\"1\" stroke=\"#000000\" stroke-opacity=\"1\" stroke-width=\"3.2\"/>\n",
       "<circle clip-path=\"url(#clip8702)\" cx=\"1614.93\" cy=\"659.904\" r=\"14\" fill=\"#009af9\" fill-rule=\"evenodd\" fill-opacity=\"1\" stroke=\"#000000\" stroke-opacity=\"1\" stroke-width=\"3.2\"/>\n",
       "<circle clip-path=\"url(#clip8702)\" cx=\"1734.03\" cy=\"559.989\" r=\"14\" fill=\"#009af9\" fill-rule=\"evenodd\" fill-opacity=\"1\" stroke=\"#000000\" stroke-opacity=\"1\" stroke-width=\"3.2\"/>\n",
       "<circle clip-path=\"url(#clip8702)\" cx=\"1619.82\" cy=\"534.928\" r=\"14\" fill=\"#009af9\" fill-rule=\"evenodd\" fill-opacity=\"1\" stroke=\"#000000\" stroke-opacity=\"1\" stroke-width=\"3.2\"/>\n",
       "<circle clip-path=\"url(#clip8702)\" cx=\"1648.03\" cy=\"652.109\" r=\"14\" fill=\"#009af9\" fill-rule=\"evenodd\" fill-opacity=\"1\" stroke=\"#000000\" stroke-opacity=\"1\" stroke-width=\"3.2\"/>\n",
       "<circle clip-path=\"url(#clip8702)\" cx=\"1643.41\" cy=\"579.297\" r=\"14\" fill=\"#009af9\" fill-rule=\"evenodd\" fill-opacity=\"1\" stroke=\"#000000\" stroke-opacity=\"1\" stroke-width=\"3.2\"/>\n",
       "<circle clip-path=\"url(#clip8702)\" cx=\"1568.43\" cy=\"560.658\" r=\"14\" fill=\"#009af9\" fill-rule=\"evenodd\" fill-opacity=\"1\" stroke=\"#000000\" stroke-opacity=\"1\" stroke-width=\"3.2\"/>\n",
       "<circle clip-path=\"url(#clip8702)\" cx=\"1619.56\" cy=\"565.186\" r=\"14\" fill=\"#009af9\" fill-rule=\"evenodd\" fill-opacity=\"1\" stroke=\"#000000\" stroke-opacity=\"1\" stroke-width=\"3.2\"/>\n",
       "<circle clip-path=\"url(#clip8702)\" cx=\"1602.93\" cy=\"593.94\" r=\"14\" fill=\"#009af9\" fill-rule=\"evenodd\" fill-opacity=\"1\" stroke=\"#000000\" stroke-opacity=\"1\" stroke-width=\"3.2\"/>\n",
       "<circle clip-path=\"url(#clip8702)\" cx=\"1619.98\" cy=\"521.179\" r=\"14\" fill=\"#009af9\" fill-rule=\"evenodd\" fill-opacity=\"1\" stroke=\"#000000\" stroke-opacity=\"1\" stroke-width=\"3.2\"/>\n",
       "<circle clip-path=\"url(#clip8702)\" cx=\"1671.26\" cy=\"539.191\" r=\"14\" fill=\"#009af9\" fill-rule=\"evenodd\" fill-opacity=\"1\" stroke=\"#000000\" stroke-opacity=\"1\" stroke-width=\"3.2\"/>\n",
       "<circle clip-path=\"url(#clip8702)\" cx=\"1599.98\" cy=\"574.432\" r=\"14\" fill=\"#009af9\" fill-rule=\"evenodd\" fill-opacity=\"1\" stroke=\"#000000\" stroke-opacity=\"1\" stroke-width=\"3.2\"/>\n",
       "<circle clip-path=\"url(#clip8702)\" cx=\"1581.27\" cy=\"552.983\" r=\"14\" fill=\"#009af9\" fill-rule=\"evenodd\" fill-opacity=\"1\" stroke=\"#000000\" stroke-opacity=\"1\" stroke-width=\"3.2\"/>\n",
       "<circle clip-path=\"url(#clip8702)\" cx=\"1583.91\" cy=\"581.74\" r=\"14\" fill=\"#009af9\" fill-rule=\"evenodd\" fill-opacity=\"1\" stroke=\"#000000\" stroke-opacity=\"1\" stroke-width=\"3.2\"/>\n",
       "<circle clip-path=\"url(#clip8702)\" cx=\"1625.81\" cy=\"646.048\" r=\"14\" fill=\"#009af9\" fill-rule=\"evenodd\" fill-opacity=\"1\" stroke=\"#000000\" stroke-opacity=\"1\" stroke-width=\"3.2\"/>\n",
       "<circle clip-path=\"url(#clip8702)\" cx=\"1692.87\" cy=\"554.334\" r=\"14\" fill=\"#009af9\" fill-rule=\"evenodd\" fill-opacity=\"1\" stroke=\"#000000\" stroke-opacity=\"1\" stroke-width=\"3.2\"/>\n",
       "<circle clip-path=\"url(#clip8702)\" cx=\"1600.28\" cy=\"579.358\" r=\"14\" fill=\"#009af9\" fill-rule=\"evenodd\" fill-opacity=\"1\" stroke=\"#000000\" stroke-opacity=\"1\" stroke-width=\"3.2\"/>\n",
       "<circle clip-path=\"url(#clip8702)\" cx=\"1664.51\" cy=\"567.552\" r=\"14\" fill=\"#009af9\" fill-rule=\"evenodd\" fill-opacity=\"1\" stroke=\"#000000\" stroke-opacity=\"1\" stroke-width=\"3.2\"/>\n",
       "<circle clip-path=\"url(#clip8702)\" cx=\"1534.46\" cy=\"613.697\" r=\"14\" fill=\"#009af9\" fill-rule=\"evenodd\" fill-opacity=\"1\" stroke=\"#000000\" stroke-opacity=\"1\" stroke-width=\"3.2\"/>\n",
       "<circle clip-path=\"url(#clip8702)\" cx=\"1701.56\" cy=\"570.852\" r=\"14\" fill=\"#009af9\" fill-rule=\"evenodd\" fill-opacity=\"1\" stroke=\"#000000\" stroke-opacity=\"1\" stroke-width=\"3.2\"/>\n",
       "<circle clip-path=\"url(#clip8702)\" cx=\"1621.16\" cy=\"609.786\" r=\"14\" fill=\"#009af9\" fill-rule=\"evenodd\" fill-opacity=\"1\" stroke=\"#000000\" stroke-opacity=\"1\" stroke-width=\"3.2\"/>\n",
       "<circle clip-path=\"url(#clip8702)\" cx=\"1648.03\" cy=\"652.109\" r=\"14\" fill=\"#009af9\" fill-rule=\"evenodd\" fill-opacity=\"1\" stroke=\"#000000\" stroke-opacity=\"1\" stroke-width=\"3.2\"/>\n",
       "<circle clip-path=\"url(#clip8702)\" cx=\"1526.12\" cy=\"578.009\" r=\"14\" fill=\"#009af9\" fill-rule=\"evenodd\" fill-opacity=\"1\" stroke=\"#000000\" stroke-opacity=\"1\" stroke-width=\"3.2\"/>\n",
       "<circle clip-path=\"url(#clip8702)\" cx=\"1667\" cy=\"546.62\" r=\"14\" fill=\"#009af9\" fill-rule=\"evenodd\" fill-opacity=\"1\" stroke=\"#000000\" stroke-opacity=\"1\" stroke-width=\"3.2\"/>\n",
       "<circle clip-path=\"url(#clip8702)\" cx=\"1598.74\" cy=\"652.283\" r=\"14\" fill=\"#009af9\" fill-rule=\"evenodd\" fill-opacity=\"1\" stroke=\"#000000\" stroke-opacity=\"1\" stroke-width=\"3.2\"/>\n",
       "<circle clip-path=\"url(#clip8702)\" cx=\"1681.76\" cy=\"588.426\" r=\"14\" fill=\"#009af9\" fill-rule=\"evenodd\" fill-opacity=\"1\" stroke=\"#000000\" stroke-opacity=\"1\" stroke-width=\"3.2\"/>\n",
       "<circle clip-path=\"url(#clip8702)\" cx=\"1621.16\" cy=\"609.786\" r=\"14\" fill=\"#009af9\" fill-rule=\"evenodd\" fill-opacity=\"1\" stroke=\"#000000\" stroke-opacity=\"1\" stroke-width=\"3.2\"/>\n",
       "<circle clip-path=\"url(#clip8702)\" cx=\"1650.16\" cy=\"585.229\" r=\"14\" fill=\"#009af9\" fill-rule=\"evenodd\" fill-opacity=\"1\" stroke=\"#000000\" stroke-opacity=\"1\" stroke-width=\"3.2\"/>\n",
       "<circle clip-path=\"url(#clip8702)\" cx=\"1611.04\" cy=\"595.463\" r=\"14\" fill=\"#009af9\" fill-rule=\"evenodd\" fill-opacity=\"1\" stroke=\"#000000\" stroke-opacity=\"1\" stroke-width=\"3.2\"/>\n",
       "<circle clip-path=\"url(#clip8702)\" cx=\"1571.87\" cy=\"626.883\" r=\"14\" fill=\"#009af9\" fill-rule=\"evenodd\" fill-opacity=\"1\" stroke=\"#000000\" stroke-opacity=\"1\" stroke-width=\"3.2\"/>\n",
       "<circle clip-path=\"url(#clip8702)\" cx=\"1582.76\" cy=\"589.854\" r=\"14\" fill=\"#009af9\" fill-rule=\"evenodd\" fill-opacity=\"1\" stroke=\"#000000\" stroke-opacity=\"1\" stroke-width=\"3.2\"/>\n",
       "<circle clip-path=\"url(#clip8702)\" cx=\"1571.04\" cy=\"608.848\" r=\"14\" fill=\"#009af9\" fill-rule=\"evenodd\" fill-opacity=\"1\" stroke=\"#000000\" stroke-opacity=\"1\" stroke-width=\"3.2\"/>\n",
       "<circle clip-path=\"url(#clip8702)\" cx=\"1600.64\" cy=\"665.139\" r=\"14\" fill=\"#009af9\" fill-rule=\"evenodd\" fill-opacity=\"1\" stroke=\"#000000\" stroke-opacity=\"1\" stroke-width=\"3.2\"/>\n",
       "<circle clip-path=\"url(#clip8702)\" cx=\"1620.98\" cy=\"575.98\" r=\"14\" fill=\"#009af9\" fill-rule=\"evenodd\" fill-opacity=\"1\" stroke=\"#000000\" stroke-opacity=\"1\" stroke-width=\"3.2\"/>\n",
       "<circle clip-path=\"url(#clip8702)\" cx=\"1535.93\" cy=\"568.019\" r=\"14\" fill=\"#009af9\" fill-rule=\"evenodd\" fill-opacity=\"1\" stroke=\"#000000\" stroke-opacity=\"1\" stroke-width=\"3.2\"/>\n",
       "<circle clip-path=\"url(#clip8702)\" cx=\"1499.56\" cy=\"604.009\" r=\"14\" fill=\"#009af9\" fill-rule=\"evenodd\" fill-opacity=\"1\" stroke=\"#000000\" stroke-opacity=\"1\" stroke-width=\"3.2\"/>\n",
       "<circle clip-path=\"url(#clip8702)\" cx=\"1580.75\" cy=\"603.678\" r=\"14\" fill=\"#009af9\" fill-rule=\"evenodd\" fill-opacity=\"1\" stroke=\"#000000\" stroke-opacity=\"1\" stroke-width=\"3.2\"/>\n",
       "<circle clip-path=\"url(#clip8702)\" cx=\"1553.51\" cy=\"600.958\" r=\"14\" fill=\"#009af9\" fill-rule=\"evenodd\" fill-opacity=\"1\" stroke=\"#000000\" stroke-opacity=\"1\" stroke-width=\"3.2\"/>\n",
       "<circle clip-path=\"url(#clip8702)\" cx=\"1560.02\" cy=\"628.074\" r=\"14\" fill=\"#009af9\" fill-rule=\"evenodd\" fill-opacity=\"1\" stroke=\"#000000\" stroke-opacity=\"1\" stroke-width=\"3.2\"/>\n",
       "<circle clip-path=\"url(#clip8702)\" cx=\"1527.16\" cy=\"559.811\" r=\"14\" fill=\"#009af9\" fill-rule=\"evenodd\" fill-opacity=\"1\" stroke=\"#000000\" stroke-opacity=\"1\" stroke-width=\"3.2\"/>\n",
       "<circle clip-path=\"url(#clip8702)\" cx=\"1642.71\" cy=\"596.005\" r=\"14\" fill=\"#009af9\" fill-rule=\"evenodd\" fill-opacity=\"1\" stroke=\"#000000\" stroke-opacity=\"1\" stroke-width=\"3.2\"/>\n",
       "<circle clip-path=\"url(#clip8702)\" cx=\"1594.51\" cy=\"620.624\" r=\"14\" fill=\"#009af9\" fill-rule=\"evenodd\" fill-opacity=\"1\" stroke=\"#000000\" stroke-opacity=\"1\" stroke-width=\"3.2\"/>\n",
       "<circle clip-path=\"url(#clip8702)\" cx=\"1705.21\" cy=\"585.319\" r=\"14\" fill=\"#009af9\" fill-rule=\"evenodd\" fill-opacity=\"1\" stroke=\"#000000\" stroke-opacity=\"1\" stroke-width=\"3.2\"/>\n",
       "<circle clip-path=\"url(#clip8702)\" cx=\"1622.08\" cy=\"608.52\" r=\"14\" fill=\"#009af9\" fill-rule=\"evenodd\" fill-opacity=\"1\" stroke=\"#000000\" stroke-opacity=\"1\" stroke-width=\"3.2\"/>\n",
       "<circle clip-path=\"url(#clip8702)\" cx=\"1563.21\" cy=\"668.182\" r=\"14\" fill=\"#009af9\" fill-rule=\"evenodd\" fill-opacity=\"1\" stroke=\"#000000\" stroke-opacity=\"1\" stroke-width=\"3.2\"/>\n",
       "<circle clip-path=\"url(#clip8702)\" cx=\"1554.97\" cy=\"622.718\" r=\"14\" fill=\"#009af9\" fill-rule=\"evenodd\" fill-opacity=\"1\" stroke=\"#000000\" stroke-opacity=\"1\" stroke-width=\"3.2\"/>\n",
       "<circle clip-path=\"url(#clip8702)\" cx=\"1661.99\" cy=\"567.386\" r=\"14\" fill=\"#009af9\" fill-rule=\"evenodd\" fill-opacity=\"1\" stroke=\"#000000\" stroke-opacity=\"1\" stroke-width=\"3.2\"/>\n",
       "<circle clip-path=\"url(#clip8702)\" cx=\"1570.42\" cy=\"594.226\" r=\"14\" fill=\"#009af9\" fill-rule=\"evenodd\" fill-opacity=\"1\" stroke=\"#000000\" stroke-opacity=\"1\" stroke-width=\"3.2\"/>\n",
       "<circle clip-path=\"url(#clip8702)\" cx=\"1697.58\" cy=\"541.139\" r=\"14\" fill=\"#009af9\" fill-rule=\"evenodd\" fill-opacity=\"1\" stroke=\"#000000\" stroke-opacity=\"1\" stroke-width=\"3.2\"/>\n",
       "<circle clip-path=\"url(#clip8702)\" cx=\"1584.18\" cy=\"536.218\" r=\"14\" fill=\"#009af9\" fill-rule=\"evenodd\" fill-opacity=\"1\" stroke=\"#000000\" stroke-opacity=\"1\" stroke-width=\"3.2\"/>\n",
       "<circle clip-path=\"url(#clip8702)\" cx=\"1521.04\" cy=\"586.943\" r=\"14\" fill=\"#009af9\" fill-rule=\"evenodd\" fill-opacity=\"1\" stroke=\"#000000\" stroke-opacity=\"1\" stroke-width=\"3.2\"/>\n",
       "<circle clip-path=\"url(#clip8702)\" cx=\"1714.47\" cy=\"527.306\" r=\"14\" fill=\"#009af9\" fill-rule=\"evenodd\" fill-opacity=\"1\" stroke=\"#000000\" stroke-opacity=\"1\" stroke-width=\"3.2\"/>\n",
       "<circle clip-path=\"url(#clip8702)\" cx=\"1557.95\" cy=\"592.437\" r=\"14\" fill=\"#009af9\" fill-rule=\"evenodd\" fill-opacity=\"1\" stroke=\"#000000\" stroke-opacity=\"1\" stroke-width=\"3.2\"/>\n",
       "<circle clip-path=\"url(#clip8702)\" cx=\"1539.08\" cy=\"633.406\" r=\"14\" fill=\"#009af9\" fill-rule=\"evenodd\" fill-opacity=\"1\" stroke=\"#000000\" stroke-opacity=\"1\" stroke-width=\"3.2\"/>\n",
       "<circle clip-path=\"url(#clip8702)\" cx=\"1527.76\" cy=\"582.753\" r=\"14\" fill=\"#009af9\" fill-rule=\"evenodd\" fill-opacity=\"1\" stroke=\"#000000\" stroke-opacity=\"1\" stroke-width=\"3.2\"/>\n",
       "<circle clip-path=\"url(#clip8702)\" cx=\"1568.69\" cy=\"645.271\" r=\"14\" fill=\"#009af9\" fill-rule=\"evenodd\" fill-opacity=\"1\" stroke=\"#000000\" stroke-opacity=\"1\" stroke-width=\"3.2\"/>\n",
       "<circle clip-path=\"url(#clip8702)\" cx=\"1656.24\" cy=\"585.834\" r=\"14\" fill=\"#009af9\" fill-rule=\"evenodd\" fill-opacity=\"1\" stroke=\"#000000\" stroke-opacity=\"1\" stroke-width=\"3.2\"/>\n",
       "<circle clip-path=\"url(#clip8702)\" cx=\"1592.99\" cy=\"572.719\" r=\"14\" fill=\"#009af9\" fill-rule=\"evenodd\" fill-opacity=\"1\" stroke=\"#000000\" stroke-opacity=\"1\" stroke-width=\"3.2\"/>\n",
       "<circle clip-path=\"url(#clip8702)\" cx=\"1575.09\" cy=\"598.681\" r=\"14\" fill=\"#009af9\" fill-rule=\"evenodd\" fill-opacity=\"1\" stroke=\"#000000\" stroke-opacity=\"1\" stroke-width=\"3.2\"/>\n",
       "<circle clip-path=\"url(#clip8702)\" cx=\"1648.13\" cy=\"567.969\" r=\"14\" fill=\"#009af9\" fill-rule=\"evenodd\" fill-opacity=\"1\" stroke=\"#000000\" stroke-opacity=\"1\" stroke-width=\"3.2\"/>\n",
       "<circle clip-path=\"url(#clip8702)\" cx=\"1567.59\" cy=\"636.208\" r=\"14\" fill=\"#009af9\" fill-rule=\"evenodd\" fill-opacity=\"1\" stroke=\"#000000\" stroke-opacity=\"1\" stroke-width=\"3.2\"/>\n",
       "<circle clip-path=\"url(#clip8702)\" cx=\"1581.1\" cy=\"589.768\" r=\"14\" fill=\"#009af9\" fill-rule=\"evenodd\" fill-opacity=\"1\" stroke=\"#000000\" stroke-opacity=\"1\" stroke-width=\"3.2\"/>\n",
       "<circle clip-path=\"url(#clip8702)\" cx=\"1552.49\" cy=\"567.372\" r=\"14\" fill=\"#009af9\" fill-rule=\"evenodd\" fill-opacity=\"1\" stroke=\"#000000\" stroke-opacity=\"1\" stroke-width=\"3.2\"/>\n",
       "<circle clip-path=\"url(#clip8702)\" cx=\"1527.16\" cy=\"559.811\" r=\"14\" fill=\"#009af9\" fill-rule=\"evenodd\" fill-opacity=\"1\" stroke=\"#000000\" stroke-opacity=\"1\" stroke-width=\"3.2\"/>\n",
       "<circle clip-path=\"url(#clip8702)\" cx=\"1661.99\" cy=\"567.386\" r=\"14\" fill=\"#009af9\" fill-rule=\"evenodd\" fill-opacity=\"1\" stroke=\"#000000\" stroke-opacity=\"1\" stroke-width=\"3.2\"/>\n",
       "<circle clip-path=\"url(#clip8702)\" cx=\"1635.66\" cy=\"586.918\" r=\"14\" fill=\"#009af9\" fill-rule=\"evenodd\" fill-opacity=\"1\" stroke=\"#000000\" stroke-opacity=\"1\" stroke-width=\"3.2\"/>\n",
       "<circle clip-path=\"url(#clip8702)\" cx=\"1527.16\" cy=\"559.811\" r=\"14\" fill=\"#e26f46\" fill-rule=\"evenodd\" fill-opacity=\"1\" stroke=\"#000000\" stroke-opacity=\"1\" stroke-width=\"3.2\"/>\n",
       "<circle clip-path=\"url(#clip8702)\" cx=\"1789.52\" cy=\"546.289\" r=\"14\" fill=\"#e26f46\" fill-rule=\"evenodd\" fill-opacity=\"1\" stroke=\"#000000\" stroke-opacity=\"1\" stroke-width=\"3.2\"/>\n",
       "<circle clip-path=\"url(#clip8702)\" cx=\"1656.08\" cy=\"581.75\" r=\"14\" fill=\"#e26f46\" fill-rule=\"evenodd\" fill-opacity=\"1\" stroke=\"#000000\" stroke-opacity=\"1\" stroke-width=\"3.2\"/>\n",
       "<circle clip-path=\"url(#clip8702)\" cx=\"1714.47\" cy=\"527.306\" r=\"14\" fill=\"#e26f46\" fill-rule=\"evenodd\" fill-opacity=\"1\" stroke=\"#000000\" stroke-opacity=\"1\" stroke-width=\"3.2\"/>\n",
       "<circle clip-path=\"url(#clip8702)\" cx=\"1604.34\" cy=\"558.339\" r=\"14\" fill=\"#e26f46\" fill-rule=\"evenodd\" fill-opacity=\"1\" stroke=\"#000000\" stroke-opacity=\"1\" stroke-width=\"3.2\"/>\n",
       "<circle clip-path=\"url(#clip8702)\" cx=\"1656.24\" cy=\"585.834\" r=\"14\" fill=\"#e26f46\" fill-rule=\"evenodd\" fill-opacity=\"1\" stroke=\"#000000\" stroke-opacity=\"1\" stroke-width=\"3.2\"/>\n",
       "<circle clip-path=\"url(#clip8702)\" cx=\"1658.93\" cy=\"620.96\" r=\"14\" fill=\"#e26f46\" fill-rule=\"evenodd\" fill-opacity=\"1\" stroke=\"#000000\" stroke-opacity=\"1\" stroke-width=\"3.2\"/>\n",
       "<circle clip-path=\"url(#clip8702)\" cx=\"1643.94\" cy=\"510.762\" r=\"14\" fill=\"#e26f46\" fill-rule=\"evenodd\" fill-opacity=\"1\" stroke=\"#000000\" stroke-opacity=\"1\" stroke-width=\"3.2\"/>\n",
       "<circle clip-path=\"url(#clip8702)\" cx=\"1604.58\" cy=\"598.275\" r=\"14\" fill=\"#e26f46\" fill-rule=\"evenodd\" fill-opacity=\"1\" stroke=\"#000000\" stroke-opacity=\"1\" stroke-width=\"3.2\"/>\n",
       "<circle clip-path=\"url(#clip8702)\" cx=\"1637.77\" cy=\"566.548\" r=\"14\" fill=\"#e26f46\" fill-rule=\"evenodd\" fill-opacity=\"1\" stroke=\"#000000\" stroke-opacity=\"1\" stroke-width=\"3.2\"/>\n",
       "<circle clip-path=\"url(#clip8702)\" cx=\"1611.2\" cy=\"554.576\" r=\"14\" fill=\"#e26f46\" fill-rule=\"evenodd\" fill-opacity=\"1\" stroke=\"#000000\" stroke-opacity=\"1\" stroke-width=\"3.2\"/>\n",
       "<circle clip-path=\"url(#clip8702)\" cx=\"1599.96\" cy=\"626.292\" r=\"14\" fill=\"#e26f46\" fill-rule=\"evenodd\" fill-opacity=\"1\" stroke=\"#000000\" stroke-opacity=\"1\" stroke-width=\"3.2\"/>\n",
       "<circle clip-path=\"url(#clip8702)\" cx=\"1595.23\" cy=\"608.418\" r=\"14\" fill=\"#e26f46\" fill-rule=\"evenodd\" fill-opacity=\"1\" stroke=\"#000000\" stroke-opacity=\"1\" stroke-width=\"3.2\"/>\n",
       "<circle clip-path=\"url(#clip8702)\" cx=\"1632.35\" cy=\"564.516\" r=\"14\" fill=\"#e26f46\" fill-rule=\"evenodd\" fill-opacity=\"1\" stroke=\"#000000\" stroke-opacity=\"1\" stroke-width=\"3.2\"/>\n",
       "<circle clip-path=\"url(#clip8702)\" cx=\"1541.38\" cy=\"549.447\" r=\"14\" fill=\"#e26f46\" fill-rule=\"evenodd\" fill-opacity=\"1\" stroke=\"#000000\" stroke-opacity=\"1\" stroke-width=\"3.2\"/>\n",
       "<circle clip-path=\"url(#clip8702)\" cx=\"1682.72\" cy=\"549.408\" r=\"14\" fill=\"#e26f46\" fill-rule=\"evenodd\" fill-opacity=\"1\" stroke=\"#000000\" stroke-opacity=\"1\" stroke-width=\"3.2\"/>\n",
       "<circle clip-path=\"url(#clip8702)\" cx=\"1594.99\" cy=\"596.857\" r=\"14\" fill=\"#e26f46\" fill-rule=\"evenodd\" fill-opacity=\"1\" stroke=\"#000000\" stroke-opacity=\"1\" stroke-width=\"3.2\"/>\n",
       "<circle clip-path=\"url(#clip8702)\" cx=\"1581.1\" cy=\"589.768\" r=\"14\" fill=\"#e26f46\" fill-rule=\"evenodd\" fill-opacity=\"1\" stroke=\"#000000\" stroke-opacity=\"1\" stroke-width=\"3.2\"/>\n",
       "<circle clip-path=\"url(#clip8702)\" cx=\"1579.27\" cy=\"644.007\" r=\"14\" fill=\"#e26f46\" fill-rule=\"evenodd\" fill-opacity=\"1\" stroke=\"#000000\" stroke-opacity=\"1\" stroke-width=\"3.2\"/>\n",
       "<circle clip-path=\"url(#clip8702)\" cx=\"1627.92\" cy=\"518.262\" r=\"14\" fill=\"#e26f46\" fill-rule=\"evenodd\" fill-opacity=\"1\" stroke=\"#000000\" stroke-opacity=\"1\" stroke-width=\"3.2\"/>\n",
       "<circle clip-path=\"url(#clip8702)\" cx=\"1507.58\" cy=\"547.069\" r=\"14\" fill=\"#e26f46\" fill-rule=\"evenodd\" fill-opacity=\"1\" stroke=\"#000000\" stroke-opacity=\"1\" stroke-width=\"3.2\"/>\n",
       "<circle clip-path=\"url(#clip8702)\" cx=\"1667.2\" cy=\"611.758\" r=\"14\" fill=\"#e26f46\" fill-rule=\"evenodd\" fill-opacity=\"1\" stroke=\"#000000\" stroke-opacity=\"1\" stroke-width=\"3.2\"/>\n",
       "<circle clip-path=\"url(#clip8702)\" cx=\"1603.39\" cy=\"545.247\" r=\"14\" fill=\"#e26f46\" fill-rule=\"evenodd\" fill-opacity=\"1\" stroke=\"#000000\" stroke-opacity=\"1\" stroke-width=\"3.2\"/>\n",
       "<circle clip-path=\"url(#clip8702)\" cx=\"1699.91\" cy=\"585.581\" r=\"14\" fill=\"#e26f46\" fill-rule=\"evenodd\" fill-opacity=\"1\" stroke=\"#000000\" stroke-opacity=\"1\" stroke-width=\"3.2\"/>\n",
       "<circle clip-path=\"url(#clip8702)\" cx=\"1586.57\" cy=\"566.659\" r=\"14\" fill=\"#e26f46\" fill-rule=\"evenodd\" fill-opacity=\"1\" stroke=\"#000000\" stroke-opacity=\"1\" stroke-width=\"3.2\"/>\n",
       "<circle clip-path=\"url(#clip8702)\" cx=\"1598.98\" cy=\"607.065\" r=\"14\" fill=\"#e26f46\" fill-rule=\"evenodd\" fill-opacity=\"1\" stroke=\"#000000\" stroke-opacity=\"1\" stroke-width=\"3.2\"/>\n",
       "<circle clip-path=\"url(#clip8702)\" cx=\"1577.25\" cy=\"573.626\" r=\"14\" fill=\"#e26f46\" fill-rule=\"evenodd\" fill-opacity=\"1\" stroke=\"#000000\" stroke-opacity=\"1\" stroke-width=\"3.2\"/>\n",
       "<circle clip-path=\"url(#clip8702)\" cx=\"1508.04\" cy=\"593.101\" r=\"14\" fill=\"#e26f46\" fill-rule=\"evenodd\" fill-opacity=\"1\" stroke=\"#000000\" stroke-opacity=\"1\" stroke-width=\"3.2\"/>\n",
       "<circle clip-path=\"url(#clip8702)\" cx=\"1691.72\" cy=\"566.317\" r=\"14\" fill=\"#e26f46\" fill-rule=\"evenodd\" fill-opacity=\"1\" stroke=\"#000000\" stroke-opacity=\"1\" stroke-width=\"3.2\"/>\n",
       "<circle clip-path=\"url(#clip8702)\" cx=\"1643.26\" cy=\"519.038\" r=\"14\" fill=\"#e26f46\" fill-rule=\"evenodd\" fill-opacity=\"1\" stroke=\"#000000\" stroke-opacity=\"1\" stroke-width=\"3.2\"/>\n",
       "<circle clip-path=\"url(#clip8702)\" cx=\"1696.13\" cy=\"521.458\" r=\"14\" fill=\"#e26f46\" fill-rule=\"evenodd\" fill-opacity=\"1\" stroke=\"#000000\" stroke-opacity=\"1\" stroke-width=\"3.2\"/>\n",
       "<circle clip-path=\"url(#clip8702)\" cx=\"1591.73\" cy=\"551.124\" r=\"14\" fill=\"#e26f46\" fill-rule=\"evenodd\" fill-opacity=\"1\" stroke=\"#000000\" stroke-opacity=\"1\" stroke-width=\"3.2\"/>\n",
       "<circle clip-path=\"url(#clip8702)\" cx=\"1568.53\" cy=\"526.01\" r=\"14\" fill=\"#e26f46\" fill-rule=\"evenodd\" fill-opacity=\"1\" stroke=\"#000000\" stroke-opacity=\"1\" stroke-width=\"3.2\"/>\n",
       "<circle clip-path=\"url(#clip8702)\" cx=\"1620.69\" cy=\"575.597\" r=\"14\" fill=\"#e26f46\" fill-rule=\"evenodd\" fill-opacity=\"1\" stroke=\"#000000\" stroke-opacity=\"1\" stroke-width=\"3.2\"/>\n",
       "<circle clip-path=\"url(#clip8702)\" cx=\"1514.04\" cy=\"545.215\" r=\"14\" fill=\"#e26f46\" fill-rule=\"evenodd\" fill-opacity=\"1\" stroke=\"#000000\" stroke-opacity=\"1\" stroke-width=\"3.2\"/>\n",
       "<circle clip-path=\"url(#clip8702)\" cx=\"1708.59\" cy=\"595.208\" r=\"14\" fill=\"#e26f46\" fill-rule=\"evenodd\" fill-opacity=\"1\" stroke=\"#000000\" stroke-opacity=\"1\" stroke-width=\"3.2\"/>\n",
       "<circle clip-path=\"url(#clip8702)\" cx=\"1711.66\" cy=\"545.343\" r=\"14\" fill=\"#e26f46\" fill-rule=\"evenodd\" fill-opacity=\"1\" stroke=\"#000000\" stroke-opacity=\"1\" stroke-width=\"3.2\"/>\n",
       "<circle clip-path=\"url(#clip8702)\" cx=\"1767.1\" cy=\"540.354\" r=\"14\" fill=\"#e26f46\" fill-rule=\"evenodd\" fill-opacity=\"1\" stroke=\"#000000\" stroke-opacity=\"1\" stroke-width=\"3.2\"/>\n",
       "<circle clip-path=\"url(#clip8702)\" cx=\"1626.3\" cy=\"608.424\" r=\"14\" fill=\"#e26f46\" fill-rule=\"evenodd\" fill-opacity=\"1\" stroke=\"#000000\" stroke-opacity=\"1\" stroke-width=\"3.2\"/>\n",
       "<circle clip-path=\"url(#clip8702)\" cx=\"1575.34\" cy=\"568.215\" r=\"14\" fill=\"#e26f46\" fill-rule=\"evenodd\" fill-opacity=\"1\" stroke=\"#000000\" stroke-opacity=\"1\" stroke-width=\"3.2\"/>\n",
       "<circle clip-path=\"url(#clip8702)\" cx=\"1617.61\" cy=\"534.666\" r=\"14\" fill=\"#e26f46\" fill-rule=\"evenodd\" fill-opacity=\"1\" stroke=\"#000000\" stroke-opacity=\"1\" stroke-width=\"3.2\"/>\n",
       "<circle clip-path=\"url(#clip8702)\" cx=\"1589.9\" cy=\"579.143\" r=\"14\" fill=\"#e26f46\" fill-rule=\"evenodd\" fill-opacity=\"1\" stroke=\"#000000\" stroke-opacity=\"1\" stroke-width=\"3.2\"/>\n",
       "<circle clip-path=\"url(#clip8702)\" cx=\"1604.58\" cy=\"598.275\" r=\"14\" fill=\"#e26f46\" fill-rule=\"evenodd\" fill-opacity=\"1\" stroke=\"#000000\" stroke-opacity=\"1\" stroke-width=\"3.2\"/>\n",
       "<circle clip-path=\"url(#clip8702)\" cx=\"1621.63\" cy=\"621.981\" r=\"14\" fill=\"#e26f46\" fill-rule=\"evenodd\" fill-opacity=\"1\" stroke=\"#000000\" stroke-opacity=\"1\" stroke-width=\"3.2\"/>\n",
       "<circle clip-path=\"url(#clip8702)\" cx=\"1721.4\" cy=\"521.827\" r=\"14\" fill=\"#e26f46\" fill-rule=\"evenodd\" fill-opacity=\"1\" stroke=\"#000000\" stroke-opacity=\"1\" stroke-width=\"3.2\"/>\n",
       "<circle clip-path=\"url(#clip8702)\" cx=\"1672.71\" cy=\"574.468\" r=\"14\" fill=\"#e26f46\" fill-rule=\"evenodd\" fill-opacity=\"1\" stroke=\"#000000\" stroke-opacity=\"1\" stroke-width=\"3.2\"/>\n",
       "<circle clip-path=\"url(#clip8702)\" cx=\"1651.24\" cy=\"590.099\" r=\"14\" fill=\"#e26f46\" fill-rule=\"evenodd\" fill-opacity=\"1\" stroke=\"#000000\" stroke-opacity=\"1\" stroke-width=\"3.2\"/>\n",
       "<circle clip-path=\"url(#clip8702)\" cx=\"1592.51\" cy=\"606.046\" r=\"14\" fill=\"#e26f46\" fill-rule=\"evenodd\" fill-opacity=\"1\" stroke=\"#000000\" stroke-opacity=\"1\" stroke-width=\"3.2\"/>\n",
       "<circle clip-path=\"url(#clip8702)\" cx=\"1544.38\" cy=\"553.766\" r=\"14\" fill=\"#e26f46\" fill-rule=\"evenodd\" fill-opacity=\"1\" stroke=\"#000000\" stroke-opacity=\"1\" stroke-width=\"3.2\"/>\n",
       "<circle clip-path=\"url(#clip8702)\" cx=\"1557.05\" cy=\"545.281\" r=\"14\" fill=\"#e26f46\" fill-rule=\"evenodd\" fill-opacity=\"1\" stroke=\"#000000\" stroke-opacity=\"1\" stroke-width=\"3.2\"/>\n",
       "<circle clip-path=\"url(#clip8702)\" cx=\"1714.36\" cy=\"568.123\" r=\"14\" fill=\"#e26f46\" fill-rule=\"evenodd\" fill-opacity=\"1\" stroke=\"#000000\" stroke-opacity=\"1\" stroke-width=\"3.2\"/>\n",
       "<circle clip-path=\"url(#clip8702)\" cx=\"1668.49\" cy=\"556.094\" r=\"14\" fill=\"#e26f46\" fill-rule=\"evenodd\" fill-opacity=\"1\" stroke=\"#000000\" stroke-opacity=\"1\" stroke-width=\"3.2\"/>\n",
       "<circle clip-path=\"url(#clip8702)\" cx=\"1694.26\" cy=\"629.31\" r=\"14\" fill=\"#e26f46\" fill-rule=\"evenodd\" fill-opacity=\"1\" stroke=\"#000000\" stroke-opacity=\"1\" stroke-width=\"3.2\"/>\n",
       "<circle clip-path=\"url(#clip8702)\" cx=\"1598.78\" cy=\"546.08\" r=\"14\" fill=\"#e26f46\" fill-rule=\"evenodd\" fill-opacity=\"1\" stroke=\"#000000\" stroke-opacity=\"1\" stroke-width=\"3.2\"/>\n",
       "<circle clip-path=\"url(#clip8702)\" cx=\"1712.25\" cy=\"565.908\" r=\"14\" fill=\"#e26f46\" fill-rule=\"evenodd\" fill-opacity=\"1\" stroke=\"#000000\" stroke-opacity=\"1\" stroke-width=\"3.2\"/>\n",
       "<circle clip-path=\"url(#clip8702)\" cx=\"1578.33\" cy=\"561.275\" r=\"14\" fill=\"#e26f46\" fill-rule=\"evenodd\" fill-opacity=\"1\" stroke=\"#000000\" stroke-opacity=\"1\" stroke-width=\"3.2\"/>\n",
       "<circle clip-path=\"url(#clip8702)\" cx=\"1598.24\" cy=\"615.528\" r=\"14\" fill=\"#e26f46\" fill-rule=\"evenodd\" fill-opacity=\"1\" stroke=\"#000000\" stroke-opacity=\"1\" stroke-width=\"3.2\"/>\n",
       "<circle clip-path=\"url(#clip8702)\" cx=\"1705.13\" cy=\"599.115\" r=\"14\" fill=\"#e26f46\" fill-rule=\"evenodd\" fill-opacity=\"1\" stroke=\"#000000\" stroke-opacity=\"1\" stroke-width=\"3.2\"/>\n",
       "<circle clip-path=\"url(#clip8702)\" cx=\"1681.57\" cy=\"578.592\" r=\"14\" fill=\"#e26f46\" fill-rule=\"evenodd\" fill-opacity=\"1\" stroke=\"#000000\" stroke-opacity=\"1\" stroke-width=\"3.2\"/>\n",
       "<circle clip-path=\"url(#clip8702)\" cx=\"1561.35\" cy=\"564.76\" r=\"14\" fill=\"#e26f46\" fill-rule=\"evenodd\" fill-opacity=\"1\" stroke=\"#000000\" stroke-opacity=\"1\" stroke-width=\"3.2\"/>\n",
       "<circle clip-path=\"url(#clip8702)\" cx=\"1568.36\" cy=\"554.215\" r=\"14\" fill=\"#e26f46\" fill-rule=\"evenodd\" fill-opacity=\"1\" stroke=\"#000000\" stroke-opacity=\"1\" stroke-width=\"3.2\"/>\n",
       "<circle clip-path=\"url(#clip8702)\" cx=\"1616.41\" cy=\"619.728\" r=\"14\" fill=\"#e26f46\" fill-rule=\"evenodd\" fill-opacity=\"1\" stroke=\"#000000\" stroke-opacity=\"1\" stroke-width=\"3.2\"/>\n",
       "<circle clip-path=\"url(#clip8702)\" cx=\"1641.33\" cy=\"567.239\" r=\"14\" fill=\"#e26f46\" fill-rule=\"evenodd\" fill-opacity=\"1\" stroke=\"#000000\" stroke-opacity=\"1\" stroke-width=\"3.2\"/>\n",
       "<circle clip-path=\"url(#clip8702)\" cx=\"1624.93\" cy=\"548.348\" r=\"14\" fill=\"#e26f46\" fill-rule=\"evenodd\" fill-opacity=\"1\" stroke=\"#000000\" stroke-opacity=\"1\" stroke-width=\"3.2\"/>\n",
       "<circle clip-path=\"url(#clip8702)\" cx=\"1647.68\" cy=\"515.563\" r=\"14\" fill=\"#e26f46\" fill-rule=\"evenodd\" fill-opacity=\"1\" stroke=\"#000000\" stroke-opacity=\"1\" stroke-width=\"3.2\"/>\n",
       "<circle clip-path=\"url(#clip8702)\" cx=\"1562.8\" cy=\"620.521\" r=\"14\" fill=\"#e26f46\" fill-rule=\"evenodd\" fill-opacity=\"1\" stroke=\"#000000\" stroke-opacity=\"1\" stroke-width=\"3.2\"/>\n",
       "<circle clip-path=\"url(#clip8702)\" cx=\"1594.99\" cy=\"596.857\" r=\"14\" fill=\"#e26f46\" fill-rule=\"evenodd\" fill-opacity=\"1\" stroke=\"#000000\" stroke-opacity=\"1\" stroke-width=\"3.2\"/>\n",
       "<circle clip-path=\"url(#clip8702)\" cx=\"1549.13\" cy=\"556.367\" r=\"14\" fill=\"#e26f46\" fill-rule=\"evenodd\" fill-opacity=\"1\" stroke=\"#000000\" stroke-opacity=\"1\" stroke-width=\"3.2\"/>\n",
       "<circle clip-path=\"url(#clip8702)\" cx=\"1632.16\" cy=\"602.628\" r=\"14\" fill=\"#e26f46\" fill-rule=\"evenodd\" fill-opacity=\"1\" stroke=\"#000000\" stroke-opacity=\"1\" stroke-width=\"3.2\"/>\n",
       "<circle clip-path=\"url(#clip8702)\" cx=\"1755.61\" cy=\"559.625\" r=\"14\" fill=\"#e26f46\" fill-rule=\"evenodd\" fill-opacity=\"1\" stroke=\"#000000\" stroke-opacity=\"1\" stroke-width=\"3.2\"/>\n",
       "<circle clip-path=\"url(#clip8702)\" cx=\"1734.94\" cy=\"589.25\" r=\"14\" fill=\"#e26f46\" fill-rule=\"evenodd\" fill-opacity=\"1\" stroke=\"#000000\" stroke-opacity=\"1\" stroke-width=\"3.2\"/>\n",
       "<circle clip-path=\"url(#clip8702)\" cx=\"1622.3\" cy=\"601.16\" r=\"14\" fill=\"#e26f46\" fill-rule=\"evenodd\" fill-opacity=\"1\" stroke=\"#000000\" stroke-opacity=\"1\" stroke-width=\"3.2\"/>\n",
       "<circle clip-path=\"url(#clip8702)\" cx=\"1675.42\" cy=\"562.496\" r=\"14\" fill=\"#e26f46\" fill-rule=\"evenodd\" fill-opacity=\"1\" stroke=\"#000000\" stroke-opacity=\"1\" stroke-width=\"3.2\"/>\n",
       "<circle clip-path=\"url(#clip8702)\" cx=\"1694.26\" cy=\"629.31\" r=\"14\" fill=\"#e26f46\" fill-rule=\"evenodd\" fill-opacity=\"1\" stroke=\"#000000\" stroke-opacity=\"1\" stroke-width=\"3.2\"/>\n",
       "<circle clip-path=\"url(#clip8702)\" cx=\"1548.41\" cy=\"581.935\" r=\"14\" fill=\"#e26f46\" fill-rule=\"evenodd\" fill-opacity=\"1\" stroke=\"#000000\" stroke-opacity=\"1\" stroke-width=\"3.2\"/>\n",
       "<circle clip-path=\"url(#clip8702)\" cx=\"1694.55\" cy=\"543.158\" r=\"14\" fill=\"#e26f46\" fill-rule=\"evenodd\" fill-opacity=\"1\" stroke=\"#000000\" stroke-opacity=\"1\" stroke-width=\"3.2\"/>\n",
       "<circle clip-path=\"url(#clip8702)\" cx=\"1733.16\" cy=\"530.686\" r=\"14\" fill=\"#e26f46\" fill-rule=\"evenodd\" fill-opacity=\"1\" stroke=\"#000000\" stroke-opacity=\"1\" stroke-width=\"3.2\"/>\n",
       "<circle clip-path=\"url(#clip8702)\" cx=\"1684.09\" cy=\"565.686\" r=\"14\" fill=\"#e26f46\" fill-rule=\"evenodd\" fill-opacity=\"1\" stroke=\"#000000\" stroke-opacity=\"1\" stroke-width=\"3.2\"/>\n",
       "<circle clip-path=\"url(#clip8702)\" cx=\"1637.89\" cy=\"604.097\" r=\"14\" fill=\"#e26f46\" fill-rule=\"evenodd\" fill-opacity=\"1\" stroke=\"#000000\" stroke-opacity=\"1\" stroke-width=\"3.2\"/>\n",
       "<circle clip-path=\"url(#clip8702)\" cx=\"1594.87\" cy=\"529.645\" r=\"14\" fill=\"#e26f46\" fill-rule=\"evenodd\" fill-opacity=\"1\" stroke=\"#000000\" stroke-opacity=\"1\" stroke-width=\"3.2\"/>\n",
       "<circle clip-path=\"url(#clip8702)\" cx=\"1554.34\" cy=\"587.445\" r=\"14\" fill=\"#e26f46\" fill-rule=\"evenodd\" fill-opacity=\"1\" stroke=\"#000000\" stroke-opacity=\"1\" stroke-width=\"3.2\"/>\n",
       "<circle clip-path=\"url(#clip8702)\" cx=\"1591.68\" cy=\"616.244\" r=\"14\" fill=\"#e26f46\" fill-rule=\"evenodd\" fill-opacity=\"1\" stroke=\"#000000\" stroke-opacity=\"1\" stroke-width=\"3.2\"/>\n",
       "<circle clip-path=\"url(#clip8702)\" cx=\"1653.06\" cy=\"551.173\" r=\"14\" fill=\"#e26f46\" fill-rule=\"evenodd\" fill-opacity=\"1\" stroke=\"#000000\" stroke-opacity=\"1\" stroke-width=\"3.2\"/>\n",
       "<circle clip-path=\"url(#clip8702)\" cx=\"1647.7\" cy=\"570.294\" r=\"14\" fill=\"#e26f46\" fill-rule=\"evenodd\" fill-opacity=\"1\" stroke=\"#000000\" stroke-opacity=\"1\" stroke-width=\"3.2\"/>\n",
       "<circle clip-path=\"url(#clip8702)\" cx=\"1632.35\" cy=\"564.516\" r=\"14\" fill=\"#e26f46\" fill-rule=\"evenodd\" fill-opacity=\"1\" stroke=\"#000000\" stroke-opacity=\"1\" stroke-width=\"3.2\"/>\n",
       "<circle clip-path=\"url(#clip8702)\" cx=\"1627.97\" cy=\"597.329\" r=\"14\" fill=\"#e26f46\" fill-rule=\"evenodd\" fill-opacity=\"1\" stroke=\"#000000\" stroke-opacity=\"1\" stroke-width=\"3.2\"/>\n",
       "<circle clip-path=\"url(#clip8702)\" cx=\"1567.96\" cy=\"583.486\" r=\"14\" fill=\"#e26f46\" fill-rule=\"evenodd\" fill-opacity=\"1\" stroke=\"#000000\" stroke-opacity=\"1\" stroke-width=\"3.2\"/>\n",
       "<circle clip-path=\"url(#clip8702)\" cx=\"1622.19\" cy=\"591.587\" r=\"14\" fill=\"#e26f46\" fill-rule=\"evenodd\" fill-opacity=\"1\" stroke=\"#000000\" stroke-opacity=\"1\" stroke-width=\"3.2\"/>\n",
       "<circle clip-path=\"url(#clip8702)\" cx=\"1562.44\" cy=\"597.371\" r=\"14\" fill=\"#e26f46\" fill-rule=\"evenodd\" fill-opacity=\"1\" stroke=\"#000000\" stroke-opacity=\"1\" stroke-width=\"3.2\"/>\n",
       "<circle clip-path=\"url(#clip8702)\" cx=\"1581.27\" cy=\"559.319\" r=\"14\" fill=\"#e26f46\" fill-rule=\"evenodd\" fill-opacity=\"1\" stroke=\"#000000\" stroke-opacity=\"1\" stroke-width=\"3.2\"/>\n",
       "<circle clip-path=\"url(#clip8702)\" cx=\"1695.52\" cy=\"586.421\" r=\"14\" fill=\"#e26f46\" fill-rule=\"evenodd\" fill-opacity=\"1\" stroke=\"#000000\" stroke-opacity=\"1\" stroke-width=\"3.2\"/>\n",
       "<circle clip-path=\"url(#clip8702)\" cx=\"1554.97\" cy=\"622.718\" r=\"14\" fill=\"#e26f46\" fill-rule=\"evenodd\" fill-opacity=\"1\" stroke=\"#000000\" stroke-opacity=\"1\" stroke-width=\"3.2\"/>\n",
       "<circle clip-path=\"url(#clip8702)\" cx=\"1658.07\" cy=\"564.913\" r=\"14\" fill=\"#e26f46\" fill-rule=\"evenodd\" fill-opacity=\"1\" stroke=\"#000000\" stroke-opacity=\"1\" stroke-width=\"3.2\"/>\n",
       "<circle clip-path=\"url(#clip8702)\" cx=\"1627.92\" cy=\"518.262\" r=\"14\" fill=\"#e26f46\" fill-rule=\"evenodd\" fill-opacity=\"1\" stroke=\"#000000\" stroke-opacity=\"1\" stroke-width=\"3.2\"/>\n",
       "<circle clip-path=\"url(#clip8702)\" cx=\"1647.89\" cy=\"530.036\" r=\"14\" fill=\"#e26f46\" fill-rule=\"evenodd\" fill-opacity=\"1\" stroke=\"#000000\" stroke-opacity=\"1\" stroke-width=\"3.2\"/>\n",
       "<circle clip-path=\"url(#clip8702)\" cx=\"1641.25\" cy=\"546.59\" r=\"14\" fill=\"#e26f46\" fill-rule=\"evenodd\" fill-opacity=\"1\" stroke=\"#000000\" stroke-opacity=\"1\" stroke-width=\"3.2\"/>\n",
       "<circle clip-path=\"url(#clip8702)\" cx=\"1612.3\" cy=\"545.122\" r=\"14\" fill=\"#e26f46\" fill-rule=\"evenodd\" fill-opacity=\"1\" stroke=\"#000000\" stroke-opacity=\"1\" stroke-width=\"3.2\"/>\n",
       "<circle clip-path=\"url(#clip8702)\" cx=\"1689\" cy=\"599.503\" r=\"14\" fill=\"#e26f46\" fill-rule=\"evenodd\" fill-opacity=\"1\" stroke=\"#000000\" stroke-opacity=\"1\" stroke-width=\"3.2\"/>\n",
       "<circle clip-path=\"url(#clip8702)\" cx=\"1677.53\" cy=\"541.344\" r=\"14\" fill=\"#e26f46\" fill-rule=\"evenodd\" fill-opacity=\"1\" stroke=\"#000000\" stroke-opacity=\"1\" stroke-width=\"3.2\"/>\n",
       "<circle clip-path=\"url(#clip8702)\" cx=\"1729.13\" cy=\"582.444\" r=\"14\" fill=\"#e26f46\" fill-rule=\"evenodd\" fill-opacity=\"1\" stroke=\"#000000\" stroke-opacity=\"1\" stroke-width=\"3.2\"/>\n",
       "<circle clip-path=\"url(#clip8702)\" cx=\"1699.98\" cy=\"570.282\" r=\"14\" fill=\"#e26f46\" fill-rule=\"evenodd\" fill-opacity=\"1\" stroke=\"#000000\" stroke-opacity=\"1\" stroke-width=\"3.2\"/>\n",
       "<circle clip-path=\"url(#clip8702)\" cx=\"1555.73\" cy=\"575.093\" r=\"14\" fill=\"#e26f46\" fill-rule=\"evenodd\" fill-opacity=\"1\" stroke=\"#000000\" stroke-opacity=\"1\" stroke-width=\"3.2\"/>\n",
       "<circle clip-path=\"url(#clip8702)\" cx=\"1720.56\" cy=\"591.41\" r=\"14\" fill=\"#e26f46\" fill-rule=\"evenodd\" fill-opacity=\"1\" stroke=\"#000000\" stroke-opacity=\"1\" stroke-width=\"3.2\"/>\n",
       "<circle clip-path=\"url(#clip8702)\" cx=\"1628.58\" cy=\"556.997\" r=\"14\" fill=\"#e26f46\" fill-rule=\"evenodd\" fill-opacity=\"1\" stroke=\"#000000\" stroke-opacity=\"1\" stroke-width=\"3.2\"/>\n",
       "<circle clip-path=\"url(#clip8702)\" cx=\"1605.18\" cy=\"590.716\" r=\"14\" fill=\"#e26f46\" fill-rule=\"evenodd\" fill-opacity=\"1\" stroke=\"#000000\" stroke-opacity=\"1\" stroke-width=\"3.2\"/>\n",
       "<circle clip-path=\"url(#clip8702)\" cx=\"1755.61\" cy=\"559.625\" r=\"14\" fill=\"#e26f46\" fill-rule=\"evenodd\" fill-opacity=\"1\" stroke=\"#000000\" stroke-opacity=\"1\" stroke-width=\"3.2\"/>\n",
       "<circle clip-path=\"url(#clip8702)\" cx=\"1609.59\" cy=\"547.572\" r=\"14\" fill=\"#e26f46\" fill-rule=\"evenodd\" fill-opacity=\"1\" stroke=\"#000000\" stroke-opacity=\"1\" stroke-width=\"3.2\"/>\n",
       "<circle clip-path=\"url(#clip8702)\" cx=\"1716.39\" cy=\"545.717\" r=\"14\" fill=\"#e26f46\" fill-rule=\"evenodd\" fill-opacity=\"1\" stroke=\"#000000\" stroke-opacity=\"1\" stroke-width=\"3.2\"/>\n",
       "<circle clip-path=\"url(#clip8702)\" cx=\"1540.48\" cy=\"573.376\" r=\"14\" fill=\"#e26f46\" fill-rule=\"evenodd\" fill-opacity=\"1\" stroke=\"#000000\" stroke-opacity=\"1\" stroke-width=\"3.2\"/>\n",
       "<circle clip-path=\"url(#clip8702)\" cx=\"1729.13\" cy=\"582.444\" r=\"14\" fill=\"#e26f46\" fill-rule=\"evenodd\" fill-opacity=\"1\" stroke=\"#000000\" stroke-opacity=\"1\" stroke-width=\"3.2\"/>\n",
       "<circle clip-path=\"url(#clip8702)\" cx=\"1652.77\" cy=\"527.999\" r=\"14\" fill=\"#e26f46\" fill-rule=\"evenodd\" fill-opacity=\"1\" stroke=\"#000000\" stroke-opacity=\"1\" stroke-width=\"3.2\"/>\n",
       "<circle clip-path=\"url(#clip8702)\" cx=\"1554.97\" cy=\"622.718\" r=\"14\" fill=\"#e26f46\" fill-rule=\"evenodd\" fill-opacity=\"1\" stroke=\"#000000\" stroke-opacity=\"1\" stroke-width=\"3.2\"/>\n",
       "<circle clip-path=\"url(#clip8702)\" cx=\"1620.71\" cy=\"557.371\" r=\"14\" fill=\"#e26f46\" fill-rule=\"evenodd\" fill-opacity=\"1\" stroke=\"#000000\" stroke-opacity=\"1\" stroke-width=\"3.2\"/>\n",
       "<circle clip-path=\"url(#clip8702)\" cx=\"1681.29\" cy=\"558.241\" r=\"14\" fill=\"#e26f46\" fill-rule=\"evenodd\" fill-opacity=\"1\" stroke=\"#000000\" stroke-opacity=\"1\" stroke-width=\"3.2\"/>\n",
       "<circle clip-path=\"url(#clip8702)\" cx=\"1636.18\" cy=\"588.026\" r=\"14\" fill=\"#e26f46\" fill-rule=\"evenodd\" fill-opacity=\"1\" stroke=\"#000000\" stroke-opacity=\"1\" stroke-width=\"3.2\"/>\n",
       "<circle clip-path=\"url(#clip8702)\" cx=\"1618.87\" cy=\"541.334\" r=\"14\" fill=\"#e26f46\" fill-rule=\"evenodd\" fill-opacity=\"1\" stroke=\"#000000\" stroke-opacity=\"1\" stroke-width=\"3.2\"/>\n",
       "<circle clip-path=\"url(#clip8702)\" cx=\"1585.92\" cy=\"586.003\" r=\"14\" fill=\"#e26f46\" fill-rule=\"evenodd\" fill-opacity=\"1\" stroke=\"#000000\" stroke-opacity=\"1\" stroke-width=\"3.2\"/>\n",
       "<circle clip-path=\"url(#clip8702)\" cx=\"1650.59\" cy=\"564.619\" r=\"14\" fill=\"#e26f46\" fill-rule=\"evenodd\" fill-opacity=\"1\" stroke=\"#000000\" stroke-opacity=\"1\" stroke-width=\"3.2\"/>\n",
       "<circle clip-path=\"url(#clip8702)\" cx=\"1599.33\" cy=\"562.604\" r=\"14\" fill=\"#e26f46\" fill-rule=\"evenodd\" fill-opacity=\"1\" stroke=\"#000000\" stroke-opacity=\"1\" stroke-width=\"3.2\"/>\n",
       "<circle clip-path=\"url(#clip8702)\" cx=\"1562.44\" cy=\"597.371\" r=\"14\" fill=\"#e26f46\" fill-rule=\"evenodd\" fill-opacity=\"1\" stroke=\"#000000\" stroke-opacity=\"1\" stroke-width=\"3.2\"/>\n",
       "<circle clip-path=\"url(#clip8702)\" cx=\"1703.37\" cy=\"565.521\" r=\"14\" fill=\"#e26f46\" fill-rule=\"evenodd\" fill-opacity=\"1\" stroke=\"#000000\" stroke-opacity=\"1\" stroke-width=\"3.2\"/>\n",
       "<circle clip-path=\"url(#clip8702)\" cx=\"1620.71\" cy=\"557.371\" r=\"14\" fill=\"#e26f46\" fill-rule=\"evenodd\" fill-opacity=\"1\" stroke=\"#000000\" stroke-opacity=\"1\" stroke-width=\"3.2\"/>\n",
       "<circle clip-path=\"url(#clip8702)\" cx=\"1703.37\" cy=\"565.521\" r=\"14\" fill=\"#e26f46\" fill-rule=\"evenodd\" fill-opacity=\"1\" stroke=\"#000000\" stroke-opacity=\"1\" stroke-width=\"3.2\"/>\n",
       "<circle clip-path=\"url(#clip8702)\" cx=\"1733.81\" cy=\"607.024\" r=\"14\" fill=\"#e26f46\" fill-rule=\"evenodd\" fill-opacity=\"1\" stroke=\"#000000\" stroke-opacity=\"1\" stroke-width=\"3.2\"/>\n",
       "<circle clip-path=\"url(#clip8702)\" cx=\"1733.81\" cy=\"607.024\" r=\"14\" fill=\"#e26f46\" fill-rule=\"evenodd\" fill-opacity=\"1\" stroke=\"#000000\" stroke-opacity=\"1\" stroke-width=\"3.2\"/>\n",
       "<circle clip-path=\"url(#clip8702)\" cx=\"1632.35\" cy=\"564.516\" r=\"14\" fill=\"#e26f46\" fill-rule=\"evenodd\" fill-opacity=\"1\" stroke=\"#000000\" stroke-opacity=\"1\" stroke-width=\"3.2\"/>\n",
       "<circle clip-path=\"url(#clip8702)\" cx=\"1716.39\" cy=\"545.717\" r=\"14\" fill=\"#e26f46\" fill-rule=\"evenodd\" fill-opacity=\"1\" stroke=\"#000000\" stroke-opacity=\"1\" stroke-width=\"3.2\"/>\n",
       "<circle clip-path=\"url(#clip8702)\" cx=\"1635.75\" cy=\"550.618\" r=\"14\" fill=\"#e26f46\" fill-rule=\"evenodd\" fill-opacity=\"1\" stroke=\"#000000\" stroke-opacity=\"1\" stroke-width=\"3.2\"/>\n",
       "<circle clip-path=\"url(#clip8702)\" cx=\"1540.48\" cy=\"573.376\" r=\"14\" fill=\"#e26f46\" fill-rule=\"evenodd\" fill-opacity=\"1\" stroke=\"#000000\" stroke-opacity=\"1\" stroke-width=\"3.2\"/>\n",
       "<circle clip-path=\"url(#clip8702)\" cx=\"1635.75\" cy=\"550.618\" r=\"14\" fill=\"#e26f46\" fill-rule=\"evenodd\" fill-opacity=\"1\" stroke=\"#000000\" stroke-opacity=\"1\" stroke-width=\"3.2\"/>\n",
       "<circle clip-path=\"url(#clip8702)\" cx=\"1594.99\" cy=\"596.857\" r=\"14\" fill=\"#e26f46\" fill-rule=\"evenodd\" fill-opacity=\"1\" stroke=\"#000000\" stroke-opacity=\"1\" stroke-width=\"3.2\"/>\n",
       "<circle clip-path=\"url(#clip8702)\" cx=\"1540.48\" cy=\"573.376\" r=\"14\" fill=\"#e26f46\" fill-rule=\"evenodd\" fill-opacity=\"1\" stroke=\"#000000\" stroke-opacity=\"1\" stroke-width=\"3.2\"/>\n",
       "<circle clip-path=\"url(#clip8702)\" cx=\"1581.27\" cy=\"559.319\" r=\"14\" fill=\"#e26f46\" fill-rule=\"evenodd\" fill-opacity=\"1\" stroke=\"#000000\" stroke-opacity=\"1\" stroke-width=\"3.2\"/>\n",
       "<circle clip-path=\"url(#clip8702)\" cx=\"1627.92\" cy=\"518.262\" r=\"14\" fill=\"#e26f46\" fill-rule=\"evenodd\" fill-opacity=\"1\" stroke=\"#000000\" stroke-opacity=\"1\" stroke-width=\"3.2\"/>\n",
       "</svg>\n"
      ]
     },
     "metadata": {},
     "output_type": "display_data"
    }
   ],
   "source": [
    "function plot_pop(P)\n",
    "    scatter3d([i.y[1] for i in P], [i.y[2] for i in P], [i.y[3] for i in P], xlims=(0.0, 1.0), ylims=(0.0, 1.0), zlims =(0.0,1.0), legend=:none)\n",
    "    ND = filter(indiv -> indiv.rank == 1, P)\n",
    "    scatter3d!([i.y[1] for i in ND], [i.y[2] for i in ND],[i.y[3] for i in ND], legend=:none)\n",
    "end\n",
    "\n",
    "nsga_max(popsize, nbgen, objective, init, fCV=constraint, fplot=plot_pop, plotevery=1, showprogress=false);"
   ]
  },
  {
   "cell_type": "markdown",
   "metadata": {
    "slideshow": {
     "slide_type": "slide"
    }
   },
   "source": [
    "Another way to look at the different objectives is to plot the different objectives on the `x` axis and the fitness values on the `y` axis. Each individual in a population is then represented as a line. Let's try this method, increasing the number of objectives to 10."
   ]
  },
  {
   "cell_type": "code",
   "execution_count": 111,
   "metadata": {
    "slideshow": {
     "slide_type": "fragment"
    }
   },
   "outputs": [
    {
     "data": {
      "text/plain": [
       "init (generic function with 1 method)"
      ]
     },
     "execution_count": 111,
     "metadata": {},
     "output_type": "execute_result"
    }
   ],
   "source": [
    "n = 100\n",
    "n_objectives = 20\n",
    "values = rand(n, n_objectives)\n",
    "values = values ./ sum(values, dims=1)\n",
    "weights = rand(n)\n",
    "weights = weights ./ sum(weights)\n",
    "max_weight = 0.5\n",
    "popsize = 100\n",
    "nbgen = 50\n",
    "init() = bitrand(n)"
   ]
  },
  {
   "cell_type": "code",
   "execution_count": 112,
   "metadata": {
    "slideshow": {
     "slide_type": "slide"
    }
   },
   "outputs": [
    {
     "data": {
      "image/svg+xml": [
       "<?xml version=\"1.0\" encoding=\"utf-8\"?>\n",
       "<svg xmlns=\"http://www.w3.org/2000/svg\" xmlns:xlink=\"http://www.w3.org/1999/xlink\" width=\"600\" height=\"400\" viewBox=\"0 0 2400 1600\">\n",
       "<defs>\n",
       "  <clipPath id=\"clip5900\">\n",
       "    <rect x=\"0\" y=\"0\" width=\"2400\" height=\"1600\"/>\n",
       "  </clipPath>\n",
       "</defs>\n",
       "<path clip-path=\"url(#clip5900)\" d=\"\n",
       "M0 1600 L2400 1600 L2400 0 L0 0  Z\n",
       "  \" fill=\"#ffffff\" fill-rule=\"evenodd\" fill-opacity=\"1\"/>\n",
       "<defs>\n",
       "  <clipPath id=\"clip5901\">\n",
       "    <rect x=\"480\" y=\"0\" width=\"1681\" height=\"1600\"/>\n",
       "  </clipPath>\n",
       "</defs>\n",
       "<path clip-path=\"url(#clip5900)\" d=\"\n",
       "M148.334 1486.45 L2352.76 1486.45 L2352.76 47.2441 L148.334 47.2441  Z\n",
       "  \" fill=\"#ffffff\" fill-rule=\"evenodd\" fill-opacity=\"1\"/>\n",
       "<defs>\n",
       "  <clipPath id=\"clip5902\">\n",
       "    <rect x=\"148\" y=\"47\" width=\"2205\" height=\"1440\"/>\n",
       "  </clipPath>\n",
       "</defs>\n",
       "<polyline clip-path=\"url(#clip5902)\" style=\"stroke:#000000; stroke-width:2; stroke-opacity:0.1; fill:none\" points=\"\n",
       "  612.423,1486.45 612.423,47.2441 \n",
       "  \"/>\n",
       "<polyline clip-path=\"url(#clip5902)\" style=\"stroke:#000000; stroke-width:2; stroke-opacity:0.1; fill:none\" points=\"\n",
       "  1192.53,1486.45 1192.53,47.2441 \n",
       "  \"/>\n",
       "<polyline clip-path=\"url(#clip5902)\" style=\"stroke:#000000; stroke-width:2; stroke-opacity:0.1; fill:none\" points=\"\n",
       "  1772.64,1486.45 1772.64,47.2441 \n",
       "  \"/>\n",
       "<polyline clip-path=\"url(#clip5902)\" style=\"stroke:#000000; stroke-width:2; stroke-opacity:0.1; fill:none\" points=\"\n",
       "  2352.76,1486.45 2352.76,47.2441 \n",
       "  \"/>\n",
       "<polyline clip-path=\"url(#clip5902)\" style=\"stroke:#000000; stroke-width:2; stroke-opacity:0.1; fill:none\" points=\"\n",
       "  148.334,1399.76 2352.76,1399.76 \n",
       "  \"/>\n",
       "<polyline clip-path=\"url(#clip5902)\" style=\"stroke:#000000; stroke-width:2; stroke-opacity:0.1; fill:none\" points=\"\n",
       "  148.334,971.415 2352.76,971.415 \n",
       "  \"/>\n",
       "<polyline clip-path=\"url(#clip5902)\" style=\"stroke:#000000; stroke-width:2; stroke-opacity:0.1; fill:none\" points=\"\n",
       "  148.334,543.072 2352.76,543.072 \n",
       "  \"/>\n",
       "<polyline clip-path=\"url(#clip5902)\" style=\"stroke:#000000; stroke-width:2; stroke-opacity:0.1; fill:none\" points=\"\n",
       "  148.334,114.729 2352.76,114.729 \n",
       "  \"/>\n",
       "<polyline clip-path=\"url(#clip5900)\" style=\"stroke:#000000; stroke-width:4; stroke-opacity:1; fill:none\" points=\"\n",
       "  148.334,1486.45 2352.76,1486.45 \n",
       "  \"/>\n",
       "<polyline clip-path=\"url(#clip5900)\" style=\"stroke:#000000; stroke-width:4; stroke-opacity:1; fill:none\" points=\"\n",
       "  148.334,1486.45 148.334,47.2441 \n",
       "  \"/>\n",
       "<polyline clip-path=\"url(#clip5900)\" style=\"stroke:#000000; stroke-width:4; stroke-opacity:1; fill:none\" points=\"\n",
       "  612.423,1486.45 612.423,1469.18 \n",
       "  \"/>\n",
       "<polyline clip-path=\"url(#clip5900)\" style=\"stroke:#000000; stroke-width:4; stroke-opacity:1; fill:none\" points=\"\n",
       "  1192.53,1486.45 1192.53,1469.18 \n",
       "  \"/>\n",
       "<polyline clip-path=\"url(#clip5900)\" style=\"stroke:#000000; stroke-width:4; stroke-opacity:1; fill:none\" points=\"\n",
       "  1772.64,1486.45 1772.64,1469.18 \n",
       "  \"/>\n",
       "<polyline clip-path=\"url(#clip5900)\" style=\"stroke:#000000; stroke-width:4; stroke-opacity:1; fill:none\" points=\"\n",
       "  2352.76,1486.45 2352.76,1469.18 \n",
       "  \"/>\n",
       "<polyline clip-path=\"url(#clip5900)\" style=\"stroke:#000000; stroke-width:4; stroke-opacity:1; fill:none\" points=\"\n",
       "  148.334,1399.76 174.787,1399.76 \n",
       "  \"/>\n",
       "<polyline clip-path=\"url(#clip5900)\" style=\"stroke:#000000; stroke-width:4; stroke-opacity:1; fill:none\" points=\"\n",
       "  148.334,971.415 174.787,971.415 \n",
       "  \"/>\n",
       "<polyline clip-path=\"url(#clip5900)\" style=\"stroke:#000000; stroke-width:4; stroke-opacity:1; fill:none\" points=\"\n",
       "  148.334,543.072 174.787,543.072 \n",
       "  \"/>\n",
       "<polyline clip-path=\"url(#clip5900)\" style=\"stroke:#000000; stroke-width:4; stroke-opacity:1; fill:none\" points=\"\n",
       "  148.334,114.729 174.787,114.729 \n",
       "  \"/>\n",
       "<path clip-path=\"url(#clip5900)\" d=\"M 0 0 M602.701 1505.36 L621.057 1505.36 L621.057 1509.3 L606.983 1509.3 L606.983 1517.77 Q608.002 1517.42 609.02 1517.26 Q610.039 1517.07 611.057 1517.07 Q616.844 1517.07 620.224 1520.24 Q623.604 1523.42 623.604 1528.83 Q623.604 1534.41 620.131 1537.51 Q616.659 1540.59 610.34 1540.59 Q608.164 1540.59 605.895 1540.22 Q603.65 1539.85 601.243 1539.11 L601.243 1534.41 Q603.326 1535.54 605.548 1536.1 Q607.77 1536.66 610.247 1536.66 Q614.252 1536.66 616.59 1534.55 Q618.928 1532.44 618.928 1528.83 Q618.928 1525.22 616.59 1523.11 Q614.252 1521.01 610.247 1521.01 Q608.372 1521.01 606.497 1521.42 Q604.645 1521.84 602.701 1522.72 L602.701 1505.36 Z\" fill=\"#000000\" fill-rule=\"evenodd\" fill-opacity=\"1\" /><path clip-path=\"url(#clip5900)\" d=\"M 0 0 M1169.41 1535.98 L1177.05 1535.98 L1177.05 1509.62 L1168.74 1511.29 L1168.74 1507.03 L1177 1505.36 L1181.68 1505.36 L1181.68 1535.98 L1189.32 1535.98 L1189.32 1539.92 L1169.41 1539.92 L1169.41 1535.98 Z\" fill=\"#000000\" fill-rule=\"evenodd\" fill-opacity=\"1\" /><path clip-path=\"url(#clip5900)\" d=\"M 0 0 M1204.39 1508.44 Q1200.77 1508.44 1198.95 1512 Q1197.14 1515.55 1197.14 1522.67 Q1197.14 1529.78 1198.95 1533.35 Q1200.77 1536.89 1204.39 1536.89 Q1208.02 1536.89 1209.83 1533.35 Q1211.65 1529.78 1211.65 1522.67 Q1211.65 1515.55 1209.83 1512 Q1208.02 1508.44 1204.39 1508.44 M1204.39 1504.73 Q1210.2 1504.73 1213.25 1509.34 Q1216.33 1513.92 1216.33 1522.67 Q1216.33 1531.4 1213.25 1536.01 Q1210.2 1540.59 1204.39 1540.59 Q1198.58 1540.59 1195.5 1536.01 Q1192.44 1531.4 1192.44 1522.67 Q1192.44 1513.92 1195.5 1509.34 Q1198.58 1504.73 1204.39 1504.73 Z\" fill=\"#000000\" fill-rule=\"evenodd\" fill-opacity=\"1\" /><path clip-path=\"url(#clip5900)\" d=\"M 0 0 M1750.02 1535.98 L1757.66 1535.98 L1757.66 1509.62 L1749.35 1511.29 L1749.35 1507.03 L1757.61 1505.36 L1762.29 1505.36 L1762.29 1535.98 L1769.93 1535.98 L1769.93 1539.92 L1750.02 1539.92 L1750.02 1535.98 Z\" fill=\"#000000\" fill-rule=\"evenodd\" fill-opacity=\"1\" /><path clip-path=\"url(#clip5900)\" d=\"M 0 0 M1775.04 1505.36 L1793.4 1505.36 L1793.4 1509.3 L1779.32 1509.3 L1779.32 1517.77 Q1780.34 1517.42 1781.36 1517.26 Q1782.38 1517.07 1783.4 1517.07 Q1789.18 1517.07 1792.56 1520.24 Q1795.94 1523.42 1795.94 1528.83 Q1795.94 1534.41 1792.47 1537.51 Q1789 1540.59 1782.68 1540.59 Q1780.5 1540.59 1778.24 1540.22 Q1775.99 1539.85 1773.58 1539.11 L1773.58 1534.41 Q1775.67 1535.54 1777.89 1536.1 Q1780.11 1536.66 1782.59 1536.66 Q1786.59 1536.66 1788.93 1534.55 Q1791.27 1532.44 1791.27 1528.83 Q1791.27 1525.22 1788.93 1523.11 Q1786.59 1521.01 1782.59 1521.01 Q1780.71 1521.01 1778.84 1521.42 Q1776.99 1521.84 1775.04 1522.72 L1775.04 1505.36 Z\" fill=\"#000000\" fill-rule=\"evenodd\" fill-opacity=\"1\" /><path clip-path=\"url(#clip5900)\" d=\"M 0 0 M2333.9 1535.98 L2350.22 1535.98 L2350.22 1539.92 L2328.28 1539.92 L2328.28 1535.98 Q2330.94 1533.23 2335.52 1528.6 Q2340.13 1523.95 2341.31 1522.61 Q2343.55 1520.08 2344.43 1518.35 Q2345.34 1516.59 2345.34 1514.9 Q2345.34 1512.14 2343.39 1510.41 Q2341.47 1508.67 2338.37 1508.67 Q2336.17 1508.67 2333.72 1509.43 Q2331.29 1510.2 2328.51 1511.75 L2328.51 1507.03 Q2331.33 1505.89 2333.79 1505.31 Q2336.24 1504.73 2338.28 1504.73 Q2343.65 1504.73 2346.84 1507.42 Q2350.04 1510.11 2350.04 1514.6 Q2350.04 1516.73 2349.23 1518.65 Q2348.44 1520.54 2346.33 1523.14 Q2345.75 1523.81 2342.65 1527.03 Q2339.55 1530.22 2333.9 1535.98 Z\" fill=\"#000000\" fill-rule=\"evenodd\" fill-opacity=\"1\" /><path clip-path=\"url(#clip5900)\" d=\"M 0 0 M2365.29 1508.44 Q2361.68 1508.44 2359.85 1512 Q2358.05 1515.55 2358.05 1522.67 Q2358.05 1529.78 2359.85 1533.35 Q2361.68 1536.89 2365.29 1536.89 Q2368.92 1536.89 2370.73 1533.35 Q2372.56 1529.78 2372.56 1522.67 Q2372.56 1515.55 2370.73 1512 Q2368.92 1508.44 2365.29 1508.44 M2365.29 1504.73 Q2371.1 1504.73 2374.16 1509.34 Q2377.23 1513.92 2377.23 1522.67 Q2377.23 1531.4 2374.16 1536.01 Q2371.1 1540.59 2365.29 1540.59 Q2359.48 1540.59 2356.4 1536.01 Q2353.35 1531.4 2353.35 1522.67 Q2353.35 1513.92 2356.4 1509.34 Q2359.48 1504.73 2365.29 1504.73 Z\" fill=\"#000000\" fill-rule=\"evenodd\" fill-opacity=\"1\" /><path clip-path=\"url(#clip5900)\" d=\"M 0 0 M74.9365 1385.56 Q71.3254 1385.56 69.4967 1389.12 Q67.6912 1392.66 67.6912 1399.79 Q67.6912 1406.9 69.4967 1410.46 Q71.3254 1414.01 74.9365 1414.01 Q78.5707 1414.01 80.3763 1410.46 Q82.205 1406.9 82.205 1399.79 Q82.205 1392.66 80.3763 1389.12 Q78.5707 1385.56 74.9365 1385.56 M74.9365 1381.85 Q80.7467 1381.85 83.8022 1386.46 Q86.8809 1391.04 86.8809 1399.79 Q86.8809 1408.52 83.8022 1413.13 Q80.7467 1417.71 74.9365 1417.71 Q69.1264 1417.71 66.0477 1413.13 Q62.9921 1408.52 62.9921 1399.79 Q62.9921 1391.04 66.0477 1386.46 Q69.1264 1381.85 74.9365 1381.85 Z\" fill=\"#000000\" fill-rule=\"evenodd\" fill-opacity=\"1\" /><path clip-path=\"url(#clip5900)\" d=\"M 0 0 M91.9503 1411.16 L96.8345 1411.16 L96.8345 1417.04 L91.9503 1417.04 L91.9503 1411.16 Z\" fill=\"#000000\" fill-rule=\"evenodd\" fill-opacity=\"1\" /><path clip-path=\"url(#clip5900)\" d=\"M 0 0 M114.751 1386.55 L102.946 1405 L114.751 1405 L114.751 1386.55 M113.524 1382.48 L119.404 1382.48 L119.404 1405 L124.334 1405 L124.334 1408.89 L119.404 1408.89 L119.404 1417.04 L114.751 1417.04 L114.751 1408.89 L99.1493 1408.89 L99.1493 1404.38 L113.524 1382.48 Z\" fill=\"#000000\" fill-rule=\"evenodd\" fill-opacity=\"1\" /><path clip-path=\"url(#clip5900)\" d=\"M 0 0 M76.418 957.214 Q72.8069 957.214 70.9782 960.779 Q69.1726 964.321 69.1726 971.45 Q69.1726 978.557 70.9782 982.121 Q72.8069 985.663 76.418 985.663 Q80.0522 985.663 81.8578 982.121 Q83.6865 978.557 83.6865 971.45 Q83.6865 964.321 81.8578 960.779 Q80.0522 957.214 76.418 957.214 M76.418 953.51 Q82.2281 953.51 85.2837 958.117 Q88.3624 962.7 88.3624 971.45 Q88.3624 980.177 85.2837 984.783 Q82.2281 989.367 76.418 989.367 Q70.6078 989.367 67.5291 984.783 Q64.4736 980.177 64.4736 971.45 Q64.4736 962.7 67.5291 958.117 Q70.6078 953.51 76.418 953.51 Z\" fill=\"#000000\" fill-rule=\"evenodd\" fill-opacity=\"1\" /><path clip-path=\"url(#clip5900)\" d=\"M 0 0 M93.4318 982.816 L98.316 982.816 L98.316 988.695 L93.4318 988.695 L93.4318 982.816 Z\" fill=\"#000000\" fill-rule=\"evenodd\" fill-opacity=\"1\" /><path clip-path=\"url(#clip5900)\" d=\"M 0 0 M103.432 954.135 L121.788 954.135 L121.788 958.071 L107.714 958.071 L107.714 966.543 Q108.733 966.196 109.751 966.034 Q110.77 965.848 111.788 965.848 Q117.575 965.848 120.955 969.02 Q124.334 972.191 124.334 977.608 Q124.334 983.186 120.862 986.288 Q117.39 989.367 111.071 989.367 Q108.895 989.367 106.626 988.996 Q104.381 988.626 101.973 987.885 L101.973 983.186 Q104.057 984.32 106.279 984.876 Q108.501 985.432 110.978 985.432 Q114.983 985.432 117.321 983.325 Q119.658 981.219 119.658 977.608 Q119.658 973.996 117.321 971.89 Q114.983 969.784 110.978 969.784 Q109.103 969.784 107.228 970.2 Q105.376 970.617 103.432 971.496 L103.432 954.135 Z\" fill=\"#000000\" fill-rule=\"evenodd\" fill-opacity=\"1\" /><path clip-path=\"url(#clip5900)\" d=\"M 0 0 M75.2606 528.871 Q71.6495 528.871 69.8208 532.436 Q68.0152 535.977 68.0152 543.107 Q68.0152 550.213 69.8208 553.778 Q71.6495 557.32 75.2606 557.32 Q78.8948 557.32 80.7004 553.778 Q82.5291 550.213 82.5291 543.107 Q82.5291 535.977 80.7004 532.436 Q78.8948 528.871 75.2606 528.871 M75.2606 525.167 Q81.0707 525.167 84.1263 529.774 Q87.205 534.357 87.205 543.107 Q87.205 551.834 84.1263 556.44 Q81.0707 561.023 75.2606 561.023 Q69.4504 561.023 66.3717 556.44 Q63.3162 551.834 63.3162 543.107 Q63.3162 534.357 66.3717 529.774 Q69.4504 525.167 75.2606 525.167 Z\" fill=\"#000000\" fill-rule=\"evenodd\" fill-opacity=\"1\" /><path clip-path=\"url(#clip5900)\" d=\"M 0 0 M92.2744 554.473 L97.1586 554.473 L97.1586 560.352 L92.2744 560.352 L92.2744 554.473 Z\" fill=\"#000000\" fill-rule=\"evenodd\" fill-opacity=\"1\" /><path clip-path=\"url(#clip5900)\" d=\"M 0 0 M112.807 541.209 Q109.659 541.209 107.807 543.362 Q105.978 545.514 105.978 549.264 Q105.978 552.991 107.807 555.167 Q109.659 557.32 112.807 557.32 Q115.955 557.32 117.783 555.167 Q119.635 552.991 119.635 549.264 Q119.635 545.514 117.783 543.362 Q115.955 541.209 112.807 541.209 M122.089 526.556 L122.089 530.815 Q120.33 529.982 118.524 529.542 Q116.742 529.102 114.983 529.102 Q110.353 529.102 107.899 532.227 Q105.469 535.352 105.122 541.672 Q106.487 539.658 108.547 538.593 Q110.608 537.505 113.084 537.505 Q118.293 537.505 121.302 540.676 Q124.334 543.824 124.334 549.264 Q124.334 554.588 121.186 557.806 Q118.038 561.023 112.807 561.023 Q106.811 561.023 103.64 556.44 Q100.469 551.834 100.469 543.107 Q100.469 534.912 104.358 530.051 Q108.247 525.167 114.797 525.167 Q116.557 525.167 118.339 525.514 Q120.145 525.862 122.089 526.556 Z\" fill=\"#000000\" fill-rule=\"evenodd\" fill-opacity=\"1\" /><path clip-path=\"url(#clip5900)\" d=\"M 0 0 M76.3254 100.528 Q72.7143 100.528 70.8856 104.092 Q69.0801 107.634 69.0801 114.764 Q69.0801 121.87 70.8856 125.435 Q72.7143 128.976 76.3254 128.976 Q79.9596 128.976 81.7652 125.435 Q83.5939 121.87 83.5939 114.764 Q83.5939 107.634 81.7652 104.092 Q79.9596 100.528 76.3254 100.528 M76.3254 96.8239 Q82.1355 96.8239 85.1911 101.43 Q88.2698 106.014 88.2698 114.764 Q88.2698 123.49 85.1911 128.097 Q82.1355 132.68 76.3254 132.68 Q70.5152 132.68 67.4365 128.097 Q64.381 123.49 64.381 114.764 Q64.381 106.014 67.4365 101.43 Q70.5152 96.8239 76.3254 96.8239 Z\" fill=\"#000000\" fill-rule=\"evenodd\" fill-opacity=\"1\" /><path clip-path=\"url(#clip5900)\" d=\"M 0 0 M93.3392 126.129 L98.2234 126.129 L98.2234 132.009 L93.3392 132.009 L93.3392 126.129 Z\" fill=\"#000000\" fill-rule=\"evenodd\" fill-opacity=\"1\" /><path clip-path=\"url(#clip5900)\" d=\"M 0 0 M102.112 97.4489 L124.334 97.4489 L124.334 99.4396 L111.788 132.009 L106.904 132.009 L118.709 101.384 L102.112 101.384 L102.112 97.4489 Z\" fill=\"#000000\" fill-rule=\"evenodd\" fill-opacity=\"1\" /><polyline clip-path=\"url(#clip5902)\" style=\"stroke:#0000ff; stroke-width:4; stroke-opacity:1; fill:none\" points=\"\n",
       "  148.334,553.02 264.357,976.555 380.379,347.345 496.401,975.155 612.423,854.852 728.445,789.96 844.468,478.223 960.49,389.451 1076.51,719.71 1192.53,779.027 \n",
       "  1308.56,673.225 1424.58,593.669 1540.6,845.665 1656.62,504.316 1772.64,817.007 1888.67,670.003 2004.69,864.845 2120.71,499.812 2236.73,512.719 2352.76,681.541 \n",
       "  \n",
       "  \"/>\n",
       "<polyline clip-path=\"url(#clip5902)\" style=\"stroke:#0000ff; stroke-width:4; stroke-opacity:1; fill:none\" points=\"\n",
       "  148.334,409.04 264.357,537.492 380.379,478.815 496.401,561.605 612.423,452.876 728.445,581.382 844.468,340.112 960.49,316.797 1076.51,442.168 1192.53,507.303 \n",
       "  1308.56,572.072 1424.58,539.656 1540.6,519.296 1656.62,530.141 1772.64,811.923 1888.67,416.578 2004.69,583.869 2120.71,325.061 2236.73,669.895 2352.76,465.134 \n",
       "  \n",
       "  \"/>\n",
       "<polyline clip-path=\"url(#clip5902)\" style=\"stroke:#0000ff; stroke-width:4; stroke-opacity:1; fill:none\" points=\"\n",
       "  148.334,374.304 264.357,363.977 380.379,185.936 496.401,525.591 612.423,416.836 728.445,489.87 844.468,381.353 960.49,485.328 1076.51,343.695 1192.53,316.491 \n",
       "  1308.56,360.808 1424.58,131.869 1540.6,444.732 1656.62,431.739 1772.64,806.821 1888.67,580.118 2004.69,652.12 2120.71,155.471 2236.73,443.555 2352.76,321.416 \n",
       "  \n",
       "  \"/>\n",
       "<polyline clip-path=\"url(#clip5902)\" style=\"stroke:#0000ff; stroke-width:4; stroke-opacity:1; fill:none\" points=\"\n",
       "  148.334,988.79 264.357,399.269 380.379,865.038 496.401,797.98 612.423,819.995 728.445,805.734 844.468,991.897 960.49,701.357 1076.51,837.892 1192.53,1086.05 \n",
       "  1308.56,766.521 1424.58,934.015 1540.6,929.18 1656.62,1087.44 1772.64,421.03 1888.67,859.34 2004.69,815.779 2120.71,958.23 2236.73,979.596 2352.76,946.985 \n",
       "  \n",
       "  \"/>\n",
       "<polyline clip-path=\"url(#clip5902)\" style=\"stroke:#0000ff; stroke-width:4; stroke-opacity:1; fill:none\" points=\"\n",
       "  148.334,637.207 264.357,686.141 380.379,842.126 496.401,685.301 612.423,574.32 728.445,575.928 844.468,827.672 960.49,861.17 1076.51,1068.12 1192.53,754.251 \n",
       "  1308.56,783.731 1424.58,863.898 1540.6,783.938 1656.62,603.505 1772.64,630.419 1888.67,639.769 2004.69,890.407 2120.71,759.137 2236.73,1034.02 2352.76,899.834 \n",
       "  \n",
       "  \"/>\n",
       "<polyline clip-path=\"url(#clip5902)\" style=\"stroke:#0000ff; stroke-width:4; stroke-opacity:1; fill:none\" points=\"\n",
       "  148.334,523.94 264.357,384.881 380.379,554.82 496.401,726.136 612.423,570.226 728.445,712.06 844.468,569.748 960.49,381.257 1076.51,635.592 1192.53,587.774 \n",
       "  1308.56,671.691 1424.58,551.186 1540.6,1029.31 1656.62,679.743 1772.64,695.72 1888.67,834.687 2004.69,671.768 2120.71,392.491 2236.73,645.3 2352.76,590.67 \n",
       "  \n",
       "  \"/>\n",
       "<polyline clip-path=\"url(#clip5902)\" style=\"stroke:#0000ff; stroke-width:4; stroke-opacity:1; fill:none\" points=\"\n",
       "  148.334,503.023 264.357,838.536 380.379,439.766 496.401,970.405 612.423,812.989 728.445,768.632 844.468,462.721 960.49,362 1076.51,587.436 1192.53,770.481 \n",
       "  1308.56,651.018 1424.58,517.779 1540.6,846.477 1656.62,544.999 1772.64,869.941 1888.67,752.911 2004.69,860.042 2120.71,506.486 2236.73,499.381 2352.76,674.797 \n",
       "  \n",
       "  \"/>\n",
       "<polyline clip-path=\"url(#clip5902)\" style=\"stroke:#0000ff; stroke-width:4; stroke-opacity:1; fill:none\" points=\"\n",
       "  148.334,456.478 264.357,577.062 380.379,404.042 496.401,660.206 612.423,552.085 728.445,587.388 844.468,437.425 960.49,428.199 1076.51,406.439 1192.53,515.258 \n",
       "  1308.56,363.227 1424.58,208.646 1540.6,439.938 1656.62,483.984 1772.64,749.229 1888.67,569.607 2004.69,736.533 2120.71,141.637 2236.73,624.125 2352.76,404.257 \n",
       "  \n",
       "  \"/>\n",
       "<polyline clip-path=\"url(#clip5902)\" style=\"stroke:#0000ff; stroke-width:4; stroke-opacity:1; fill:none\" points=\"\n",
       "  148.334,485.174 264.357,648.599 380.379,517.374 496.401,907.898 612.423,647.665 728.445,738.517 844.468,365.721 960.49,574.405 1076.51,777.194 1192.53,697.544 \n",
       "  1308.56,552.819 1424.58,558.057 1540.6,673.49 1656.62,404.114 1772.64,982.797 1888.67,675.91 2004.69,793.844 2120.71,220.093 2236.73,594.688 2352.76,487.674 \n",
       "  \n",
       "  \"/>\n",
       "<polyline clip-path=\"url(#clip5902)\" style=\"stroke:#0000ff; stroke-width:4; stroke-opacity:1; fill:none\" points=\"\n",
       "  148.334,500.339 264.357,585.908 380.379,344.66 496.401,690.473 612.423,521.791 728.445,582.658 844.468,423.859 960.49,431.116 1076.51,415.268 1192.53,454.119 \n",
       "  1308.56,352.581 1424.58,181.135 1540.6,485.618 1656.62,513.979 1772.64,792.911 1888.67,618.046 2004.69,766.526 2120.71,143.84 2236.73,627.026 2352.76,434.222 \n",
       "  \n",
       "  \"/>\n",
       "<polyline clip-path=\"url(#clip5902)\" style=\"stroke:#0000ff; stroke-width:4; stroke-opacity:1; fill:none\" points=\"\n",
       "  148.334,493.31 264.357,754.389 380.379,358.714 496.401,727.831 612.423,655.454 728.445,469.322 844.468,607.051 960.49,642.693 1076.51,551.156 1192.53,622.117 \n",
       "  1308.56,556.78 1424.58,593.8 1540.6,511.318 1656.62,327.343 1772.64,770.548 1888.67,610.102 2004.69,791.839 2120.71,528.523 2236.73,726.946 2352.76,784.686 \n",
       "  \n",
       "  \"/>\n",
       "<polyline clip-path=\"url(#clip5902)\" style=\"stroke:#0000ff; stroke-width:4; stroke-opacity:1; fill:none\" points=\"\n",
       "  148.334,485.174 264.357,648.599 380.379,517.374 496.401,907.898 612.423,647.665 728.445,738.517 844.468,365.721 960.49,574.405 1076.51,777.194 1192.53,697.544 \n",
       "  1308.56,552.819 1424.58,558.057 1540.6,673.49 1656.62,404.114 1772.64,982.797 1888.67,675.91 2004.69,793.844 2120.71,220.093 2236.73,594.688 2352.76,487.674 \n",
       "  \n",
       "  \"/>\n",
       "<polyline clip-path=\"url(#clip5902)\" style=\"stroke:#0000ff; stroke-width:4; stroke-opacity:1; fill:none\" points=\"\n",
       "  148.334,641.825 264.357,1083 380.379,546.516 496.401,868.341 612.423,973.583 728.445,815.499 844.468,754.632 960.49,777.691 1076.51,941.699 1192.53,860.855 \n",
       "  1308.56,827.631 1424.58,678.131 1540.6,724.663 1656.62,520.239 1772.64,590.734 1888.67,609.86 2004.69,988.507 2120.71,600.144 2236.73,896.277 2352.76,931.24 \n",
       "  \n",
       "  \"/>\n",
       "<polyline clip-path=\"url(#clip5902)\" style=\"stroke:#0000ff; stroke-width:4; stroke-opacity:1; fill:none\" points=\"\n",
       "  148.334,552.144 264.357,801.734 380.379,665.044 496.401,773.779 612.423,519.817 728.445,659.449 844.468,715.132 960.49,795.749 1076.51,952.078 1192.53,549.087 \n",
       "  1308.56,677.593 1424.58,868.442 1540.6,644.123 1656.62,621.016 1772.64,645.336 1888.67,755.977 2004.69,837.206 2120.71,641.591 2236.73,795.267 2352.76,840.269 \n",
       "  \n",
       "  \"/>\n",
       "<polyline clip-path=\"url(#clip5902)\" style=\"stroke:#0000ff; stroke-width:4; stroke-opacity:1; fill:none\" points=\"\n",
       "  148.334,707.571 264.357,943.909 380.379,827.045 496.401,666.729 612.423,492.201 728.445,716.372 844.468,716.116 960.49,755.184 1076.51,464.08 1192.53,193.524 \n",
       "  1308.56,641.162 1424.58,638.769 1540.6,543.871 1656.62,414.551 1772.64,703.13 1888.67,597.229 2004.69,749.331 2120.71,638.627 2236.73,662.113 2352.76,632.944 \n",
       "  \n",
       "  \"/>\n",
       "<polyline clip-path=\"url(#clip5902)\" style=\"stroke:#0000ff; stroke-width:4; stroke-opacity:1; fill:none\" points=\"\n",
       "  148.334,559.442 264.357,516.607 380.379,652.109 496.401,669.602 612.423,544.679 728.445,505.656 844.468,845.589 960.49,589.907 1076.51,775.649 1192.53,772.418 \n",
       "  1308.56,637.855 1424.58,665.02 1540.6,793.598 1656.62,560.113 1772.64,315.701 1888.67,663.124 2004.69,865.973 2120.71,769.912 2236.73,867.087 2352.76,759.023 \n",
       "  \n",
       "  \"/>\n",
       "<polyline clip-path=\"url(#clip5902)\" style=\"stroke:#0000ff; stroke-width:4; stroke-opacity:1; fill:none\" points=\"\n",
       "  148.334,794.848 264.357,742.883 380.379,599.603 496.401,885.891 612.423,616.895 728.445,542.658 844.468,936.849 960.49,596.538 1076.51,714.026 1192.53,498.735 \n",
       "  1308.56,663.922 1424.58,678.001 1540.6,714.346 1656.62,759.133 1772.64,708.874 1888.67,763.021 2004.69,672.502 2120.71,774.751 2236.73,730.079 2352.76,737.887 \n",
       "  \n",
       "  \"/>\n",
       "<polyline clip-path=\"url(#clip5902)\" style=\"stroke:#0000ff; stroke-width:4; stroke-opacity:1; fill:none\" points=\"\n",
       "  148.334,395.677 264.357,772.681 380.379,176.752 496.401,870.371 612.423,889.094 728.445,667.008 844.468,631.148 960.49,563.397 1076.51,834.533 1192.53,776.692 \n",
       "  1308.56,707.444 1424.58,455.83 1540.6,730.66 1656.62,742.603 1772.64,825.829 1888.67,725.99 2004.69,1000.37 2120.71,422.143 2236.73,597.189 2352.76,814.245 \n",
       "  \n",
       "  \"/>\n",
       "<polyline clip-path=\"url(#clip5902)\" style=\"stroke:#0000ff; stroke-width:4; stroke-opacity:1; fill:none\" points=\"\n",
       "  148.334,395.677 264.357,772.681 380.379,176.752 496.401,870.371 612.423,889.094 728.445,667.008 844.468,631.148 960.49,563.397 1076.51,834.533 1192.53,776.692 \n",
       "  1308.56,707.444 1424.58,455.83 1540.6,730.66 1656.62,742.603 1772.64,825.829 1888.67,725.99 2004.69,1000.37 2120.71,422.143 2236.73,597.189 2352.76,814.245 \n",
       "  \n",
       "  \"/>\n",
       "<polyline clip-path=\"url(#clip5902)\" style=\"stroke:#0000ff; stroke-width:4; stroke-opacity:1; fill:none\" points=\"\n",
       "  148.334,503.023 264.357,838.536 380.379,439.766 496.401,970.405 612.423,812.989 728.445,768.632 844.468,462.721 960.49,362 1076.51,587.436 1192.53,770.481 \n",
       "  1308.56,651.018 1424.58,517.779 1540.6,846.477 1656.62,544.999 1772.64,869.941 1888.67,752.911 2004.69,860.042 2120.71,506.486 2236.73,499.381 2352.76,674.797 \n",
       "  \n",
       "  \"/>\n",
       "<polyline clip-path=\"url(#clip5902)\" style=\"stroke:#0000ff; stroke-width:4; stroke-opacity:1; fill:none\" points=\"\n",
       "  148.334,588.064 264.357,501.61 380.379,345.421 496.401,920.75 612.423,638.076 728.445,652.66 844.468,624.395 960.49,372.082 1076.51,557.802 1192.53,575.409 \n",
       "  1308.56,581.386 1424.58,611.27 1540.6,669.334 1656.62,405.925 1772.64,1096.4 1888.67,702.738 2004.69,861.492 2120.71,624.85 2236.73,565.107 2352.76,553.02 \n",
       "  \n",
       "  \"/>\n",
       "<polyline clip-path=\"url(#clip5902)\" style=\"stroke:#0000ff; stroke-width:4; stroke-opacity:1; fill:none\" points=\"\n",
       "  148.334,406.012 264.357,400.734 380.379,503.309 496.401,537.906 612.423,472.132 728.445,500.177 844.468,364.633 960.49,395.524 1076.51,177.051 1192.53,293.145 \n",
       "  1308.56,418.619 1424.58,328.846 1540.6,464.19 1656.62,329.339 1772.64,842.728 1888.67,411.308 2004.69,555.183 2120.71,275.853 2236.73,400.498 2352.76,387.312 \n",
       "  \n",
       "  \"/>\n",
       "<polyline clip-path=\"url(#clip5902)\" style=\"stroke:#0000ff; stroke-width:4; stroke-opacity:1; fill:none\" points=\"\n",
       "  148.334,977.605 264.357,627.831 380.379,942.045 496.401,701.721 612.423,625.976 728.445,888.05 844.468,1112.81 960.49,823.123 1076.51,841.156 1192.53,702.184 \n",
       "  1308.56,880.412 1424.58,840.376 1540.6,844.242 1656.62,528.037 1772.64,407.47 1888.67,717.763 2004.69,838.719 2120.71,1117.05 2236.73,920.626 2352.76,820.263 \n",
       "  \n",
       "  \"/>\n",
       "<polyline clip-path=\"url(#clip5902)\" style=\"stroke:#0000ff; stroke-width:4; stroke-opacity:1; fill:none\" points=\"\n",
       "  148.334,670.105 264.357,660.562 380.379,906.395 496.401,739.633 612.423,511.97 728.445,639.578 844.468,959.201 960.49,778.157 1076.51,895.518 1192.53,628.507 \n",
       "  1308.56,679.677 1424.58,1025.96 1540.6,775.674 1656.62,626.519 1772.64,390.989 1888.67,684.827 2004.69,761.083 2120.71,738.572 2236.73,824.309 2352.76,949.526 \n",
       "  \n",
       "  \"/>\n",
       "<polyline clip-path=\"url(#clip5902)\" style=\"stroke:#0000ff; stroke-width:4; stroke-opacity:1; fill:none\" points=\"\n",
       "  148.334,618.065 264.357,781.06 380.379,262.724 496.401,1032.35 612.423,822.01 728.445,677.082 844.468,591.336 960.49,467.964 1076.51,801.129 1192.53,793.561 \n",
       "  1308.56,723.685 1424.58,772.137 1540.6,722.301 1656.62,407.14 1772.64,953.141 1888.67,744.087 2004.69,816.882 2120.71,632.265 2236.73,668.646 2352.76,596.974 \n",
       "  \n",
       "  \"/>\n",
       "<polyline clip-path=\"url(#clip5902)\" style=\"stroke:#0000ff; stroke-width:4; stroke-opacity:1; fill:none\" points=\"\n",
       "  148.334,692.445 264.357,546.772 380.379,748.337 496.401,572.546 612.423,641.072 728.445,774.928 844.468,599.273 960.49,625.507 1076.51,508.721 1192.53,602.429 \n",
       "  1308.56,604.621 1424.58,574.485 1540.6,421.019 1656.62,549.188 1772.64,817.244 1888.67,807.258 2004.69,719.41 2120.71,534.908 2236.73,782.219 2352.76,478.539 \n",
       "  \n",
       "  \"/>\n",
       "<polyline clip-path=\"url(#clip5902)\" style=\"stroke:#0000ff; stroke-width:4; stroke-opacity:1; fill:none\" points=\"\n",
       "  148.334,698.508 264.357,587.079 380.379,642.529 496.401,718.891 612.423,570.532 728.445,634.413 844.468,1004.79 960.49,603.399 1076.51,904.118 1192.53,861.991 \n",
       "  1308.56,685.428 1424.58,840.126 1540.6,833.318 1656.62,667.405 1772.64,268.161 1888.67,589.517 2004.69,952.478 2120.71,905.398 2236.73,935.691 2352.76,867.834 \n",
       "  \n",
       "  \"/>\n",
       "<polyline clip-path=\"url(#clip5902)\" style=\"stroke:#0000ff; stroke-width:4; stroke-opacity:1; fill:none\" points=\"\n",
       "  148.334,489.133 264.357,471.397 380.379,758.045 496.401,547.023 612.423,579.78 728.445,593.345 844.468,558.927 960.49,390.62 1076.51,440.22 1192.53,526.817 \n",
       "  1308.56,415.721 1424.58,310.952 1540.6,506.832 1656.62,435.422 1772.64,553.978 1888.67,419.601 2004.69,444.358 2120.71,455.967 2236.73,857.036 2352.76,458.268 \n",
       "  \n",
       "  \"/>\n",
       "<polyline clip-path=\"url(#clip5902)\" style=\"stroke:#0000ff; stroke-width:4; stroke-opacity:1; fill:none\" points=\"\n",
       "  148.334,517.106 264.357,691.903 380.379,385.536 496.401,771.414 612.423,495.019 728.445,456.89 844.468,685.687 960.49,663.109 1076.51,793.044 1192.53,644.642 \n",
       "  1308.56,747.172 1424.58,699.172 1540.6,622.018 1656.62,496.359 1772.64,616.071 1888.67,664.126 2004.69,763 2120.71,679.743 2236.73,661.784 2352.76,831.485 \n",
       "  \n",
       "  \"/>\n",
       "<polyline clip-path=\"url(#clip5902)\" style=\"stroke:#0000ff; stroke-width:4; stroke-opacity:1; fill:none\" points=\"\n",
       "  148.334,514.341 264.357,528.297 380.379,661.387 496.401,522.858 612.423,621.331 728.445,777.778 844.468,293.83 960.49,443.792 1076.51,395.434 1192.53,522.274 \n",
       "  1308.56,558.867 1424.58,410.697 1540.6,621.221 1656.62,637.9 1772.64,721.996 1888.67,611.335 2004.69,659.931 2120.71,389.286 2236.73,691.053 2352.76,412.954 \n",
       "  \n",
       "  \"/>\n",
       "<polyline clip-path=\"url(#clip5902)\" style=\"stroke:#0000ff; stroke-width:4; stroke-opacity:1; fill:none\" points=\"\n",
       "  148.334,512.312 264.357,767.375 380.379,254.472 496.401,820.001 612.423,684.974 728.445,539.601 844.468,604.455 960.49,672.978 1076.51,712.253 1192.53,706.667 \n",
       "  1308.56,518.714 1424.58,488.274 1540.6,550.022 1656.62,447.674 1772.64,770.363 1888.67,533.051 2004.69,912.625 2120.71,522.273 2236.73,667.585 2352.76,667.976 \n",
       "  \n",
       "  \"/>\n",
       "<polyline clip-path=\"url(#clip5902)\" style=\"stroke:#0000ff; stroke-width:4; stroke-opacity:1; fill:none\" points=\"\n",
       "  148.334,555.317 264.357,639.992 380.379,563.673 496.401,604.836 612.423,553.008 728.445,580.638 844.468,551.966 960.49,474.182 1076.51,691.371 1192.53,640.904 \n",
       "  1308.56,752.796 1424.58,675.06 1540.6,695.939 1656.62,334.984 1772.64,647.815 1888.67,596.201 2004.69,567.886 2120.71,369.741 2236.73,679.646 2352.76,481.145 \n",
       "  \n",
       "  \"/>\n",
       "<polyline clip-path=\"url(#clip5902)\" style=\"stroke:#0000ff; stroke-width:4; stroke-opacity:1; fill:none\" points=\"\n",
       "  148.334,507.928 264.357,881.247 380.379,545.171 496.401,925.658 612.423,683.484 728.445,837.915 844.468,419.159 960.49,430.472 1076.51,636.793 1192.53,636.497 \n",
       "  1308.56,726.257 1424.58,765.148 1540.6,754.504 1656.62,554.417 1772.64,897.386 1888.67,623.789 2004.69,874.914 2120.71,524.685 2236.73,547.845 2352.76,797.147 \n",
       "  \n",
       "  \"/>\n",
       "<polyline clip-path=\"url(#clip5902)\" style=\"stroke:#0000ff; stroke-width:4; stroke-opacity:1; fill:none\" points=\"\n",
       "  148.334,626.766 264.357,861.258 380.379,761.536 496.401,948.207 612.423,596.239 728.445,628.154 844.468,926.056 960.49,825.414 1076.51,1145.41 1192.53,679.213 \n",
       "  1308.56,808.905 1424.58,860.819 1540.6,872.764 1656.62,744.807 1772.64,755.515 1888.67,811.447 2004.69,840.326 2120.71,871.591 2236.73,880.509 2352.76,987.099 \n",
       "  \n",
       "  \"/>\n",
       "<polyline clip-path=\"url(#clip5902)\" style=\"stroke:#0000ff; stroke-width:4; stroke-opacity:1; fill:none\" points=\"\n",
       "  148.334,659.896 264.357,713.312 380.379,508.045 496.401,971.756 612.423,856.935 728.445,698.363 844.468,692.871 960.49,533.208 1076.51,950.576 1192.53,773.105 \n",
       "  1308.56,938.801 1424.58,909.862 1540.6,809.317 1656.62,505.851 1772.64,820.39 1888.67,699.204 2004.69,788.493 2120.71,797.618 2236.73,899.625 2352.76,739.826 \n",
       "  \n",
       "  \"/>\n",
       "<polyline clip-path=\"url(#clip5902)\" style=\"stroke:#0000ff; stroke-width:4; stroke-opacity:1; fill:none\" points=\"\n",
       "  148.334,428.6 264.357,534.488 380.379,550.969 496.401,724.404 612.423,642.33 728.445,656.014 844.468,501.316 960.49,524.075 1076.51,603.4 1192.53,704.518 \n",
       "  1308.56,715.467 1424.58,622.659 1540.6,648.606 1656.62,596.955 1772.64,861.181 1888.67,543.157 2004.69,801.158 2120.71,546.59 2236.73,744.682 2352.76,714.939 \n",
       "  \n",
       "  \"/>\n",
       "<polyline clip-path=\"url(#clip5902)\" style=\"stroke:#0000ff; stroke-width:4; stroke-opacity:1; fill:none\" points=\"\n",
       "  148.334,1031.9 264.357,792.714 380.379,925.84 496.401,982.196 612.423,730.274 728.445,801.319 844.468,1158.21 960.49,795.694 1076.51,1018.29 1192.53,1018.86 \n",
       "  1308.56,788.954 1424.58,1065.23 1540.6,1061.57 1656.62,1116.76 1772.64,514.918 1888.67,1010.13 2004.69,860.48 2120.71,1010.57 2236.73,1057.42 2352.76,1154.15 \n",
       "  \n",
       "  \"/>\n",
       "<polyline clip-path=\"url(#clip5902)\" style=\"stroke:#0000ff; stroke-width:4; stroke-opacity:1; fill:none\" points=\"\n",
       "  148.334,672.466 264.357,565.4 380.379,710.134 496.401,773.128 612.423,585.419 728.445,831.431 844.468,626.489 960.49,673.278 1076.51,794.107 1192.53,724.411 \n",
       "  1308.56,652.456 1424.58,683.427 1540.6,845.13 1656.62,462.624 1772.64,899.028 1888.67,841.27 2004.69,794.112 2120.71,447.943 2236.73,648.727 2352.76,505.496 \n",
       "  \n",
       "  \"/>\n",
       "<polyline clip-path=\"url(#clip5902)\" style=\"stroke:#0000ff; stroke-width:4; stroke-opacity:1; fill:none\" points=\"\n",
       "  148.334,453.754 264.357,476.182 380.379,296.259 496.401,577.69 612.423,501.324 728.445,570.907 844.468,418.78 960.49,561.146 1076.51,429.305 1192.53,422.84 \n",
       "  1308.56,479.658 1424.58,258.793 1540.6,566.997 1656.62,505.81 1772.64,982.15 1888.67,666.247 2004.69,790.711 2120.71,282.655 2236.73,485.22 2352.76,388.141 \n",
       "  \n",
       "  \"/>\n",
       "<polyline clip-path=\"url(#clip5902)\" style=\"stroke:#0000ff; stroke-width:4; stroke-opacity:1; fill:none\" points=\"\n",
       "  148.334,688.305 264.357,922.533 380.379,1066.56 496.401,891.462 612.423,708.429 728.445,739.204 844.468,1035.29 960.49,922.305 1076.51,994.591 1192.53,797.88 \n",
       "  1308.56,839.955 1424.58,1158.21 1540.6,886.626 1656.62,735.859 1772.64,655.081 1888.67,725.419 2004.69,973.022 2120.71,876.443 2236.73,881.233 2352.76,1125.51 \n",
       "  \n",
       "  \"/>\n",
       "<polyline clip-path=\"url(#clip5902)\" style=\"stroke:#0000ff; stroke-width:4; stroke-opacity:1; fill:none\" points=\"\n",
       "  148.334,465.399 264.357,681.192 380.379,509.064 496.401,746.988 612.423,587.629 728.445,723.749 844.468,449.191 960.49,639.922 1076.51,316.082 1192.53,307.028 \n",
       "  1308.56,574.712 1424.58,367.405 1540.6,575.579 1656.62,459.302 1772.64,910.014 1888.67,575.363 2004.69,761.684 2120.71,323.307 2236.73,402.985 2352.76,627.806 \n",
       "  \n",
       "  \"/>\n",
       "<polyline clip-path=\"url(#clip5902)\" style=\"stroke:#0000ff; stroke-width:4; stroke-opacity:1; fill:none\" points=\"\n",
       "  148.334,909.402 264.357,794.996 380.379,479.507 496.401,842.623 612.423,588.687 728.445,780.194 844.468,705.884 960.49,718.029 1076.51,445.584 1192.53,445.873 \n",
       "  1308.56,705.616 1424.58,581.507 1540.6,680.338 1656.62,571.469 1772.64,846.784 1888.67,880.261 2004.69,907.147 2120.71,697.645 2236.73,739.4 2352.76,704.039 \n",
       "  \n",
       "  \"/>\n",
       "<polyline clip-path=\"url(#clip5902)\" style=\"stroke:#0000ff; stroke-width:4; stroke-opacity:1; fill:none\" points=\"\n",
       "  148.334,498.124 264.357,787.732 380.379,553.175 496.401,871.05 612.423,778.206 728.445,673.308 844.468,460.641 960.49,436.602 1076.51,620.613 1192.53,745.806 \n",
       "  1308.56,514.84 1424.58,452.689 1540.6,603.714 1656.62,523.826 1772.64,848.035 1888.67,686.714 2004.69,750.561 2120.71,509.896 2236.73,576.07 2352.76,594.227 \n",
       "  \n",
       "  \"/>\n",
       "<polyline clip-path=\"url(#clip5902)\" style=\"stroke:#0000ff; stroke-width:4; stroke-opacity:1; fill:none\" points=\"\n",
       "  148.334,395.677 264.357,772.681 380.379,176.752 496.401,870.371 612.423,889.094 728.445,667.008 844.468,631.148 960.49,563.397 1076.51,834.533 1192.53,776.692 \n",
       "  1308.56,707.444 1424.58,455.83 1540.6,730.66 1656.62,742.603 1772.64,825.829 1888.67,725.99 2004.69,1000.37 2120.71,422.143 2236.73,597.189 2352.76,814.245 \n",
       "  \n",
       "  \"/>\n",
       "<polyline clip-path=\"url(#clip5902)\" style=\"stroke:#0000ff; stroke-width:4; stroke-opacity:1; fill:none\" points=\"\n",
       "  148.334,941.1 264.357,535.744 380.379,673.653 496.401,664.631 612.423,608.871 728.445,762.462 844.468,1026.14 960.49,748.64 1076.51,924.953 1192.53,764.891 \n",
       "  1308.56,780.184 1424.58,797.752 1540.6,734.672 1656.62,626.073 1772.64,337.537 1888.67,637.746 2004.69,907.733 2120.71,978.293 2236.73,1012.72 2352.76,804.991 \n",
       "  \n",
       "  \"/>\n",
       "<polyline clip-path=\"url(#clip5902)\" style=\"stroke:#0000ff; stroke-width:4; stroke-opacity:1; fill:none\" points=\"\n",
       "  148.334,408.081 264.357,548.183 380.379,466.929 496.401,527.312 612.423,419.543 728.445,569.535 844.468,280.497 960.49,539.753 1076.51,170.602 1192.53,294.297 \n",
       "  1308.56,376.121 1424.58,281.489 1540.6,439.684 1656.62,317.386 1772.64,739.315 1888.67,450.144 2004.69,614.297 2120.71,344.437 2236.73,508.154 2352.76,466.027 \n",
       "  \n",
       "  \"/>\n",
       "<polyline clip-path=\"url(#clip5902)\" style=\"stroke:#0000ff; stroke-width:4; stroke-opacity:1; fill:none\" points=\"\n",
       "  148.334,506.647 264.357,356.64 380.379,533.885 496.401,293.636 612.423,334.319 728.445,713.935 844.468,471.801 960.49,493.985 1076.51,326.38 1192.53,236.171 \n",
       "  1308.56,494.556 1424.58,361.585 1540.6,349.317 1656.62,362.853 1772.64,651.976 1888.67,564.201 2004.69,569.441 2120.71,391.114 2236.73,587.225 2352.76,344.222 \n",
       "  \n",
       "  \"/>\n",
       "<polyline clip-path=\"url(#clip5902)\" style=\"stroke:#0000ff; stroke-width:4; stroke-opacity:1; fill:none\" points=\"\n",
       "  148.334,902.236 264.357,697.856 380.379,684.806 496.401,847.955 612.423,816.47 728.445,839.638 844.468,1049.01 960.49,745.942 1076.51,711.636 1192.53,780.944 \n",
       "  1308.56,855.278 1424.58,722.415 1540.6,917.414 1656.62,683.132 1772.64,736.171 1888.67,1035.94 2004.69,1074.29 2120.71,834.325 2236.73,966.223 2352.76,992.919 \n",
       "  \n",
       "  \"/>\n",
       "<polyline clip-path=\"url(#clip5902)\" style=\"stroke:#0000ff; stroke-width:4; stroke-opacity:1; fill:none\" points=\"\n",
       "  148.334,907.352 264.357,432.436 380.379,759.705 496.401,773.296 612.423,726.769 728.445,784.419 844.468,1047.02 960.49,627.361 1076.51,902.626 1192.53,993.291 \n",
       "  1308.56,682.469 1424.58,940.277 1540.6,926.125 1656.62,992.583 1772.64,349.953 1888.67,772.972 2004.69,818.773 2120.71,948.079 2236.73,992.357 2352.76,884.746 \n",
       "  \n",
       "  \"/>\n",
       "<polyline clip-path=\"url(#clip5902)\" style=\"stroke:#0000ff; stroke-width:4; stroke-opacity:1; fill:none\" points=\"\n",
       "  148.334,435.658 264.357,349.802 380.379,688.744 496.401,600.492 612.423,662.176 728.445,767.561 844.468,433.207 960.49,370.872 1076.51,562.924 1192.53,549.284 \n",
       "  1308.56,679.252 1424.58,643.023 1540.6,930.941 1656.62,661.93 1772.64,706.333 1888.67,805.705 2004.69,578.757 2120.71,361.204 2236.73,677.034 2352.76,682.05 \n",
       "  \n",
       "  \"/>\n",
       "<polyline clip-path=\"url(#clip5902)\" style=\"stroke:#0000ff; stroke-width:4; stroke-opacity:1; fill:none\" points=\"\n",
       "  148.334,722.641 264.357,465.341 380.379,700.612 496.401,514.058 612.423,530.893 728.445,619.439 844.468,684.516 960.49,410.975 1076.51,416.93 1192.53,552.596 \n",
       "  1308.56,417.384 1424.58,427.331 1540.6,430.319 1656.62,589.717 1772.64,642.274 1888.67,743.116 2004.69,517.855 2120.71,541.211 2236.73,833.116 2352.76,351.01 \n",
       "  \n",
       "  \"/>\n",
       "<polyline clip-path=\"url(#clip5902)\" style=\"stroke:#0000ff; stroke-width:4; stroke-opacity:1; fill:none\" points=\"\n",
       "  148.334,668.487 264.357,276.002 380.379,791.674 496.401,305.696 612.423,368.267 728.445,777.839 844.468,548.433 960.49,606.332 1076.51,561.996 1192.53,449.005 \n",
       "  1308.56,661.871 1424.58,527.369 1540.6,671.111 1656.62,420.051 1772.64,731.964 1888.67,539.508 2004.69,554.196 2120.71,236.378 2236.73,613.494 2352.76,299.593 \n",
       "  \n",
       "  \"/>\n",
       "<polyline clip-path=\"url(#clip5902)\" style=\"stroke:#0000ff; stroke-width:4; stroke-opacity:1; fill:none\" points=\"\n",
       "  148.334,408.081 264.357,548.183 380.379,466.929 496.401,527.312 612.423,419.543 728.445,569.535 844.468,280.497 960.49,539.753 1076.51,170.602 1192.53,294.297 \n",
       "  1308.56,376.121 1424.58,281.489 1540.6,439.684 1656.62,317.386 1772.64,739.315 1888.67,450.144 2004.69,614.297 2120.71,344.437 2236.73,508.154 2352.76,466.027 \n",
       "  \n",
       "  \"/>\n",
       "<polyline clip-path=\"url(#clip5902)\" style=\"stroke:#0000ff; stroke-width:4; stroke-opacity:1; fill:none\" points=\"\n",
       "  148.334,1106.77 264.357,465.267 380.379,848.661 496.401,837.065 612.423,842.513 728.445,969.309 844.468,825.47 960.49,781.304 1076.51,590.453 1192.53,820.24 \n",
       "  1308.56,891.015 1424.58,931.57 1540.6,775.615 1656.62,818.976 1772.64,891.374 1888.67,957.751 2004.69,726.847 2120.71,807.414 2236.73,966.617 2352.76,896.552 \n",
       "  \n",
       "  \"/>\n",
       "<polyline clip-path=\"url(#clip5902)\" style=\"stroke:#0000ff; stroke-width:4; stroke-opacity:1; fill:none\" points=\"\n",
       "  148.334,692.207 264.357,369.616 380.379,891.215 496.401,607.942 612.423,726.798 728.445,971.282 844.468,763.04 960.49,538.165 1076.51,725.276 1192.53,634.118 \n",
       "  1308.56,936.637 1424.58,885.167 1540.6,999.587 1656.62,891.289 1772.64,754.525 1888.67,975.273 2004.69,644.502 2120.71,693.796 2236.73,836.771 2352.76,812.465 \n",
       "  \n",
       "  \"/>\n",
       "<polyline clip-path=\"url(#clip5902)\" style=\"stroke:#0000ff; stroke-width:4; stroke-opacity:1; fill:none\" points=\"\n",
       "  148.334,1038.97 264.357,577.525 380.379,761.066 496.401,749.781 612.423,660.199 728.445,871.68 844.468,1152.3 960.49,823.975 1076.51,985.259 1192.53,850.51 \n",
       "  1308.56,914.465 1424.58,839.357 1540.6,803.51 1656.62,689.994 1772.64,502.845 1888.67,715.692 2004.69,987.214 2120.71,1053.11 2236.73,1079.89 2352.76,866.679 \n",
       "  \n",
       "  \"/>\n",
       "<polyline clip-path=\"url(#clip5902)\" style=\"stroke:#0000ff; stroke-width:4; stroke-opacity:1; fill:none\" points=\"\n",
       "  148.334,889.271 264.357,834.667 380.379,549.255 496.401,617.715 612.423,484.875 728.445,774.451 844.468,725.914 960.49,706.345 1076.51,723.094 1192.53,302.718 \n",
       "  1308.56,672.113 1424.58,653.148 1540.6,514.046 1656.62,460.898 1772.64,441.016 1888.67,774.491 2004.69,577.422 2120.71,491.976 2236.73,652.834 2352.76,784.139 \n",
       "  \n",
       "  \"/>\n",
       "<polyline clip-path=\"url(#clip5902)\" style=\"stroke:#0000ff; stroke-width:4; stroke-opacity:1; fill:none\" points=\"\n",
       "  148.334,498.117 264.357,796.402 380.379,471.649 496.401,369.464 612.423,518.296 728.445,645.292 844.468,515.398 960.49,551.061 1076.51,664.565 1192.53,363.531 \n",
       "  1308.56,540.051 1424.58,320.475 1540.6,504.75 1656.62,353.103 1772.64,396.816 1888.67,441.963 2004.69,721.483 2120.71,308.869 2236.73,717.005 2352.76,572.791 \n",
       "  \n",
       "  \"/>\n",
       "<polyline clip-path=\"url(#clip5902)\" style=\"stroke:#0000ff; stroke-width:4; stroke-opacity:1; fill:none\" points=\"\n",
       "  148.334,931.062 264.357,288.805 380.379,770.129 496.401,523.146 612.423,538.666 728.445,653.107 844.468,687.423 960.49,735.952 1076.51,574.681 1192.53,716.243 \n",
       "  1308.56,637.589 1424.58,781.271 1540.6,532.681 1656.62,499.979 1772.64,522.658 1888.67,748.353 2004.69,481.472 2120.71,594.106 2236.73,802.125 2352.76,729.255 \n",
       "  \n",
       "  \"/>\n",
       "<polyline clip-path=\"url(#clip5902)\" style=\"stroke:#0000ff; stroke-width:4; stroke-opacity:1; fill:none\" points=\"\n",
       "  148.334,848.88 264.357,396.788 380.379,815.552 496.401,754.188 612.423,676.298 728.445,776.684 844.468,1086.77 960.49,678.233 1076.51,870.836 1192.53,947.078 \n",
       "  1308.56,652.292 1424.58,930.839 1540.6,907.522 1656.62,961.027 1772.64,400.927 1888.67,754.919 2004.69,779.162 2120.71,887.263 2236.73,1016.36 2352.76,873.546 \n",
       "  \n",
       "  \"/>\n",
       "<polyline clip-path=\"url(#clip5902)\" style=\"stroke:#0000ff; stroke-width:4; stroke-opacity:1; fill:none\" points=\"\n",
       "  148.334,898.885 264.357,423.314 380.379,771.359 496.401,783.42 612.423,712.007 728.445,750.441 844.468,985.097 960.49,677.624 1076.51,862.547 1192.53,997.662 \n",
       "  1308.56,727.975 1424.58,949.112 1540.6,885.279 1656.62,972.047 1772.64,438.002 1888.67,746.554 2004.69,684.855 2120.71,809.492 2236.73,917.978 2352.76,810.842 \n",
       "  \n",
       "  \"/>\n",
       "<polyline clip-path=\"url(#clip5902)\" style=\"stroke:#0000ff; stroke-width:4; stroke-opacity:1; fill:none\" points=\"\n",
       "  148.334,628.488 264.357,490.948 380.379,727.014 496.401,731.404 612.423,538.734 728.445,600.512 844.468,922.924 960.49,630.046 1076.51,839.855 1192.53,598.937 \n",
       "  1308.56,611.68 1424.58,847.753 1540.6,843.336 1656.62,605.685 1772.64,452.669 1888.67,485.304 2004.69,480.824 2120.71,674.911 2236.73,826.454 2352.76,572.817 \n",
       "  \n",
       "  \"/>\n",
       "<polyline clip-path=\"url(#clip5902)\" style=\"stroke:#0000ff; stroke-width:4; stroke-opacity:1; fill:none\" points=\"\n",
       "  148.334,621.299 264.357,758.508 380.379,595.556 496.401,581.293 612.423,686.819 728.445,568.667 844.468,696.648 960.49,707.004 1076.51,894.069 1192.53,542.207 \n",
       "  1308.56,542.594 1424.58,731.899 1540.6,654.797 1656.62,490.876 1772.64,527.757 1888.67,445.143 2004.69,550.239 2120.71,576.92 2236.73,936.655 2352.76,703.439 \n",
       "  \n",
       "  \"/>\n",
       "<polyline clip-path=\"url(#clip5902)\" style=\"stroke:#0000ff; stroke-width:4; stroke-opacity:1; fill:none\" points=\"\n",
       "  148.334,952.102 264.357,515.945 380.379,617.481 496.401,722.878 612.423,579.785 728.445,783.062 844.468,983.248 960.49,721.481 1076.51,927.347 1192.53,774.559 \n",
       "  1308.56,783.749 1424.58,777.499 1540.6,736.768 1656.62,695.038 1772.64,387.67 1888.67,660.547 2004.69,884.317 2120.71,942.654 2236.73,929.125 2352.76,795.286 \n",
       "  \n",
       "  \"/>\n",
       "<polyline clip-path=\"url(#clip5902)\" style=\"stroke:#0000ff; stroke-width:4; stroke-opacity:1; fill:none\" points=\"\n",
       "  148.334,590.795 264.357,472.959 380.379,495.782 496.401,528.514 612.423,447.711 728.445,607.515 844.468,685.913 960.49,629.893 1076.51,761.085 1192.53,623.878 \n",
       "  1308.56,603.364 1424.58,665.045 1540.6,575.903 1656.62,472.905 1772.64,347.518 1888.67,299.017 2004.69,598.989 2120.71,652.86 2236.73,852.483 2352.76,561.355 \n",
       "  \n",
       "  \"/>\n",
       "<polyline clip-path=\"url(#clip5902)\" style=\"stroke:#0000ff; stroke-width:4; stroke-opacity:1; fill:none\" points=\"\n",
       "  148.334,705.352 264.357,425.769 380.379,846.796 496.401,614.011 612.423,607.072 728.445,781.554 844.468,735.763 960.49,814.391 1076.51,782.602 1192.53,773.66 \n",
       "  1308.56,774.398 1424.58,858.593 1540.6,758.602 1656.62,636.939 1772.64,602.685 1888.67,680.539 2004.69,578.858 2120.71,635.31 2236.73,825.805 2352.76,589.104 \n",
       "  \n",
       "  \"/>\n",
       "<polyline clip-path=\"url(#clip5902)\" style=\"stroke:#0000ff; stroke-width:4; stroke-opacity:1; fill:none\" points=\"\n",
       "  148.334,745.839 264.357,1046.81 380.379,770.567 496.401,682.686 612.423,460.241 728.445,823.615 844.468,707.015 960.49,798.638 1076.51,588.487 1192.53,303.332 \n",
       "  1308.56,644.326 1424.58,782.047 1540.6,583.025 1656.62,397.919 1772.64,635.34 1888.67,560.574 2004.69,697.508 2120.71,628.915 2236.73,623.395 2352.76,623.314 \n",
       "  \n",
       "  \"/>\n",
       "<polyline clip-path=\"url(#clip5902)\" style=\"stroke:#0000ff; stroke-width:4; stroke-opacity:1; fill:none\" points=\"\n",
       "  148.334,903.059 264.357,669.728 380.379,717.196 496.401,688.672 612.423,638.125 728.445,696.022 844.468,1085.75 960.49,756.668 1076.51,871.594 1192.53,683.916 \n",
       "  1308.56,846.428 1424.58,605.105 1540.6,724.449 1656.62,540.835 1772.64,307.885 1888.67,645.455 2004.69,942.747 2120.71,742.988 2236.73,1033.38 2352.76,862.922 \n",
       "  \n",
       "  \"/>\n",
       "<polyline clip-path=\"url(#clip5902)\" style=\"stroke:#0000ff; stroke-width:4; stroke-opacity:1; fill:none\" points=\"\n",
       "  148.334,435.658 264.357,349.802 380.379,688.744 496.401,600.492 612.423,662.176 728.445,767.561 844.468,433.207 960.49,370.872 1076.51,562.924 1192.53,549.284 \n",
       "  1308.56,679.252 1424.58,643.023 1540.6,930.941 1656.62,661.93 1772.64,706.333 1888.67,805.705 2004.69,578.757 2120.71,361.204 2236.73,677.034 2352.76,682.05 \n",
       "  \n",
       "  \"/>\n",
       "<polyline clip-path=\"url(#clip5902)\" style=\"stroke:#0000ff; stroke-width:4; stroke-opacity:1; fill:none\" points=\"\n",
       "  148.334,395.132 264.357,683.223 380.379,295.14 496.401,754.101 612.423,767.041 728.445,715.53 844.468,529.328 960.49,574.841 1076.51,891.841 1192.53,870.927 \n",
       "  1308.56,712.785 1424.58,543.266 1540.6,752.869 1656.62,537.13 1772.64,899.86 1888.67,585.834 2004.69,847.521 2120.71,326.204 2236.73,610.846 2352.76,657.092 \n",
       "  \n",
       "  \"/>\n",
       "<polyline clip-path=\"url(#clip5902)\" style=\"stroke:#0000ff; stroke-width:4; stroke-opacity:1; fill:none\" points=\"\n",
       "  148.334,440.548 264.357,821.372 380.379,255.971 496.401,940.979 612.423,956.185 728.445,714.199 844.468,705.285 960.49,607.065 1076.51,855.681 1192.53,833.178 \n",
       "  1308.56,777.903 1424.58,488.859 1540.6,803.169 1656.62,743.009 1772.64,832.994 1888.67,758.376 2004.69,1004.16 2120.71,437.402 2236.73,632.033 2352.76,831.543 \n",
       "  \n",
       "  \"/>\n",
       "<polyline clip-path=\"url(#clip5902)\" style=\"stroke:#0000ff; stroke-width:4; stroke-opacity:1; fill:none\" points=\"\n",
       "  148.334,647.097 264.357,835.23 380.379,347.284 496.401,925.25 612.423,777.399 728.445,665.456 844.468,741.993 960.49,792.52 1076.51,774.672 1192.53,789.889 \n",
       "  1308.56,594.226 1424.58,601.179 1540.6,645.613 1656.62,512.816 1772.64,842.411 1888.67,663.238 2004.69,1019.25 2120.71,598.724 2236.73,789.984 2352.76,776.572 \n",
       "  \n",
       "  \"/>\n",
       "<polyline clip-path=\"url(#clip5902)\" style=\"stroke:#0000ff; stroke-width:4; stroke-opacity:1; fill:none\" points=\"\n",
       "  148.334,548.647 264.357,397.26 380.379,740.077 496.401,471.978 612.423,283.709 728.445,553.51 844.468,482.032 960.49,481.393 1076.51,541.585 1192.53,518.95 \n",
       "  1308.56,551.662 1424.58,596.199 1540.6,650.018 1656.62,266.863 1772.64,671.247 1888.67,536.484 2004.69,367.566 2120.71,250.033 2236.73,677.863 2352.76,343.414 \n",
       "  \n",
       "  \"/>\n",
       "<polyline clip-path=\"url(#clip5902)\" style=\"stroke:#0000ff; stroke-width:4; stroke-opacity:1; fill:none\" points=\"\n",
       "  148.334,928.958 264.357,604.064 380.379,795.697 496.401,913.87 612.423,924.209 728.445,944.546 844.468,1179.57 960.49,693.119 1076.51,1074.32 1192.53,1087.28 \n",
       "  1308.56,914.965 1424.58,1034.24 1540.6,1047.4 1656.62,1069.51 1772.64,564.918 1888.67,950.034 2004.69,981.25 2120.71,980.529 2236.73,997.21 2352.76,978.97 \n",
       "  \n",
       "  \"/>\n",
       "<polyline clip-path=\"url(#clip5902)\" style=\"stroke:#0000ff; stroke-width:4; stroke-opacity:1; fill:none\" points=\"\n",
       "  148.334,514.285 264.357,519.618 380.379,644.305 496.401,614.156 612.423,335.906 728.445,813.853 844.468,456.3 960.49,672.322 1076.51,495.222 1192.53,356.861 \n",
       "  1308.56,679.98 1424.58,698.303 1540.6,457.009 1656.62,222.894 1772.64,854.225 1888.67,506.365 2004.69,598.014 2120.71,353.922 2236.73,436.554 2352.76,364.407 \n",
       "  \n",
       "  \"/>\n",
       "<polyline clip-path=\"url(#clip5902)\" style=\"stroke:#0000ff; stroke-width:4; stroke-opacity:1; fill:none\" points=\"\n",
       "  148.334,457.248 264.357,795.341 380.379,598.965 496.401,617.945 612.423,470.306 728.445,518.484 844.468,548.629 960.49,492.605 1076.51,675.428 1192.53,668.456 \n",
       "  1308.56,471.832 1424.58,624.454 1540.6,460.489 1656.62,394.104 1772.64,551.323 1888.67,437.053 2004.69,658.971 2120.71,498.445 2236.73,877.184 2352.76,647.718 \n",
       "  \n",
       "  \"/>\n",
       "<polyline clip-path=\"url(#clip5902)\" style=\"stroke:#0000ff; stroke-width:4; stroke-opacity:1; fill:none\" points=\"\n",
       "  148.334,496.864 264.357,495.088 380.379,410.751 496.401,435.494 612.423,529.182 728.445,594.44 844.468,272.525 960.49,526.303 1076.51,336.175 1192.53,376.75 \n",
       "  1308.56,542.719 1424.58,372.665 1540.6,492.478 1656.62,491.036 1772.64,703.218 1888.67,412.717 2004.69,592.719 2120.71,75.5821 2236.73,610.701 2352.76,355.9 \n",
       "  \n",
       "  \"/>\n",
       "<polyline clip-path=\"url(#clip5902)\" style=\"stroke:#0000ff; stroke-width:4; stroke-opacity:1; fill:none\" points=\"\n",
       "  148.334,910.918 264.357,453.056 380.379,908.97 496.401,843.676 612.423,787.359 728.445,818.703 844.468,1094.98 960.49,713.622 1076.51,942.719 1192.53,1015.32 \n",
       "  1308.56,698.524 1424.58,953.081 1540.6,1023.69 1656.62,1098.57 1772.64,438.118 1888.67,891.76 2004.69,817.072 2120.71,1035.1 2236.73,1069.24 2352.76,1010.14 \n",
       "  \n",
       "  \"/>\n",
       "<polyline clip-path=\"url(#clip5902)\" style=\"stroke:#0000ff; stroke-width:4; stroke-opacity:1; fill:none\" points=\"\n",
       "  148.334,233.273 264.357,556.772 380.379,640.763 496.401,739.287 612.423,571.722 728.445,725.632 844.468,530.609 960.49,532.166 1076.51,759.436 1192.53,746.602 \n",
       "  1308.56,776.368 1424.58,632.972 1540.6,793.166 1656.62,560.017 1772.64,778.465 1888.67,581.274 2004.69,824.091 2120.71,587.203 2236.73,651.14 2352.76,730.585 \n",
       "  \n",
       "  \"/>\n",
       "<polyline clip-path=\"url(#clip5902)\" style=\"stroke:#0000ff; stroke-width:4; stroke-opacity:1; fill:none\" points=\"\n",
       "  148.334,418.134 264.357,551.929 380.379,648.597 496.401,821.403 612.423,628.354 728.445,730.213 844.468,429.079 960.49,312.419 1076.51,568.534 1192.53,668.925 \n",
       "  1308.56,676.504 1424.58,541.349 1540.6,814.041 1656.62,662.559 1772.64,839.247 1888.67,683.243 2004.69,690.924 2120.71,511.093 2236.73,602.043 2352.76,640.613 \n",
       "  \n",
       "  \"/>\n",
       "<polyline clip-path=\"url(#clip5902)\" style=\"stroke:#ffa500; stroke-width:4; stroke-opacity:1; fill:none\" points=\"\n",
       "  148.334,931.062 264.357,288.805 380.379,770.129 496.401,523.146 612.423,538.666 728.445,653.107 844.468,687.423 960.49,735.952 1076.51,574.681 1192.53,716.243 \n",
       "  1308.56,637.589 1424.58,781.271 1540.6,532.681 1656.62,499.979 1772.64,522.658 1888.67,748.353 2004.69,481.472 2120.71,594.106 2236.73,802.125 2352.76,729.255 \n",
       "  \n",
       "  \"/>\n",
       "<polyline clip-path=\"url(#clip5902)\" style=\"stroke:#ffa500; stroke-width:4; stroke-opacity:1; fill:none\" points=\"\n",
       "  148.334,469.866 264.357,203.95 380.379,595.05 496.401,315.704 612.423,205.735 728.445,476.004 844.468,311.721 960.49,375.576 1076.51,411.748 1192.53,418.55 \n",
       "  1308.56,351.371 1424.58,417.858 1540.6,411.879 1656.62,210.285 1772.64,607.882 1888.67,372.826 2004.69,329.075 2120.71,73.4127 2236.73,582.291 2352.76,147.325 \n",
       "  \n",
       "  \"/>\n",
       "<polyline clip-path=\"url(#clip5902)\" style=\"stroke:#ffa500; stroke-width:4; stroke-opacity:1; fill:none\" points=\"\n",
       "  148.334,493.814 264.357,263.012 380.379,663.555 496.401,231.066 612.423,207.392 728.445,681.631 844.468,472.032 960.49,651.538 1076.51,647.512 1192.53,329.396 \n",
       "  1308.56,641.725 1424.58,575.818 1540.6,590.004 1656.62,337.385 1772.64,749.51 1888.67,495.526 2004.69,443.313 2120.71,95.1176 2236.73,445.4 2352.76,209.149 \n",
       "  \n",
       "  \"/>\n",
       "<polyline clip-path=\"url(#clip5902)\" style=\"stroke:#ffa500; stroke-width:4; stroke-opacity:1; fill:none\" points=\"\n",
       "  148.334,549.232 264.357,242.848 380.379,567.883 496.401,247.275 612.423,279.337 728.445,660.599 844.468,370.991 960.49,579.316 1076.51,453.771 1192.53,260.625 \n",
       "  1308.56,589.573 1424.58,509.083 1540.6,632.263 1656.62,321.495 1772.64,673.342 1888.67,455.571 2004.69,442.01 2120.71,47.2441 2236.73,524.398 2352.76,228.289 \n",
       "  \n",
       "  \"/>\n",
       "<polyline clip-path=\"url(#clip5902)\" style=\"stroke:#ffa500; stroke-width:4; stroke-opacity:1; fill:none\" points=\"\n",
       "  148.334,343.507 264.357,300.103 380.379,94.2054 496.401,497.372 612.423,355.207 728.445,395.358 844.468,335.814 960.49,351.515 1076.51,300.424 1192.53,179.749 \n",
       "  1308.56,250.676 1424.58,74.243 1540.6,335.752 1656.62,321.959 1772.64,663.44 1888.67,428.464 2004.69,595.562 2120.71,122.387 2236.73,442.747 2352.76,310.971 \n",
       "  \n",
       "  \"/>\n",
       "<polyline clip-path=\"url(#clip5902)\" style=\"stroke:#ffa500; stroke-width:4; stroke-opacity:1; fill:none\" points=\"\n",
       "  148.334,533.46 264.357,554.165 380.379,394.222 496.401,666.032 612.423,484.524 728.445,543.016 844.468,367.445 960.49,427.486 1076.51,269.744 1192.53,437.149 \n",
       "  1308.56,379.555 1424.58,291.396 1540.6,268.301 1656.62,358.849 1772.64,891.817 1888.67,564.119 2004.69,644.329 2120.71,365.948 2236.73,322.666 2352.76,329.036 \n",
       "  \n",
       "  \"/>\n",
       "<polyline clip-path=\"url(#clip5902)\" style=\"stroke:#ffa500; stroke-width:4; stroke-opacity:1; fill:none\" points=\"\n",
       "  148.334,192.145 264.357,466.944 380.379,588.879 496.401,556.021 612.423,362.217 728.445,688.854 844.468,284.935 960.49,227.545 1076.51,502.284 1192.53,407.682 \n",
       "  1308.56,552.517 1424.58,565.65 1540.6,611.394 1656.62,465.288 1772.64,735.447 1888.67,595.186 2004.69,580.761 2120.71,320.851 2236.73,444.62 2352.76,344.211 \n",
       "  \n",
       "  \"/>\n",
       "<polyline clip-path=\"url(#clip5902)\" style=\"stroke:#ffa500; stroke-width:4; stroke-opacity:1; fill:none\" points=\"\n",
       "  148.334,373.087 264.357,348.658 380.379,546.196 496.401,428.582 612.423,392.029 728.445,450.209 844.468,353.306 960.49,326.21 1076.51,346.486 1192.53,408.026 \n",
       "  1308.56,311.745 1424.58,267.249 1540.6,298.446 1656.62,270.196 1772.64,530.325 1888.67,272.881 2004.69,438.73 2120.71,301.047 2236.73,692.391 2352.76,355.801 \n",
       "  \n",
       "  \"/>\n",
       "<polyline clip-path=\"url(#clip5902)\" style=\"stroke:#ffa500; stroke-width:4; stroke-opacity:1; fill:none\" points=\"\n",
       "  148.334,370.832 264.357,382.617 380.379,497.076 496.401,521.295 612.423,391.651 728.445,477.977 844.468,295.768 960.49,315.905 1076.51,152.767 1192.53,291.651 \n",
       "  1308.56,356.21 1424.58,257.835 1540.6,423.676 1656.62,271.791 1772.64,829.214 1888.67,346.315 2004.69,544.005 2120.71,252.441 2236.73,392.773 2352.76,387.264 \n",
       "  \n",
       "  \"/>\n",
       "<polyline clip-path=\"url(#clip5902)\" style=\"stroke:#ffa500; stroke-width:4; stroke-opacity:1; fill:none\" points=\"\n",
       "  148.334,496.872 264.357,444.089 380.379,534.098 496.401,440.259 612.423,364.963 728.445,359.917 844.468,332.771 960.49,437.406 1076.51,343.565 1192.53,513.053 \n",
       "  1308.56,281.789 1424.58,329.457 1540.6,196.888 1656.62,278.205 1772.64,516.104 1888.67,347.896 2004.69,467.831 2120.71,221.835 2236.73,629.971 2352.76,398.377 \n",
       "  \n",
       "  \"/>\n",
       "<polyline clip-path=\"url(#clip5902)\" style=\"stroke:#ffa500; stroke-width:4; stroke-opacity:1; fill:none\" points=\"\n",
       "  148.334,169.284 264.357,442.884 380.379,427.783 496.401,527.367 612.423,522.866 728.445,671.749 844.468,149.742 960.49,354.77 1076.51,503.168 1192.53,529.183 \n",
       "  1308.56,562.685 1424.58,444.129 1540.6,685.74 1656.62,496.067 1772.64,761.501 1888.67,485.302 2004.69,746.624 2120.71,137.454 2236.73,479.798 2352.76,434.784 \n",
       "  \n",
       "  \"/>\n",
       "<polyline clip-path=\"url(#clip5902)\" style=\"stroke:#ffa500; stroke-width:4; stroke-opacity:1; fill:none\" points=\"\n",
       "  148.334,379.712 264.357,580.012 380.379,404.129 496.401,677.336 612.423,508.138 728.445,539.781 844.468,539.98 960.49,507.997 1076.51,522.846 1192.53,560.944 \n",
       "  1308.56,488.186 1424.58,478.801 1540.6,647.147 1656.62,81.7879 1772.64,712.68 1888.67,575.947 2004.69,603.487 2120.71,457.606 2236.73,393.653 2352.76,458.014 \n",
       "  \n",
       "  \"/>\n",
       "<polyline clip-path=\"url(#clip5902)\" style=\"stroke:#ffa500; stroke-width:4; stroke-opacity:1; fill:none\" points=\"\n",
       "  148.334,658.029 264.357,48.0357 380.379,590.603 496.401,408.17 612.423,430.605 728.445,605.241 844.468,651.455 960.49,508.091 1076.51,469.754 1192.53,608.518 \n",
       "  1308.56,554.57 1424.58,689.357 1540.6,601.177 1656.62,398.212 1772.64,590.736 1888.67,435.477 2004.69,337.813 2120.71,456.794 2236.73,733.519 2352.76,487.869 \n",
       "  \n",
       "  \"/>\n",
       "<polyline clip-path=\"url(#clip5902)\" style=\"stroke:#ffa500; stroke-width:4; stroke-opacity:1; fill:none\" points=\"\n",
       "  148.334,625.383 264.357,761.309 380.379,620.988 496.401,936.795 612.423,524.925 728.445,570.259 844.468,939.414 960.49,672.72 1076.51,1004.76 1192.53,684.579 \n",
       "  1308.56,699.617 1424.58,867.648 1540.6,836.705 1656.62,720.952 1772.64,513.02 1888.67,718.614 2004.69,689.874 2120.71,830.417 2236.73,780.684 2352.76,997.67 \n",
       "  \n",
       "  \"/>\n",
       "<polyline clip-path=\"url(#clip5902)\" style=\"stroke:#ffa500; stroke-width:4; stroke-opacity:1; fill:none\" points=\"\n",
       "  148.334,584.34 264.357,226.167 380.379,670.351 496.401,488.843 612.423,478.787 728.445,599.256 844.468,694.758 960.49,597.571 1076.51,568.408 1192.53,603.856 \n",
       "  1308.56,630.143 1424.58,500.146 1540.6,719.243 1656.62,211.187 1772.64,363.697 1888.67,544.329 2004.69,269.234 2120.71,316.873 2236.73,741.126 2352.76,518.01 \n",
       "  \n",
       "  \"/>\n",
       "<polyline clip-path=\"url(#clip5902)\" style=\"stroke:#ffa500; stroke-width:4; stroke-opacity:1; fill:none\" points=\"\n",
       "  148.334,611.455 264.357,422.959 380.379,947.303 496.401,399.072 612.423,736.973 728.445,918.969 844.468,730.244 960.49,681.549 1076.51,612.044 1192.53,557.873 \n",
       "  1308.56,768.101 1424.58,630.818 1540.6,725.261 1656.62,578.56 1772.64,501.993 1888.67,777.566 2004.69,519.353 2120.71,320.903 2236.73,685.491 2352.76,520.66 \n",
       "  \n",
       "  \"/>\n",
       "<polyline clip-path=\"url(#clip5902)\" style=\"stroke:#ffa500; stroke-width:4; stroke-opacity:1; fill:none\" points=\"\n",
       "  148.334,308.804 264.357,742.495 380.379,416.104 496.401,675.546 612.423,617.979 728.445,599.137 844.468,500.942 960.49,602.815 1076.51,548.361 1192.53,743.694 \n",
       "  1308.56,633.371 1424.58,436.831 1540.6,653.552 1656.62,584.882 1772.64,961.958 1888.67,727.425 2004.69,735.603 2120.71,320.602 2236.73,402.755 2352.76,544.03 \n",
       "  \n",
       "  \"/>\n",
       "<polyline clip-path=\"url(#clip5902)\" style=\"stroke:#ffa500; stroke-width:4; stroke-opacity:1; fill:none\" points=\"\n",
       "  148.334,690.409 264.357,941.622 380.379,743.775 496.401,627.624 612.423,451.67 728.445,706.882 844.468,678.542 960.49,709.321 1076.51,408.095 1192.53,150.622 \n",
       "  1308.56,624.372 1424.58,620.064 1540.6,471.946 1656.62,399.257 1772.64,623.097 1888.67,537.892 2004.69,713.801 2120.71,630.67 2236.73,573.506 2352.76,603.543 \n",
       "  \n",
       "  \"/>\n",
       "<polyline clip-path=\"url(#clip5902)\" style=\"stroke:#ffa500; stroke-width:4; stroke-opacity:1; fill:none\" points=\"\n",
       "  148.334,745.839 264.357,1046.81 380.379,770.567 496.401,682.686 612.423,460.241 728.445,823.615 844.468,707.015 960.49,798.638 1076.51,588.487 1192.53,303.332 \n",
       "  1308.56,644.326 1424.58,782.047 1540.6,583.025 1656.62,397.919 1772.64,635.34 1888.67,560.574 2004.69,697.508 2120.71,628.915 2236.73,623.395 2352.76,623.314 \n",
       "  \n",
       "  \"/>\n",
       "<polyline clip-path=\"url(#clip5902)\" style=\"stroke:#ffa500; stroke-width:4; stroke-opacity:1; fill:none\" points=\"\n",
       "  148.334,530.289 264.357,328.858 380.379,529.889 496.401,672.918 612.423,598.838 728.445,685.133 844.468,560.714 960.49,339.394 1076.51,632.396 1192.53,612.821 \n",
       "  1308.56,654.034 1424.58,589.089 1540.6,1005.16 1656.62,735.406 1772.64,733.141 1888.67,837.744 2004.69,666.114 2120.71,422.465 2236.73,698.75 2352.76,644.611 \n",
       "  \n",
       "  \"/>\n",
       "<polyline clip-path=\"url(#clip5902)\" style=\"stroke:#ffa500; stroke-width:4; stroke-opacity:1; fill:none\" points=\"\n",
       "  148.334,824.015 264.357,496.901 380.379,763.585 496.401,609.661 612.423,604.052 728.445,719.617 844.468,983.007 960.49,690.003 1076.51,823.651 1192.53,682.313 \n",
       "  1308.56,839.4 1424.58,625.146 1540.6,627.797 1656.62,479.226 1772.64,237.022 1888.67,608.67 2004.69,859.104 2120.71,769.796 2236.73,1012.03 2352.76,709.192 \n",
       "  \n",
       "  \"/>\n",
       "<polyline clip-path=\"url(#clip5902)\" style=\"stroke:#ffa500; stroke-width:4; stroke-opacity:1; fill:none\" points=\"\n",
       "  148.334,614.57 264.357,341.033 380.379,853.697 496.401,391.817 612.423,405.374 728.445,706.976 844.468,591.047 960.49,632.242 1076.51,653.305 1192.53,611.441 \n",
       "  1308.56,689.419 1424.58,569.365 1540.6,635.444 1656.62,418.118 1772.64,845.408 1888.67,545.899 2004.69,625.424 2120.71,270.082 2236.73,455.943 2352.76,146.582 \n",
       "  \n",
       "  \"/>\n",
       "<polyline clip-path=\"url(#clip5902)\" style=\"stroke:#ffa500; stroke-width:4; stroke-opacity:1; fill:none\" points=\"\n",
       "  148.334,749.783 264.357,918.802 380.379,323.578 496.401,790.821 612.423,800.279 728.445,743.19 844.468,668.335 960.49,676.647 1076.51,799.865 1192.53,610.89 \n",
       "  1308.56,781.914 1424.58,669.712 1540.6,659.895 1656.62,514.525 1772.64,349.945 1888.67,629.844 2004.69,821.718 2120.71,673.329 2236.73,876.17 2352.76,893.57 \n",
       "  \n",
       "  \"/>\n",
       "<polyline clip-path=\"url(#clip5902)\" style=\"stroke:#ffa500; stroke-width:4; stroke-opacity:1; fill:none\" points=\"\n",
       "  148.334,885.111 264.357,556.801 380.379,629.806 496.401,684.002 612.423,558.974 728.445,712.533 844.468,924.986 960.49,784.062 1076.51,851.839 1192.53,567.733 \n",
       "  1308.56,783.211 1424.58,712.881 1540.6,616.348 1656.62,618.092 1772.64,350.787 1888.67,689.07 2004.69,821.841 2120.71,1068.85 2236.73,879.202 2352.76,937.733 \n",
       "  \n",
       "  \"/>\n",
       "<polyline clip-path=\"url(#clip5902)\" style=\"stroke:#ffa500; stroke-width:4; stroke-opacity:1; fill:none\" points=\"\n",
       "  148.334,611.162 264.357,648.049 380.379,642.642 496.401,565.612 612.423,486.016 728.445,573.33 844.468,776.576 960.49,751.83 1076.51,1019.05 1192.53,722.361 \n",
       "  1308.56,606.192 1424.58,764.599 1540.6,688.686 1656.62,587.797 1772.64,150.799 1888.67,551.351 2004.69,761.997 2120.71,729.92 2236.73,853.849 2352.76,754.716 \n",
       "  \n",
       "  \"/>\n",
       "<polyline clip-path=\"url(#clip5902)\" style=\"stroke:#ffa500; stroke-width:4; stroke-opacity:1; fill:none\" points=\"\n",
       "  148.334,872.4 264.357,409.21 380.379,912.683 496.401,721.81 612.423,774.222 728.445,815.461 844.468,1075.91 960.49,631.948 1076.51,805.986 1192.53,919.9 \n",
       "  1308.56,786.694 1424.58,796.406 1540.6,867.597 1656.62,875.51 1772.64,289.591 1888.67,820.346 2004.69,785.088 2120.71,785.441 2236.73,999.473 2352.76,852.581 \n",
       "  \n",
       "  \"/>\n",
       "<polyline clip-path=\"url(#clip5902)\" style=\"stroke:#ffa500; stroke-width:4; stroke-opacity:1; fill:none\" points=\"\n",
       "  148.334,572.579 264.357,627.205 380.379,560.565 496.401,654.941 612.423,730.269 728.445,645.126 844.468,802.687 960.49,641.558 1076.51,580.973 1192.53,612.18 \n",
       "  1308.56,678.665 1424.58,535.97 1540.6,860.207 1656.62,408.828 1772.64,469.626 1888.67,922.066 2004.69,719.531 2120.71,536.444 2236.73,657.898 2352.76,857.571 \n",
       "  \n",
       "  \"/>\n",
       "<polyline clip-path=\"url(#clip5902)\" style=\"stroke:#ffa500; stroke-width:4; stroke-opacity:1; fill:none\" points=\"\n",
       "  148.334,531.572 264.357,705.346 380.379,794.105 496.401,778.603 612.423,495.063 728.445,529.239 844.468,858.24 960.49,680.351 1076.51,947.898 1192.53,588.175 \n",
       "  1308.56,609.549 1424.58,1008.52 1540.6,687.308 1656.62,593.562 1772.64,412.175 1888.67,572.48 2004.69,719.491 2120.71,710.377 2236.73,796.306 2352.76,869.367 \n",
       "  \n",
       "  \"/>\n",
       "<polyline clip-path=\"url(#clip5902)\" style=\"stroke:#ffa500; stroke-width:4; stroke-opacity:1; fill:none\" points=\"\n",
       "  148.334,886.508 264.357,396.913 380.379,816.932 496.401,730.893 612.423,770.294 728.445,833.854 844.468,1020.91 960.49,627.483 1076.51,901.825 1192.53,1018.87 \n",
       "  1308.56,708.941 1424.58,941.871 1540.6,953.192 1656.62,959.061 1772.64,297.066 1888.67,749.053 2004.69,748.972 2120.71,966.449 2236.73,1032.46 2352.76,897.887 \n",
       "  \n",
       "  \"/>\n",
       "<polyline clip-path=\"url(#clip5902)\" style=\"stroke:#ffa500; stroke-width:4; stroke-opacity:1; fill:none\" points=\"\n",
       "  148.334,607.828 264.357,803.621 380.379,649.267 496.401,643.035 612.423,628.987 728.445,659.804 844.468,779.522 960.49,802.225 1076.51,1163.13 1192.53,801.536 \n",
       "  1308.56,618.154 1424.58,730.766 1540.6,620.989 1656.62,752.354 1772.64,379.884 1888.67,557.764 2004.69,908.64 2120.71,828.714 2236.73,1014.67 2352.76,838.349 \n",
       "  \n",
       "  \"/>\n",
       "<polyline clip-path=\"url(#clip5902)\" style=\"stroke:#ffa500; stroke-width:4; stroke-opacity:1; fill:none\" points=\"\n",
       "  148.334,844.082 264.357,696.629 380.379,629.697 496.401,740.665 612.423,657.032 728.445,704.821 844.468,969.758 960.49,754.491 1076.51,1006.86 1192.53,799.416 \n",
       "  1308.56,771.568 1424.58,770.316 1540.6,784.176 1656.62,655.843 1772.64,311.356 1888.67,558.312 2004.69,911.783 2120.71,885.278 2236.73,1092.51 2352.76,881.487 \n",
       "  \n",
       "  \"/>\n",
       "<polyline clip-path=\"url(#clip5902)\" style=\"stroke:#ffa500; stroke-width:4; stroke-opacity:1; fill:none\" points=\"\n",
       "  148.334,840.586 264.357,669.603 380.379,551.861 496.401,721.114 612.423,587.158 728.445,821.59 844.468,825.162 960.49,814.689 1076.51,880.036 1192.53,523.478 \n",
       "  1308.56,725.029 1424.58,776.285 1540.6,590.882 1656.62,527.519 1772.64,360.852 1888.67,648.68 2004.69,769.029 2120.71,917.282 2236.73,877.912 2352.76,881.968 \n",
       "  \n",
       "  \"/>\n",
       "<polyline clip-path=\"url(#clip5902)\" style=\"stroke:#ffa500; stroke-width:4; stroke-opacity:1; fill:none\" points=\"\n",
       "  148.334,866.475 264.357,440.314 380.379,778.092 496.401,712.554 612.423,656.122 728.445,768.509 844.468,1044.36 960.49,671.06 1076.51,754.02 1192.53,903.3 \n",
       "  1308.56,588.075 1424.58,858.111 1540.6,947.049 1656.62,868.866 1772.64,377.49 1888.67,714.101 2004.69,650.425 2120.71,795.102 2236.73,1016.03 2352.76,879.44 \n",
       "  \n",
       "  \"/>\n",
       "<polyline clip-path=\"url(#clip5902)\" style=\"stroke:#ffa500; stroke-width:4; stroke-opacity:1; fill:none\" points=\"\n",
       "  148.334,515.539 264.357,856.784 380.379,209.47 496.401,797.322 612.423,686.354 728.445,607.284 844.468,531.035 960.49,611.933 1076.51,746.437 1192.53,765.858 \n",
       "  1308.56,710.222 1424.58,669.954 1540.6,472.924 1656.62,488.823 1772.64,636.604 1888.67,399.114 2004.69,835.597 2120.71,486.511 2236.73,603.352 2352.76,612.913 \n",
       "  \n",
       "  \"/>\n",
       "<polyline clip-path=\"url(#clip5902)\" style=\"stroke:#ffa500; stroke-width:4; stroke-opacity:1; fill:none\" points=\"\n",
       "  148.334,500.241 264.357,688.848 380.379,300.658 496.401,795.168 612.423,721.714 728.445,701.489 844.468,703.978 960.49,511.288 1076.51,765.207 1192.53,626.608 \n",
       "  1308.56,642.359 1424.58,443.13 1540.6,595.413 1656.62,490.248 1772.64,655.122 1888.67,890.53 2004.69,831.672 2120.71,560.802 2236.73,654.526 2352.76,750.775 \n",
       "  \n",
       "  \"/>\n",
       "<polyline clip-path=\"url(#clip5902)\" style=\"stroke:#ffa500; stroke-width:4; stroke-opacity:1; fill:none\" points=\"\n",
       "  148.334,822.06 264.357,401.907 380.379,657.338 496.401,596.909 612.423,609.92 728.445,756.243 844.468,946.762 960.49,656.529 1076.51,780.24 1192.53,754.062 \n",
       "  1308.56,769.127 1424.58,736.007 1540.6,754.265 1656.62,473.676 1772.64,332.043 1888.67,617.327 2004.69,810.81 2120.71,1006.79 2236.73,984.711 2352.76,711.786 \n",
       "  \n",
       "  \"/>\n",
       "<polyline clip-path=\"url(#clip5902)\" style=\"stroke:#ffa500; stroke-width:4; stroke-opacity:1; fill:none\" points=\"\n",
       "  148.334,757.716 264.357,215.831 380.379,864.705 496.401,531.613 612.423,614.821 728.445,724.584 844.468,922.373 960.49,679.034 1076.51,696.929 1192.53,767.875 \n",
       "  1308.56,717.388 1424.58,711.876 1540.6,646.361 1656.62,527.333 1772.64,497.12 1888.67,681.804 2004.69,651.159 2120.71,648.529 2236.73,962.48 2352.76,674.834 \n",
       "  \n",
       "  \"/>\n",
       "<polyline clip-path=\"url(#clip5902)\" style=\"stroke:#ffa500; stroke-width:4; stroke-opacity:1; fill:none\" points=\"\n",
       "  148.334,399.303 264.357,468.009 380.379,513.882 496.401,449.383 612.423,408.927 728.445,488.584 844.468,378.164 960.49,373.34 1076.51,185.496 1192.53,311.947 \n",
       "  1308.56,350.191 1424.58,273.585 1540.6,397.701 1656.62,217.28 1772.64,745.533 1888.67,293.235 2004.69,549.434 2120.71,337.901 2236.73,509.245 2352.76,365.858 \n",
       "  \n",
       "  \"/>\n",
       "<polyline clip-path=\"url(#clip5902)\" style=\"stroke:#ffa500; stroke-width:4; stroke-opacity:1; fill:none\" points=\"\n",
       "  148.334,446.839 264.357,423.653 380.379,501.403 496.401,604.89 612.423,442.54 728.445,495.746 844.468,754.491 960.49,530.588 1076.51,720.551 1192.53,655.297 \n",
       "  1308.56,513.834 1424.58,555.225 1540.6,717.739 1656.62,463.992 1772.64,218.064 1888.67,586.417 2004.69,686.371 2120.71,710.28 2236.73,815.037 2352.76,667.267 \n",
       "  \n",
       "  \"/>\n",
       "<polyline clip-path=\"url(#clip5902)\" style=\"stroke:#ffa500; stroke-width:4; stroke-opacity:1; fill:none\" points=\"\n",
       "  148.334,566.168 264.357,715.736 380.379,718.153 496.401,812.814 612.423,426.489 728.445,568.683 844.468,873.542 960.49,754.442 1076.51,1015.99 1192.53,668.099 \n",
       "  1308.56,687.346 1424.58,933.783 1540.6,782.926 1656.62,692.556 1772.64,472.901 1888.67,728.226 2004.69,664.535 2120.71,792.898 2236.73,729.16 2352.76,923.101 \n",
       "  \n",
       "  \"/>\n",
       "<polyline clip-path=\"url(#clip5902)\" style=\"stroke:#ffa500; stroke-width:4; stroke-opacity:1; fill:none\" points=\"\n",
       "  148.334,242.718 264.357,504.968 380.379,429.354 496.401,490.099 612.423,299.928 728.445,577.573 844.468,205.287 960.49,275.565 1076.51,486.996 1192.53,412.024 \n",
       "  1308.56,548.669 1424.58,602.907 1540.6,440.4 1656.62,416.141 1772.64,787.389 1888.67,498.429 2004.69,622.824 2120.71,286.279 2236.73,401.108 2352.76,289.524 \n",
       "  \n",
       "  \"/>\n",
       "<polyline clip-path=\"url(#clip5902)\" style=\"stroke:#ffa500; stroke-width:4; stroke-opacity:1; fill:none\" points=\"\n",
       "  148.334,773.771 264.357,660.542 380.379,620.071 496.401,623.994 612.423,590.174 728.445,711.329 844.468,570.671 960.49,547.509 1076.51,795.399 1192.53,549.443 \n",
       "  1308.56,674.351 1424.58,591.016 1540.6,742.42 1656.62,759.188 1772.64,424.518 1888.67,683.584 2004.69,791.914 2120.71,449.129 2236.73,650.169 2352.76,511.816 \n",
       "  \n",
       "  \"/>\n",
       "<polyline clip-path=\"url(#clip5902)\" style=\"stroke:#ffa500; stroke-width:4; stroke-opacity:1; fill:none\" points=\"\n",
       "  148.334,270.354 264.357,692.558 380.379,611.759 496.401,645.321 612.423,508.358 728.445,863.578 844.468,335.379 960.49,400.387 1076.51,538.668 1192.53,487.607 \n",
       "  1308.56,658.973 1424.58,561.328 1540.6,799.715 1656.62,618.158 1772.64,825.54 1888.67,629.086 2004.69,777.919 2120.71,390.16 2236.73,462.943 2352.76,590.812 \n",
       "  \n",
       "  \"/>\n",
       "<polyline clip-path=\"url(#clip5902)\" style=\"stroke:#ffa500; stroke-width:4; stroke-opacity:1; fill:none\" points=\"\n",
       "  148.334,529.386 264.357,256.114 380.379,694.437 496.401,355.816 612.423,257.65 728.445,540.971 844.468,415.173 960.49,405.657 1076.51,420.417 1192.53,430.601 \n",
       "  1308.56,438.949 1424.58,443.291 1540.6,506.2 1656.62,180.52 1772.64,601.134 1888.67,449.805 2004.69,274.306 2120.71,126.35 2236.73,608.602 2352.76,200.327 \n",
       "  \n",
       "  \"/>\n",
       "<polyline clip-path=\"url(#clip5902)\" style=\"stroke:#ffa500; stroke-width:4; stroke-opacity:1; fill:none\" points=\"\n",
       "  148.334,737.194 264.357,974.254 380.379,858.166 496.401,660.084 612.423,465.136 728.445,787.212 844.468,590.243 960.49,732.945 1076.51,397.508 1192.53,405.91 \n",
       "  1308.56,583.92 1424.58,790.695 1540.6,516.707 1656.62,655.58 1772.64,791.58 1888.67,691.102 2004.69,711.32 2120.71,695.808 2236.73,401.411 2352.76,588.495 \n",
       "  \n",
       "  \"/>\n",
       "<polyline clip-path=\"url(#clip5902)\" style=\"stroke:#ffa500; stroke-width:4; stroke-opacity:1; fill:none\" points=\"\n",
       "  148.334,632.667 264.357,599.438 380.379,505.419 496.401,515.026 612.423,619.021 728.445,423.348 844.468,590.975 960.49,465.25 1076.51,228.962 1192.53,354.806 \n",
       "  1308.56,327.952 1424.58,375.462 1540.6,349.988 1656.62,428.021 1772.64,707.973 1888.67,505.207 2004.69,361.324 2120.71,288.329 2236.73,683.502 2352.76,381.545 \n",
       "  \n",
       "  \"/>\n",
       "<polyline clip-path=\"url(#clip5902)\" style=\"stroke:#ffa500; stroke-width:4; stroke-opacity:1; fill:none\" points=\"\n",
       "  148.334,524.078 264.357,670.759 380.379,364.436 496.401,760.099 612.423,448.802 728.445,594.428 844.468,430.605 960.49,594.578 1076.51,341.344 1192.53,516.549 \n",
       "  1308.56,517.978 1424.58,366.618 1540.6,402.39 1656.62,423.967 1772.64,929.52 1888.67,657.078 2004.69,851.471 2120.71,508.283 2236.73,389.392 2352.76,446.394 \n",
       "  \n",
       "  \"/>\n",
       "<polyline clip-path=\"url(#clip5902)\" style=\"stroke:#ffa500; stroke-width:4; stroke-opacity:1; fill:none\" points=\"\n",
       "  148.334,774.581 264.357,488.25 380.379,430.883 496.401,882.579 612.423,796.114 728.445,600.804 844.468,265.705 960.49,454.383 1076.51,421.701 1192.53,403.411 \n",
       "  1308.56,471.516 1424.58,428.003 1540.6,486.876 1656.62,416.205 1772.64,828.556 1888.67,603.701 2004.69,530.677 2120.71,465.062 2236.73,607.794 2352.76,529.759 \n",
       "  \n",
       "  \"/>\n",
       "<polyline clip-path=\"url(#clip5902)\" style=\"stroke:#ffa500; stroke-width:4; stroke-opacity:1; fill:none\" points=\"\n",
       "  148.334,488.791 264.357,446.97 380.379,444.01 496.401,478.911 612.423,341.294 728.445,378.332 844.468,404.129 960.49,346.344 1076.51,274.604 1192.53,364.242 \n",
       "  1308.56,266.464 1424.58,357.785 1540.6,209.215 1656.62,226.814 1772.64,677.214 1888.67,432.269 2004.69,429.127 2120.71,250.182 2236.73,632.347 2352.76,294.041 \n",
       "  \n",
       "  \"/>\n",
       "<polyline clip-path=\"url(#clip5902)\" style=\"stroke:#ffa500; stroke-width:4; stroke-opacity:1; fill:none\" points=\"\n",
       "  148.334,730.585 264.357,413.549 380.379,463.116 496.401,892.585 612.423,763.668 728.445,644.367 844.468,269.523 960.49,411.353 1076.51,345.475 1192.53,416.321 \n",
       "  1308.56,476.655 1424.58,431.831 1540.6,518.845 1656.62,424.624 1772.64,841.701 1888.67,664.605 2004.69,511.165 2120.71,460.561 2236.73,633.403 2352.76,487.12 \n",
       "  \n",
       "  \"/>\n",
       "<polyline clip-path=\"url(#clip5902)\" style=\"stroke:#ffa500; stroke-width:4; stroke-opacity:1; fill:none\" points=\"\n",
       "  148.334,859.618 264.357,539.753 380.379,537.408 496.401,638.365 612.423,561.14 728.445,775.928 844.468,877.926 960.49,749.174 1076.51,880.329 1192.53,585.547 \n",
       "  1308.56,777.155 1424.58,750.611 1540.6,622.513 1656.62,536.092 1772.64,279.394 1888.67,611.468 2004.69,788.849 2120.71,976.034 2236.73,885.349 2352.76,871.715 \n",
       "  \n",
       "  \"/>\n",
       "<polyline clip-path=\"url(#clip5902)\" style=\"stroke:#ffa500; stroke-width:4; stroke-opacity:1; fill:none\" points=\"\n",
       "  148.334,421.674 264.357,175.362 380.379,455.089 496.401,377.063 612.423,300.161 728.445,499.315 844.468,473.829 960.49,377.276 1076.51,318.394 1192.53,472.687 \n",
       "  1308.56,526.856 1424.58,392.537 1540.6,435.65 1656.62,400.656 1772.64,571.968 1888.67,425.599 2004.69,467.175 2120.71,538.71 2236.73,605.505 2352.76,300.014 \n",
       "  \n",
       "  \"/>\n",
       "<polyline clip-path=\"url(#clip5902)\" style=\"stroke:#ffa500; stroke-width:4; stroke-opacity:1; fill:none\" points=\"\n",
       "  148.334,384.333 264.357,416.046 380.379,336.333 496.401,574.797 612.423,465.455 728.445,576.266 844.468,469.828 960.49,415.721 1076.51,355.424 1192.53,364.7 \n",
       "  1308.56,429.188 1424.58,134.719 1540.6,584.346 1656.62,466.031 1772.64,771.33 1888.67,652.536 2004.69,581.565 2120.71,295.547 2236.73,514.843 2352.76,348.26 \n",
       "  \n",
       "  \"/>\n",
       "<polyline clip-path=\"url(#clip5902)\" style=\"stroke:#ffa500; stroke-width:4; stroke-opacity:1; fill:none\" points=\"\n",
       "  148.334,609.438 264.357,654.626 380.379,559.688 496.401,674.352 612.423,586.542 728.445,526.984 844.468,861.091 960.49,617.357 1076.51,907.924 1192.53,780.964 \n",
       "  1308.56,660.063 1424.58,740.91 1540.6,792.786 1656.62,519.43 1772.64,262.766 1888.67,580.215 2004.69,870.776 2120.71,763.238 2236.73,880.426 2352.76,765.768 \n",
       "  \n",
       "  \"/>\n",
       "<polyline clip-path=\"url(#clip5902)\" style=\"stroke:#ffa500; stroke-width:4; stroke-opacity:1; fill:none\" points=\"\n",
       "  148.334,670.378 264.357,693.621 380.379,545.477 496.401,689.593 612.423,584.452 728.445,574.906 844.468,842.448 960.49,670.109 1076.51,1007.82 1192.53,738.841 \n",
       "  1308.56,618.463 1424.58,698.464 1540.6,742.466 1656.62,616.193 1772.64,190.918 1888.67,541.738 2004.69,787.336 2120.71,767.439 2236.73,905.372 2352.76,829.284 \n",
       "  \n",
       "  \"/>\n",
       "<polyline clip-path=\"url(#clip5902)\" style=\"stroke:#ffa500; stroke-width:4; stroke-opacity:1; fill:none\" points=\"\n",
       "  148.334,542.574 264.357,685.547 380.379,737.933 496.401,836.849 612.423,465.977 728.445,549.838 844.468,815.348 960.49,653.192 1076.51,950.292 1192.53,597.843 \n",
       "  1308.56,613.114 1424.58,988.266 1540.6,689.405 1656.62,662.527 1772.64,462.308 1888.67,595.281 2004.69,696.075 2120.71,674.739 2236.73,712.708 2352.76,859.662 \n",
       "  \n",
       "  \"/>\n",
       "<polyline clip-path=\"url(#clip5902)\" style=\"stroke:#ffa500; stroke-width:4; stroke-opacity:1; fill:none\" points=\"\n",
       "  148.334,622.533 264.357,379.912 380.379,945.259 496.401,346.793 612.423,654.169 728.445,909.528 844.468,682.788 960.49,587.224 1076.51,480.774 1192.53,476.149 \n",
       "  1308.56,679.064 1424.58,642.637 1540.6,708.261 1656.62,592.018 1772.64,485.085 1888.67,694.283 2004.69,464.677 2120.71,369.466 2236.73,631.514 2352.76,383.336 \n",
       "  \n",
       "  \"/>\n",
       "<polyline clip-path=\"url(#clip5902)\" style=\"stroke:#ffa500; stroke-width:4; stroke-opacity:1; fill:none\" points=\"\n",
       "  148.334,526.667 264.357,662.635 380.379,688.699 496.401,823.349 612.423,624.568 728.445,459.956 844.468,901.802 960.49,611.879 1076.51,898.541 1192.53,722.159 \n",
       "  1308.56,534.309 1424.58,761.15 1540.6,779.281 1656.62,584.144 1772.64,384.73 1888.67,701.602 2004.69,704.619 2120.71,692.178 2236.73,747.842 2352.76,747.016 \n",
       "  \n",
       "  \"/>\n",
       "<polyline clip-path=\"url(#clip5902)\" style=\"stroke:#ffa500; stroke-width:4; stroke-opacity:1; fill:none\" points=\"\n",
       "  148.334,670.858 264.357,452.804 380.379,602.263 496.401,713.01 612.423,594.955 728.445,697.598 844.468,347.489 960.49,477.482 1076.51,239.317 1192.53,456.24 \n",
       "  1308.56,599.545 1424.58,473.114 1540.6,602.642 1656.62,447.633 1772.64,711.366 1888.67,709.5 2004.69,502.851 2120.71,441.212 2236.73,356.54 2352.76,456.504 \n",
       "  \n",
       "  \"/>\n",
       "<polyline clip-path=\"url(#clip5902)\" style=\"stroke:#ffa500; stroke-width:4; stroke-opacity:1; fill:none\" points=\"\n",
       "  148.334,292.272 264.357,377.015 380.379,440.05 496.401,470 612.423,399.185 728.445,503.229 844.468,227.818 960.49,239.766 1076.51,343.988 1192.53,418.06 \n",
       "  1308.56,480.236 1424.58,423.156 1540.6,480.963 1656.62,437.623 1772.64,723.8 1888.67,324.9 2004.69,565.357 2120.71,167.359 2236.73,597.719 2352.76,420.737 \n",
       "  \n",
       "  \"/>\n",
       "<polyline clip-path=\"url(#clip5902)\" style=\"stroke:#ffa500; stroke-width:4; stroke-opacity:1; fill:none\" points=\"\n",
       "  148.334,520.39 264.357,690.36 380.379,377.149 496.401,628.713 612.423,701.846 728.445,513.879 844.468,596.104 960.49,643.763 1076.51,758.245 1192.53,519.499 \n",
       "  1308.56,407.936 1424.58,589.274 1540.6,555.958 1656.62,390.193 1772.64,420.273 1888.67,406.479 2004.69,543.736 2120.71,566.273 2236.73,861.354 2352.76,783.165 \n",
       "  \n",
       "  \"/>\n",
       "<polyline clip-path=\"url(#clip5902)\" style=\"stroke:#ffa500; stroke-width:4; stroke-opacity:1; fill:none\" points=\"\n",
       "  148.334,467.844 264.357,407.013 380.379,564.55 496.401,405.329 612.423,331.138 728.445,381.888 844.468,482.446 960.49,314.414 1076.51,375.612 1192.53,405.064 \n",
       "  1308.56,385.685 1424.58,190.984 1540.6,438.598 1656.62,362.67 1772.64,583.078 1888.67,502.146 2004.69,379.251 2120.71,335.992 2236.73,690.93 2352.76,296.886 \n",
       "  \n",
       "  \"/>\n",
       "<polyline clip-path=\"url(#clip5902)\" style=\"stroke:#ffa500; stroke-width:4; stroke-opacity:1; fill:none\" points=\"\n",
       "  148.334,810.121 264.357,80.2874 380.379,547.967 496.401,464.048 612.423,528.085 728.445,675.554 844.468,779.726 960.49,493.278 1076.51,462.847 1192.53,685.405 \n",
       "  1308.56,589.947 1424.58,691.612 1540.6,648.968 1656.62,601.843 1772.64,537.508 1888.67,505.493 2004.69,364.988 2120.71,599.354 2236.73,771.301 2352.76,635.476 \n",
       "  \n",
       "  \"/>\n",
       "<polyline clip-path=\"url(#clip5902)\" style=\"stroke:#ffa500; stroke-width:4; stroke-opacity:1; fill:none\" points=\"\n",
       "  148.334,502.576 264.357,338.098 380.379,410.485 496.401,439.846 612.423,281.865 728.445,687.058 844.468,333.592 960.49,441.999 1076.51,338.639 1192.53,327.355 \n",
       "  1308.56,498.846 1424.58,433.151 1540.6,480.777 1656.62,123.588 1772.64,505.205 1888.67,483.528 2004.69,531.547 2120.71,265.224 2236.73,579.21 2352.76,368.272 \n",
       "  \n",
       "  \"/>\n",
       "<polyline clip-path=\"url(#clip5902)\" style=\"stroke:#ffa500; stroke-width:4; stroke-opacity:1; fill:none\" points=\"\n",
       "  148.334,421.543 264.357,512.265 380.379,649.449 496.401,616.746 612.423,543.063 728.445,561.061 844.468,641.516 960.49,573.24 1076.51,672.294 1192.53,540.488 \n",
       "  1308.56,703.301 1424.58,616.526 1540.6,734.163 1656.62,180.499 1772.64,579.929 1888.67,531.063 2004.69,575.098 2120.71,622.959 2236.73,624.633 2352.76,600.866 \n",
       "  \n",
       "  \"/>\n",
       "<polyline clip-path=\"url(#clip5902)\" style=\"stroke:#ffa500; stroke-width:4; stroke-opacity:1; fill:none\" points=\"\n",
       "  148.334,469.525 264.357,304.879 380.379,807.778 496.401,268.477 612.423,527.281 728.445,849.51 844.468,489.709 960.49,519.641 1076.51,728.48 1192.53,517.05 \n",
       "  1308.56,713.25 1424.58,465.935 1540.6,603.582 1656.62,369.038 1772.64,591.046 1888.67,622.58 2004.69,476.708 2120.71,329.704 2236.73,718.14 2352.76,406.497 \n",
       "  \n",
       "  \"/>\n",
       "<polyline clip-path=\"url(#clip5902)\" style=\"stroke:#ffa500; stroke-width:4; stroke-opacity:1; fill:none\" points=\"\n",
       "  148.334,747.38 264.357,1014.61 380.379,736.113 496.401,806.999 612.423,515.181 728.445,769.114 844.468,683.335 960.49,726.026 1076.51,662.461 1192.53,307.233 \n",
       "  1308.56,654.658 1424.58,815.687 1540.6,613.292 1656.62,414.641 1772.64,562.873 1888.67,506.752 2004.69,675.542 2120.71,661.637 2236.73,713.821 2352.76,714.269 \n",
       "  \n",
       "  \"/>\n",
       "<polyline clip-path=\"url(#clip5902)\" style=\"stroke:#ffa500; stroke-width:4; stroke-opacity:1; fill:none\" points=\"\n",
       "  148.334,646.951 264.357,91.0826 380.379,592.647 496.401,460.449 612.423,513.409 728.445,614.682 844.468,698.912 960.49,602.416 1076.51,601.024 1192.53,690.241 \n",
       "  1308.56,643.607 1424.58,677.539 1540.6,618.178 1656.62,384.754 1772.64,607.644 1888.67,518.76 2004.69,392.489 2120.71,408.231 2236.73,787.496 2352.76,625.193 \n",
       "  \n",
       "  \"/>\n",
       "<polyline clip-path=\"url(#clip5902)\" style=\"stroke:#ffa500; stroke-width:4; stroke-opacity:1; fill:none\" points=\"\n",
       "  148.334,592.376 264.357,399.092 380.379,380.37 496.401,641.902 612.423,401.143 728.445,494.761 844.468,441.748 960.49,307.466 1076.51,316.565 1192.53,425.861 \n",
       "  1308.56,306.469 1424.58,228.579 1540.6,372.575 1656.62,400.582 1772.64,839.33 1888.67,606.795 2004.69,635.1 2120.71,398.542 2236.73,485.05 2352.76,219.718 \n",
       "  \n",
       "  \"/>\n",
       "<polyline clip-path=\"url(#clip5902)\" style=\"stroke:#ffa500; stroke-width:4; stroke-opacity:1; fill:none\" points=\"\n",
       "  148.334,579.72 264.357,512.485 380.379,662.678 496.401,674.556 612.423,653.479 728.445,683.043 844.468,527.633 960.49,359.074 1076.51,576.122 1192.53,676.837 \n",
       "  1308.56,452.067 1424.58,389.129 1540.6,593.343 1656.62,440.119 1772.64,678.787 1888.67,574.462 2004.69,566.793 2120.71,139.447 2236.73,493.499 2352.76,178.284 \n",
       "  \n",
       "  \"/>\n",
       "<polyline clip-path=\"url(#clip5902)\" style=\"stroke:#ffa500; stroke-width:4; stroke-opacity:1; fill:none\" points=\"\n",
       "  148.334,317.857 264.357,443.718 380.379,520.32 496.401,444.027 612.423,566.055 728.445,691.531 844.468,173.944 960.49,301.181 1076.51,359.9 1192.53,492.485 \n",
       "  1308.56,538.908 1424.58,296.523 1540.6,562.537 1656.62,476.085 1772.64,674.279 1888.67,509.993 2004.69,637.274 2120.71,226.726 2236.73,510.128 2352.76,282.221 \n",
       "  \n",
       "  \"/>\n",
       "<polyline clip-path=\"url(#clip5902)\" style=\"stroke:#ffa500; stroke-width:4; stroke-opacity:1; fill:none\" points=\"\n",
       "  148.334,739.224 264.357,578.08 380.379,705.444 496.401,415.557 612.423,376.125 728.445,525.637 844.468,770.213 960.49,600.624 1076.51,519.025 1192.53,224.663 \n",
       "  1308.56,597.351 1424.58,523.442 1540.6,547.87 1656.62,493.481 1772.64,495.895 1888.67,507.216 2004.69,615.595 2120.71,586.113 2236.73,803.831 2352.76,513.959 \n",
       "  \n",
       "  \"/>\n",
       "<polyline clip-path=\"url(#clip5902)\" style=\"stroke:#ffa500; stroke-width:4; stroke-opacity:1; fill:none\" points=\"\n",
       "  148.334,643.561 264.357,674.114 380.379,599.503 496.401,568.164 612.423,455.935 728.445,387.26 844.468,492.706 960.49,579.577 1076.51,525.086 1192.53,507.884 \n",
       "  1308.56,343.88 1424.58,419.833 1540.6,219.906 1656.62,427.756 1772.64,502.174 1888.67,368.611 2004.69,542.565 2120.71,372.334 2236.73,739.918 2352.76,541.796 \n",
       "  \n",
       "  \"/>\n",
       "<polyline clip-path=\"url(#clip5902)\" style=\"stroke:#ffa500; stroke-width:4; stroke-opacity:1; fill:none\" points=\"\n",
       "  148.334,707.736 264.357,603.771 380.379,420.043 496.401,586.858 612.423,423.309 728.445,722.135 844.468,453.771 960.49,533.298 1076.51,551.951 1192.53,368.4 \n",
       "  1308.56,591.114 1424.58,532.965 1540.6,522.398 1656.62,304.695 1772.64,440.3 1888.67,522.296 2004.69,645.892 2120.71,476.539 2236.73,665.155 2352.76,522.89 \n",
       "  \n",
       "  \"/>\n",
       "<polyline clip-path=\"url(#clip5902)\" style=\"stroke:#ffa500; stroke-width:4; stroke-opacity:1; fill:none\" points=\"\n",
       "  148.334,378.473 264.357,282.37 380.379,561.897 496.401,419.959 612.423,512.938 728.445,616.267 844.468,357.979 960.49,357.215 1076.51,321.794 1192.53,442.262 \n",
       "  1308.56,428.425 1424.58,361.03 1540.6,286.56 1656.62,263.658 1772.64,581.795 1888.67,442.471 2004.69,437.513 2120.71,418.594 2236.73,525.555 2352.76,270.125 \n",
       "  \n",
       "  \"/>\n",
       "<polyline clip-path=\"url(#clip5902)\" style=\"stroke:#ffa500; stroke-width:4; stroke-opacity:1; fill:none\" points=\"\n",
       "  148.334,450.845 264.357,349.108 380.379,660.489 496.401,327.565 612.423,239.174 728.445,600.601 844.468,440.643 960.49,688.318 1076.51,702.102 1192.53,260.984 \n",
       "  1308.56,570.775 1424.58,572.57 1540.6,563.766 1656.62,319.424 1772.64,730.88 1888.67,465.932 2004.69,439.97 2120.71,173.286 2236.73,552.936 2352.76,254.511 \n",
       "  \n",
       "  \"/>\n",
       "<polyline clip-path=\"url(#clip5902)\" style=\"stroke:#ffa500; stroke-width:4; stroke-opacity:1; fill:none\" points=\"\n",
       "  148.334,179.313 264.357,494.953 380.379,578.181 496.401,576.573 612.423,571.485 728.445,758.145 844.468,238.217 960.49,285.164 1076.51,514.896 1192.53,577.392 \n",
       "  1308.56,631.064 1424.58,446.978 1540.6,825.354 1656.62,530.359 1772.64,726.009 1888.67,557.72 2004.69,676.069 2120.71,277.53 2236.73,551.086 2352.76,461.628 \n",
       "  \n",
       "  \"/>\n",
       "<polyline clip-path=\"url(#clip5902)\" style=\"stroke:#ffa500; stroke-width:4; stroke-opacity:1; fill:none\" points=\"\n",
       "  148.334,864.696 264.357,624.856 380.379,746.041 496.401,716.364 612.423,697.007 728.445,815.87 844.468,899.777 960.49,790.173 1076.51,969.658 1192.53,832.757 \n",
       "  1308.56,826.833 1424.58,784.812 1540.6,789.173 1656.62,586.746 1772.64,360.501 1888.67,526.584 2004.69,840.725 2120.71,855.973 2236.73,1023.01 2352.76,822.99 \n",
       "  \n",
       "  \"/>\n",
       "<polyline clip-path=\"url(#clip5902)\" style=\"stroke:#ffa500; stroke-width:4; stroke-opacity:1; fill:none\" points=\"\n",
       "  148.334,395.083 264.357,371.192 380.379,330.198 496.401,592.116 612.423,477.423 728.445,636.68 844.468,383.019 960.49,465.755 1076.51,548.879 1192.53,546.915 \n",
       "  1308.56,530.788 1424.58,346.319 1540.6,465.713 1656.62,317.128 1772.64,812.933 1888.67,390.339 2004.69,676.375 2120.71,189.341 2236.73,449.827 2352.76,331.242 \n",
       "  \n",
       "  \"/>\n",
       "<polyline clip-path=\"url(#clip5902)\" style=\"stroke:#ffa500; stroke-width:4; stroke-opacity:1; fill:none\" points=\"\n",
       "  148.334,478.176 264.357,271.248 380.379,517.08 496.401,365.549 612.423,317.043 728.445,703.328 844.468,389.405 960.49,436.549 1076.51,293.651 1192.53,215.874 \n",
       "  1308.56,500.575 1424.58,345.835 1540.6,375.292 1656.62,417.364 1772.64,735.657 1888.67,617.281 2004.69,564.012 2120.71,305.653 2236.73,470.753 2352.76,365.628 \n",
       "  \n",
       "  \"/>\n",
       "<polyline clip-path=\"url(#clip5902)\" style=\"stroke:#ffa500; stroke-width:4; stroke-opacity:1; fill:none\" points=\"\n",
       "  148.334,487.937 264.357,366.485 380.379,490.676 496.401,497.953 612.423,569.767 728.445,469.423 844.468,507.091 960.49,401.813 1076.51,318.889 1192.53,323.959 \n",
       "  1308.56,375.47 1424.58,322.289 1540.6,450.206 1656.62,490.544 1772.64,801.428 1888.67,503.232 2004.69,512.709 2120.71,339.335 2236.73,703.476 2352.76,477.513 \n",
       "  \n",
       "  \"/>\n",
       "<polyline clip-path=\"url(#clip5902)\" style=\"stroke:#ffa500; stroke-width:4; stroke-opacity:1; fill:none\" points=\"\n",
       "  148.334,707.791 264.357,389.083 380.379,871.38 496.401,425.962 612.423,489.476 728.445,601.148 844.468,646.98 960.49,521.363 1076.51,493.428 1192.53,555.787 \n",
       "  1308.56,616.22 1424.58,398.563 1540.6,586.86 1656.62,552.604 1772.64,634.478 1888.67,770.866 2004.69,438.408 2120.71,532.537 2236.73,779.221 2352.76,480.985 \n",
       "  \n",
       "  \"/>\n",
       "<polyline clip-path=\"url(#clip5902)\" style=\"stroke:#ffa500; stroke-width:4; stroke-opacity:1; fill:none\" points=\"\n",
       "  148.334,453.504 264.357,753.094 380.379,655.091 496.401,792.31 612.423,481.987 728.445,442.409 844.468,671.651 960.49,667.15 1076.51,954.098 1192.53,516.815 \n",
       "  1308.56,587.749 1424.58,889.05 1540.6,648.873 1656.62,514.552 1772.64,456.913 1888.67,585.98 2004.69,614.374 2120.71,532.578 2236.73,657.443 2352.76,757.595 \n",
       "  \n",
       "  \"/>\n",
       "<polyline clip-path=\"url(#clip5902)\" style=\"stroke:#ffa500; stroke-width:4; stroke-opacity:1; fill:none\" points=\"\n",
       "  148.334,423.572 264.357,379.181 380.379,521.383 496.401,434.539 612.423,469.088 728.445,550.071 844.468,350.838 960.49,339.772 1076.51,319.764 1192.53,337.696 \n",
       "  1308.56,400.916 1424.58,310.261 1540.6,353.222 1656.62,395.012 1772.64,666.734 1888.67,337.293 2004.69,525.263 2120.71,203.405 2236.73,649.925 2352.76,317.665 \n",
       "  \n",
       "  \"/>\n",
       "<polyline clip-path=\"url(#clip5902)\" style=\"stroke:#ffa500; stroke-width:4; stroke-opacity:1; fill:none\" points=\"\n",
       "  148.334,506.069 264.357,789.898 380.379,491.712 496.401,746.389 612.423,390.023 728.445,454.562 844.468,598.275 960.49,612.36 1076.51,605.031 1192.53,335.448 \n",
       "  1308.56,537.43 1424.58,464.263 1540.6,780.523 1656.62,507.446 1772.64,555.989 1888.67,463.056 2004.69,471.463 2120.71,430.929 2236.73,669.324 2352.76,651.436 \n",
       "  \n",
       "  \"/>\n",
       "<polyline clip-path=\"url(#clip5902)\" style=\"stroke:#ffa500; stroke-width:4; stroke-opacity:1; fill:none\" points=\"\n",
       "  148.334,256.014 264.357,519.258 380.379,482.737 496.401,622.565 612.423,568.437 728.445,662.257 844.468,201.051 960.49,367.447 1076.51,528.831 1192.53,558.622 \n",
       "  1308.56,585.078 1424.58,448.542 1540.6,694.739 1656.62,559.717 1772.64,834.335 1888.67,571.31 2004.69,771.022 2120.71,261.187 2236.73,534.635 2352.76,503.87 \n",
       "  \n",
       "  \"/>\n",
       "<polyline clip-path=\"url(#clip5902)\" style=\"stroke:#ffa500; stroke-width:4; stroke-opacity:1; fill:none\" points=\"\n",
       "  148.334,370.28 264.357,283.072 380.379,526.866 496.401,434.925 612.423,228.815 728.445,561.054 844.468,415.21 960.49,563.14 1076.51,583.332 1192.53,198.632 \n",
       "  1308.56,596.685 1424.58,540.815 1540.6,570.229 1656.62,424.266 1772.64,809.665 1888.67,572.43 2004.69,514.656 2120.71,198.443 2236.73,402.327 2352.76,325.3 \n",
       "  \n",
       "  \"/>\n",
       "<polyline clip-path=\"url(#clip5902)\" style=\"stroke:#ffa500; stroke-width:4; stroke-opacity:1; fill:none\" points=\"\n",
       "  148.334,434.748 264.357,635.395 380.379,491.588 496.401,575.289 612.423,526.823 728.445,633.313 844.468,504.903 960.49,526.298 1076.51,430.65 1192.53,587.439 \n",
       "  1308.56,558.628 1424.58,350.709 1540.6,559.745 1656.62,450.763 1772.64,915.7 1888.67,585.353 2004.69,754.575 2120.71,312.999 2236.73,352.969 2352.76,394.117 \n",
       "  \n",
       "  \"/>\n",
       "<polyline clip-path=\"url(#clip5902)\" style=\"stroke:#ffa500; stroke-width:4; stroke-opacity:1; fill:none\" points=\"\n",
       "  148.334,851.954 264.357,262.518 380.379,709.625 496.401,591.551 612.423,564.788 728.445,726.831 844.468,940.078 960.49,599.053 1076.51,457.078 1192.53,616.773 \n",
       "  1308.56,763.32 1424.58,599.631 1540.6,619.246 1656.62,592.632 1772.64,458.35 1888.67,735.65 2004.69,702.483 2120.71,865.528 2236.73,844.394 2352.76,535.418 \n",
       "  \n",
       "  \"/>\n",
       "<polyline clip-path=\"url(#clip5902)\" style=\"stroke:#ffa500; stroke-width:4; stroke-opacity:1; fill:none\" points=\"\n",
       "  148.334,568.08 264.357,401.202 380.379,692.59 496.401,345.081 612.423,265.89 728.445,705.174 844.468,563.045 960.49,704.131 1076.51,625.902 1192.53,385.458 \n",
       "  1308.56,627.38 1424.58,569.206 1540.6,623.854 1656.62,315.023 1772.64,803.749 1888.67,577.958 2004.69,514.466 2120.71,276.132 2236.73,569.595 2352.76,369.44 \n",
       "  \n",
       "  \"/>\n",
       "<polyline clip-path=\"url(#clip5902)\" style=\"stroke:#ffa500; stroke-width:4; stroke-opacity:1; fill:none\" points=\"\n",
       "  148.334,599.709 264.357,389.467 380.379,882.348 496.401,535.699 612.423,572.4 728.445,758.844 844.468,655.102 960.49,800.202 1076.51,477.811 1192.53,648.549 \n",
       "  1308.56,641.557 1424.58,727.092 1540.6,709.554 1656.62,420.183 1772.64,671.116 1888.67,656.954 2004.69,598.922 2120.71,339.266 2236.73,435.886 2352.76,345.805 \n",
       "  \n",
       "  \"/>\n",
       "<polyline clip-path=\"url(#clip5902)\" style=\"stroke:#ffa500; stroke-width:4; stroke-opacity:1; fill:none\" points=\"\n",
       "  148.334,429.19 264.357,452.642 380.379,355.572 496.401,535.318 612.423,359.483 728.445,573.572 844.468,319.921 960.49,447.518 1076.51,376.196 1192.53,356.971 \n",
       "  1308.56,503.533 1424.58,393.375 1540.6,384.067 1656.62,366.504 1772.64,675.077 1888.67,568.528 2004.69,711.312 2120.71,378.265 2236.73,527.873 2352.76,439.391 \n",
       "  \n",
       "  \"/>\n",
       "<polyline clip-path=\"url(#clip5902)\" style=\"stroke:#ffa500; stroke-width:4; stroke-opacity:1; fill:none\" points=\"\n",
       "  148.334,439.588 264.357,513.817 380.379,591.055 496.401,429.239 612.423,590.066 728.445,814.641 844.468,292.844 960.49,390.149 1076.51,449.313 1192.53,483.957 \n",
       "  1308.56,645.285 1424.58,386.791 1540.6,629.003 1656.62,572.777 1772.64,698.559 1888.67,638.386 2004.69,761.028 2120.71,386.55 2236.73,578.813 2352.76,370.396 \n",
       "  \n",
       "  \"/>\n",
       "<polyline clip-path=\"url(#clip5902)\" style=\"stroke:#ffa500; stroke-width:4; stroke-opacity:1; fill:none\" points=\"\n",
       "  148.334,664.75 264.357,475.838 380.379,632.597 496.401,681.462 612.423,551.649 728.445,683.058 844.468,418.656 960.49,368.894 1076.51,554.042 1192.53,567.263 \n",
       "  1308.56,526.649 1424.58,577.146 1540.6,538.805 1656.62,282.123 1772.64,794.151 1888.67,553.635 2004.69,405.068 2120.71,238.987 2236.73,799.581 2352.76,379.658 \n",
       "  \n",
       "  \"/>\n",
       "<polyline clip-path=\"url(#clip5902)\" style=\"stroke:#ffa500; stroke-width:4; stroke-opacity:1; fill:none\" points=\"\n",
       "  148.334,357.539 264.357,79.473 380.379,308.822 496.401,304.092 612.423,243.933 728.445,402.501 844.468,350.397 960.49,394.43 1076.51,283.114 1192.53,423.699 \n",
       "  1308.56,467.643 1424.58,344.396 1540.6,317.018 1656.62,257.09 1772.64,528.955 1888.67,298.113 2004.69,449.735 2120.71,324.078 2236.73,519.917 2352.76,232.415 \n",
       "  \n",
       "  \"/>\n",
       "<polyline clip-path=\"url(#clip5902)\" style=\"stroke:#ffa500; stroke-width:4; stroke-opacity:1; fill:none\" points=\"\n",
       "  148.334,639.483 264.357,562.82 380.379,721.102 496.401,414.511 612.423,383.925 728.445,663.769 844.468,758.157 960.49,767.853 1076.51,784.313 1192.53,273.475 \n",
       "  1308.56,715.052 1424.58,597.517 1540.6,608.509 1656.62,585.688 1772.64,722.849 1888.67,592.524 2004.69,696.661 2120.71,475.927 2236.73,611.323 2352.76,478.311 \n",
       "  \n",
       "  \"/>\n",
       "<polyline clip-path=\"url(#clip5902)\" style=\"stroke:#ffa500; stroke-width:4; stroke-opacity:1; fill:none\" points=\"\n",
       "  148.334,651.997 264.357,568.947 380.379,559.134 496.401,540.948 612.423,666.813 728.445,501.197 844.468,572.178 960.49,500.385 1076.51,261.063 1192.53,458.34 \n",
       "  1308.56,401.236 1424.58,380.572 1540.6,413.187 1656.62,518 1772.64,729.644 1888.67,600.216 2004.69,388.152 2120.71,252.707 2236.73,716.409 2352.76,372.643 \n",
       "  \n",
       "  \"/>\n",
       "<polyline clip-path=\"url(#clip5902)\" style=\"stroke:#ffa500; stroke-width:4; stroke-opacity:1; fill:none\" points=\"\n",
       "  148.334,864.696 264.357,624.856 380.379,746.041 496.401,716.364 612.423,697.007 728.445,815.87 844.468,899.777 960.49,790.173 1076.51,969.658 1192.53,832.757 \n",
       "  1308.56,826.833 1424.58,784.812 1540.6,789.173 1656.62,586.746 1772.64,360.501 1888.67,526.584 2004.69,840.725 2120.71,855.973 2236.73,1023.01 2352.76,822.99 \n",
       "  \n",
       "  \"/>\n",
       "<polyline clip-path=\"url(#clip5902)\" style=\"stroke:#ffa500; stroke-width:4; stroke-opacity:1; fill:none\" points=\"\n",
       "  148.334,521.346 264.357,737.86 380.379,573.314 496.401,745.561 612.423,458.189 728.445,564.937 844.468,669.594 960.49,661.936 1076.51,908.807 1192.53,412.345 \n",
       "  1308.56,567.461 1424.58,810.816 1540.6,535.144 1656.62,511.236 1772.64,501.955 1888.67,604.324 2004.69,780.648 2120.71,608.507 2236.73,794.459 2352.76,829.823 \n",
       "  \n",
       "  \"/>\n",
       "<polyline clip-path=\"url(#clip5902)\" style=\"stroke:#ffa500; stroke-width:4; stroke-opacity:1; fill:none\" points=\"\n",
       "  148.334,477.867 264.357,406.423 380.379,577.065 496.401,537.527 612.423,331.986 728.445,729.621 844.468,336.213 960.49,622.23 1076.51,509.612 1192.53,407.593 \n",
       "  1308.56,519.542 1424.58,512.33 1540.6,526.094 1656.62,245.649 1772.64,733.797 1888.67,564.98 2004.69,674.598 2120.71,269.23 2236.73,595.725 2352.76,428.054 \n",
       "  \n",
       "  \"/>\n",
       "<polyline clip-path=\"url(#clip5902)\" style=\"stroke:#ffa500; stroke-width:4; stroke-opacity:1; fill:none\" points=\"\n",
       "  148.334,337.044 264.357,600.77 380.379,637.695 496.401,807.598 612.423,624.379 728.445,698.498 844.468,524.097 960.49,234.765 1076.51,602.606 1192.53,731.53 \n",
       "  1308.56,612.844 1424.58,454.041 1540.6,745.964 1656.62,566.768 1772.64,839.07 1888.67,629.171 2004.69,772.323 2120.71,480.656 2236.73,547.903 2352.76,508.267 \n",
       "  \n",
       "  \"/>\n",
       "<polyline clip-path=\"url(#clip5902)\" style=\"stroke:#ffa500; stroke-width:4; stroke-opacity:1; fill:none\" points=\"\n",
       "  148.334,533.242 264.357,480.208 380.379,557.379 496.401,548.294 612.423,454.118 728.445,468.733 844.468,439.85 960.49,329.265 1076.51,346.849 1192.53,442.206 \n",
       "  1308.56,357.565 1424.58,266.182 1540.6,430.887 1656.62,446.873 1772.64,694.171 1888.67,592.248 2004.69,384.951 2120.71,295.234 2236.73,710.402 2352.76,308.975 \n",
       "  \n",
       "  \"/>\n",
       "<polyline clip-path=\"url(#clip5902)\" style=\"stroke:#ffa500; stroke-width:4; stroke-opacity:1; fill:none\" points=\"\n",
       "  148.334,561.293 264.357,512.212 380.379,694.257 496.401,369.705 612.423,565.397 728.445,842.827 844.468,552.895 960.49,572.792 1076.51,901.687 1192.53,481.37 \n",
       "  1308.56,721.228 1424.58,547.792 1540.6,598.938 1656.62,555.876 1772.64,522.995 1888.67,652.254 2004.69,636.124 2120.71,491.26 2236.73,757.223 2352.76,536.18 \n",
       "  \n",
       "  \"/>\n",
       "<polyline clip-path=\"url(#clip5902)\" style=\"stroke:#ffa500; stroke-width:4; stroke-opacity:1; fill:none\" points=\"\n",
       "  148.334,357.539 264.357,79.473 380.379,308.822 496.401,304.092 612.423,243.933 728.445,402.501 844.468,350.397 960.49,394.43 1076.51,283.114 1192.53,423.699 \n",
       "  1308.56,467.643 1424.58,344.396 1540.6,317.018 1656.62,257.09 1772.64,528.955 1888.67,298.113 2004.69,449.735 2120.71,324.078 2236.73,519.917 2352.76,232.415 \n",
       "  \n",
       "  \"/>\n",
       "<polyline clip-path=\"url(#clip5902)\" style=\"stroke:#ffa500; stroke-width:4; stroke-opacity:1; fill:none\" points=\"\n",
       "  148.334,641.737 264.357,623.571 380.379,629.675 496.401,831.413 612.423,514.431 728.445,656.385 844.468,621.171 960.49,437.098 1076.51,481.46 1192.53,477.087 \n",
       "  1308.56,331.999 1424.58,459.872 1540.6,482.988 1656.62,583.442 1772.64,788.765 1888.67,618.608 2004.69,571.203 2120.71,516.622 2236.73,441.566 2352.76,495.221 \n",
       "  \n",
       "  \"/>\n",
       "<polyline clip-path=\"url(#clip5902)\" style=\"stroke:#ffa500; stroke-width:4; stroke-opacity:1; fill:none\" points=\"\n",
       "  148.334,581.406 264.357,620.815 380.379,593.064 496.401,592.107 612.423,552.463 728.445,455.603 844.468,598.718 960.49,501.026 1076.51,242.443 1192.53,315.707 \n",
       "  1308.56,344.285 1424.58,370.996 1540.6,378.927 1656.62,369.233 1772.64,701.741 1888.67,502.479 2004.69,411.367 2120.71,303.932 2236.73,620.925 2352.76,313.812 \n",
       "  \n",
       "  \"/>\n",
       "<polyline clip-path=\"url(#clip5902)\" style=\"stroke:#ffa500; stroke-width:4; stroke-opacity:1; fill:none\" points=\"\n",
       "  148.334,592.134 264.357,397.182 380.379,393.489 496.401,783.327 612.423,526.652 728.445,637.415 844.468,454.543 960.49,399.439 1076.51,530.174 1192.53,583.257 \n",
       "  1308.56,409.838 1424.58,540.368 1540.6,532.562 1656.62,252.676 1772.64,906.46 1888.67,597.691 2004.69,523.302 2120.71,388.874 2236.73,597.602 2352.76,316.157 \n",
       "  \n",
       "  \"/>\n",
       "<polyline clip-path=\"url(#clip5902)\" style=\"stroke:#ffa500; stroke-width:4; stroke-opacity:1; fill:none\" points=\"\n",
       "  148.334,452.396 264.357,533.457 380.379,376.646 496.401,523.218 612.423,529.881 728.445,597.627 844.468,398.367 960.49,565.013 1076.51,314.994 1192.53,496.055 \n",
       "  1308.56,406.944 1424.58,258.715 1540.6,401.791 1656.62,382.52 1772.64,915.187 1888.67,538.686 2004.69,757.391 2120.71,218.85 2236.73,390.244 2352.76,272.669 \n",
       "  \n",
       "  \"/>\n",
       "<polyline clip-path=\"url(#clip5902)\" style=\"stroke:#ffa500; stroke-width:4; stroke-opacity:1; fill:none\" points=\"\n",
       "  148.334,824.015 264.357,496.901 380.379,763.585 496.401,609.661 612.423,604.052 728.445,719.617 844.468,983.007 960.49,690.003 1076.51,823.651 1192.53,682.313 \n",
       "  1308.56,839.4 1424.58,625.146 1540.6,627.797 1656.62,479.226 1772.64,237.022 1888.67,608.67 2004.69,859.104 2120.71,769.796 2236.73,1012.03 2352.76,709.192 \n",
       "  \n",
       "  \"/>\n",
       "<polyline clip-path=\"url(#clip5902)\" style=\"stroke:#ffa500; stroke-width:4; stroke-opacity:1; fill:none\" points=\"\n",
       "  148.334,474.124 264.357,304.5 380.379,730.067 496.401,372.967 612.423,238.568 728.445,728.393 844.468,575.343 960.49,647.417 1076.51,673.363 1192.53,299.442 \n",
       "  1308.56,678.953 1424.58,604.174 1540.6,683.537 1656.62,478.206 1772.64,840.732 1888.67,618.937 2004.69,564.801 2120.71,171.478 2236.73,480.9 2352.76,347.883 \n",
       "  \n",
       "  \"/>\n",
       "<polyline clip-path=\"url(#clip5902)\" style=\"stroke:#ffa500; stroke-width:4; stroke-opacity:1; fill:none\" points=\"\n",
       "  148.334,286.837 264.357,531.596 380.379,555.856 496.401,522.686 612.423,484.794 728.445,597.677 844.468,353.486 960.49,402.047 1076.51,569.519 1192.53,685.807 \n",
       "  1308.56,580.394 1424.58,527.09 1540.6,739.242 1656.62,280.316 1772.64,756.627 1888.67,318.473 2004.69,524.949 2120.71,387.978 2236.73,628.623 2352.76,498.126 \n",
       "  \n",
       "  \"/>\n",
       "<polyline clip-path=\"url(#clip5902)\" style=\"stroke:#ffa500; stroke-width:4; stroke-opacity:1; fill:none\" points=\"\n",
       "  148.334,618.165 264.357,795.64 380.379,658.194 496.401,585.729 612.423,384.983 728.445,675.245 844.468,488.29 960.49,643.736 1076.51,281.716 1192.53,276.201 \n",
       "  1308.56,587.047 1424.58,635.756 1540.6,428.356 1656.62,418.261 1772.64,764.457 1888.67,617.813 2004.69,758.068 2120.71,449.299 2236.73,424.814 2352.76,488.109 \n",
       "  \n",
       "  \"/>\n",
       "<polyline clip-path=\"url(#clip5902)\" style=\"stroke:#ffa500; stroke-width:4; stroke-opacity:1; fill:none\" points=\"\n",
       "  148.334,824.015 264.357,496.901 380.379,763.585 496.401,609.661 612.423,604.052 728.445,719.617 844.468,983.007 960.49,690.003 1076.51,823.651 1192.53,682.313 \n",
       "  1308.56,839.4 1424.58,625.146 1540.6,627.797 1656.62,479.226 1772.64,237.022 1888.67,608.67 2004.69,859.104 2120.71,769.796 2236.73,1012.03 2352.76,709.192 \n",
       "  \n",
       "  \"/>\n",
       "<polyline clip-path=\"url(#clip5902)\" style=\"stroke:#ffa500; stroke-width:4; stroke-opacity:1; fill:none\" points=\"\n",
       "  148.334,824.015 264.357,496.901 380.379,763.585 496.401,609.661 612.423,604.052 728.445,719.617 844.468,983.007 960.49,690.003 1076.51,823.651 1192.53,682.313 \n",
       "  1308.56,839.4 1424.58,625.146 1540.6,627.797 1656.62,479.226 1772.64,237.022 1888.67,608.67 2004.69,859.104 2120.71,769.796 2236.73,1012.03 2352.76,709.192 \n",
       "  \n",
       "  \"/>\n",
       "<polyline clip-path=\"url(#clip5902)\" style=\"stroke:#ffa500; stroke-width:4; stroke-opacity:1; fill:none\" points=\"\n",
       "  148.334,618.854 264.357,231.228 380.379,754.026 496.401,462.648 612.423,462.608 728.445,684.539 844.468,862.828 960.49,598.704 1076.51,610.34 1192.53,641.268 \n",
       "  1308.56,747.132 1424.58,525.333 1540.6,586.176 1656.62,298.119 1772.64,301.927 1888.67,569.901 2004.69,744.759 2120.71,558.481 2236.73,926.083 2352.76,554.573 \n",
       "  \n",
       "  \"/>\n",
       "<polyline clip-path=\"url(#clip5902)\" style=\"stroke:#ffa500; stroke-width:4; stroke-opacity:1; fill:none\" points=\"\n",
       "  148.334,539.9 264.357,508.654 380.379,518.18 496.401,515.813 612.423,487.432 728.445,402.191 844.468,499.136 960.49,333.332 1076.51,246.827 1192.53,353.922 \n",
       "  1308.56,251.099 1424.58,369.516 1540.6,308.6 1656.62,377.941 1772.64,615.914 1888.67,528.871 2004.69,301.696 2120.71,312.706 2236.73,712.74 2352.76,319.563 \n",
       "  \n",
       "  \"/>\n",
       "<polyline clip-path=\"url(#clip5902)\" style=\"stroke:#ffa500; stroke-width:4; stroke-opacity:1; fill:none\" points=\"\n",
       "  148.334,539.9 264.357,508.654 380.379,518.18 496.401,515.813 612.423,487.432 728.445,402.191 844.468,499.136 960.49,333.332 1076.51,246.827 1192.53,353.922 \n",
       "  1308.56,251.099 1424.58,369.516 1540.6,308.6 1656.62,377.941 1772.64,615.914 1888.67,528.871 2004.69,301.696 2120.71,312.706 2236.73,712.74 2352.76,319.563 \n",
       "  \n",
       "  \"/>\n",
       "<polyline clip-path=\"url(#clip5902)\" style=\"stroke:#ffa500; stroke-width:4; stroke-opacity:1; fill:none\" points=\"\n",
       "  148.334,539.9 264.357,508.654 380.379,518.18 496.401,515.813 612.423,487.432 728.445,402.191 844.468,499.136 960.49,333.332 1076.51,246.827 1192.53,353.922 \n",
       "  1308.56,251.099 1424.58,369.516 1540.6,308.6 1656.62,377.941 1772.64,615.914 1888.67,528.871 2004.69,301.696 2120.71,312.706 2236.73,712.74 2352.76,319.563 \n",
       "  \n",
       "  \"/>\n",
       "<polyline clip-path=\"url(#clip5902)\" style=\"stroke:#ffa500; stroke-width:4; stroke-opacity:1; fill:none\" points=\"\n",
       "  148.334,618.854 264.357,231.228 380.379,754.026 496.401,462.648 612.423,462.608 728.445,684.539 844.468,862.828 960.49,598.704 1076.51,610.34 1192.53,641.268 \n",
       "  1308.56,747.132 1424.58,525.333 1540.6,586.176 1656.62,298.119 1772.64,301.927 1888.67,569.901 2004.69,744.759 2120.71,558.481 2236.73,926.083 2352.76,554.573 \n",
       "  \n",
       "  \"/>\n",
       "<polyline clip-path=\"url(#clip5902)\" style=\"stroke:#ffa500; stroke-width:4; stroke-opacity:1; fill:none\" points=\"\n",
       "  148.334,373.087 264.357,348.658 380.379,546.196 496.401,428.582 612.423,392.029 728.445,450.209 844.468,353.306 960.49,326.21 1076.51,346.486 1192.53,408.026 \n",
       "  1308.56,311.745 1424.58,267.249 1540.6,298.446 1656.62,270.196 1772.64,530.325 1888.67,272.881 2004.69,438.73 2120.71,301.047 2236.73,692.391 2352.76,355.801 \n",
       "  \n",
       "  \"/>\n",
       "</svg>\n"
      ]
     },
     "metadata": {},
     "output_type": "display_data"
    }
   ],
   "source": [
    "ymin = Inf\n",
    "ymax = -Inf\n",
    "function plot_pop(P)\n",
    "    global ymin = min(ymin, minimum([minimum(i.y) for i in P]))\n",
    "    global ymax = max(ymax, maximum([maximum(i.y) for i in P]))\n",
    "    plot(xlims=(1, n_objectives), ylims=(ymin, ymax))\n",
    "    ND = filter(indiv -> indiv.rank == 1, P)\n",
    "    dominated = filter(indiv->indiv.rank != 1, P)\n",
    "    for i in dominated\n",
    "        plot!(1:n_objectives, collect(i.y), legend=:none, color=:blue)\n",
    "    end\n",
    "    for i in ND\n",
    "        plot!(1:n_objectives, collect(i.y), legend=:none, color=:orange)\n",
    "    end\n",
    "    sleep(2.0)\n",
    "end\n",
    "\n",
    "non_dominated = nsga_max(popsize, 50, objective, init, fCV=constraint,\n",
    "    fplot=plot_pop, plotevery=10, showprogress=false);"
   ]
  },
  {
   "cell_type": "markdown",
   "metadata": {
    "slideshow": {
     "slide_type": "slide"
    }
   },
   "source": [
    "<div class=\"alert alert-success\">\n",
    "    <b>Exercise 4</b>\n",
    "    <br/>\n",
    "Gradually increase $K$, the number of objectives, and watch the number of non-dominated individuals in the population over evolution. What do you notice as $K$ increases?\n",
    "    <br/>\n",
    "</div>"
   ]
  },
  {
   "cell_type": "markdown",
   "metadata": {},
   "source": [
    "<p>As the evolution progresses, each generation has a higher proportion of non-dominated individuals. An evolution with a lower K will give us a lower starting proportion of ND individuals compared to an evolution with a higher K</p>"
   ]
  },
  {
   "cell_type": "code",
   "execution_count": null,
   "metadata": {},
   "outputs": [],
   "source": []
  }
 ],
 "metadata": {
  "celltoolbar": "Slideshow",
  "kernelspec": {
   "display_name": "Julia 1.4.0",
   "language": "julia",
   "name": "julia-1.4"
  },
  "language_info": {
   "file_extension": ".jl",
   "mimetype": "application/julia",
   "name": "julia",
   "version": "1.4.0"
  }
 },
 "nbformat": 4,
 "nbformat_minor": 2
}
