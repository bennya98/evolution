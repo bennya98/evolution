{
 "cells": [
  {
   "cell_type": "markdown",
   "metadata": {},
   "source": [
    "<img src=\"../imgs/logo.png\" width=\"20%\" align=\"right\" style=\"margin:0px 20px\">\n",
    "\n",
    "\n",
    "# Evolutionary Computation\n",
    "\n",
    "## 5.3 Deep Neuroevolution\n",
    "\n",
    "<a rel=\"license\" href=\"http://creativecommons.org/licenses/by-sa/4.0/\"><img alt=\"Creative Commons License\" align=\"left\" src=\"https://i.creativecommons.org/l/by-sa/4.0/80x15.png\" /></a>&nbsp;| Dennis G. Wilson | <a href=\"https://d9w.github.io/evolution/\">https://d9w.github.io/evolution/</a>"
   ]
  },
  {
   "cell_type": "code",
   "execution_count": 3,
   "metadata": {},
   "outputs": [],
   "source": [
    "using PyCall\n",
    "using Conda"
   ]
  },
  {
   "cell_type": "code",
   "execution_count": 4,
   "metadata": {},
   "outputs": [
    {
     "name": "stderr",
     "output_type": "stream",
     "text": [
      "┌ Info: Running `conda config --add channels conda-forge --file 'C:\\Users\\benny\\.julia\\conda\\3\\condarc-julia.yml' --force` in root environment\n",
      "└ @ Conda C:\\Users\\benny\\.julia\\packages\\Conda\\3rPhK\\src\\Conda.jl:113\n"
     ]
    }
   ],
   "source": [
    "Conda.add_channel(\"conda-forge\")"
   ]
  },
  {
   "cell_type": "code",
   "execution_count": 5,
   "metadata": {
    "scrolled": true
   },
   "outputs": [
    {
     "name": "stderr",
     "output_type": "stream",
     "text": [
      "┌ Info: Running `conda install -y gym` in root environment\n",
      "└ @ Conda C:\\Users\\benny\\.julia\\packages\\Conda\\3rPhK\\src\\Conda.jl:113\n"
     ]
    },
    {
     "name": "stdout",
     "output_type": "stream",
     "text": [
      "Collecting package metadata (current_repodata.json): ...working... done\n",
      "Solving environment: ...working... done\n",
      "\n",
      "## Package Plan ##\n",
      "\n",
      "  environment location: C:\\Users\\benny\\.julia\\conda\\3\n",
      "\n",
      "  added / updated specs:\n",
      "    - gym\n",
      "\n",
      "\n",
      "The following packages will be downloaded:\n",
      "\n",
      "    package                    |            build\n",
      "    ---------------------------|-----------------\n",
      "    ca-certificates-2020.4.5.1 |       hecc5488_0         184 KB  conda-forge\n",
      "    certifi-2020.4.5.1         |   py37hc8dfbb8_0         150 KB  conda-forge\n",
      "    cloudpickle-1.2.2          |             py_1          23 KB  conda-forge\n",
      "    conda-4.8.3                |   py37hc8dfbb8_1         3.1 MB  conda-forge\n",
      "    ffmpeg-4.2                 |       h6538335_0        23.4 MB  conda-forge\n",
      "    freetype-2.10.1            |       ha9979f8_0         481 KB  conda-forge\n",
      "    future-0.18.2              |   py37hc8dfbb8_1         732 KB  conda-forge\n",
      "    gym-0.17.1                 |   py37hc8dfbb8_0         1.8 MB  conda-forge\n",
      "    openssl-1.1.1g             |       he774522_0         5.7 MB  conda-forge\n",
      "    pyglet-1.5.0               |   py37hc8dfbb8_1         1.3 MB  conda-forge\n",
      "    python_abi-3.7             |          1_cp37m           4 KB  conda-forge\n",
      "    scipy-1.4.1                |   py37h9439919_0        11.9 MB\n",
      "    ------------------------------------------------------------\n",
      "                                           Total:        48.8 MB\n",
      "\n",
      "The following NEW packages will be INSTALLED:\n",
      "\n",
      "  cloudpickle        conda-forge/noarch::cloudpickle-1.2.2-py_1\n",
      "  ffmpeg             conda-forge/win-64::ffmpeg-4.2-h6538335_0\n",
      "  freetype           conda-forge/win-64::freetype-2.10.1-ha9979f8_0\n",
      "  future             conda-forge/win-64::future-0.18.2-py37hc8dfbb8_1\n",
      "  gym                conda-forge/win-64::gym-0.17.1-py37hc8dfbb8_0\n",
      "  pyglet             conda-forge/win-64::pyglet-1.5.0-py37hc8dfbb8_1\n",
      "  python_abi         conda-forge/win-64::python_abi-3.7-1_cp37m\n",
      "  scipy              pkgs/main/win-64::scipy-1.4.1-py37h9439919_0\n",
      "\n",
      "The following packages will be UPDATED:\n",
      "\n",
      "  ca-certificates     pkgs/main::ca-certificates-2020.1.1-0 --> conda-forge::ca-certificates-2020.4.5.1-hecc5488_0\n",
      "  conda                       pkgs/main::conda-4.8.3-py37_0 --> conda-forge::conda-4.8.3-py37hc8dfbb8_1\n",
      "\n",
      "The following packages will be SUPERSEDED by a higher-priority channel:\n",
      "\n",
      "  certifi              pkgs/main::certifi-2020.4.5.1-py37_0 --> conda-forge::certifi-2020.4.5.1-py37hc8dfbb8_0\n",
      "  openssl                                         pkgs/main --> conda-forge\n",
      "\n",
      "\n",
      "\n",
      "Downloading and Extracting Packages\n",
      "python_abi-3.7       | 4 KB      | ########## | 100% \n",
      "scipy-1.4.1          | 11.9 MB   | ########## | 100% \n",
      "pyglet-1.5.0         | 1.3 MB    | ########## | 100% \n",
      "ca-certificates-2020 | 184 KB    | ########## | 100% \n",
      "freetype-2.10.1      | 481 KB    | ########## | 100% \n",
      "conda-4.8.3          | 3.1 MB    | ########## | 100% \n",
      "ffmpeg-4.2           | 23.4 MB   | ########## | 100% \n",
      "openssl-1.1.1g       | 5.7 MB    | ########## | 100% \n",
      "certifi-2020.4.5.1   | 150 KB    | ########## | 100% \n",
      "future-0.18.2        | 732 KB    | ########## | 100% \n",
      "gym-0.17.1           | 1.8 MB    | ########## | 100% \n",
      "cloudpickle-1.2.2    | 23 KB     | ########## | 100% \n",
      "Preparing transaction: ...working... done\n",
      "Verifying transaction: ...working... done\n",
      "Executing transaction: ...working... done\n"
     ]
    }
   ],
   "source": [
    "Conda.add(\"gym\")"
   ]
  },
  {
   "cell_type": "code",
   "execution_count": 6,
   "metadata": {},
   "outputs": [],
   "source": [
    "import Random\n",
    "Random.seed!(1234);"
   ]
  },
  {
   "cell_type": "code",
   "execution_count": 7,
   "metadata": {},
   "outputs": [],
   "source": [
    "include(\"cmaes.jl\");"
   ]
  },
  {
   "cell_type": "code",
   "execution_count": 8,
   "metadata": {},
   "outputs": [],
   "source": [
    "struct FCLayer\n",
    "    w::Array{Float64}\n",
    "    b::Array{Float64}\n",
    "end\n",
    "\n",
    "struct SimpleANN\n",
    "    l1::FCLayer\n",
    "    l2::FCLayer\n",
    "    out::FCLayer\n",
    "end"
   ]
  },
  {
   "cell_type": "code",
   "execution_count": 9,
   "metadata": {},
   "outputs": [
    {
     "data": {
      "text/plain": [
       "SimpleANN"
      ]
     },
     "execution_count": 9,
     "metadata": {},
     "output_type": "execute_result"
    }
   ],
   "source": [
    "function SimpleANN(input::Int, N1::Int, N2::Int, output::Int)\n",
    "    l1 = FCLayer(zeros(N1, input), zeros(N1))\n",
    "    l2 = FCLayer(zeros(N2, N1), zeros(N2))\n",
    "    out = FCLayer(zeros(output, N2), zeros(output))\n",
    "    SimpleANN(l1, l2, out)\n",
    "end"
   ]
  },
  {
   "cell_type": "code",
   "execution_count": 27,
   "metadata": {},
   "outputs": [],
   "source": [
    "ann = SimpleANN(5, 64, 64, 4);"
   ]
  },
  {
   "cell_type": "code",
   "execution_count": 29,
   "metadata": {},
   "outputs": [
    {
     "data": {
      "text/plain": [
       "compute (generic function with 1 method)"
      ]
     },
     "execution_count": 29,
     "metadata": {},
     "output_type": "execute_result"
    }
   ],
   "source": [
    "function compute(inputs::Array{Float64}, ann::SimpleANN)\n",
    "    x = ann.l1.w * inputs .+ ann.l1.b\n",
    "    x = ann.l2.w * x .+ ann.l2.b\n",
    "    x = ann.out.w * x .+ ann.out.b\n",
    "    x\n",
    "end"
   ]
  },
  {
   "cell_type": "code",
   "execution_count": 30,
   "metadata": {},
   "outputs": [
    {
     "data": {
      "text/plain": [
       "4-element Array{Float64,1}:\n",
       " 0.0\n",
       " 0.0\n",
       " 0.0\n",
       " 0.0"
      ]
     },
     "execution_count": 30,
     "metadata": {},
     "output_type": "execute_result"
    }
   ],
   "source": [
    "compute(zeros(5), ann)"
   ]
  },
  {
   "cell_type": "code",
   "execution_count": 31,
   "metadata": {},
   "outputs": [
    {
     "data": {
      "text/plain": [
       "PyObject <module 'gym' from 'C:\\\\Users\\\\benny\\\\.julia\\\\conda\\\\3\\\\lib\\\\site-packages\\\\gym\\\\__init__.py'>"
      ]
     },
     "execution_count": 31,
     "metadata": {},
     "output_type": "execute_result"
    }
   ],
   "source": [
    "gym = pyimport(\"gym\")"
   ]
  },
  {
   "cell_type": "code",
   "execution_count": 32,
   "metadata": {},
   "outputs": [],
   "source": [
    "env = gym.make(\"CartPole-v1\")\n",
    "n_in = 4\n",
    "n_out = 2;"
   ]
  },
  {
   "cell_type": "code",
   "execution_count": 33,
   "metadata": {},
   "outputs": [
    {
     "data": {
      "text/plain": [
       "play_env (generic function with 1 method)"
      ]
     },
     "execution_count": 33,
     "metadata": {},
     "output_type": "execute_result"
    }
   ],
   "source": [
    "function play_env(ann::SimpleANN; render=false)\n",
    "    env = gym.make(\"CartPole-v1\")\n",
    "    env.seed(0)\n",
    "    obs = env.reset()\n",
    "    total_reward = 0.0\n",
    "    done = false\n",
    "    \n",
    "    while ~done\n",
    "        action = argmax(compute(obs, ann))-1\n",
    "        obs, reward, done, _ = env.step(action)\n",
    "        if render\n",
    "            env.render()\n",
    "        end\n",
    "        total_reward += reward\n",
    "    end\n",
    "    env.close()\n",
    "    env = nothing\n",
    "    Base.GC.gc()\n",
    "    total_reward\n",
    "end"
   ]
  },
  {
   "cell_type": "code",
   "execution_count": 34,
   "metadata": {},
   "outputs": [
    {
     "data": {
      "text/plain": [
       "9.0"
      ]
     },
     "execution_count": 34,
     "metadata": {},
     "output_type": "execute_result"
    }
   ],
   "source": [
    "ann = SimpleANN(n_in, 5, 5, n_out)\n",
    "play_env(ann; render=true)"
   ]
  },
  {
   "cell_type": "code",
   "execution_count": 35,
   "metadata": {},
   "outputs": [
    {
     "data": {
      "text/plain": [
       "9.0"
      ]
     },
     "execution_count": 35,
     "metadata": {},
     "output_type": "execute_result"
    }
   ],
   "source": [
    "play_env(ann)"
   ]
  },
  {
   "cell_type": "code",
   "execution_count": 36,
   "metadata": {},
   "outputs": [
    {
     "data": {
      "text/plain": [
       "genes_to_ann (generic function with 1 method)"
      ]
     },
     "execution_count": 36,
     "metadata": {},
     "output_type": "execute_result"
    }
   ],
   "source": [
    "function genes_to_ann(genes::Array{Float64})\n",
    "    ann = SimpleANN(n_in, 5, 5, n_out)\n",
    "    layers = [ann.l1.w, ann.l1.b, ann.l2.w, ann.l2.b, ann.out.w, ann.out.b]\n",
    "    L = 1\n",
    "    j = 1\n",
    "    for i in eachindex(genes)\n",
    "        if j > length(layers[L])\n",
    "            L += 1\n",
    "            j = 1\n",
    "        end\n",
    "        layers[L][j] = genes[i]\n",
    "        j += 1\n",
    "    end\n",
    "    ann\n",
    "end"
   ]
  },
  {
   "cell_type": "code",
   "execution_count": 19,
   "metadata": {},
   "outputs": [
    {
     "data": {
      "text/plain": [
       "objective (generic function with 1 method)"
      ]
     },
     "execution_count": 19,
     "metadata": {},
     "output_type": "execute_result"
    }
   ],
   "source": [
    "function objective(genes::Array{Float64})\n",
    "    ann = genes_to_ann(genes)\n",
    "    -play_env(ann)\n",
    "end"
   ]
  },
  {
   "cell_type": "code",
   "execution_count": 39,
   "metadata": {},
   "outputs": [
    {
     "data": {
      "text/plain": [
       "67"
      ]
     },
     "execution_count": 39,
     "metadata": {},
     "output_type": "execute_result"
    }
   ],
   "source": [
    "N = n_in*5 + 5 + 5*5 + 5 + 5*n_out + n_out"
   ]
  },
  {
   "cell_type": "code",
   "execution_count": 51,
   "metadata": {},
   "outputs": [
    {
     "data": {
      "text/plain": [
       "SimpleANN(FCLayer([-0.9307903502241032 -0.4594668820739534 -0.23076204525894994 -1.3121181439677128; 0.02398694503978947 2.495530497059298 -0.6789845893666425 -0.7371391184055938; … ; -0.13784993345578042 0.5484086472976889 1.049314029870312 -1.0097052645063562; 0.25159802993514807 -1.340938496352466 0.48921526283301986 -1.5954526399835631], [-1.3597935780188675, 0.9657203642622076, 0.34771017484272176, 0.7531851135533174, 0.1207027440992206]), FCLayer([-0.10959191737371257 -1.1564670796086132 … 0.6131021338178818 0.2892796477704503; -0.01643502570303541 -0.3825304024317929 … 0.9969019758095559 0.7203584369807631; … ; 1.4252491005265755 0.1698628181588662 … -0.6873360226777636 -1.1278388887125537; -0.4142929815732144 -0.15111273705384007 … -1.6586281050026699 0.12217824211565345], [0.009365517396756812, 2.1573875259279527, -0.6154892322147331, -0.4152571856693953, -1.8584758431623767]), FCLayer([-0.6390608824201006 -0.4428010710274583 … 0.6128337260143029 0.00878216842259964; -0.09003842988087256 0.19589738142683502 … 0.6123023662427209 -0.6611690683168258], [0.3255920955102503, 0.63767181796306]))"
      ]
     },
     "execution_count": 51,
     "metadata": {},
     "output_type": "execute_result"
    }
   ],
   "source": [
    "ann = genes_to_ann(randn(N))"
   ]
  },
  {
   "cell_type": "code",
   "execution_count": 52,
   "metadata": {},
   "outputs": [
    {
     "data": {
      "text/plain": [
       "10.0"
      ]
     },
     "execution_count": 52,
     "metadata": {},
     "output_type": "execute_result"
    }
   ],
   "source": [
    "play_env(ann)"
   ]
  },
  {
   "cell_type": "code",
   "execution_count": 49,
   "metadata": {},
   "outputs": [
    {
     "data": {
      "text/plain": [
       "10.0"
      ]
     },
     "execution_count": 49,
     "metadata": {},
     "output_type": "execute_result"
    }
   ],
   "source": [
    "play_env(ann)"
   ]
  },
  {
   "cell_type": "code",
   "execution_count": 53,
   "metadata": {},
   "outputs": [
    {
     "name": "stdout",
     "output_type": "stream",
     "text": [
      "1 171.0\n",
      "2 44.0\n",
      "3 46.0\n",
      "4 194.0\n",
      "5 500.0\n"
     ]
    }
   ],
   "source": [
    "c = CMAES(N=N, µ=10, λ=30, τ=sqrt(N), τ_c=N^2, τ_σ=sqrt(N))\n",
    "for i in 1:5\n",
    "    step!(c, objective)\n",
    "    println(i, \" \", maximum(.-c.F_λ))\n",
    "end"
   ]
  },
  {
   "cell_type": "code",
   "execution_count": 54,
   "metadata": {},
   "outputs": [
    {
     "name": "stdout",
     "output_type": "stream",
     "text": [
      "1 51.0\n",
      "2 113.0\n",
      "3 457.0\n",
      "4 71.0\n",
      "5 136.0\n",
      "6 500.0\n"
     ]
    }
   ],
   "source": [
    "best = nothing\n",
    "best_fit = -Inf\n",
    "c = CMAES(N=N, µ=10, λ=30, τ=sqrt(N), τ_c=N^2, τ_σ=sqrt(N))\n",
    "for i in 1:20\n",
    "    step!(c, objective)\n",
    "    bestind = argmin(c.F_λ)\n",
    "    maxfit = -c.F_λ[bestind]\n",
    "    println(i, \" \", maxfit)\n",
    "    if maxfit > best_fit\n",
    "        best = copy(c.offspring[bestind])\n",
    "        best_fit = maxfit\n",
    "    end\n",
    "    if best_fit == 500\n",
    "        break\n",
    "    end\n",
    "end"
   ]
  },
  {
   "cell_type": "code",
   "execution_count": 55,
   "metadata": {},
   "outputs": [
    {
     "data": {
      "text/plain": [
       "500.0"
      ]
     },
     "execution_count": 55,
     "metadata": {},
     "output_type": "execute_result"
    }
   ],
   "source": [
    "ann = genes_to_ann(best)\n",
    "play_env(ann; render=true)"
   ]
  },
  {
   "cell_type": "code",
   "execution_count": null,
   "metadata": {},
   "outputs": [],
   "source": []
  }
 ],
 "metadata": {
  "@webio": {
   "lastCommId": null,
   "lastKernelId": null
  },
  "kernelspec": {
   "display_name": "Julia 1.4.0",
   "language": "julia",
   "name": "julia-1.4"
  },
  "language_info": {
   "file_extension": ".jl",
   "mimetype": "application/julia",
   "name": "julia",
   "version": "1.4.0"
  }
 },
 "nbformat": 4,
 "nbformat_minor": 2
}
